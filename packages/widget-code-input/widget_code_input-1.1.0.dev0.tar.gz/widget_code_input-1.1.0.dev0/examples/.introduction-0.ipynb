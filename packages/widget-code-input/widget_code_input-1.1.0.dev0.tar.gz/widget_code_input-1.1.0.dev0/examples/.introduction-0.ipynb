{
 "cells": [
  {
   "cell_type": "markdown",
   "metadata": {},
   "source": [
    "# Introduction"
   ]
  },
  {
   "cell_type": "code",
   "execution_count": 9,
   "metadata": {},
   "outputs": [],
   "source": [
    "from widget_code_input import WidgetCodeInput "
   ]
  },
  {
   "cell_type": "code",
   "execution_count": 10,
   "metadata": {},
   "outputs": [],
   "source": [
    "w = WidgetCodeInput(\n",
    "   function_name = \"my_function\",\n",
    "   function_parameters = \"\",\n",
    "   docstring=\"\"\"\n",
    "   Input the docstring here.\n",
    "   \"\"\",\n",
    "   function_body=\"# Give information for the function\\n\",\n",
    "   code_theme = 'ealipse'\n",
    ")"
   ]
  },
  {
   "cell_type": "code",
   "execution_count": 11,
   "metadata": {},
   "outputs": [
    {
     "data": {
      "application/vnd.jupyter.widget-view+json": {
       "model_id": "400b6f2cc5274edfb0b9bdb8e9134d5f",
       "version_major": 2,
       "version_minor": 0
      },
      "text/plain": [
       "WidgetCodeInput(code_theme='ealipse', docstring='\\n   Input the docstring here.\\n   ', function_body='# Give i…"
      ]
     },
     "metadata": {},
     "output_type": "display_data"
    }
   ],
   "source": [
    "display(w)"
   ]
  },
  {
   "cell_type": "code",
   "execution_count": 12,
   "metadata": {},
   "outputs": [],
   "source": [
    "my_function = w.get_function_object()"
   ]
  },
  {
   "cell_type": "code",
   "execution_count": 13,
   "metadata": {},
   "outputs": [],
   "source": [
    "my_function()"
   ]
  },
  {
   "cell_type": "code",
   "execution_count": 14,
   "metadata": {},
   "outputs": [
    {
     "data": {
      "application/vnd.jupyter.widget-view+json": {
       "model_id": "dfeb59e3a6a34bb0a7121843867fb684",
       "version_major": 2,
       "version_minor": 0
      },
      "text/plain": [
       "WidgetCodeInput(code_theme='midnight', function_name='my_example_code')"
      ]
     },
     "metadata": {},
     "output_type": "display_data"
    }
   ],
   "source": [
    "from widget_code_input import WidgetCodeInput\n",
    "code_widget = WidgetCodeInput(function_name=\"my_example_code\")\n",
    "display(code_widget)"
   ]
  },
  {
   "cell_type": "code",
   "execution_count": null,
   "metadata": {},
   "outputs": [],
   "source": []
  }
 ],
 "metadata": {
  "kernelspec": {
   "display_name": "Python 3",
   "language": "python",
   "name": "python3"
  },
  "language_info": {
   "codemirror_mode": {
    "name": "ipython",
    "version": 3
   },
   "file_extension": ".py",
   "mimetype": "text/x-python",
   "name": "python",
   "nbconvert_exporter": "python",
   "pygments_lexer": "ipython3",
   "version": "3.7.6"
  }
 },
 "nbformat": 4,
 "nbformat_minor": 4
}
