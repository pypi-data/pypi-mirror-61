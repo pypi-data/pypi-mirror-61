{
 "cells": [
  {
   "cell_type": "markdown",
   "metadata": {},
   "source": [
    "# Integrating New FERC Form 1 and EIA Data Releases\n",
    "This notebook generates lists of new plants and utilities that need to be assigned PUDL IDs. It helps with the process of integrating new data each fall when the agencies make their new annual release for the previous year. In addition, it has some functions that assist in the manual categorization of new freeform strings within the FERC Form 1 database, describing fuel types, fuel units, plant types, etc.\n",
    "\n",
    "## Prerequisites:\n",
    "* All available EIA 860/923 years must be loaded into your PUDL DB.\n",
    "* This includes the **new** year of data to be integrated.\n",
    "* This means the spreadsheet tab maps need to be updated.\n",
    "* Some minor EIA data wrangling may also be required.\n",
    "* All years of FERC Form 1 data must be loaded into your FERC 1 DB.\n",
    "* This includes the **new** year of data to be integrated.\n",
    "\n",
    "## Outputs:\n",
    "* `unmapped_utilities_ferc1.csv`: Respondent IDs and respondent names of utilities which appear in the FERC Form 1 DB, but which do **not** appear in the PUDL ID mapping spreadsheet.\n",
    "* `unmapped_plants_ferc1.csv`: Plant names, respondent names, and respondent IDs associated with plants that appear in the FERC Form 1 DB, but which do **not** appear in the PUDL ID Mapping spreadsheet.\n",
    "* `unmapped_utilities_eia.csv`: EIA Utility IDs and names of utilities which appear in the PUDL DB, but which do **not** appear in the PUDL ID mapping spreadsheet.\n",
    "* `unmapped_plants_eia.csv`: EIA Plant IDs and Plant Names of plants which appear in the PUDL DB, but which do **not** appear in the PUDL ID mapping spreadsheet.  The Utility ID and Name for the primary plant operator, as well as the aggregate plant capacity and the state the plant is located in are also proved to aid in PUDL ID mapping.\n",
    "* `lost_utilities_eia.csv`: The Utility IDs and Names of utilities which appear in the PUDL ID mapping spreadsheet but which do **not** appear in the PUDL DB. Likely because EIA revised previous years of data, and removed those utilities, after we had mapped them.\n",
    "* `lost_plants_eia.csv`: The Plant IDs and Names of plants which appear in the PUDL ID mapping spreadsheet but which do **not** appear in the PUDL DB. Likely because EIA revised previous years of data, and removed those plants, after we had mapped them."
   ]
  },
  {
   "cell_type": "code",
   "execution_count": null,
   "metadata": {},
   "outputs": [],
   "source": [
    "%load_ext autoreload\n",
    "%autoreload 2\n",
    "import sqlalchemy as sa\n",
    "import pandas as pd\n",
    "import pudl\n",
    "import re\n",
    "pudl_settings = pudl.workspace.setup.get_defaults()\n",
    "pudl_settings"
   ]
  },
  {
   "cell_type": "markdown",
   "metadata": {},
   "source": [
    "## Setup:\n",
    "* Create FERC1/PUDL database connections\n",
    "* Set the scope of the FERC Form 1 search (which years to check)"
   ]
  },
  {
   "cell_type": "code",
   "execution_count": null,
   "metadata": {},
   "outputs": [],
   "source": [
    "ferc1_engine = sa.create_engine(pudl_settings[\"ferc1_db\"])\n",
    "pudl_engine = sa.create_engine(pudl_settings[\"pudl_db\"])\n",
    "ferc1_years = pudl.constants.data_years[\"ferc1\"]\n",
    "print(\"Searching for new FERC 1 plants, utilities and strings in the following years:\")\n",
    "print(ferc1_years)"
   ]
  },
  {
   "cell_type": "markdown",
   "metadata": {},
   "source": [
    "## Unmapped FERC Form 1 Plants"
   ]
  },
  {
   "cell_type": "code",
   "execution_count": null,
   "metadata": {},
   "outputs": [],
   "source": [
    "unmapped_plants_ferc1 = pudl.glue.ferc1_eia.get_unmapped_plants_ferc1(pudl_settings, years=ferc1_years)\n",
    "n_ferc1_unmapped_plants = len(unmapped_plants_ferc1)\n",
    "print(f\"{n_ferc1_unmapped_plants} unmapped FERC 1 plants found in {min(ferc1_years)}-{max(ferc1_years)}.\")\n",
    "if n_ferc1_unmapped_plants > 0:\n",
    "    unmapped_plants_ferc1_outfile = f\"unmapped_plants_ferc1.csv\"\n",
    "    print(f\"Writing {n_ferc1_unmapped_plants} out to {unmapped_plants_ferc1_outfile}\")\n",
    "    unmapped_plants_ferc1.to_csv(unmapped_plants_ferc1_outfile, index=False)\n",
    "unmapped_plants_ferc1"
   ]
  },
  {
   "cell_type": "markdown",
   "metadata": {},
   "source": [
    "## Unmapped FERC Form 1 Utilities / Respondents\n",
    "* **Note:** Frequently there are zero of these."
   ]
  },
  {
   "cell_type": "code",
   "execution_count": null,
   "metadata": {},
   "outputs": [],
   "source": [
    "unmapped_utils_ferc1 = pudl.glue.ferc1_eia.get_unmapped_utils_ferc1(pudl_settings, years=ferc1_years)\n",
    "n_ferc1_unmapped_utils = len(unmapped_utils_ferc1)\n",
    "print(f\"{n_ferc1_unmapped_utils} unmapped FERC 1 utilities found in {min(ferc1_years)}-{max(ferc1_years)}.\")\n",
    "if n_ferc1_unmapped_utils > 0:\n",
    "    unmapped_utils_ferc1_outfile= f\"unmapped_utilities_ferc1.csv\"\n",
    "    print(f\"Writing {n_ferc1_unmapped_utils} out to {unmapped_utils_ferc1_outfile}\")\n",
    "    unmapped_utils_ferc1.to_csv(unmapped_utils_ferc1_outfile, index=False)\n",
    "unmapped_utils_ferc1"
   ]
  },
  {
   "cell_type": "markdown",
   "metadata": {},
   "source": [
    "## Unmapped EIA Plants\n",
    "* **Note:** Some unmapped EIA plants do not have Utilities associated with them.\n",
    "* Many of these plants are too small to warrant mapping, and so capacity is included as a potential filter.\n",
    "* Also note that the first and last few plants in the output dataframe have a bunch of NA values... which can be confusing."
   ]
  },
  {
   "cell_type": "code",
   "execution_count": null,
   "metadata": {},
   "outputs": [],
   "source": [
    "unmapped_plants_eia = pudl.glue.ferc1_eia.get_unmapped_plants_eia(pudl_engine)\n",
    "print(f\"Found {len(unmapped_plants_eia)} unmapped EIA plants.\")\n",
    "if len(unmapped_plants_eia) > 0:\n",
    "    unmapped_plants_eia.to_csv(f\"unmapped_plants_eia.csv\")\n",
    "    unmapped_plants_eia.sample(max([10, len(unmapped_plants_eia)]))"
   ]
  },
  {
   "cell_type": "markdown",
   "metadata": {},
   "source": [
    "## Lost EIA Plants\n",
    "* There shouldn't be very many of these... if it's more than a few hundred (out of the ~10,000 EIA plants) then something may be wrong."
   ]
  },
  {
   "cell_type": "code",
   "execution_count": null,
   "metadata": {},
   "outputs": [],
   "source": [
    "lost_plants_eia = pudl.glue.ferc1_eia.get_lost_plants_eia(pudl_engine)\n",
    "print(f\"Found {len(lost_plants_eia)} lost EIA plants.\")\n",
    "lost_plants_eia.to_csv(f\"lost_plants_eia.csv\")\n",
    "lost_plants_eia.sample(10)"
   ]
  },
  {
   "cell_type": "markdown",
   "metadata": {},
   "source": [
    "## Unmapped EIA Utilities\n",
    "* Especially with the advent of many small distributed generators, there are often just as many new utilities as there are new plants."
   ]
  },
  {
   "cell_type": "code",
   "execution_count": null,
   "metadata": {},
   "outputs": [],
   "source": [
    "unmapped_utils_eia = pudl.glue.ferc1_eia.get_unmapped_utils_eia(pudl_engine)\n",
    "print(f\"Found {len(unmapped_utils_eia)} unmapped EIA utilities.\")\n",
    "if len(unmapped_utils_eia) > 0:\n",
    "    unmapped_utils_eia.to_csv(\"all_unmapped_utilities_eia.csv\")\n",
    "    miss_utils = pudl.glue.ferc1_eia.get_unmapped_utils_with_plants_eia(pudl_engine)\n",
    "    print(f\"Found {len(miss_utils)} unmapped utilities with plants/ownership.\")\n",
    "    miss_utils.to_csv(\"planted_unmapped_utilities_eia.csv\")\n",
    "unmapped_utils_eia.sample(10)"
   ]
  },
  {
   "cell_type": "markdown",
   "metadata": {},
   "source": [
    "## Another Kind of Unmapped EIA Utilities\n",
    "* This cell looks *only* for the EIA utilities that show up somewhere in the EIA 923 data, but still don't have a `utility_id_pudl` value assigned to them."
   ]
  },
  {
   "cell_type": "code",
   "execution_count": null,
   "metadata": {},
   "outputs": [],
   "source": [
    "pudl_raw = pudl.output.pudltabl.PudlTabl(pudl_engine, freq=None)\n",
    "frc_eia923 = pudl_raw.frc_eia923()\n",
    "gf_eia923 = pudl_raw.gf_eia923()\n",
    "gen_eia923 = pudl_raw.gen_eia923()\n",
    "bf_eia923 = pudl_raw.bf_eia923()\n",
    "\n",
    "missing_frc = frc_eia923[frc_eia923.utility_id_pudl.isna()][[\"utility_id_eia\", \"utility_name_eia\"]]\n",
    "missing_gf = gf_eia923[gf_eia923.utility_id_pudl.isna()][[\"utility_id_eia\", \"utility_name_eia\"]]\n",
    "missing_bf = bf_eia923[bf_eia923.utility_id_pudl.isna()][[\"utility_id_eia\", \"utility_name_eia\"]]\n",
    "missing_gens = gen_eia923[gen_eia923.utility_id_pudl.isna()][[\"utility_id_eia\", \"utility_name_eia\"]]\n",
    "\n",
    "missing_utils = (\n",
    "    pd.concat([missing_frc, missing_bf, missing_gf, missing_gens])\n",
    "    .drop_duplicates(subset=\"utility_id_eia\")\n",
    "    .set_index(\"utility_id_eia\")\n",
    ")\n",
    "\n",
    "print(f\"Found {len(missing_utils)} utilities with EIA 923 data but no PUDL Utility ID.\")\n",
    "if len(missing_utils) > 0:\n",
    "    missing_utils.to_csv(\"dataful_unmaped_utilities_eia.csv\")\n",
    "    missing_utils.sample(min(len(missing_utils), 10))"
   ]
  },
  {
   "cell_type": "code",
   "execution_count": null,
   "metadata": {},
   "outputs": [],
   "source": [
    "missing_utils.iloc[50:100]"
   ]
  },
  {
   "cell_type": "markdown",
   "metadata": {},
   "source": [
    "## Lost EIA Utilities\n",
    "* Again, there shouldn't be **too** many of these. If it's thousands, not hundreds, dig deeper."
   ]
  },
  {
   "cell_type": "code",
   "execution_count": null,
   "metadata": {},
   "outputs": [],
   "source": [
    "lost_utils_eia = pudl.glue.ferc1_eia.get_lost_utils_eia(pudl_engine)\n",
    "print(f\"Found {len(lost_utils_eia)} lost EIA utilities.\")\n",
    "if len(lost_utils_eia) > 0:\n",
    "    lost_utils_eia.to_csv(\"lost_utilities_eia.csv\")"
   ]
  },
  {
   "cell_type": "markdown",
   "metadata": {},
   "source": [
    "## FERC Form 1 String Cleaning Dictionaires\n",
    "* We categorize several important but messy free-form FERC Form 1 fields to enable analysis.\n",
    "* Every year any new entries (abbreviations, misspellings, etc.) in these fields need to be categorized.\n",
    "* This cell helps with that interactive process, generating the list of newly discovered strings.\n",
    "* Use regular expressions to identify collections of new, related strings, and add them to the appropriate string cleaning dictionary entry in `pudl.constants`, then re-run the cell with new search terms, until everything left is impossible to confidently categorize."
   ]
  },
  {
   "cell_type": "code",
   "execution_count": null,
   "metadata": {},
   "outputs": [],
   "source": [
    "def new_ferc1_strings(table, field, start_year, end_year, ferc1_engine, strdict):\n",
    "    all_strings = pd.read_sql(f\"SELECT * FROM {table} WHERE report_year>={start_year} AND report_year<={end_year};\", ferc1_engine)\n",
    "    all_strings = (\n",
    "        all_strings.\n",
    "        pipe(pudl.helpers.strip_lower, columns=[field])[field].\n",
    "        unique()\n",
    "    )\n",
    "    old_strings = []\n",
    "    for x in strdict:\n",
    "        old_strings = old_strings + strdict[x]\n",
    "    new_strings = [s for s in all_strings if s not in old_strings]\n",
    "    return new_strings\n",
    "\n",
    "clean_me = {\n",
    "    \"fuel\": {\n",
    "        \"table\": \"f1_fuel\",\n",
    "        \"field\": \"fuel\",\n",
    "        \"strdict\": pudl.constants.ferc1_fuel_strings,\n",
    "    },\n",
    "    \"fuel_unit\": {\n",
    "        \"table\": \"f1_fuel\",\n",
    "        \"field\": \"fuel_unit\",\n",
    "        \"strdict\": pudl.constants.ferc1_fuel_unit_strings,\n",
    "    },\n",
    "    \"plant_kind\": {\n",
    "        \"table\": \"f1_steam\",\n",
    "        \"field\": \"plant_kind\",\n",
    "        \"strdict\": pudl.constants.ferc1_plant_kind_strings,\n",
    "    },\n",
    "    \"type_const\": {\n",
    "        \"table\": \"f1_steam\",\n",
    "        \"field\": \"type_const\",\n",
    "        \"strdict\": pudl.constants.ferc1_const_type_strings,\n",
    "    },\n",
    "}\n",
    "\n",
    "# This must be one of the keys in the above dictionary....\n",
    "type_of_string = \"fuel\"\n",
    "\n",
    "unmapped_strings = new_ferc1_strings(\n",
    "    start_year=min(ferc1_years),\n",
    "    end_year=max(ferc1_years),\n",
    "    ferc1_engine=ferc1_engine,\n",
    "    **clean_me[type_of_string])\n",
    "\n",
    "n_unmapped_strings = len(unmapped_strings)\n",
    "print(f\"{n_unmapped_strings} unmapped {type_of_string} strings found.\")\n",
    "# These numbers represent how many unmapped strings remained as of 2019-10-03\n",
    "if type_of_string == \"fuel\":\n",
    "    assert n_unmapped_strings == 0\n",
    "elif type_of_string == \"fuel_unit\":\n",
    "    assert n_unmapped_strings <= 80\n",
    "elif type_of_string == \"plant_kind\":\n",
    "    assert n_unmapped_strings <= 64\n",
    "elif type_of_string == \"type_const\":\n",
    "    assert n_unmapped_strings <= 94\n",
    "else:\n",
    "    assert False\n",
    "\n",
    "# Choose your own colleciton of search strings here to match the\n",
    "# category you're attempting to identify. For all except the \"fuel\"\n",
    "# string type, there will be leftovers that can't be categorized\n",
    "# because they're a mess.  In the \"fuel\" type we use \"other\" so that\n",
    "# we don't lose the fuel records altogether.\n",
    "[\n",
    "    s for s in unmapped_strings\n",
    "    if re.match('.*', s)\n",
    "    #if re.match('.*semi.*', s)\n",
    "    #and not re.match('.*out.*', s)\n",
    "    #and not re.match('.*in.*', s)\n",
    "    #and not re.match('.*less.*', s)\n",
    "    #and not re.match('.*under.*', s)\n",
    "    #and not re.match('.*o.*[db].*', s)\n",
    "]"
   ]
  },
  {
   "cell_type": "markdown",
   "metadata": {},
   "source": [
    "## Cleaning other FERC Form 1 Plant Tables\n",
    "* There are several additional FERC Form 1 tables which contain plant data.\n",
    "* These include small plants, hydro, and pumped storage.\n",
    "* Thus far we have not done much concerted work cleaning up / categorizing these plants, though they do get PUDL IDs.\n",
    "* The following cell pulls the small plants (`f1_gnrt_plant`) table with some fields that would be useful for categorization.\n",
    "* This is just a prototype/outline/suggestion..."
   ]
  },
  {
   "cell_type": "code",
   "execution_count": null,
   "metadata": {},
   "outputs": [],
   "source": [
    "small_plants_ferc1 = (\n",
    "    pd.read_sql(\n",
    "        f\"\"\"SELECT f1_gnrt_plant.report_year,\\\n",
    "                   f1_gnrt_plant.respondent_id,\\\n",
    "                   f1_gnrt_plant.row_number,\\\n",
    "                   f1_gnrt_plant.spplmnt_num,\\\n",
    "                   f1_gnrt_plant.plant_name,\\\n",
    "                   f1_gnrt_plant.capacity_rating,\\\n",
    "                   f1_gnrt_plant.kind_of_fuel, \\\n",
    "                   f1_respondent_id.respondent_name\\\n",
    "            FROM f1_gnrt_plant, f1_respondent_id \\\n",
    "            WHERE report_year>={min(ferc1_years)}\n",
    "            AND report_year<={max(ferc1_years)}\n",
    "            AND f1_respondent_id.respondent_id=f1_gnrt_plant.respondent_id;\"\"\", ferc1_engine).\n",
    "    assign(record_number=lambda x: x[\"row_number\"] + 46*x[\"spplmnt_num\"]).\n",
    "    drop([\"row_number\", \"spplmnt_num\"], axis=\"columns\").\n",
    "    pipe(pudl.helpers.strip_lower, columns=[\"plant_name\", \"kind_of_fuel\", \"respondent_name\"]).\n",
    "    rename(columns={\"capacity_rating\": \"capacity_mw\"}).\n",
    "    loc[:,[\"report_year\", \"respondent_id\", \"respondent_name\", \"record_number\", \"plant_name\", \"capacity_mw\", \"kind_of_fuel\"]].\n",
    "    sort_values([\"report_year\", \"respondent_id\", \"record_number\"])\n",
    ")\n",
    "n_small_plants_ferc1 = len(small_plants_ferc1)\n",
    "small_plants_ferc1_outfile = \"f1_gnrt_plant.csv\"\n",
    "print(f\"Writing {n_small_plants_ferc1} small plant records out to {small_plants_ferc1_outfile}\")\n",
    "small_plants_ferc1.to_csv(small_plants_ferc1_outfile, index=False)\n",
    "small_plants_ferc1"
   ]
  }
 ],
 "metadata": {
  "kernelspec": {
   "display_name": "Python 3",
   "language": "python",
   "name": "python3"
  },
  "language_info": {
   "codemirror_mode": {
    "name": "ipython",
    "version": 3
   },
   "file_extension": ".py",
   "mimetype": "text/x-python",
   "name": "python",
   "nbconvert_exporter": "python",
   "pygments_lexer": "ipython3",
   "version": "3.7.6"
  }
 },
 "nbformat": 4,
 "nbformat_minor": 4
}
