{
 "cells": [
  {
   "cell_type": "code",
   "execution_count": null,
   "metadata": {},
   "outputs": [],
   "source": [
    "%load_ext autoreload\n",
    "%autoreload 2"
   ]
  },
  {
   "cell_type": "code",
   "execution_count": null,
   "metadata": {},
   "outputs": [],
   "source": [
    "import sys\n",
    "import pandas as pd\n",
    "import sqlalchemy as sa\n",
    "import pudl\n",
    "\n",
    "import logging\n",
    "logger = logging.getLogger()\n",
    "logger.setLevel(logging.INFO)\n",
    "handler = logging.StreamHandler(stream=sys.stdout)\n",
    "formatter = logging.Formatter('%(message)s')\n",
    "handler.setFormatter(formatter)\n",
    "logger.handlers = [handler]\n",
    "\n",
    "import matplotlib.pyplot as plt\n",
    "import matplotlib as mpl\n",
    "import seaborn as sns\n",
    "sns.set()\n",
    "%matplotlib inline"
   ]
  },
  {
   "cell_type": "code",
   "execution_count": null,
   "metadata": {},
   "outputs": [],
   "source": [
    "mpl.rcParams['figure.figsize'] = (10,4)\n",
    "mpl.rcParams['figure.dpi'] = 150\n",
    "pd.options.display.max_columns = 100\n",
    "pd.options.display.max_rows = 200"
   ]
  },
  {
   "cell_type": "code",
   "execution_count": null,
   "metadata": {},
   "outputs": [],
   "source": [
    "pudl_settings = pudl.workspace.setup.get_defaults()\n",
    "ferc1_engine = sa.create_engine(pudl_settings['ferc1_db'])\n",
    "pudl_engine = sa.create_engine(pudl_settings['pudl_db'])\n",
    "pudl_settings"
   ]
  },
  {
   "cell_type": "markdown",
   "metadata": {},
   "source": [
    "## Generating new Row Maps"
   ]
  },
  {
   "cell_type": "code",
   "execution_count": null,
   "metadata": {},
   "outputs": [],
   "source": [
    "def get_row_literals(table_name, report_year, ferc1_engine):\n",
    "    row_literals = (\n",
    "        pd.read_sql(\"f1_row_lit_tbl\", ferc1_engine)\n",
    "        .query(f\"sched_table_name=='{table_name}'\")\n",
    "        .query(f\"report_year=={report_year}\")\n",
    "        .sort_values(\"row_number\")\n",
    "    )\n",
    "    return row_literals\n",
    "\n",
    "def compare_row_literals(table_name, old_year, new_year, ferc1_engine):\n",
    "    idx_cols = [\"row_number\", \"row_seq\"]\n",
    "    old_df = get_row_literals(table_name, old_year, ferc1_engine).drop(columns=[\"row_status\", \"sched_table_name\"])\n",
    "    new_df = get_row_literals(table_name, new_year, ferc1_engine).drop(columns=[\"row_status\", \"sched_table_name\"])\n",
    "    merged_df = (\n",
    "        pd.merge(old_df, new_df, on=idx_cols, suffixes=[\"_old\", \"_new\"], how=\"outer\")\n",
    "        .set_index(idx_cols)\n",
    "    )\n",
    "    merged_df = (\n",
    "        merged_df.loc[:, merged_df.columns.sort_values()]\n",
    "        .assign(match=lambda x: x.row_literal_new == x.row_literal_old)\n",
    "    )\n",
    "    return merged_df \n",
    "\n",
    "def check_all_row_years(table_name, ferc1_engine):\n",
    "    years = list(range(1994, 2018))\n",
    "    years.reverse()\n",
    "    for old_year in years:\n",
    "        dude = compare_row_literals(table_name, old_year, old_year+1, ferc1_engine)\n",
    "        if len(dude[~dude.match]) > 0:\n",
    "            logger.error(f\"CHECK: {old_year+1} vs. {old_year}\")"
   ]
  },
  {
   "cell_type": "code",
   "execution_count": null,
   "metadata": {},
   "outputs": [],
   "source": [
    "target_tables = [\n",
    "    \"f1_income_stmnt\",    # Mapped\n",
    "    \"f1_plant_in_srvce\",  # Mapped\n",
    "    \"f1_dacs_epda\",       # Mapped\n",
    "    \n",
    "    \"f1_elctrc_oper_rev\", # Binz 2\n",
    "    \"f1_elc_op_mnt_expn\", # Binz 2\n",
    "    \"f1_sales_by_sched\",  # Binz 2 (Messy except for Total, use eia861)\n",
    "    \n",
    "    \"f1_incm_stmnt_2\",    # Do this later\n",
    "    \"f1_edcfu_epda\",      # Do this later\n",
    "    \"f1_acb_epda\",        # Do this later\n",
    "    \"f1_elc_oper_rev_nb\", # Trivial one-line table. Why?\n",
    "    \"f1_nbr_elc_deptemp\", # Old table that no longer gets updated\n",
    "]\n",
    "target_dfs = {t: pd.read_sql(t, ferc1_engine) for t in target_tables}"
   ]
  },
  {
   "cell_type": "code",
   "execution_count": null,
   "metadata": {},
   "outputs": [],
   "source": [
    "check_all_row_years(\"f1_elc_op_mnt_expn\", ferc1_engine)"
   ]
  },
  {
   "cell_type": "code",
   "execution_count": null,
   "metadata": {},
   "outputs": [],
   "source": [
    "compare_row_literals(\"f1_elc_op_mnt_expn\", 2005, 2006, ferc1_engine)"
   ]
  }
 ],
 "metadata": {
  "kernelspec": {
   "display_name": "Python 3",
   "language": "python",
   "name": "python3"
  },
  "language_info": {
   "codemirror_mode": {
    "name": "ipython",
    "version": 3
   },
   "file_extension": ".py",
   "mimetype": "text/x-python",
   "name": "python",
   "nbconvert_exporter": "python",
   "pygments_lexer": "ipython3",
   "version": "3.7.3"
  }
 },
 "nbformat": 4,
 "nbformat_minor": 4
}
