{
  "cells": [
    {
      "cell_type": "code",
      "execution_count": null,
      "metadata": {
        "collapsed": false
      },
      "outputs": [],
      "source": [
        "%matplotlib inline"
      ]
    },
    {
      "cell_type": "markdown",
      "metadata": {},
      "source": [
        "\nGroupLasso for linear regression\n================================\n\nA sample script for group lasso regression\n"
      ]
    },
    {
      "cell_type": "code",
      "execution_count": null,
      "metadata": {
        "collapsed": false
      },
      "outputs": [],
      "source": [
        "from group_lasso import GroupLasso\nfrom utils import (\n    get_groups_from_group_sizes,\n    generate_group_lasso_coefficients,\n)\nimport numpy as np\nimport matplotlib.pyplot as plt\n\n\nGroupLasso.LOG_LOSSES = True\n\n\nif __name__ == \"__main__\":\n    np.random.seed(0)\n\n    group_sizes = [np.random.randint(15, 30) for i in range(50)]\n    groups = get_groups_from_group_sizes(group_sizes)\n    num_coeffs = sum(group_sizes)\n    num_datapoints = 10000\n    noise_level = 0.5\n    coeff_noise_level = 0.05\n\n    print(\"Generating data\")\n    X = np.random.standard_normal((num_datapoints, num_coeffs))\n    intercept = 2\n\n    print(\"Generating coefficients\")\n    w = generate_group_lasso_coefficients(group_sizes)\n    w += np.random.randn(*w.shape) * coeff_noise_level\n\n    print(\"Generating targets\")\n    y = X @ w\n    y += np.random.randn(*y.shape) * noise_level * y\n    y += intercept\n\n    gl = GroupLasso(\n        groups=groups,\n        n_iter=100,\n        tol=1e-8,\n        l1_reg=0.05,\n        group_reg=0.18,\n        frobenius_lipschitz=False,\n        subsampling_scheme=None,\n        fit_intercept=True,\n    )\n    print(\"Starting fit\")\n    gl.fit(X, y)\n\n    for i in range(w.shape[1]):\n        plt.figure()\n        plt.plot(w[:, i], \".\", label=\"True weights\")\n        plt.plot(gl.coef_[:, i], \".\", label=\"Estimated weights\")\n\n    plt.figure()\n    plt.plot([w.min(), w.max()], [gl.coef_.min(), gl.coef_.max()], \"gray\")\n    plt.scatter(w, gl.coef_, s=10)\n    plt.ylabel(\"Learned coefficients\")\n    plt.xlabel(\"True coefficients\")\n\n    plt.figure()\n    plt.plot(gl.losses_)\n\n    print(\"X shape: {X.shape}\".format(X=X))\n    print(\"True intercept: {intercept}\".format(intercept=intercept))\n    print(\"Estimated intercept: {intercept}\".format(intercept=gl.intercept_))\n    plt.show()"
      ]
    }
  ],
  "metadata": {
    "kernelspec": {
      "display_name": "Python 3",
      "language": "python",
      "name": "python3"
    },
    "language_info": {
      "codemirror_mode": {
        "name": "ipython",
        "version": 3
      },
      "file_extension": ".py",
      "mimetype": "text/x-python",
      "name": "python",
      "nbconvert_exporter": "python",
      "pygments_lexer": "ipython3",
      "version": "3.7.4"
    }
  },
  "nbformat": 4,
  "nbformat_minor": 0
}