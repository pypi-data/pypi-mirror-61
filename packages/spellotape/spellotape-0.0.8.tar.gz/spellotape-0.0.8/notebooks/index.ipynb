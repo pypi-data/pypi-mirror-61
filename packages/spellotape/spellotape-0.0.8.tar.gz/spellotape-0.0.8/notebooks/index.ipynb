{
 "cells": [
  {
   "cell_type": "code",
   "execution_count": null,
   "metadata": {},
   "outputs": [],
   "source": [
    "#hide\n",
    "from spellotape.utils import *\n",
    "from spellotape.experiments import *\n",
    "from spellotape.nlp import *\n",
    "from spellotape.ml import *\n",
    "from spellotape.dl import *\n",
    "from spellotape.cli import *\n",
    "from spellotape.labeling import *\n",
    "from spellotape.scraping import *"
   ]
  },
  {
   "cell_type": "markdown",
   "metadata": {},
   "source": [
    "# Spellotape\n",
    "\n",
    "> Spellotape (noun): An adhesive tape used to patch or repair magical objects.\n",
    "\n",
    "Disambiguation: A Python package containing miscellaneous utility functions to fill in small gaps in the data science workflow at GoGuardian."
   ]
  },
  {
   "cell_type": "markdown",
   "metadata": {},
   "source": [
    "## Install"
   ]
  },
  {
   "cell_type": "markdown",
   "metadata": {},
   "source": [
    "`pip install spellotape`"
   ]
  },
  {
   "cell_type": "markdown",
   "metadata": {},
   "source": [
    "## How to use"
   ]
  },
  {
   "cell_type": "markdown",
   "metadata": {},
   "source": [
    "Spellotape contains several modules. It is under continuous development so some may contain minimal code at this point.\n",
    "\n",
    "- utils\n",
    "    - Assorted tools that aren't directly tied to any particular step in the data science process. Example uses are setting your working directory in Jupyter or stopping an ec2 instance when computation completes.\n",
    "- experiments\n",
    "    - Tools for accessing data from Experiments V1.\n",
    "- nlp\n",
    "    - Tools for working with text data.\n",
    "- ml\n",
    "    - Tools for machine learning projects primarily using scikit-learn.\n",
    "- dl\n",
    "    - Tools for deep learning projects in TensorFlow.\n",
    "- cli\n",
    "    - Tools for command line interfaces built with Click.\n",
    "- labeling\n",
    "    - Tools for analysis of labeled data.\n",
    "- scraping\n",
    "    - Tools for scraping data."
   ]
  }
 ],
 "metadata": {
  "kernelspec": {
   "display_name": "Python 3",
   "language": "python",
   "name": "python3"
  }
 },
 "nbformat": 4,
 "nbformat_minor": 2
}
