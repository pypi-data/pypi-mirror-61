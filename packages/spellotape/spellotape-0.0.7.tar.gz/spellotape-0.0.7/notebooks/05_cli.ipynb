{
 "cells": [
  {
   "cell_type": "code",
   "execution_count": null,
   "metadata": {},
   "outputs": [],
   "source": [
    "# default_exp cli"
   ]
  },
  {
   "cell_type": "code",
   "execution_count": null,
   "metadata": {},
   "outputs": [],
   "source": [
    "# hide\n",
    "from nbdev.showdoc import *"
   ]
  },
  {
   "cell_type": "code",
   "execution_count": null,
   "metadata": {},
   "outputs": [],
   "source": [
    "# export\n",
    "from ast import literal_eval\n",
    "import click\n",
    "from functools import partial"
   ]
  },
  {
   "cell_type": "markdown",
   "metadata": {},
   "source": [
    "# CLI\n",
    "\n",
    "The package Click provides a useful framework for building command line tools. Here, we provide a few extensions to the library."
   ]
  },
  {
   "cell_type": "code",
   "execution_count": null,
   "metadata": {},
   "outputs": [],
   "source": [
    "# export\n",
    "class ClickLiteralOption(click.Option):\n",
    "    \"\"\"Command line option that lets user input Python data structures \n",
    "    which aren't offered by Click.\n",
    "    \n",
    "    Examples\n",
    "    --------\n",
    "    # Notice that the input structure must be enclosed in quotes. \n",
    "    \n",
    "    @click.command(help='Sample command.')\n",
    "    @click.option('--lr', cls=ClickLiteralOption, default=\"[3e-3, 3e-4, 1e-5]\")\n",
    "    def train(lr):\n",
    "        # Code to train model.\n",
    "    \"\"\"\n",
    "        \n",
    "    def type_cast_value(self, ctx, val):\n",
    "        try:\n",
    "            return literal_eval(val)\n",
    "        except:\n",
    "            raise click.BadParameter('Failed to parse arg as Python literal.')"
   ]
  },
  {
   "cell_type": "markdown",
   "metadata": {},
   "source": [
    "Click's built-in functionality only allows for simple command line arguments like integers and strings. `ClickLiteralOption` allows the user to pass in structures such as lists, dictionaries, or tuples as options."
   ]
  },
  {
   "cell_type": "code",
   "execution_count": null,
   "metadata": {},
   "outputs": [],
   "source": [
    "# export\n",
    "click.command = partial(\n",
    "    click.command, \n",
    "    context_settings={'help_option_names': ['--help', '-h']}\n",
    ")\n",
    "click.option = partial(click.option, show_default=True)"
   ]
  },
  {
   "cell_type": "markdown",
   "metadata": {},
   "source": [
    "This simply patches click options and commands with what I consider helpful behavior: click commands accept the '-h' option as well as '--help', and options now all show default values when help is called. This behavior can easily be specified in Click directly, but in a whole project you might have dozens or even hundreds of options and it can get repetitive typing `show_default=True` for each one."
   ]
  }
 ],
 "metadata": {
  "kernelspec": {
   "display_name": "Python 3",
   "language": "python",
   "name": "python3"
  }
 },
 "nbformat": 4,
 "nbformat_minor": 2
}
