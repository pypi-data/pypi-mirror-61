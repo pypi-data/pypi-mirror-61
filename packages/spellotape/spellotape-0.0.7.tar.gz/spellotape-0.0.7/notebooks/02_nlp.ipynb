{
 "cells": [
  {
   "cell_type": "code",
   "execution_count": null,
   "metadata": {},
   "outputs": [],
   "source": [
    "# default_exp nlp"
   ]
  },
  {
   "cell_type": "code",
   "execution_count": null,
   "metadata": {},
   "outputs": [],
   "source": [
    "#hide\n",
    "from nbdev.showdoc import *"
   ]
  },
  {
   "cell_type": "code",
   "execution_count": null,
   "metadata": {},
   "outputs": [],
   "source": [
    "# export\n",
    "import os\n",
    "import spacy"
   ]
  },
  {
   "cell_type": "markdown",
   "metadata": {},
   "source": [
    "# NLP\n",
    "\n",
    "This module provides tools for working with text data. The `nlp` object loads a Spacy tokenizer."
   ]
  },
  {
   "cell_type": "code",
   "execution_count": null,
   "metadata": {},
   "outputs": [],
   "source": [
    "# export\n",
    "nlp = spacy.load('en_core_web_sm')"
   ]
  },
  {
   "cell_type": "code",
   "execution_count": null,
   "metadata": {},
   "outputs": [],
   "source": [
    "# export\n",
    "def tokenize(raw, lower=True):\n",
    "    \"\"\"Tokenize a string of text.\n",
    "\n",
    "    Parameters\n",
    "    -----------\n",
    "    raw: str\n",
    "        The text to tokenize.\n",
    "    lower: bool\n",
    "        If True, lowercase the input text.\n",
    "\n",
    "    Returns\n",
    "    --------\n",
    "    list[str]\n",
    "    \"\"\"\n",
    "    if lower: raw = raw.lower()\n",
    "    return [t.text for t in nlp(raw, disable=['tagger', 'parser', 'ner'])]"
   ]
  },
  {
   "cell_type": "markdown",
   "metadata": {},
   "source": [
    "`tokenize` uses the spacy tokenizer to separate a string into word tokens."
   ]
  },
  {
   "cell_type": "code",
   "execution_count": null,
   "metadata": {},
   "outputs": [],
   "source": [
    "sentence1 = 'My dog and I walked to the park after work.'\n",
    "sentence2 = 'My dog and my cat walked to the park to get exercise and play.'"
   ]
  },
  {
   "cell_type": "code",
   "execution_count": null,
   "metadata": {},
   "outputs": [
    {
     "data": {
      "text/plain": [
       "['my', 'dog', 'and', 'i', 'walked', 'to', 'the', 'park', 'after', 'work', '.']"
      ]
     },
     "execution_count": null,
     "metadata": {},
     "output_type": "execute_result"
    }
   ],
   "source": [
    "tokenize(sentence1)"
   ]
  },
  {
   "cell_type": "code",
   "execution_count": null,
   "metadata": {},
   "outputs": [
    {
     "data": {
      "text/plain": [
       "[]"
      ]
     },
     "execution_count": null,
     "metadata": {},
     "output_type": "execute_result"
    }
   ],
   "source": [
    "tokenize('')"
   ]
  },
  {
   "cell_type": "code",
   "execution_count": null,
   "metadata": {},
   "outputs": [],
   "source": [
    "# export\n",
    "def lexical_density(text, lower=True):\n",
    "    \"\"\"Compute lexical density of a piece of text.\n",
    "\n",
    "    https://en.wikipedia.org/wiki/Lexical_density\n",
    "\n",
    "    Parameters\n",
    "    -----------\n",
    "    text: str or list[str]\n",
    "    lower: bool (see `tokenize` docs)\n",
    "\n",
    "    Returns\n",
    "    --------\n",
    "    float: Number between 0 and 1, where larger values indicate a higher\n",
    "        lexical density.\n",
    "    \"\"\"\n",
    "    if isinstance(text, str):\n",
    "        text = tokenize(text, lower)\n",
    "    if not text:\n",
    "        return 0.0\n",
    "    return len(set(text)) / len(text)"
   ]
  },
  {
   "cell_type": "markdown",
   "metadata": {},
   "source": [
    "`lexical density` works on either strings or lists of strings containing word tokens."
   ]
  },
  {
   "cell_type": "code",
   "execution_count": null,
   "metadata": {},
   "outputs": [
    {
     "name": "stdout",
     "output_type": "stream",
     "text": [
      "My dog and I walked to the park after work.\n"
     ]
    },
    {
     "data": {
      "text/plain": [
       "1.0"
      ]
     },
     "execution_count": null,
     "metadata": {},
     "output_type": "execute_result"
    }
   ],
   "source": [
    "print(sentence1)\n",
    "lexical_density(sentence1)"
   ]
  },
  {
   "cell_type": "markdown",
   "metadata": {},
   "source": [
    "Sentence 2 has multiple occurrences of \"my\" and \"and\" so its lexical density is lower."
   ]
  },
  {
   "cell_type": "code",
   "execution_count": null,
   "metadata": {},
   "outputs": [
    {
     "name": "stdout",
     "output_type": "stream",
     "text": [
      "My dog and my cat walked to the park to get exercise and play.\n"
     ]
    },
    {
     "data": {
      "text/plain": [
       "0.8"
      ]
     },
     "execution_count": null,
     "metadata": {},
     "output_type": "execute_result"
    }
   ],
   "source": [
    "print(sentence2)\n",
    "lexical_density(sentence2)"
   ]
  },
  {
   "cell_type": "markdown",
   "metadata": {},
   "source": [
    "Passing in a tokenized sentence returns the same results."
   ]
  },
  {
   "cell_type": "code",
   "execution_count": null,
   "metadata": {},
   "outputs": [
    {
     "name": "stdout",
     "output_type": "stream",
     "text": [
      "['my', 'dog', 'and', 'my', 'cat', 'walked', 'to', 'the', 'park', 'to', 'get', 'exercise', 'and', 'play', '.']\n"
     ]
    },
    {
     "data": {
      "text/plain": [
       "0.8"
      ]
     },
     "execution_count": null,
     "metadata": {},
     "output_type": "execute_result"
    }
   ],
   "source": [
    "tokens = tokenize(sentence2)\n",
    "print(tokens)\n",
    "lexical_density(tokens)"
   ]
  }
 ],
 "metadata": {
  "kernelspec": {
   "display_name": "Python 3",
   "language": "python",
   "name": "python3"
  }
 },
 "nbformat": 4,
 "nbformat_minor": 2
}
