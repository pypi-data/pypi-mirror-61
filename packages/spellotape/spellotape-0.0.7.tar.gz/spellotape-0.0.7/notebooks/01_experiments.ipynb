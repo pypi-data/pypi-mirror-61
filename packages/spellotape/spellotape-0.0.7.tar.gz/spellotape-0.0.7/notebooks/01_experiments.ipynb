{
 "cells": [
  {
   "cell_type": "code",
   "execution_count": null,
   "metadata": {},
   "outputs": [],
   "source": [
    "# default_exp experiments"
   ]
  },
  {
   "cell_type": "code",
   "execution_count": null,
   "metadata": {},
   "outputs": [],
   "source": [
    "#hide\n",
    "from nbdev.showdoc import *"
   ]
  },
  {
   "cell_type": "code",
   "execution_count": null,
   "metadata": {},
   "outputs": [],
   "source": [
    "# export\n",
    "from functools import partial\n",
    "import os\n",
    "import pandas as pd\n",
    "\n",
    "from accio import db\n",
    "from accio.prototool import ProtoTool"
   ]
  },
  {
   "cell_type": "code",
   "execution_count": null,
   "metadata": {},
   "outputs": [],
   "source": [
    "from htools import eprint"
   ]
  },
  {
   "cell_type": "markdown",
   "metadata": {},
   "source": [
    "# Experiments\n",
    "\n",
    "A few utilities are provided for interacting with data collected from Experiments V1. This lets us easily acquire data from one or more snapshots."
   ]
  },
  {
   "cell_type": "code",
   "execution_count": null,
   "metadata": {},
   "outputs": [],
   "source": [
    "# export\n",
    "def snapshot_protobufs(snapshot, limit=None, verbose=True):\n",
    "    \"\"\"Find samples obtained via the experiments UI from a specified snapshot.\n",
    "    \n",
    "    Parameters\n",
    "    -----------\n",
    "    snapshot: int\n",
    "        Number of snapshot in experiments portal.\n",
    "    verbose: bool\n",
    "        If True, print the number of samples retrieved.\n",
    "    \n",
    "    Returns\n",
    "    --------\n",
    "    dict\n",
    "        Keys are s3 paths, values are dictionaries containing parsed protobuf\n",
    "        attributes as well as data from experiment_snapshot_sites table.\n",
    "    \"\"\"\n",
    "    q = f\"\"\"select s3_bucket_location, url, id, experiment_snapshot_id, \n",
    "        account_id, sub_account_id, org_id, ou, seq_id, created_at\n",
    "        from experiment_snapshot_sites \n",
    "        where experiment_snapshot_id = {snapshot}\n",
    "        \"\"\"\n",
    "    if limit: q += f'limit {limit}'\n",
    "\n",
    "    # Get df w/ 1 row for each page in the sample.\n",
    "    rows = db.query(q, 'experiments-prod', 'reader')\n",
    "    if verbose:\n",
    "        print(f'{rows.shape[0]} samples retrieved.')\n",
    "    \n",
    "    # Map s3 path to dict with URL and ID, then retrieve protobuf files.\n",
    "    path2data = {f's3://{row[0]}/scraped_dom.proto': dict(row[1:])\n",
    "                 for i, row in rows.iterrows()}\n",
    "    output = ProtoTool().buf_to_dict(path2data.keys())\n",
    "    \n",
    "    # Add URLs and IDs to feature dicts.\n",
    "    return {path: {**buf, **path2data[path]} for path, buf in output.items()}"
   ]
  },
  {
   "cell_type": "markdown",
   "metadata": {},
   "source": [
    "`snapshot_protobufs` primarily serves as a helper for `fetch_experiments_data`, but at times we may want to use it alone. For a given experiment snapshot, it returns a dictionary mapping s3 file paths to dictionaries containing data from the corresponding protobuf. "
   ]
  },
  {
   "cell_type": "code",
   "execution_count": null,
   "metadata": {},
   "outputs": [
    {
     "name": "stderr",
     "output_type": "stream",
     "text": [
      "\r",
      "  0%|          | 0/5 [00:00<?, ?it/s]"
     ]
    },
    {
     "name": "stdout",
     "output_type": "stream",
     "text": [
      "5 samples retrieved.\n"
     ]
    },
    {
     "name": "stderr",
     "output_type": "stream",
     "text": [
      "\r",
      "  0%|          | 0/5 [00:00<?, ?it/s]"
     ]
    },
    {
     "name": "stdout",
     "output_type": "stream",
     "text": [
      " 0: s3://goguardian-experiments-prod/9e826bbc-35f6-45b8-b60e-47b32bd6f6ae/scraped_dom.proto\n",
      " 1: s3://goguardian-experiments-prod/b2b7c356-e089-4fd2-bbde-273568d37c1b/scraped_dom.proto\n",
      " 2: s3://goguardian-experiments-prod/fa3340c1-3e85-46c6-839d-d59fea93d0f0/scraped_dom.proto\n",
      " 3: s3://goguardian-experiments-prod/f36b2a87-aa27-4623-8a74-a7980b83dd89/scraped_dom.proto\n",
      " 4: s3://goguardian-experiments-prod/cd676e8b-b7a9-4529-8bea-7af294b09f0c/scraped_dom.proto\n"
     ]
    },
    {
     "name": "stderr",
     "output_type": "stream",
     "text": [
      "\n"
     ]
    }
   ],
   "source": [
    "path2data = snapshot_protobufs(100, limit=5)\n",
    "eprint(path2data.keys())"
   ]
  },
  {
   "cell_type": "markdown",
   "metadata": {},
   "source": [
    "The usual protobuf fields are available in each dictionary."
   ]
  },
  {
   "cell_type": "code",
   "execution_count": null,
   "metadata": {},
   "outputs": [
    {
     "data": {
      "text/plain": [
       "dict_keys(['fullText', 'a', 'aCount', 'p', 'pCount', 'imgSrc', 'imgCount', 'h1Count', 'h2', 'h2Count', 'div', 'divCount', 'span', 'spanCount', 'title', 'titleCount', 'liCount', 'iframeCount', 'metaContent', 'metaCount', 'scriptCount', 'formCount', 'selectCount', 'option', 'optionCount', 'inputValue', 'inputCount', 'labelCount', 'mainCount', 'headerCount', 'footerCount', 'articleCount', 'sectionCount', 'navCount', 'url', 'id', 'experiment_snapshot_id', 'account_id', 'sub_account_id', 'org_id', 'ou', 'seq_id', 'created_at'])"
      ]
     },
     "execution_count": null,
     "metadata": {},
     "output_type": "execute_result"
    }
   ],
   "source": [
    "list(path2data.values())[0].keys()"
   ]
  },
  {
   "cell_type": "code",
   "execution_count": null,
   "metadata": {},
   "outputs": [],
   "source": [
    "# export\n",
    "def fetch_experiments_data(*snapshot_ids, df=True, s3_paths=False, limit=None):\n",
    "    \"\"\"\n",
    "    Parameters\n",
    "    -----------\n",
    "    snapshot_ids: int (1 or more)\n",
    "        Integer IDs corresponding to the relevant experiment snapshots.\n",
    "        These can be found in the experiments V1 portal on the `Snapshots` \n",
    "        page.\n",
    "    df: bool (default True)\n",
    "        If True, return the data as a single Pandas DataFrame.\n",
    "    s3_paths: bool (default False)\n",
    "        If True, include the urls for the protobufs in S3 in the output\n",
    "        dataframe or dict. When returning a dictionary (i.e. df=False),\n",
    "        s3_paths will always be present as keys.\n",
    "    limit: int or None\n",
    "        If int, sets the max combined number of rows to retrieve from db.\n",
    "        If None, retrieve all rows. Note: if using n snapshot \n",
    "        id's, each snapshot will have at most limit//n rows.\n",
    "        \n",
    "    Returns\n",
    "    --------\n",
    "    pd.DataFrame\n",
    "        1 row for each example collected from snapshot.\n",
    "    \n",
    "    or\n",
    "    \n",
    "    dict[str, dict]\n",
    "        Maps S3 file location to dict containing file attributes and site\n",
    "        metadata.\n",
    "    \"\"\"\n",
    "    if limit: limit //= len(snapshot_ids)\n",
    "    proto_rounds = (snapshot_protobufs(i, limit) for i in snapshot_ids)\n",
    "    data = {k: v for group in proto_rounds for k, v in group.items()}\n",
    "    if df: \n",
    "        if s3_paths:\n",
    "            data = pd.DataFrame(data).T.reset_index()\\\n",
    "                     .rename({'index': 's3'}, axis=1)\n",
    "        else:\n",
    "            data = pd.DataFrame(list(data.values()))\n",
    "    return data"
   ]
  },
  {
   "cell_type": "markdown",
   "metadata": {},
   "source": [
    "`fetch_experiments_data` retrieves protobuf files from one or more snapshots and combines them into a single dictionary or Pandas DataFrame."
   ]
  },
  {
   "cell_type": "code",
   "execution_count": null,
   "metadata": {},
   "outputs": [
    {
     "name": "stderr",
     "output_type": "stream",
     "text": [
      "\r",
      "  0%|          | 0/5 [00:00<?, ?it/s]"
     ]
    },
    {
     "name": "stdout",
     "output_type": "stream",
     "text": [
      "5 samples retrieved.\n"
     ]
    },
    {
     "name": "stderr",
     "output_type": "stream",
     "text": [
      "  0%|          | 0/5 [00:00<?, ?it/s]\n"
     ]
    },
    {
     "data": {
      "text/html": [
       "<div>\n",
       "<style scoped>\n",
       "    .dataframe tbody tr th:only-of-type {\n",
       "        vertical-align: middle;\n",
       "    }\n",
       "\n",
       "    .dataframe tbody tr th {\n",
       "        vertical-align: top;\n",
       "    }\n",
       "\n",
       "    .dataframe thead th {\n",
       "        text-align: right;\n",
       "    }\n",
       "</style>\n",
       "<table border=\"1\" class=\"dataframe\">\n",
       "  <thead>\n",
       "    <tr style=\"text-align: right;\">\n",
       "      <th></th>\n",
       "      <th>fullText</th>\n",
       "      <th>a</th>\n",
       "      <th>aCount</th>\n",
       "      <th>p</th>\n",
       "      <th>pCount</th>\n",
       "      <th>imgSrc</th>\n",
       "      <th>imgCount</th>\n",
       "      <th>h1Count</th>\n",
       "      <th>h2</th>\n",
       "      <th>h2Count</th>\n",
       "      <th>...</th>\n",
       "      <th>h3Count</th>\n",
       "      <th>li</th>\n",
       "      <th>textareaCount</th>\n",
       "      <th>imgAlt</th>\n",
       "      <th>h1</th>\n",
       "      <th>tableCount</th>\n",
       "      <th>tdCount</th>\n",
       "      <th>buttonCount</th>\n",
       "      <th>header</th>\n",
       "      <th>footer</th>\n",
       "    </tr>\n",
       "  </thead>\n",
       "  <tbody>\n",
       "    <tr>\n",
       "      <td>0</td>\n",
       "      <td>about archives contact contributedonatetopics ...</td>\n",
       "      <td>[about, archives, contact, contribute, donate,...</td>\n",
       "      <td>222</td>\n",
       "      <td>[being diagnosed with schizoaffective disorder...</td>\n",
       "      <td>36.0</td>\n",
       "      <td>[http://brainblogger.com/wp-content/themes/bra...</td>\n",
       "      <td>19.0</td>\n",
       "      <td>2</td>\n",
       "      <td>[share this article, further reading, about us...</td>\n",
       "      <td>14</td>\n",
       "      <td>...</td>\n",
       "      <td>NaN</td>\n",
       "      <td>NaN</td>\n",
       "      <td>NaN</td>\n",
       "      <td>NaN</td>\n",
       "      <td>NaN</td>\n",
       "      <td>NaN</td>\n",
       "      <td>NaN</td>\n",
       "      <td>NaN</td>\n",
       "      <td>NaN</td>\n",
       "      <td>NaN</td>\n",
       "    </tr>\n",
       "    <tr>\n",
       "      <td>1</td>\n",
       "      <td>crash search chapters bookmarks history readin...</td>\n",
       "      <td>[the perks of being a wallflower]</td>\n",
       "      <td>18</td>\n",
       "      <td>[you never know who’s going to get home first....</td>\n",
       "      <td>158.0</td>\n",
       "      <td>[https://ofs-e782489dbb0ef78eef561c6028030e9a....</td>\n",
       "      <td>3.0</td>\n",
       "      <td>6</td>\n",
       "      <td>NaN</td>\n",
       "      <td>1</td>\n",
       "      <td>...</td>\n",
       "      <td>3.0</td>\n",
       "      <td>[search, chapters, bookmarks, history, reading...</td>\n",
       "      <td>1.0</td>\n",
       "      <td>NaN</td>\n",
       "      <td>NaN</td>\n",
       "      <td>NaN</td>\n",
       "      <td>NaN</td>\n",
       "      <td>NaN</td>\n",
       "      <td>NaN</td>\n",
       "      <td>NaN</td>\n",
       "    </tr>\n",
       "    <tr>\n",
       "      <td>2</td>\n",
       "      <td>..google search page header search modes allim...</td>\n",
       "      <td>[images, shopping, videos, news, more, setting...</td>\n",
       "      <td>114</td>\n",
       "      <td>NaN</td>\n",
       "      <td>1.0</td>\n",
       "      <td>[https://www.google.com/images/branding/google...</td>\n",
       "      <td>2.0</td>\n",
       "      <td>5</td>\n",
       "      <td>[web results]</td>\n",
       "      <td>1</td>\n",
       "      <td>...</td>\n",
       "      <td>10.0</td>\n",
       "      <td>NaN</td>\n",
       "      <td>1.0</td>\n",
       "      <td>[google]</td>\n",
       "      <td>[google search page header, search modes, sear...</td>\n",
       "      <td>1.0</td>\n",
       "      <td>12.0</td>\n",
       "      <td>2.0</td>\n",
       "      <td>NaN</td>\n",
       "      <td>NaN</td>\n",
       "    </tr>\n",
       "    <tr>\n",
       "      <td>3</td>\n",
       "      <td>ultimate guitar com tabs articles forums wiki ...</td>\n",
       "      <td>[pro, soccer mommy, e a d g b e, predatorywasp...</td>\n",
       "      <td>67</td>\n",
       "      <td>NaN</td>\n",
       "      <td>NaN</td>\n",
       "      <td>NaN</td>\n",
       "      <td>1.0</td>\n",
       "      <td>1</td>\n",
       "      <td>[strumming, 1 comment]</td>\n",
       "      <td>2</td>\n",
       "      <td>...</td>\n",
       "      <td>NaN</td>\n",
       "      <td>NaN</td>\n",
       "      <td>3.0</td>\n",
       "      <td>[celiacastaldo]</td>\n",
       "      <td>[death by chocolate chords]</td>\n",
       "      <td>NaN</td>\n",
       "      <td>NaN</td>\n",
       "      <td>32.0</td>\n",
       "      <td>[welcome home, stranger please register or sig...</td>\n",
       "      <td>NaN</td>\n",
       "    </tr>\n",
       "    <tr>\n",
       "      <td>4</td>\n",
       "      <td>ultimate guitar com tabs articles forums wiki ...</td>\n",
       "      <td>[pro, soccer mommy, e a d g b e, michaeldelude...</td>\n",
       "      <td>64</td>\n",
       "      <td>NaN</td>\n",
       "      <td>NaN</td>\n",
       "      <td>NaN</td>\n",
       "      <td>NaN</td>\n",
       "      <td>1</td>\n",
       "      <td>[strumming, no comments]</td>\n",
       "      <td>2</td>\n",
       "      <td>...</td>\n",
       "      <td>NaN</td>\n",
       "      <td>NaN</td>\n",
       "      <td>1.0</td>\n",
       "      <td>NaN</td>\n",
       "      <td>[death by chocolate chords]</td>\n",
       "      <td>NaN</td>\n",
       "      <td>NaN</td>\n",
       "      <td>33.0</td>\n",
       "      <td>[welcome home, stranger please register or sig...</td>\n",
       "      <td>[don't have an account yet? sign up]</td>\n",
       "    </tr>\n",
       "  </tbody>\n",
       "</table>\n",
       "<p>5 rows × 54 columns</p>\n",
       "</div>"
      ],
      "text/plain": [
       "                                            fullText  \\\n",
       "0  about archives contact contributedonatetopics ...   \n",
       "1  crash search chapters bookmarks history readin...   \n",
       "2  ..google search page header search modes allim...   \n",
       "3  ultimate guitar com tabs articles forums wiki ...   \n",
       "4  ultimate guitar com tabs articles forums wiki ...   \n",
       "\n",
       "                                                   a  aCount  \\\n",
       "0  [about, archives, contact, contribute, donate,...     222   \n",
       "1                  [the perks of being a wallflower]      18   \n",
       "2  [images, shopping, videos, news, more, setting...     114   \n",
       "3  [pro, soccer mommy, e a d g b e, predatorywasp...      67   \n",
       "4  [pro, soccer mommy, e a d g b e, michaeldelude...      64   \n",
       "\n",
       "                                                   p  pCount  \\\n",
       "0  [being diagnosed with schizoaffective disorder...    36.0   \n",
       "1  [you never know who’s going to get home first....   158.0   \n",
       "2                                                NaN     1.0   \n",
       "3                                                NaN     NaN   \n",
       "4                                                NaN     NaN   \n",
       "\n",
       "                                              imgSrc  imgCount  h1Count  \\\n",
       "0  [http://brainblogger.com/wp-content/themes/bra...      19.0        2   \n",
       "1  [https://ofs-e782489dbb0ef78eef561c6028030e9a....       3.0        6   \n",
       "2  [https://www.google.com/images/branding/google...       2.0        5   \n",
       "3                                                NaN       1.0        1   \n",
       "4                                                NaN       NaN        1   \n",
       "\n",
       "                                                  h2  h2Count  ... h3Count  \\\n",
       "0  [share this article, further reading, about us...       14  ...     NaN   \n",
       "1                                                NaN        1  ...     3.0   \n",
       "2                                      [web results]        1  ...    10.0   \n",
       "3                             [strumming, 1 comment]        2  ...     NaN   \n",
       "4                           [strumming, no comments]        2  ...     NaN   \n",
       "\n",
       "                                                  li textareaCount  \\\n",
       "0                                                NaN           NaN   \n",
       "1  [search, chapters, bookmarks, history, reading...           1.0   \n",
       "2                                                NaN           1.0   \n",
       "3                                                NaN           3.0   \n",
       "4                                                NaN           1.0   \n",
       "\n",
       "            imgAlt                                                 h1  \\\n",
       "0              NaN                                                NaN   \n",
       "1              NaN                                                NaN   \n",
       "2         [google]  [google search page header, search modes, sear...   \n",
       "3  [celiacastaldo]                        [death by chocolate chords]   \n",
       "4              NaN                        [death by chocolate chords]   \n",
       "\n",
       "   tableCount  tdCount  buttonCount  \\\n",
       "0         NaN      NaN          NaN   \n",
       "1         NaN      NaN          NaN   \n",
       "2         1.0     12.0          2.0   \n",
       "3         NaN      NaN         32.0   \n",
       "4         NaN      NaN         33.0   \n",
       "\n",
       "                                              header  \\\n",
       "0                                                NaN   \n",
       "1                                                NaN   \n",
       "2                                                NaN   \n",
       "3  [welcome home, stranger please register or sig...   \n",
       "4  [welcome home, stranger please register or sig...   \n",
       "\n",
       "                                 footer  \n",
       "0                                   NaN  \n",
       "1                                   NaN  \n",
       "2                                   NaN  \n",
       "3                                   NaN  \n",
       "4  [don't have an account yet? sign up]  \n",
       "\n",
       "[5 rows x 54 columns]"
      ]
     },
     "execution_count": null,
     "metadata": {},
     "output_type": "execute_result"
    }
   ],
   "source": [
    "fetch_experiments_data(100, limit=5)"
   ]
  },
  {
   "cell_type": "code",
   "execution_count": null,
   "metadata": {},
   "outputs": [
    {
     "name": "stderr",
     "output_type": "stream",
     "text": [
      "\r",
      "  0%|          | 0/1 [00:00<?, ?it/s]"
     ]
    },
    {
     "name": "stdout",
     "output_type": "stream",
     "text": [
      "1 samples retrieved.\n"
     ]
    },
    {
     "name": "stderr",
     "output_type": "stream",
     "text": [
      "  0%|          | 0/1 [00:00<?, ?it/s]\n",
      "  0%|          | 0/1 [00:00<?, ?it/s]"
     ]
    },
    {
     "name": "stdout",
     "output_type": "stream",
     "text": [
      "1 samples retrieved.\n"
     ]
    },
    {
     "name": "stderr",
     "output_type": "stream",
     "text": [
      "\n"
     ]
    },
    {
     "data": {
      "text/html": [
       "<div>\n",
       "<style scoped>\n",
       "    .dataframe tbody tr th:only-of-type {\n",
       "        vertical-align: middle;\n",
       "    }\n",
       "\n",
       "    .dataframe tbody tr th {\n",
       "        vertical-align: top;\n",
       "    }\n",
       "\n",
       "    .dataframe thead th {\n",
       "        text-align: right;\n",
       "    }\n",
       "</style>\n",
       "<table border=\"1\" class=\"dataframe\">\n",
       "  <thead>\n",
       "    <tr style=\"text-align: right;\">\n",
       "      <th></th>\n",
       "      <th>s3</th>\n",
       "      <th>fullText</th>\n",
       "      <th>a</th>\n",
       "      <th>aCount</th>\n",
       "      <th>p</th>\n",
       "      <th>pCount</th>\n",
       "      <th>imgSrc</th>\n",
       "      <th>imgCount</th>\n",
       "      <th>h1Count</th>\n",
       "      <th>h2</th>\n",
       "      <th>...</th>\n",
       "      <th>ou</th>\n",
       "      <th>seq_id</th>\n",
       "      <th>created_at</th>\n",
       "      <th>imgAlt</th>\n",
       "      <th>h1</th>\n",
       "      <th>h3</th>\n",
       "      <th>h3Count</th>\n",
       "      <th>tableCount</th>\n",
       "      <th>tdCount</th>\n",
       "      <th>buttonCount</th>\n",
       "    </tr>\n",
       "  </thead>\n",
       "  <tbody>\n",
       "    <tr>\n",
       "      <td>0</td>\n",
       "      <td>s3://goguardian-experiments-prod/9e826bbc-35f6...</td>\n",
       "      <td>about archives contact contributedonatetopics ...</td>\n",
       "      <td>[about, archives, contact, contribute, donate,...</td>\n",
       "      <td>222</td>\n",
       "      <td>[being diagnosed with schizoaffective disorder...</td>\n",
       "      <td>36</td>\n",
       "      <td>[http://brainblogger.com/wp-content/themes/bra...</td>\n",
       "      <td>19</td>\n",
       "      <td>2</td>\n",
       "      <td>[share this article, further reading, about us...</td>\n",
       "      <td>...</td>\n",
       "      <td>/HS/HS Staff</td>\n",
       "      <td>0</td>\n",
       "      <td>2018-08-14 00:34:35</td>\n",
       "      <td>NaN</td>\n",
       "      <td>NaN</td>\n",
       "      <td>NaN</td>\n",
       "      <td>NaN</td>\n",
       "      <td>NaN</td>\n",
       "      <td>NaN</td>\n",
       "      <td>NaN</td>\n",
       "    </tr>\n",
       "    <tr>\n",
       "      <td>1</td>\n",
       "      <td>s3://goguardian-experiments-prod/c7cb1b02-cb00...</td>\n",
       "      <td>accessibility links skip to main content acces...</td>\n",
       "      <td>[skip to main content, accessibility help, acc...</td>\n",
       "      <td>124</td>\n",
       "      <td>NaN</td>\n",
       "      <td>9</td>\n",
       "      <td>[https://www.google.com/images/branding/google...</td>\n",
       "      <td>16</td>\n",
       "      <td>5</td>\n",
       "      <td>[web results, people also ask, web results]</td>\n",
       "      <td>...</td>\n",
       "      <td>/RHCSD_Users/Students/Sperry</td>\n",
       "      <td>0</td>\n",
       "      <td>2019-05-14 04:17:01</td>\n",
       "      <td>[google, my lai massacre, massacre at huế, pho...</td>\n",
       "      <td>[accessibility links, search modes, search res...</td>\n",
       "      <td>[my lai massacre - history, my lai massacre - ...</td>\n",
       "      <td>11</td>\n",
       "      <td>1</td>\n",
       "      <td>6</td>\n",
       "      <td>2</td>\n",
       "    </tr>\n",
       "  </tbody>\n",
       "</table>\n",
       "<p>2 rows × 51 columns</p>\n",
       "</div>"
      ],
      "text/plain": [
       "                                                  s3  \\\n",
       "0  s3://goguardian-experiments-prod/9e826bbc-35f6...   \n",
       "1  s3://goguardian-experiments-prod/c7cb1b02-cb00...   \n",
       "\n",
       "                                            fullText  \\\n",
       "0  about archives contact contributedonatetopics ...   \n",
       "1  accessibility links skip to main content acces...   \n",
       "\n",
       "                                                   a aCount  \\\n",
       "0  [about, archives, contact, contribute, donate,...    222   \n",
       "1  [skip to main content, accessibility help, acc...    124   \n",
       "\n",
       "                                                   p pCount  \\\n",
       "0  [being diagnosed with schizoaffective disorder...     36   \n",
       "1                                                NaN      9   \n",
       "\n",
       "                                              imgSrc imgCount h1Count  \\\n",
       "0  [http://brainblogger.com/wp-content/themes/bra...       19       2   \n",
       "1  [https://www.google.com/images/branding/google...       16       5   \n",
       "\n",
       "                                                  h2  ...  \\\n",
       "0  [share this article, further reading, about us...  ...   \n",
       "1        [web results, people also ask, web results]  ...   \n",
       "\n",
       "                             ou seq_id          created_at  \\\n",
       "0                  /HS/HS Staff      0 2018-08-14 00:34:35   \n",
       "1  /RHCSD_Users/Students/Sperry      0 2019-05-14 04:17:01   \n",
       "\n",
       "                                              imgAlt  \\\n",
       "0                                                NaN   \n",
       "1  [google, my lai massacre, massacre at huế, pho...   \n",
       "\n",
       "                                                  h1  \\\n",
       "0                                                NaN   \n",
       "1  [accessibility links, search modes, search res...   \n",
       "\n",
       "                                                  h3 h3Count tableCount  \\\n",
       "0                                                NaN     NaN        NaN   \n",
       "1  [my lai massacre - history, my lai massacre - ...      11          1   \n",
       "\n",
       "  tdCount buttonCount  \n",
       "0     NaN         NaN  \n",
       "1       6           2  \n",
       "\n",
       "[2 rows x 51 columns]"
      ]
     },
     "execution_count": null,
     "metadata": {},
     "output_type": "execute_result"
    }
   ],
   "source": [
    "fetch_experiments_data(100, 200, s3_paths=True, limit=2)"
   ]
  },
  {
   "cell_type": "code",
   "execution_count": null,
   "metadata": {},
   "outputs": [
    {
     "name": "stderr",
     "output_type": "stream",
     "text": [
      "\r",
      "  0%|          | 0/1 [00:00<?, ?it/s]"
     ]
    },
    {
     "name": "stdout",
     "output_type": "stream",
     "text": [
      "1 samples retrieved.\n"
     ]
    },
    {
     "name": "stderr",
     "output_type": "stream",
     "text": [
      "  0%|          | 0/1 [00:00<?, ?it/s]\n",
      "  0%|          | 0/1 [00:00<?, ?it/s]"
     ]
    },
    {
     "name": "stdout",
     "output_type": "stream",
     "text": [
      "1 samples retrieved.\n",
      "type: <class 'dict'>\n",
      "length: 2\n",
      "keys: dict_keys(['s3://goguardian-experiments-prod/9e826bbc-35f6-45b8-b60e-47b32bd6f6ae/scraped_dom.proto', 's3://goguardian-experiments-prod/c7cb1b02-cb00-4620-990e-4420bdfeaeb1/scraped_dom.proto'])\n"
     ]
    },
    {
     "name": "stderr",
     "output_type": "stream",
     "text": [
      "\n"
     ]
    }
   ],
   "source": [
    "data = fetch_experiments_data(100, 200, df=False, limit=2)\n",
    "print('type:', type(data))\n",
    "print('length:', len(data))\n",
    "print('keys:', data.keys())"
   ]
  }
 ],
 "metadata": {
  "kernelspec": {
   "display_name": "Python 3",
   "language": "python",
   "name": "python3"
  }
 },
 "nbformat": 4,
 "nbformat_minor": 2
}
