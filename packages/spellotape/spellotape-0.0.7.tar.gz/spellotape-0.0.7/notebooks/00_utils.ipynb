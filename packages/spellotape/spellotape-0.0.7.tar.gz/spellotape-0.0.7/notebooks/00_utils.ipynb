{
 "cells": [
  {
   "cell_type": "code",
   "execution_count": null,
   "metadata": {},
   "outputs": [],
   "source": [
    "# default_exp utils"
   ]
  },
  {
   "cell_type": "markdown",
   "metadata": {},
   "source": [
    "# Spellotape\n",
    "\n",
    "> Spellotape (noun): An adhesive tape used to patch or repair magical objects.\n",
    "\n",
    "Disambiguation: A Python package containing miscellaneous utility functions for data science work at GoGuardian"
   ]
  },
  {
   "cell_type": "code",
   "execution_count": null,
   "metadata": {},
   "outputs": [],
   "source": [
    "#hide\n",
    "from nbdev.showdoc import *"
   ]
  },
  {
   "cell_type": "code",
   "execution_count": null,
   "metadata": {},
   "outputs": [],
   "source": [
    "# export\n",
    "import boto3\n",
    "from collections import Counter\n",
    "import mimetypes\n",
    "import os\n",
    "import requests"
   ]
  },
  {
   "cell_type": "code",
   "execution_count": null,
   "metadata": {},
   "outputs": [],
   "source": [
    "# export\n",
    "IMG_EXT = {k[1:] for k, v in mimetypes.types_map.items() if 'image' in v}"
   ]
  },
  {
   "cell_type": "code",
   "execution_count": null,
   "metadata": {},
   "outputs": [
    {
     "data": {
      "text/plain": [
       "{'bmp',\n",
       " 'gif',\n",
       " 'ico',\n",
       " 'ief',\n",
       " 'jpe',\n",
       " 'jpeg',\n",
       " 'jpg',\n",
       " 'pbm',\n",
       " 'pgm',\n",
       " 'png',\n",
       " 'pnm',\n",
       " 'ppm',\n",
       " 'ras',\n",
       " 'rgb',\n",
       " 'svg',\n",
       " 'tif',\n",
       " 'tiff',\n",
       " 'xbm',\n",
       " 'xpm',\n",
       " 'xwd'}"
      ]
     },
     "execution_count": null,
     "metadata": {},
     "output_type": "execute_result"
    }
   ],
   "source": [
    "IMG_EXT"
   ]
  },
  {
   "cell_type": "code",
   "execution_count": null,
   "metadata": {},
   "outputs": [],
   "source": [
    "# export\n",
    "def cd_root(root_subdir='pylib'):\n",
    "    \"\"\"Run at start of Jupyter notebook to enter project root.\n",
    "    \n",
    "    Parameters\n",
    "    ----------\n",
    "    root_subdir: str\n",
    "        Name of a subdirectory contained in the project root directory.\n",
    "        If not found in the current working directory, this will move\n",
    "        to the parent directory.\n",
    "        \n",
    "    Examples\n",
    "    --------\n",
    "    Sample file structure (abbreviated):\n",
    "    \n",
    "    delphi/\n",
    "        pylib/\n",
    "            setup.py\n",
    "            delphi/\n",
    "                __init__.py\n",
    "                utils.py\n",
    "        py/\n",
    "            fetch_raw_data.py\n",
    "        notebooks/\n",
    "            nb01_eda.ipynb\n",
    "            \n",
    "    Running cd_root() from nb01_eda.ipynb will change the working \n",
    "    directory from notebooks/ to delphi, which is typically the\n",
    "    same directory we'd run scripts in py/ from. This makes converting\n",
    "    from notebooks to scripts easier.\n",
    "    \"\"\"\n",
    "    if root_subdir not in next(os.walk('.'))[1]:\n",
    "        os.chdir('..')\n",
    "    print('Current directory:', os.getcwd())"
   ]
  },
  {
   "cell_type": "code",
   "execution_count": null,
   "metadata": {},
   "outputs": [
    {
     "name": "stdout",
     "output_type": "stream",
     "text": [
      "Current directory: /Users/harrisonmamin/spellotape\n"
     ]
    }
   ],
   "source": [
    "cd_root('notebooks')"
   ]
  },
  {
   "cell_type": "code",
   "execution_count": null,
   "metadata": {},
   "outputs": [],
   "source": [
    "# export\n",
    "def extension_counts(paths, common_only=True, exts=None):\n",
    "    \"\"\"Given a sequence of paths, find the number of times each extension\n",
    "    occurs.\n",
    "    \n",
    "    Parameters\n",
    "    ----------\n",
    "    paths: list[str]\n",
    "        Sequence of paths that can be iterated over.\n",
    "    common_only: bool\n",
    "        Specifies whether to limit counts to include only certain extensions,\n",
    "        either passed in by the user or pulled from the mimetypes library.\n",
    "    exts: set[str]\n",
    "        Set of file extensions to include (format should not start with '.'). \n",
    "        If common_only is True and exts is None, a set of common file \n",
    "        extensions are pulled from the mimetypes library.\n",
    "    \n",
    "    Returns\n",
    "    -------\n",
    "    dict[str, int]: dict-like object mapping file extension to \n",
    "        the number of times it appears in `paths`. Files with no extension\n",
    "        are represented by ''.\n",
    "    \"\"\"\n",
    "    exts = exts or set(ext.lstrip('.') for ext in mimetypes.types_map.keys())\n",
    "    counts = Counter(os.path.splitext(path)[-1].lstrip('.') for path in paths)\n",
    "    if common_only: \n",
    "        counts = {k: v for k, v in counts.items() if k in exts} \n",
    "    return dict(counts)"
   ]
  },
  {
   "cell_type": "code",
   "execution_count": null,
   "metadata": {},
   "outputs": [],
   "source": [
    "files = ['a', 'a/b/c', 'a/b/c.py', 'a.py', 'b/c.jpg', 'x.jkl', 'y.pdf', 'z.jkl']"
   ]
  },
  {
   "cell_type": "code",
   "execution_count": null,
   "metadata": {},
   "outputs": [
    {
     "data": {
      "text/plain": [
       "{'py': 2, 'jpg': 1, 'pdf': 1}"
      ]
     },
     "execution_count": null,
     "metadata": {},
     "output_type": "execute_result"
    }
   ],
   "source": [
    "extension_counts(files)"
   ]
  },
  {
   "cell_type": "code",
   "execution_count": null,
   "metadata": {},
   "outputs": [
    {
     "data": {
      "text/plain": [
       "{'': 2, 'py': 2, 'jpg': 1, 'jkl': 2, 'pdf': 1}"
      ]
     },
     "execution_count": null,
     "metadata": {},
     "output_type": "execute_result"
    }
   ],
   "source": [
    "extension_counts(files, False)"
   ]
  },
  {
   "cell_type": "code",
   "execution_count": null,
   "metadata": {},
   "outputs": [
    {
     "data": {
      "text/plain": [
       "{'jkl': 2, 'pdf': 1}"
      ]
     },
     "execution_count": null,
     "metadata": {},
     "output_type": "execute_result"
    }
   ],
   "source": [
    "extension_counts(files, exts={'pdf', 'jkl'})"
   ]
  },
  {
   "cell_type": "code",
   "execution_count": null,
   "metadata": {},
   "outputs": [],
   "source": [
    "# export\n",
    "def stop_instance(debug=False, timeout=5):\n",
    "    \"\"\"Stop an active ec2 instance.\n",
    "\n",
    "    Parameters\n",
    "    ----------\n",
    "    debug: bool\n",
    "        If True, run the stop command in dry run mode. This checks if the\n",
    "        user has required permissions to execute the command.\n",
    "    timeout: int\n",
    "        Max amount of time for request to get ec2 information. If we\n",
    "        are not on an EC2, this would hang indefinitely otherwise.\n",
    "\n",
    "    Returns\n",
    "    -------\n",
    "    None\n",
    "    \"\"\"\n",
    "    url = 'http://169.254.169.254/latest/dynamic/instance-identity/document'\n",
    "    r = requests.get(url, timeout=timeout).json()\n",
    "    id_, region = r['instanceId'], r['region']\n",
    "    ec2 = boto3.client('ec2', region_name=region)\n",
    "    ec2.stop_instances(InstanceIds=[id_], DryRun=debug)"
   ]
  }
 ],
 "metadata": {
  "kernelspec": {
   "display_name": "Python 3",
   "language": "python",
   "name": "python3"
  }
 },
 "nbformat": 4,
 "nbformat_minor": 2
}
