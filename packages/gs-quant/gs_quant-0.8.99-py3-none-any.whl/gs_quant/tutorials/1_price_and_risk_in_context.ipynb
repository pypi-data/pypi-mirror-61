{
 "cells": [
  {
   "cell_type": "markdown",
   "metadata": {},
   "source": [
    "# Pricing and Risk Calculation - Contexts\n",
    "Calculating Pricing and Risk in Different Pricing Environments"
   ]
  },
  {
   "cell_type": "code",
   "execution_count": null,
   "metadata": {},
   "outputs": [],
   "source": [
    "import datetime as dt\n",
    "from gs_quant.common import PayReceive\n",
    "from gs_quant.instrument import IRSwap, IRSwaption\n",
    "from gs_quant.markets import PricingContext\n",
    "from gs_quant.session import GsSession\n",
    "from gs_quant import risk\n",
    "\n",
    "client_id = None\n",
    "client_secret = None\n",
    "\n",
    "GsSession.use(client_id=client_id, client_secret=client_secret,\n",
    "              scopes=['run_analytics', 'read_financial_data'])"
   ]
  },
  {
   "cell_type": "markdown",
   "metadata": {},
   "source": [
    "### PricingContext\n",
    "Leveraging the PricingContext to modify pricing environment and market data"
   ]
  },
  {
   "cell_type": "code",
   "execution_count": null,
   "metadata": {},
   "outputs": [],
   "source": [
    "# Calculating Risk as of a specific date and market location\n",
    "custom_date = dt.date(2019, 9, 20)\n",
    "swap = IRSwap(PayReceive.Receive, '10y', 'GBP',\n",
    "              fixed_rate='atm+50', notional_amount=1e8)\n",
    "with PricingContext(pricing_date=custom_date, market_data_location='NYC'):\n",
    "    delta = swap.calc(risk.IRDeltaParallel)\n",
    "\n",
    "print(delta.result())"
   ]
  },
  {
   "cell_type": "markdown",
   "metadata": {},
   "source": [
    "### HistoricalPricingContext\n",
    "Calculating pricing and risk over a range of dates"
   ]
  },
  {
   "cell_type": "code",
   "execution_count": null,
   "metadata": {},
   "outputs": [],
   "source": [
    "# Short Dated Swaption Historical Pricing - 2Q19\n",
    "from gs_quant.markets import HistoricalPricingContext\n",
    "from datetime import date\n",
    "\n",
    "start_date = date(2019, 4, 1)\n",
    "end_date = date(2019, 6, 30)\n",
    "\n",
    "swaption = IRSwaption(PayReceive.Receive, '5y', 'USD',\n",
    "                      expiration_date='3m', notional_amount=1e8)\n",
    "with PricingContext(pricing_date=start_date):\n",
    "    swaption.resolve()  # Freeze dates/strike in contract as of start date\n",
    "\n",
    "with HistoricalPricingContext(start_date, end_date):\n",
    "    swaption_res = swaption.calc((risk.DollarPrice, risk.IRGammaParallel,))\n",
    "\n",
    "prices = swaption_res[risk.DollarPrice]\n",
    "gamma = swaption_res[risk.IRGammaParallel]"
   ]
  },
  {
   "cell_type": "code",
   "execution_count": null,
   "metadata": {},
   "outputs": [],
   "source": [
    "prices.plot(title='3m5y USD Swaption Price by Date', rot=45)"
   ]
  },
  {
   "cell_type": "code",
   "execution_count": null,
   "metadata": {},
   "outputs": [],
   "source": [
    "gamma.plot(title='3m5y USD Swaption Gamma by Date, Fixed Date & Strike', rot=45)"
   ]
  }
 ],
 "metadata": {
  "kernelspec": {
   "display_name": "Python 3",
   "language": "python",
   "name": "python3"
  },
  "language_info": {
   "codemirror_mode": {
    "name": "ipython",
    "version": 3
   },
   "file_extension": ".py",
   "mimetype": "text/x-python",
   "name": "python",
   "nbconvert_exporter": "python",
   "pygments_lexer": "ipython3",
   "version": "3.7.0"
  },
  "pycharm": {
   "stem_cell": {
    "cell_type": "raw",
    "source": [],
    "metadata": {
     "collapsed": false
    }
   }
  }
 },
 "nbformat": 4,
 "nbformat_minor": 4
}