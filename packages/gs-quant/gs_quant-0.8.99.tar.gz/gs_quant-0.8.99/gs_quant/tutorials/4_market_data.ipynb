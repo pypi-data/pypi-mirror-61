{
 "cells": [
  {
   "cell_type": "markdown",
   "metadata": {},
   "source": [
    "# Market Data\n",
    "GS Quant allows for easy access to market data"
   ]
  },
  {
   "cell_type": "code",
   "execution_count": null,
   "metadata": {},
   "outputs": [],
   "source": [
    "from gs_quant.data import Dataset\n",
    "from datetime import date, timedelta\n",
    "from gs_quant.session import GsSession\n",
    "\n",
    "client_id = None\n",
    "client_secret = None\n",
    "\n",
    "GsSession.use(client_id=client_id, client_secret=client_secret, scopes=[\n",
    "              'run_analytics', 'read_financial_data', 'read_product_data'])"
   ]
  },
  {
   "cell_type": "code",
   "execution_count": null,
   "metadata": {},
   "outputs": [],
   "source": [
    "# Get IRSWAP Data\n",
    "ds_rate = Dataset('SWAPRATES_STANDARD')  # Get a swap rate data set\n",
    "ds_rate.get_coverage()                   # Lets see what's available"
   ]
  },
  {
   "cell_type": "code",
   "execution_count": null,
   "metadata": {},
   "outputs": [],
   "source": [
    "start_date = date(2019, 1, 1)\n",
    "end_date = date.today() - timedelta(days=1)\n",
    "data = ds_rate.get_data(start_date, end_date,\n",
    "                        assetId='MABXTJXXN8WJR7R8', tenor='10y')\n",
    "print(data.head())"
   ]
  },
  {
   "cell_type": "code",
   "execution_count": null,
   "metadata": {},
   "outputs": [],
   "source": [
    "ds_rate_vol = Dataset('SWAPTIONVOL_STANDARD') # Get a swaption vol data set\n",
    "ds_rate_vol.get_coverage()                    # Lets see what's available"
   ]
  },
  {
   "cell_type": "code",
   "execution_count": null,
   "metadata": {},
   "outputs": [],
   "source": [
    "data = ds_rate_vol.get_data(start_date, end_date, assetId='MAFYB8Z4R1377A19')\n",
    "print(list(data))\n",
    "print(data.head())"
   ]
  }
 ],
 "metadata": {
  "kernelspec": {
   "display_name": "Python 3",
   "language": "python",
   "name": "python3"
  },
  "language_info": {
   "codemirror_mode": {
    "name": "ipython",
    "version": 3
   },
   "file_extension": ".py",
   "mimetype": "text/x-python",
   "name": "python",
   "nbconvert_exporter": "python",
   "pygments_lexer": "ipython3",
   "version": "3.7.0"
  },
  "pycharm": {
   "stem_cell": {
    "cell_type": "raw",
    "metadata": {
     "collapsed": false
    },
    "source": []
   }
  }
 },
 "nbformat": 4,
 "nbformat_minor": 4
}
