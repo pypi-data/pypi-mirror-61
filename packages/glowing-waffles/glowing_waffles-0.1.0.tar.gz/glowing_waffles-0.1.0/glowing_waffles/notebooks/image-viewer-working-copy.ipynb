{
 "cells": [
  {
   "cell_type": "code",
   "execution_count": null,
   "metadata": {
    "collapsed": false
   },
   "outputs": [],
   "source": [
    "from __future__ import print_function, division\n",
    "\n",
    "import numpy as np\n",
    "import pandas as pd\n",
    "\n",
    "import astropy.units as u\n",
    "import astropy.coordinates as apycoord\n",
    "from astropy.visualization import scale_image\n",
    "from astropy.nddata import block_replicate\n",
    "from astropy.table import Table, Column, MaskedColumn\n",
    "from astropy.time import Time\n",
    "\n",
    "import glowing_waffles.differential_photometry as df\n",
    "\n",
    "from glowing_waffles.io import parse_aij_table\n",
    "\n",
    "from ccdproc import CCDData\n",
    "\n",
    "from scipy import optimize\n",
    "\n",
    "%matplotlib inline\n",
    "import matplotlib.pyplot as plt\n"
   ]
  },
  {
   "cell_type": "markdown",
   "metadata": {},
   "source": [
    "# Read image"
   ]
  },
  {
   "cell_type": "code",
   "execution_count": null,
   "metadata": {
    "collapsed": false
   },
   "outputs": [],
   "source": [
    "ccd = CCDData.read('kelt-1-055R.fit', unit='adu')   #Read in a single fits image"
   ]
  },
  {
   "cell_type": "code",
   "execution_count": null,
   "metadata": {
    "collapsed": true
   },
   "outputs": [],
   "source": [
    "# This function really should be somewhere else eventually.\n",
    "def scale_and_downsample(data, downsample=4,\n",
    "                         min_percent=20,\n",
    "                         max_percent=99.5):\n",
    "\n",
    "    scaled_data = scale_image(data,\n",
    "                              min_percent=min_percent,\n",
    "                              max_percent=max_percent)\n",
    "\n",
    "    if downsample > 1:\n",
    "        scaled_data = block_reduce(scaled_data,\n",
    "                                   block_size=(downsample, downsample))\n",
    "    return scaled_data\n"
   ]
  },
  {
   "cell_type": "code",
   "execution_count": null,
   "metadata": {
    "collapsed": false
   },
   "outputs": [],
   "source": [
    "#use the catalog_search function to find the apass stars in the frame of the image read above\n",
    "apass, apass_x, apass_y = df.catalog_search(ccd.wcs, ccd.shape, 'II/336/apass9', \n",
    "                                            ra_column='RAJ2000', \n",
    "                                            dec_column='DEJ2000',\n",
    "                                            radius=2.0, \n",
    "                                            clip_by_frame=False)\n",
    "\n",
    "#Get any known variable stars from a new catalog search of VSX\n",
    "vsx, vsx_x, vsx_y = df.catalog_search(ccd.wcs, ccd.shape, 'B/vsx/vsx', \n",
    "                                      ra_column='RAJ2000', \n",
    "                                      dec_column='DEJ2000',\n",
    "                                      radius=2.0,\n",
    "                                      clip_by_frame=False)\n",
    "vsx_names = vsx['Name']      #Get the names of the variables"
   ]
  },
  {
   "cell_type": "code",
   "execution_count": null,
   "metadata": {
    "collapsed": false
   },
   "outputs": [],
   "source": [
    "#Creates a boolean array of the apass stars that have well defined magnitudes and color\n",
    "keep_rows_that_have = {\n",
    "    'e_r_mag': '<0.05',\n",
    "    'u_e_r_mag': '=0',\n",
    "    'e_B-V': '<0.1'\n",
    "}\n",
    "\n",
    "apass_in_bright2 = df.catalog_clean(apass, remove_rows_with_mask=True, **keep_rows_that_have)\n",
    "\n",
    "apass_x, apass_y = ccd.wcs.all_world2pix(apass_in_bright2['RAJ2000'], apass_in_bright2['DEJ2000'], 0)\n",
    "#create new lists of apass stars and x y pixel coordinates using boolean array\n",
    "#apass_in_bright, in_apass_x, in_apass_y = apass[apass_bright], apass_x[apass_bright], apass_y[apass_bright]"
   ]
  },
  {
   "cell_type": "code",
   "execution_count": null,
   "metadata": {
    "collapsed": false
   },
   "outputs": [],
   "source": [
    "disp = scale_and_downsample(ccd.data, downsample=1)"
   ]
  },
  {
   "cell_type": "code",
   "execution_count": null,
   "metadata": {
    "collapsed": false
   },
   "outputs": [],
   "source": [
    "plt.figure(figsize=(12, 7))\n",
    "plt.imshow(disp, cmap='gray', origin='lower')\n",
    "plt.scatter(vsx_x, vsx_y, c='none', s=100, edgecolor='cyan')\n",
    "plt.title('Blue: VSX, Yellow: APASS', fontsize=20)\n",
    "\n",
    "for x, y, m in zip(vsx_x, vsx_y, vsx_names):\n",
    "    plt.text(x, y, str(m), fontsize=18, color='cyan')\n",
    "    \n",
    "plt.scatter(apass_x, apass_y, c='none', s=50, edgecolor='yellow', alpha=0.5, marker='o')\n",
    "\n",
    "for x, y, c in zip(apass_x, apass_y, apass_in_bright2):\n",
    "    plt.text(x, y, c['r_mag'], fontsize=12, color='yellow')\n",
    "\n",
    "plt.xlim(0, ccd.shape[1])\n",
    "plt.ylim(0, ccd.shape[0])"
   ]
  },
  {
   "cell_type": "code",
   "execution_count": null,
   "metadata": {
    "collapsed": true
   },
   "outputs": [],
   "source": [
    "#Read in the raw measurements file in case the parse function doesn't work as expected\n",
    "aij_raw = Table.read('all_kelt_1_good_rows.csv')\n",
    "#Get the sources\n",
    "#sources = uniformize_source_names(aij_raw)\n",
    "\n",
    "#Use glowing waffles to parse the measurements file\n",
    "aij_stars = parse_aij_table('all_kelt_1_good_rows.csv')"
   ]
  },
  {
   "cell_type": "code",
   "execution_count": null,
   "metadata": {
    "collapsed": false
   },
   "outputs": [],
   "source": [
    "#get the ra (which aij gives in hour angle) from the raw aij data\n",
    "aij_ra = [np.mean(aij_stars[source].ra) for source in range(len(aij_stars))]\n",
    "#get the dec from the raw aij data\n",
    "aij_dec = [np.mean(aij_stars[source].dec) for source in range(len(aij_stars))]\n",
    "#get the julian date from parsed measurements file\n",
    "aij_jd = aij_stars[0].jd_utc_start\n",
    "\n",
    "\n",
    "#Create a list of aij coordinates using apycoord.SkyCoord function\n",
    "aij_coordinates = apycoord.SkyCoord(aij_ra, aij_dec, unit=(u.deg, u.deg))\n",
    "#create a list of well defined apass stars' coordinates using apycoord.SkyCoord function\n",
    "apass_coordinates = apycoord.SkyCoord(apass_in_bright2['RAJ2000'], \n",
    "                                      apass_in_bright2['DEJ2000'], \n",
    "                                      unit='deg')\n",
    "\n",
    "vsx_coordinates = apycoord.SkyCoord(vsx['RAJ2000'], vsx['DEJ2000'], unit='deg')\n",
    "\n",
    "\n"
   ]
  },
  {
   "cell_type": "code",
   "execution_count": null,
   "metadata": {
    "collapsed": false
   },
   "outputs": [],
   "source": [
    "vsx_idx, apass_idx, d2d, d3d = apass_coordinates.search_around_sky(vsx_coordinates, 1 * u.arcsec)\n",
    "if len(set(apass_idx)) != len(apass_idx):\n",
    "    raise RuntimeError('Multiple matches found.')\n",
    "\n",
    "print(len(apass_in_bright2))\n",
    "# Remove any APASS stars that are in VSX\n",
    "print(apass_idx)\n",
    "print(vsx_coordinates[vsx_idx])\n",
    "print(apass_coordinates[apass_idx])\n",
    "if len(apass_idx):\n",
    "    apass_in_bright2.remove_rows(apass_idx)\n",
    "    \n",
    "print(len(apass_in_bright2))\n",
    "# Recreate APASS coordinate list after deleting some entries\n",
    "apass_coordinates = apycoord.SkyCoord(apass_in_bright2['RAJ2000'], \n",
    "                                      apass_in_bright2['DEJ2000'], \n",
    "                                      unit='deg')"
   ]
  },
  {
   "cell_type": "code",
   "execution_count": null,
   "metadata": {
    "collapsed": false
   },
   "outputs": [],
   "source": [
    "plt.plot(aij_stars[4].magnitude)     #Plot one of the stars just to see what it looks like\n",
    "plt.ylabel('Instrumental Mag')\n",
    "plt.xlabel('Image')\n",
    "\n",
    "#compare different ways to get magnitudes.\n",
    "#print(aij_mags[0][0], aij_stars[0].magnitude[0])\n",
    "#print(-2.5*np.log10(174940.8)+2.5*np.log10(60))"
   ]
  },
  {
   "cell_type": "markdown",
   "metadata": {
    "collapsed": false
   },
   "source": [
    "# APASS Filter Corrections\n",
    "## Transform the APASS r magnitudes into R magnitudes using APASS r and i magnitudes\n",
    "\n",
    "The equation used is R-feder - r-apass = A*c**3 + B*c**2 + C*c + D\n",
    "\n",
    "Where..."
   ]
  },
  {
   "cell_type": "code",
   "execution_count": null,
   "metadata": {
    "collapsed": false
   },
   "outputs": [],
   "source": [
    "#Transform the apass magnitudes into the R filter we use\n",
    "apass_R_mags = df.filter_transform(apass_in_bright2, 'R', r='r_mag', i='i_mag')"
   ]
  },
  {
   "cell_type": "code",
   "execution_count": null,
   "metadata": {
    "collapsed": false
   },
   "outputs": [],
   "source": [
    "\n",
    "apass_in_bright2.add_column(Column(data=apass_R_mags, name='R'))"
   ]
  },
  {
   "cell_type": "code",
   "execution_count": null,
   "metadata": {
    "collapsed": false
   },
   "outputs": [],
   "source": [
    "# Yuck. Just....yuck\n",
    "\n",
    "def single_time_table(stars, row):\n",
    "    mags = []\n",
    "    mag_err = []\n",
    "    RA = []\n",
    "    Dec = []\n",
    "    \n",
    "    for star in stars:\n",
    "        mags.append(star.magnitude[row])\n",
    "        RA.append(star.ra[row].value)\n",
    "        Dec.append(star.dec[row])\n",
    "        SNR = star.counts[row]/star.error[row]\n",
    "        mag_err.append(1.0857/SNR)\n",
    "    mags = Column(name='R', data=mags)\n",
    "    RA = Column(name='RA', data=RA, unit='degree')\n",
    "    Dec = Column(name='Dec', data=Dec, unit='degree')\n",
    "    errs = Column(name='e_R', data=mag_err)\n",
    "    \n",
    "    return Table([mags, RA, Dec, errs])"
   ]
  },
  {
   "cell_type": "code",
   "execution_count": null,
   "metadata": {
    "collapsed": false
   },
   "outputs": [],
   "source": [
    "aij_index, apass_index, d2d, d3d = apass_coordinates.search_around_sky(aij_coordinates, 1 * u.arcsec)\n",
    "\n",
    "# Check for bad match (more than one object in APASS matches one object in AIJ)\n",
    "# \n",
    "\n",
    "# This checks for duplicates, because a python set consists of the unique elements\n",
    "# of a list.\n",
    "assert len(set(aij_index)) == len(aij_index)"
   ]
  },
  {
   "cell_type": "code",
   "execution_count": null,
   "metadata": {
    "collapsed": false
   },
   "outputs": [],
   "source": [
    "apass_color = apass_in_bright2['Bmag'][apass_index] - apass_in_bright2['Vmag'][apass_index]\n",
    "aij_table = single_time_table(aij_stars, 0)[aij_index]\n",
    "transform_params = df.calculate_transform_coefficients(aij_table['R'], \n",
    "                                                       apass_in_bright2['R'][apass_index], \n",
    "                                                       apass_color,\n",
    "                                                       input_mag_error=aij_table['e_R'])"
   ]
  },
  {
   "cell_type": "code",
   "execution_count": null,
   "metadata": {
    "collapsed": false
   },
   "outputs": [],
   "source": [
    "transform_params"
   ]
  },
  {
   "cell_type": "code",
   "execution_count": null,
   "metadata": {
    "collapsed": false
   },
   "outputs": [],
   "source": [
    "plt.plot(apass_color, apass_in_bright2['R'][apass_index] - aij_table['R'], 'o')\n",
    "xlims = np.array(plt.xlim())\n",
    "plt.plot(xlims, transform_params[1] + transform_params[0] * xlims)"
   ]
  },
  {
   "cell_type": "code",
   "execution_count": null,
   "metadata": {
    "collapsed": false,
    "scrolled": false
   },
   "outputs": [],
   "source": [
    "#Create empty list for the corrections (slope and intercept)\n",
    "corrections = []\n",
    "#Create empy list for the error in the corrections\n",
    "fit_error = []\n",
    "all_Rminusr_error = []\n",
    "#loop over all images\n",
    "for idx in range(len(aij_stars[0].ra)):\n",
    "    # Calculate APASS color\n",
    "    #    NOTE: why not use the B-V column???\n",
    "    apass_color = apass_in_bright2['Bmag'][apass_index] - apass_in_bright2['Vmag'][apass_index]\n",
    "    \n",
    "    aij_table = single_time_table(aij_stars, idx)[aij_index]\n",
    "    transform_params = df.calculate_transform_coefficients(aij_table['R'], \n",
    "                                                           apass_in_bright2['R'][apass_index], \n",
    "                                                           apass_color,\n",
    "                                                           input_mag_error=aij_table['e_R'])\n",
    "    corrections.append(transform_params)\n",
    "    # Plot every 25 fits...\n",
    "    if not (idx % 25):\n",
    "        #Plot the BminusV vs Rminusr graph for the first image\n",
    "        Rminusr = apass_in_bright2['R'][apass_index]-aij_table['R']\n",
    "        plt.plot(apass_color, Rminusr, 'o')\n",
    "        x = np.array(apass_color)\n",
    "        plt.plot(x, Rminusr, '+')\n",
    "        plt.plot(x, transform_params[0] * x + transform_params[1])\n",
    "        plt.title(str(idx))\n",
    "        plt.show()\n",
    "\n"
   ]
  },
  {
   "cell_type": "code",
   "execution_count": null,
   "metadata": {
    "collapsed": false,
    "scrolled": false
   },
   "outputs": [],
   "source": [
    "plt.figure(figsize=(10, 5))\n",
    "#This just plots the slope of the linear fit for all images\n",
    "for image in range(len(aij_stars[0].ra)):\n",
    "    time = Time(aij_stars[0].jd_utc_start[image], scale='utc', format='jd')\n",
    "    ax = plt.scatter(image, corrections[image][0])\n",
    "plt.ylabel('Color correction')\n",
    "plt.xlabel('Image number')"
   ]
  },
  {
   "cell_type": "code",
   "execution_count": null,
   "metadata": {
    "collapsed": false
   },
   "outputs": [],
   "source": [
    "for image in range(len(aij_stars[0].ra)):\n",
    "    plt.scatter(aij_stars[0].airmass[image], corrections[image][0])\n",
    "plt.ylabel('Color correction')\n",
    "plt.xlabel('airmass')\n",
    "plt.xlim(1, 2)"
   ]
  },
  {
   "cell_type": "code",
   "execution_count": null,
   "metadata": {
    "collapsed": false
   },
   "outputs": [],
   "source": [
    "plt.figure(figsize=(10, 5))\n",
    "#This just plots the slope of the linear fit for all images\n",
    "for image in range(len(aij_stars[0].ra)):\n",
    "    time = Time(aij_stars[0].jd_utc_start[image], scale='utc', format='jd')\n",
    "    ax = plt.scatter(image, corrections[image][1])\n",
    "plt.ylabel('Zero point')\n",
    "plt.xlabel('Image number')"
   ]
  },
  {
   "cell_type": "code",
   "execution_count": null,
   "metadata": {
    "collapsed": false
   },
   "outputs": [],
   "source": []
  },
  {
   "cell_type": "markdown",
   "metadata": {},
   "source": [
    "• Source Radius: radius of the aperture used to calculate\n",
    "net integrated counts. In fixed aperture mode, this value\n",
    "is the aperture radius set by the user. In variable aperture\n",
    "mode, this value represents the actual aperture radius\n",
    "calculated as the product of the average FWHM in\n",
    "the image and the multiplicative factor set in the MultiAperture\n",
    "Measurements set up panel.\n",
    "\n",
    "• FWHM mult: in variable aperture mode, this value is\n",
    "the FWHM multiplier set in the Multi-Aperture Measurements\n",
    "set up panel. In fixed aperture mode, this\n",
    "column is not included in the table.\n",
    "\n",
    "• Source Rad(base): in variable aperture mode, this\n",
    "value represents the fixed aperture radius set by the user\n",
    "and should be set to a number greater than 1.5 times the\n",
    "maximum FWHM expected to ensure proper measurement\n",
    "of FWHM. In fixed aperture mode, this column is\n",
    "not included in the table.\n",
    "\n",
    "• Sky Rad(min): radius of the inner edge of the annulus\n",
    "used to calculate the sky background\n",
    "\n",
    "• Sky Rad(max): radius of the outer edge of the annulus\n",
    "used to calculate the sky background"
   ]
  },
  {
   "cell_type": "code",
   "execution_count": null,
   "metadata": {
    "collapsed": false
   },
   "outputs": [],
   "source": [
    "def source_error(source_number):             #Returns the column heading for a star's source-sky error in the measurements file\n",
    "    col_name = 'Source-Sky_C'+str(source_number + 1)\n",
    "    return col_name\n",
    "\n",
    "#Calculate the error in the magnitudes to be used in the apass calibration\n",
    "#%matplotlib inline\n",
    "#define the gain of the ccd\n",
    "gain = 1.5\n",
    "#define the read noise of the ccd\n",
    "read_noise = 30.0\n",
    "\n",
    "\n",
    "npix = np.pi * 15**2  # pixel^2, estimated aperture size\n",
    "n_sky = 50.0   # counts/pixel, estimated upper limit\n",
    "\n",
    "#create a magnitude error list\n",
    "mag_err = []\n",
    "for source in range(len(aij_stars)):\n",
    "    #use source_error function to get error in source-sky\n",
    "    err = aij_stars[source].error\n",
    "    #calculate the signal to noise ratio\n",
    "    #     gain * aij_raw[source_column(source)]\n",
    "    snr = aij_stars[source].counts / err\n",
    "    #calculate magnitude error\n",
    "    mag_e = 1/snr\n",
    "    #add magnitude error to list mag_err\n",
    "    mag_err.append(mag_e)"
   ]
  },
  {
   "cell_type": "code",
   "execution_count": null,
   "metadata": {
    "collapsed": false
   },
   "outputs": [],
   "source": [
    "mag_err[0]"
   ]
  },
  {
   "cell_type": "markdown",
   "metadata": {
    "collapsed": false
   },
   "source": [
    "Make a table with columns for: \n",
    "\n",
    "+ time\n",
    "+ instrumental magnitudes\n",
    "+ transform color term\n",
    "+ transform zero point \n",
    "+ APASS color\n",
    "\n",
    "Then the transform for each star is just a matter of multiplying/adding columns.\n",
    "\n",
    "Well, or maybe not."
   ]
  },
  {
   "cell_type": "code",
   "execution_count": null,
   "metadata": {
    "collapsed": false
   },
   "outputs": [],
   "source": [
    "apass_coordinates = apycoord.SkyCoord(apass['RAJ2000'], \n",
    "                                      apass['DEJ2000'], \n",
    "                                      unit='deg')\n",
    "all_apass_index, d2d, d3d = aij_coordinates.match_to_catalog_sky(apass_coordinates)\n",
    "\n",
    "good = d2d < 3 * u.arcsec\n",
    "if not good.all():\n",
    "    print(\"Darn.\")\n",
    "    print(good.sum())\n",
    "    print(d2d)\n",
    "    \n",
    "apass_colors = apass['B-V'][all_apass_index]\n",
    "apass_color_errors = apass['e_B-V'][all_apass_index]"
   ]
  },
  {
   "cell_type": "code",
   "execution_count": null,
   "metadata": {
    "collapsed": false,
    "scrolled": false
   },
   "outputs": [],
   "source": [
    "#create an array to store the corrected curves\n",
    "corrected_curves = [] # np.zeros_like(aij_stars[0].magnitude)\n",
    "#create an array to store the error in the corrected curves\n",
    "corrected_curves_er = [] # np.zeros_like(corrected_curves)\n",
    "#create an array to store the signal to noise ratios for all stars\n",
    "all_SNR = [] # np.zeros_like(corrected_curves)\n",
    "#loop over all of the stars\n",
    "\n",
    "corrections = np.array(corrections)\n",
    "\n",
    "for obj, star in enumerate(aij_stars):\n",
    "    #print a little update just to know where the progress is at\n",
    "    print('here in the object loop, we are now studying object number', str(obj))\n",
    "\n",
    "    #get the error in the apass color for the star\n",
    "    er_BV = apass_color_errors[obj]\n",
    "    #get the apass color for the star\n",
    "    BminusV = apass_colors[obj]\n",
    "    #loop over all of the images\n",
    "    \n",
    "    transformed_mag = star.magnitude + apass_colors[obj] * corrections[:, 0] + corrections[:, 1]\n",
    "    corrected_curves.append(np.array(transformed_mag))\n",
    "\n",
    "#Plot the corrected light curve of star index 0\n",
    "plt.plot(corrected_curves[5])    #looks kinda screwed up... shouldn't they meet into eachother smoothly with the \n",
    "                                 #apass corrections. They are on different nights and all but still...?"
   ]
  },
  {
   "cell_type": "code",
   "execution_count": null,
   "metadata": {
    "collapsed": false,
    "scrolled": true
   },
   "outputs": [],
   "source": [
    "#create an array of the dates each image was taken at (JD rounded to day)\n",
    "night = np.floor(np.array(aij_stars[0].mjd_start + 0.5)) -1\n",
    "#print(night)\n",
    "#find the unique nights in the array of nights\n",
    "unique_nights = np.unique(night)\n",
    "#take out one of the nights if you want\n",
    "unique_nights = set(unique_nights)# - set([57249.0])\n",
    "#sort the list of nights obviously\n",
    "unique_nights = sorted(unique_nights)\n",
    "#find the number of nights to be used for plotting\n",
    "number_of_nights = len(unique_nights)\n",
    "\n",
    "night_stdev = [[] for a_night in range(number_of_nights)]\n",
    "for index, star in enumerate(aij_stars):\n",
    "    \n",
    "    #loop over all of the nights and their index in unique nights\n",
    "    for i, this_night in enumerate(unique_nights):\n",
    "        #create a night mask that is a boolean in the shape of night\n",
    "        night_mask = (night == this_night)\n",
    "        stdev = np.std(corrected_curves[index][night_mask])\n",
    "        night_stdev[i].append(stdev)\n",
    "\n",
    "comp_stars = []\n",
    "\n",
    "for index, stdevs in enumerate(night_stdev):\n",
    "    good_comps = list(np.argpartition(np.array(stdevs),5)[2:7])\n",
    "    comp_stars.append(good_comps)"
   ]
  },
  {
   "cell_type": "markdown",
   "metadata": {},
   "source": [
    "## Functions for making single magnitude plot\n",
    "### This section is taken from the multi-night photometry notebook from a kelt-1 notebook."
   ]
  },
  {
   "cell_type": "code",
   "execution_count": null,
   "metadata": {
    "collapsed": false
   },
   "outputs": [],
   "source": [
    "#Define the function to be used to plot the differential magnitudes\n",
    "def plot_magnitudes(mags=None, errors=None, times=None, source=None, night=None, ref_mag=0, color=None, name=''):\n",
    "    #calcualte the mean of the magnitudes passed\n",
    "    mean = mags.mean()\n",
    "    #calcualte the standard deviation of the magntiudes passed\n",
    "    std = mags.std()\n",
    "    #plot the magnitudes vs time\n",
    "    plt.errorbar(times, mags, yerr=errors, fmt='o',\n",
    "                 label='{}, stdev: {:5.3f}\\nnight: {}'.format(source, std, night))\n",
    "    #change the xlims of the plot to reflect the times\n",
    "    plt.xlim(times.min(), times.max())\n",
    "    #Plots a line correspinding to the mean\n",
    "    plt.plot(plt.xlim(), [mean, mean], 'k--', )\n",
    "    #plots a line corresponding to the upper limit of the mean\n",
    "    plt.plot(plt.xlim(), [mean + std, mean + std], 'k:')\n",
    "    #plots a line corresponding to the lower limit of the mean\n",
    "    plt.plot(plt.xlim(), [mean - std, mean - std], 'k:')\n",
    "    #plt.plot(pd.rolling_mean(times, 20, center=True), \n",
    "    #         pd.rolling_mean(mags, 20, center=True),\n",
    "    #         color='gray', linewidth=3)\n",
    "    # Make sure plot range is at least 0.1 mag...\n",
    "    min_range = 0.1\n",
    "    #find the ylim of the plot\n",
    "    ylim = plt.ylim()\n",
    "    #check if the difference in the limits is less then the min range\n",
    "    if ylim[1] - ylim[0] < min_range:\n",
    "        #if less then the mid range then change the y limits to be min_range different\n",
    "        plt.ylim(mean - min_range/2, mean + min_range/2)\n",
    "    \n",
    "    #find the new ylim of the plot\n",
    "    ylim = plt.ylim()\n",
    "    # Reverse vertical axis so brighter is higher\n",
    "    plt.ylim((ylim[1], ylim[0]))\n",
    "    plt.title(str(color) + name)\n",
    "    plt.legend()\n",
    "    #send back the mean and the standard deviation of the plot\n",
    "    return mean, std"
   ]
  },
  {
   "cell_type": "code",
   "execution_count": null,
   "metadata": {
    "collapsed": false
   },
   "outputs": [],
   "source": [
    "#define array for the comparison magnitudes\n",
    "corrected_counts = 10**(-(corrected_curves-2.5*np.log10(aij_raw['EXPOSURE']))/2.5)\n",
    "comp_counts = []\n",
    "\n",
    "for i, this_night in enumerate(unique_nights):\n",
    "        #create a night mask that is a boolean in the shape of night\n",
    "        night_mask = (night == this_night)\n",
    "        comp = np.zeros(sum(night_mask))\n",
    "        for star in comp_stars[i]:\n",
    "            if star not in (4, 12, 17):\n",
    "                comp += corrected_counts[star][night_mask]\n",
    "        comp_counts += list(comp)\n",
    "comp_counts = np.array(comp_counts)\n",
    "\n",
    "#calculate the differential magnitudes by simply taking the difference between the corrected curves and the comparison magnitudes\"\"\"\n",
    "diff_corrected = -2.5*np.log10(corrected_counts/comp_counts)"
   ]
  },
  {
   "cell_type": "code",
   "execution_count": null,
   "metadata": {
    "collapsed": false,
    "scrolled": true
   },
   "outputs": [],
   "source": [
    "vsx_index, d2d, d3d = aij_coordinates.match_to_catalog_sky(vsx_coordinates)\n",
    "\n",
    "vsx_match = d2d < 1 * u.arcsec"
   ]
  },
  {
   "cell_type": "code",
   "execution_count": null,
   "metadata": {
    "collapsed": false,
    "scrolled": false
   },
   "outputs": [],
   "source": [
    "#loop over all of the stars and their index\n",
    "for index, star in enumerate(aij_stars):\n",
    "    #start a figure...\n",
    "    plt.figure(figsize=(5*number_of_nights, 5))\n",
    "    \n",
    "    #define a list for night means\n",
    "    night_means = []\n",
    "    #define a list for night standard deviations\n",
    "    night_stds = []\n",
    "    #define a list for night bins? I suppose\n",
    "    night_bins = []\n",
    "    #get the color of the star\n",
    "    BminusV = apass_colors[index]\n",
    "    if vsx_match[index]:\n",
    "        name = \" VAR: \" + vsx_names[vsx_index[index]]\n",
    "    else:\n",
    "        name = ''\n",
    "    #loop over all of the nights and their index in unique nights\n",
    "    for i, this_night in enumerate(unique_nights):\n",
    "        plt.subplot(1, number_of_nights + 1, i + 1)\n",
    "        #create a night mask that is a boolean in the shape of night\n",
    "        night_mask = (night == this_night)\n",
    "        #get the night mean and std from the plot magnitudes function and plot the magnitudes\n",
    "        night_mean, night_std = plot_magnitudes(mags=corrected_curves[index][night_mask], \n",
    "                                                times=aij_raw['BJD_TDB'][night_mask], source = index+1,\n",
    "                                               night = this_night, color = BminusV, name=name)\n",
    "\"\"\", errors = corrected_curves_er[index][night_mask]\"\"\""
   ]
  },
  {
   "cell_type": "code",
   "execution_count": null,
   "metadata": {
    "collapsed": true
   },
   "outputs": [],
   "source": []
  }
 ],
 "metadata": {
  "kernelspec": {
   "display_name": "Python 2",
   "language": "python",
   "name": "python2"
  },
  "language_info": {
   "codemirror_mode": {
    "name": "ipython",
    "version": 2
   },
   "file_extension": ".py",
   "mimetype": "text/x-python",
   "name": "python",
   "nbconvert_exporter": "python",
   "pygments_lexer": "ipython2",
   "version": "2.7.11"
  }
 },
 "nbformat": 4,
 "nbformat_minor": 0
}
