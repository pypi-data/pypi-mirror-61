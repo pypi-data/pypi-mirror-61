{
 "cells": [
  {
   "cell_type": "code",
   "execution_count": 1,
   "metadata": {},
   "outputs": [],
   "source": [
    "from seeq import spy"
   ]
  },
  {
   "cell_type": "markdown",
   "metadata": {},
   "source": [
    "# spy.login\n",
    "\n",
    "Logs into a Seeq Server with a set of credentials. This command is necessary if you are using the SPy module with your own installation of Jupyter, or with hosted Jupyter Notebook services like AWS SageMaker or Azure Notebooks.\n",
    "\n",
    "*Note: In Seeq Data Lab, you will log in using the normal Seeq Server landing page and your credentials will be used by the SPy module directly.*"
   ]
  },
  {
   "cell_type": "markdown",
   "metadata": {},
   "source": [
    "`spy.login(username=None, password=None, url=None, auth_provider='Seeq', ignore_ssl_errors=False, credentials_file=None)`"
   ]
  },
  {
   "cell_type": "markdown",
   "metadata": {},
   "source": [
    "## Specifying Seeq Server URL and credentials\n",
    "\n",
    "If you are not using Seeq Data Lab, you must specify the URL of the server. You can just copy the URL directly out of the browser's address box and use it. For example: `http://seeqserver:34216` or `https://mycompany.seeq.site`.\n",
    "\n",
    "You can choose to embed your credentials directly into the notebook using the `username` and `password` fields, or you can choose to specify `credentials_file` that is read from disk (username on first line, password on second line). Note that the credentials file is not secure: It just allows you to share your notebook without also supplying your credentials."
   ]
  },
  {
   "cell_type": "code",
   "execution_count": 2,
   "metadata": {},
   "outputs": [
    {
     "data": {
      "text/html": [
       "<div style=\"background-color: #EEEEFF;text-align: left;\">Logging in to <strong>http://localhost:34216/api</strong> as <strong>mark.derbecker@seeq.com</strong></div>"
      ],
      "text/plain": [
       "<IPython.core.display.HTML object>"
      ]
     },
     "metadata": {},
     "output_type": "display_data"
    },
    {
     "ename": "RuntimeError",
     "evalue": "\"mark.derbecker@seeq.com\" could not be logged in with supplied credentials, check username and password.",
     "output_type": "error",
     "traceback": [
      "\u001b[1;31m---------------------------------------------------------------------------\u001b[0m",
      "\u001b[1;31mApiException\u001b[0m                              Traceback (most recent call last)",
      "\u001b[1;32mJ:\\BitBucket\\crab2\\sdk\\pypi\\seeq\\spy\\_login.py\u001b[0m in \u001b[0;36mlogin\u001b[1;34m(username, password, url, directory, ignore_ssl_errors, proxy, credentials_file, auth_token, quiet, status, auth_provider)\u001b[0m\n\u001b[0;32m    188\u001b[0m         \u001b[1;32mtry\u001b[0m\u001b[1;33m:\u001b[0m\u001b[1;33m\u001b[0m\u001b[1;33m\u001b[0m\u001b[0m\n\u001b[1;32m--> 189\u001b[1;33m             \u001b[0mauth_api\u001b[0m\u001b[1;33m.\u001b[0m\u001b[0mlogin\u001b[0m\u001b[1;33m(\u001b[0m\u001b[0mbody\u001b[0m\u001b[1;33m=\u001b[0m\u001b[0mauth_input\u001b[0m\u001b[1;33m)\u001b[0m\u001b[1;33m\u001b[0m\u001b[1;33m\u001b[0m\u001b[0m\n\u001b[0m\u001b[0;32m    190\u001b[0m         \u001b[1;32mexcept\u001b[0m \u001b[0mApiException\u001b[0m \u001b[1;32mas\u001b[0m \u001b[0me\u001b[0m\u001b[1;33m:\u001b[0m\u001b[1;33m\u001b[0m\u001b[1;33m\u001b[0m\u001b[0m\n",
      "\u001b[1;32mJ:\\BitBucket\\crab2\\sdk\\pypi\\seeq\\sdk\\apis\\auth_api.py\u001b[0m in \u001b[0;36mlogin\u001b[1;34m(self, **kwargs)\u001b[0m\n\u001b[0;32m    163\u001b[0m         \u001b[1;32melse\u001b[0m\u001b[1;33m:\u001b[0m\u001b[1;33m\u001b[0m\u001b[1;33m\u001b[0m\u001b[0m\n\u001b[1;32m--> 164\u001b[1;33m             \u001b[1;33m(\u001b[0m\u001b[0mdata\u001b[0m\u001b[1;33m)\u001b[0m \u001b[1;33m=\u001b[0m \u001b[0mself\u001b[0m\u001b[1;33m.\u001b[0m\u001b[0mlogin_with_http_info\u001b[0m\u001b[1;33m(\u001b[0m\u001b[1;33m**\u001b[0m\u001b[0mkwargs\u001b[0m\u001b[1;33m)\u001b[0m\u001b[1;33m\u001b[0m\u001b[1;33m\u001b[0m\u001b[0m\n\u001b[0m\u001b[0;32m    165\u001b[0m             \u001b[1;32mreturn\u001b[0m \u001b[0mdata\u001b[0m\u001b[1;33m\u001b[0m\u001b[1;33m\u001b[0m\u001b[0m\n",
      "\u001b[1;32mJ:\\BitBucket\\crab2\\sdk\\pypi\\seeq\\sdk\\apis\\auth_api.py\u001b[0m in \u001b[0;36mlogin_with_http_info\u001b[1;34m(self, **kwargs)\u001b[0m\n\u001b[0;32m    244\u001b[0m                                         \u001b[0m_request_timeout\u001b[0m\u001b[1;33m=\u001b[0m\u001b[0mparams\u001b[0m\u001b[1;33m.\u001b[0m\u001b[0mget\u001b[0m\u001b[1;33m(\u001b[0m\u001b[1;34m'_request_timeout'\u001b[0m\u001b[1;33m)\u001b[0m\u001b[1;33m,\u001b[0m\u001b[1;33m\u001b[0m\u001b[1;33m\u001b[0m\u001b[0m\n\u001b[1;32m--> 245\u001b[1;33m                                         collection_formats=collection_formats)\n\u001b[0m\u001b[0;32m    246\u001b[0m \u001b[1;33m\u001b[0m\u001b[0m\n",
      "\u001b[1;32mJ:\\BitBucket\\crab2\\sdk\\pypi\\seeq\\sdk\\api_client.py\u001b[0m in \u001b[0;36mcall_api\u001b[1;34m(self, resource_path, method, path_params, query_params, header_params, body, post_params, files, response_type, auth_settings, callback, _return_http_data_only, collection_formats, _preload_content, _request_timeout)\u001b[0m\n\u001b[0;32m    379\u001b[0m                                    \u001b[0mresponse_type\u001b[0m\u001b[1;33m,\u001b[0m \u001b[0mauth_settings\u001b[0m\u001b[1;33m,\u001b[0m \u001b[0mcallback\u001b[0m\u001b[1;33m,\u001b[0m\u001b[1;33m\u001b[0m\u001b[1;33m\u001b[0m\u001b[0m\n\u001b[1;32m--> 380\u001b[1;33m                                    _return_http_data_only, collection_formats, _preload_content, _request_timeout)\n\u001b[0m\u001b[0;32m    381\u001b[0m         \u001b[1;32melse\u001b[0m\u001b[1;33m:\u001b[0m\u001b[1;33m\u001b[0m\u001b[1;33m\u001b[0m\u001b[0m\n",
      "\u001b[1;32mJ:\\BitBucket\\crab2\\sdk\\pypi\\seeq\\sdk\\api_client.py\u001b[0m in \u001b[0;36m__call_api\u001b[1;34m(self, resource_path, method, path_params, query_params, header_params, body, post_params, files, response_type, auth_settings, callback, _return_http_data_only, collection_formats, _preload_content, _request_timeout)\u001b[0m\n\u001b[0;32m    168\u001b[0m                                      \u001b[0m_preload_content\u001b[0m\u001b[1;33m=\u001b[0m\u001b[0m_preload_content\u001b[0m\u001b[1;33m,\u001b[0m\u001b[1;33m\u001b[0m\u001b[1;33m\u001b[0m\u001b[0m\n\u001b[1;32m--> 169\u001b[1;33m                                      _request_timeout=_request_timeout)\n\u001b[0m\u001b[0;32m    170\u001b[0m \u001b[1;33m\u001b[0m\u001b[0m\n",
      "\u001b[1;32mJ:\\BitBucket\\crab2\\sdk\\pypi\\seeq\\sdk\\api_client.py\u001b[0m in \u001b[0;36mrequest\u001b[1;34m(self, method, url, query_params, headers, post_params, body, _preload_content, _request_timeout)\u001b[0m\n\u001b[0;32m    424\u001b[0m                                          \u001b[0m_request_timeout\u001b[0m\u001b[1;33m=\u001b[0m\u001b[0m_request_timeout\u001b[0m\u001b[1;33m,\u001b[0m\u001b[1;33m\u001b[0m\u001b[1;33m\u001b[0m\u001b[0m\n\u001b[1;32m--> 425\u001b[1;33m                                          body=body)\n\u001b[0m\u001b[0;32m    426\u001b[0m         \u001b[1;32melif\u001b[0m \u001b[0mmethod\u001b[0m \u001b[1;33m==\u001b[0m \u001b[1;34m\"PUT\"\u001b[0m\u001b[1;33m:\u001b[0m\u001b[1;33m\u001b[0m\u001b[1;33m\u001b[0m\u001b[0m\n",
      "\u001b[1;32mJ:\\BitBucket\\crab2\\sdk\\pypi\\seeq\\sdk\\rest.py\u001b[0m in \u001b[0;36mPOST\u001b[1;34m(self, url, headers, query_params, post_params, body, _preload_content, _request_timeout)\u001b[0m\n\u001b[0;32m    262\u001b[0m                             \u001b[0m_request_timeout\u001b[0m\u001b[1;33m=\u001b[0m\u001b[0m_request_timeout\u001b[0m\u001b[1;33m,\u001b[0m\u001b[1;33m\u001b[0m\u001b[1;33m\u001b[0m\u001b[0m\n\u001b[1;32m--> 263\u001b[1;33m                             body=body)\n\u001b[0m\u001b[0;32m    264\u001b[0m \u001b[1;33m\u001b[0m\u001b[0m\n",
      "\u001b[1;32mJ:\\BitBucket\\crab2\\sdk\\pypi\\seeq\\sdk\\rest.py\u001b[0m in \u001b[0;36mrequest\u001b[1;34m(self, method, url, query_params, headers, body, post_params, _preload_content, _request_timeout)\u001b[0m\n\u001b[0;32m    218\u001b[0m         \u001b[1;32mif\u001b[0m \u001b[1;32mnot\u001b[0m \u001b[1;36m200\u001b[0m \u001b[1;33m<=\u001b[0m \u001b[0mr\u001b[0m\u001b[1;33m.\u001b[0m\u001b[0mstatus\u001b[0m \u001b[1;33m<=\u001b[0m \u001b[1;36m299\u001b[0m\u001b[1;33m:\u001b[0m\u001b[1;33m\u001b[0m\u001b[1;33m\u001b[0m\u001b[0m\n\u001b[1;32m--> 219\u001b[1;33m             \u001b[1;32mraise\u001b[0m \u001b[0mApiException\u001b[0m\u001b[1;33m(\u001b[0m\u001b[0mhttp_resp\u001b[0m\u001b[1;33m=\u001b[0m\u001b[0mr\u001b[0m\u001b[1;33m)\u001b[0m\u001b[1;33m\u001b[0m\u001b[1;33m\u001b[0m\u001b[0m\n\u001b[0m\u001b[0;32m    220\u001b[0m \u001b[1;33m\u001b[0m\u001b[0m\n",
      "\u001b[1;31mApiException\u001b[0m: (401)\nReason: Unauthorized\nHTTP response headers: HTTPHeaderDict({'X-DNS-Prefetch-Control': 'off', 'X-Frame-Options': 'SAMEORIGIN', 'Strict-Transport-Security': 'max-age=15552000; includeSubDomains', 'X-Content-Type-Options': 'nosniff', 'X-XSS-Protection': '1; mode=block', 'server-timing': '0;dur=0.00;desc=Datasource,1;dur=0.00;desc=Cache,2;dur=196.80;desc=Processing,3;dur=0.00;desc=GC,4;dur=0.04;desc=\"Request Queue\",5;dur=0.00;desc=\"Calc Engine Queue\",6;dur=196.85;desc=Total', 'server-meters': '0;dur=0;desc=\"Datasource Samples Read\",1;dur=0;desc=\"Datasource Capsules Read\",2;dur=0;desc=\"Cache Samples Read\",3;dur=0;desc=\"Cache In-Memory Samples Read\"', 'server': 'Seeq/R21.0.44.04', 'Vary': 'Accept-Encoding', 'content-type': 'application/vnd.seeq.v1+json', 'content-length': '49', 'connection': 'keep-alive', 'Date': 'Sat, 14 Dec 2019 00:17:37 GMT'})\nHTTP response body: {\"statusMessage\":\"Invalid username or password.\"}\n",
      "\nDuring handling of the above exception, another exception occurred:\n",
      "\u001b[1;31mRuntimeError\u001b[0m                              Traceback (most recent call last)",
      "\u001b[1;32m<ipython-input-2-0b4ea9b7a465>\u001b[0m in \u001b[0;36m<module>\u001b[1;34m\u001b[0m\n\u001b[1;32m----> 1\u001b[1;33m \u001b[0mspy\u001b[0m\u001b[1;33m.\u001b[0m\u001b[0mlogin\u001b[0m\u001b[1;33m(\u001b[0m\u001b[0murl\u001b[0m\u001b[1;33m=\u001b[0m\u001b[1;34m'http://localhost:34216'\u001b[0m\u001b[1;33m,\u001b[0m \u001b[0musername\u001b[0m\u001b[1;33m=\u001b[0m\u001b[1;34m'mark.derbecker@seeq.com'\u001b[0m\u001b[1;33m,\u001b[0m \u001b[0mpassword\u001b[0m\u001b[1;33m=\u001b[0m\u001b[1;34m'DataLab!'\u001b[0m\u001b[1;33m)\u001b[0m\u001b[1;33m\u001b[0m\u001b[1;33m\u001b[0m\u001b[0m\n\u001b[0m",
      "\u001b[1;32mJ:\\BitBucket\\crab2\\sdk\\pypi\\seeq\\spy\\_login.py\u001b[0m in \u001b[0;36mlogin\u001b[1;34m(username, password, url, directory, ignore_ssl_errors, proxy, credentials_file, auth_token, quiet, status, auth_provider)\u001b[0m\n\u001b[0;32m    192\u001b[0m                 raise RuntimeError(\n\u001b[0;32m    193\u001b[0m                     \u001b[1;34m'\"%s\" could not be logged in with supplied credentials, check username and password.'\u001b[0m \u001b[1;33m%\u001b[0m\u001b[1;33m\u001b[0m\u001b[1;33m\u001b[0m\u001b[0m\n\u001b[1;32m--> 194\u001b[1;33m                     auth_input.username)\n\u001b[0m\u001b[0;32m    195\u001b[0m             \u001b[1;32melse\u001b[0m\u001b[1;33m:\u001b[0m\u001b[1;33m\u001b[0m\u001b[1;33m\u001b[0m\u001b[0m\n\u001b[0;32m    196\u001b[0m                 \u001b[1;32mraise\u001b[0m\u001b[1;33m\u001b[0m\u001b[1;33m\u001b[0m\u001b[0m\n",
      "\u001b[1;31mRuntimeError\u001b[0m: \"mark.derbecker@seeq.com\" could not be logged in with supplied credentials, check username and password."
     ]
    }
   ],
   "source": [
    "spy.login(url='http://localhost:34216', username='mark.derbecker@seeq.com', password='DataLab!')"
   ]
  },
  {
   "cell_type": "markdown",
   "metadata": {},
   "source": [
    "## Authentication Directories\n",
    "\n",
    "If your organization is configured to use LDAP/Windows Authentication, it may be necessary to specify the *authentication directory*. This is the name seen in the **Directory** dropdown on the Seeq login page, use it for the `directory` argument like so:"
   ]
  },
  {
   "cell_type": "code",
   "execution_count": null,
   "metadata": {},
   "outputs": [],
   "source": [
    "spy.login(url='http://localhost:34216', username='mark.derbecker@seeq.com', password='DataLab!', directory='Seeq')"
   ]
  },
  {
   "cell_type": "markdown",
   "metadata": {},
   "source": [
    "## SSL Errors\n",
    "\n",
    "If you are using a secure connection (https), the root certificate in the SSL certificate chain used by the Seeq Server must be recognized by the Python `certifi` library. If not, you'll need to add `ignore_ssl_errors=True` with your `spy.login` call. Be warned that this will mean your connection is potentially insecure and vulnerable to man-in-the-middle attacks.\n",
    "\n",
    "If you are using Seeq Data Lab, you can potentially put the `seeq-key.pem` and `seeq-cert.pem` files from Seeq Server in Seeq Data Lab's `<data_folder>/keys` folder. The certificate file must contain the full unbroken certificate chain in order to work correctly."
   ]
  },
  {
   "cell_type": "markdown",
   "metadata": {},
   "source": [
    "## Proxy Servers\n",
    "\n",
    "If your organization uses a proxy server for Internet access, SPy will automatically look at the `HTTP_PROXY` and `HTTPS_PROXY` environment variables and use them if specified. Alternatively, you can supply an argument like `proxy='http://myproxyserver:8088'` to your `spy.login` call to specify it directly. If you specify `proxy=None`, then the `HTTP_PROXY` and `HTTPS_PROXY` environment variables will be ignored."
   ]
  }
 ],
 "metadata": {
  "kernelspec": {
   "display_name": "Python 3",
   "language": "python",
   "name": "python3"
  }
 },
 "nbformat": 4,
 "nbformat_minor": 2
}
