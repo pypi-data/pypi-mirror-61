{
 "cells": [
  {
   "cell_type": "code",
   "execution_count": 10,
   "metadata": {},
   "outputs": [],
   "source": [
    "from pathlib import Path\n",
    "from allennlp.common.testing import AllenNlpTestCase\n",
    "from allennlp.models.archival import load_archive\n",
    "from allennlp.predictors import Predictor\n",
    "FIXTURES_ROOT = Path(\"fixtures\")"
   ]
  },
  {
   "cell_type": "code",
   "execution_count": 13,
   "metadata": {},
   "outputs": [
    {
     "data": {
      "text/plain": [
       "{'text': 'Please could you parse this sentence ?',\n",
       " 'root': {'word': 'Please',\n",
       "  'nodeType': 'det',\n",
       "  'attributes': ['INTJ'],\n",
       "  'link': 'det',\n",
       "  'spans': [{'start': 0, 'end': 7}],\n",
       "  'children': [{'word': 'could',\n",
       "    'nodeType': 'nummod',\n",
       "    'attributes': ['AUX'],\n",
       "    'link': 'nummod',\n",
       "    'spans': [{'start': 7, 'end': 13}]},\n",
       "   {'word': 'you',\n",
       "    'nodeType': 'nummod',\n",
       "    'attributes': ['PRON'],\n",
       "    'link': 'nummod',\n",
       "    'spans': [{'start': 13, 'end': 17}]},\n",
       "   {'word': 'parse',\n",
       "    'nodeType': 'nummod',\n",
       "    'attributes': ['VERB'],\n",
       "    'link': 'nummod',\n",
       "    'spans': [{'start': 17, 'end': 23}]},\n",
       "   {'word': 'this',\n",
       "    'nodeType': 'nummod',\n",
       "    'attributes': ['DET'],\n",
       "    'link': 'nummod',\n",
       "    'spans': [{'start': 23, 'end': 28}]},\n",
       "   {'word': 'sentence',\n",
       "    'nodeType': 'nummod',\n",
       "    'attributes': ['NOUN'],\n",
       "    'link': 'nummod',\n",
       "    'spans': [{'start': 28, 'end': 37}]},\n",
       "   {'word': '?',\n",
       "    'nodeType': 'nummod',\n",
       "    'attributes': ['PUNCT'],\n",
       "    'link': 'nummod',\n",
       "    'spans': [{'start': 37, 'end': 39}]}]}}"
      ]
     },
     "execution_count": 13,
     "metadata": {},
     "output_type": "execute_result"
    }
   ],
   "source": [
    "inputs = {\"sentence\": \"Please could you parse this sentence?\"}\n",
    "\n",
    "archive = load_archive(\n",
    "    FIXTURES_ROOT/ \"biaffine_dependency_parser\" / \"serialization\" / \"model.tar.gz\"\n",
    ")\n",
    "predictor = Predictor.from_archive(archive, \"biaffine-dependency-parser\")\n",
    "\n",
    "result = predictor.predict_json(inputs)\n",
    "\n",
    "words = result.get(\"words\")\n",
    "predicted_heads = result.get(\"predicted_heads\")\n",
    "assert len(predicted_heads) == len(words)\n",
    "\n",
    "predicted_dependencies = result.get(\"predicted_dependencies\")\n",
    "assert len(predicted_dependencies) == len(words)\n",
    "assert isinstance(predicted_dependencies, list)\n",
    "assert all(isinstance(x, str) for x in predicted_dependencies)\n",
    "\n",
    "assert result.get(\"loss\") is not None\n",
    "assert result.get(\"arc_loss\") is not None\n",
    "assert result.get(\"tag_loss\") is not None\n",
    "\n",
    "hierplane_tree = result.get(\"hierplane_tree\")\n",
    "hierplane_tree.pop(\"nodeTypeToStyle\")\n",
    "hierplane_tree.pop(\"linkToPosition\")\n",
    "result.get(\"hierplane_tree\")"
   ]
  },
  {
   "cell_type": "code",
   "execution_count": 19,
   "metadata": {},
   "outputs": [
    {
     "ename": "AssertionError",
     "evalue": "",
     "output_type": "error",
     "traceback": [
      "\u001b[0;31m---------------------------------------------------------------------------\u001b[0m",
      "\u001b[0;31mAssertionError\u001b[0m                            Traceback (most recent call last)",
      "\u001b[0;32m<ipython-input-19-02759abdf04c>\u001b[0m in \u001b[0;36m<module>\u001b[0;34m\u001b[0m\n\u001b[1;32m     14\u001b[0m             \u001b[0;34m\"verb\"\u001b[0m\u001b[0;34m:\u001b[0m \u001b[0;34m\"has\"\u001b[0m\u001b[0;34m,\u001b[0m\u001b[0;34m\u001b[0m\u001b[0;34m\u001b[0m\u001b[0m\n\u001b[1;32m     15\u001b[0m             \u001b[0;34m\"description\"\u001b[0m\u001b[0;34m:\u001b[0m \u001b[0;34m\"This sentence has a verb .\"\u001b[0m\u001b[0;34m,\u001b[0m\u001b[0;34m\u001b[0m\u001b[0;34m\u001b[0m\u001b[0m\n\u001b[0;32m---> 16\u001b[0;31m             \u001b[0;34m\"tags\"\u001b[0m\u001b[0;34m:\u001b[0m \u001b[0;34m[\u001b[0m\u001b[0;34m\"O\"\u001b[0m\u001b[0;34m,\u001b[0m \u001b[0;34m\"O\"\u001b[0m\u001b[0;34m,\u001b[0m \u001b[0;34m\"O\"\u001b[0m\u001b[0;34m,\u001b[0m \u001b[0;34m\"O\"\u001b[0m\u001b[0;34m,\u001b[0m \u001b[0;34m\"O\"\u001b[0m\u001b[0;34m,\u001b[0m \u001b[0;34m\"O\"\u001b[0m\u001b[0;34m]\u001b[0m\u001b[0;34m,\u001b[0m\u001b[0;34m\u001b[0m\u001b[0;34m\u001b[0m\u001b[0m\n\u001b[0m\u001b[1;32m     17\u001b[0m         }\n\u001b[1;32m     18\u001b[0m     ],\n",
      "\u001b[0;31mAssertionError\u001b[0m: "
     ]
    }
   ],
   "source": [
    "input1 = {\"sentence\": \"Blah no verb sentence.\"}\n",
    "archive = load_archive(FIXTURES_ROOT / \"srl\" / \"serialization\" / \"model.tar.gz\")\n",
    "predictor = Predictor.from_archive(archive, \"semantic-role-labeling\")\n",
    "result = predictor.predict_json(input1)\n",
    "assert result == {\"words\": [\"Blah\", \"no\", \"verb\", \"sentence\", \".\"], \"verbs\": []}\n",
    "\n",
    "input2 = {\"sentence\": }\n",
    "results = predictor.predict_batch_json([input1, input2])\n",
    "assert results[0] == {\"words\": [\"Blah\", \"no\", \"verb\", \"sentence\", \".\"], \"verbs\": []}\n",
    "assert results[1] == {\n",
    "    \"words\": [\"This\", \"sentence\", \"has\", \"a\", \"verb\", \".\"],\n",
    "    \"verbs\": [\n",
    "        {\n",
    "            \"verb\": \"has\",\n",
    "            \"description\": \"This sentence has a verb .\",\n",
    "            \"tags\": [\"O\", \"O\", \"O\", \"O\", \"O\", \"O\"],\n",
    "        }\n",
    "    ],\n",
    "}\n"
   ]
  },
  {
   "cell_type": "code",
   "execution_count": 22,
   "metadata": {},
   "outputs": [],
   "source": [
    "predictor = Predictor.from_archive(archive, \"semantic-role-labeling\")"
   ]
  },
  {
   "cell_type": "code",
   "execution_count": 37,
   "metadata": {},
   "outputs": [
    {
     "data": {
      "text/plain": [
       "{'verbs': [{'verb': 'seems',\n",
       "   'description': 'This sentence seems to have a verb .',\n",
       "   'tags': ['O', 'O', 'O', 'O', 'O', 'O', 'O', 'O']}],\n",
       " 'words': ['This', 'sentence', 'seems', 'to', 'have', 'a', 'verb', '.']}"
      ]
     },
     "execution_count": 37,
     "metadata": {},
     "output_type": "execute_result"
    }
   ],
   "source": [
    "predictor.predict(\"This sentence seems to have a verb.\")"
   ]
  }
 ],
 "metadata": {
  "kernelspec": {
   "display_name": "allen",
   "language": "python",
   "name": "allen"
  },
  "language_info": {
   "codemirror_mode": {
    "name": "ipython",
    "version": 3
   },
   "file_extension": ".py",
   "mimetype": "text/x-python",
   "name": "python",
   "nbconvert_exporter": "python",
   "pygments_lexer": "ipython3",
   "version": "3.7.4"
  }
 },
 "nbformat": 4,
 "nbformat_minor": 4
}
