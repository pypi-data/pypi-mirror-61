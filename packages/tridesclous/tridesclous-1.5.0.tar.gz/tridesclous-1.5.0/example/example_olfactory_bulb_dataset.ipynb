{
 "cells": [
  {
   "cell_type": "markdown",
   "metadata": {},
   "source": [
    "# *tridesclous* example with olfactory bulb dataset\n",
    "\n"
   ]
  },
  {
   "cell_type": "code",
   "execution_count": 1,
   "metadata": {},
   "outputs": [],
   "source": [
    "%matplotlib inline\n",
    "\n",
    "import time\n",
    "import numpy as np\n",
    "import matplotlib.pyplot as plt\n",
    "import tridesclous as tdc\n",
    "\n",
    "from tridesclous import DataIO, CatalogueConstructor, Peeler"
   ]
  },
  {
   "cell_type": "markdown",
   "metadata": {},
   "source": [
    "# DataIO = define datasource and working dir\n",
    "\n",
    "trideclous provide some datasets than can be downloaded.\n",
    "\n",
    "Note this dataset contains 2 trials in 2 different files. (the original contains more!)\n",
    "\n",
    "Each file is considers as a *segment*. *tridesclous* automatically deal with it.\n",
    "\n",
    "Theses 2 files are in **RawData** format this means binary format with interleaved channels.\n"
   ]
  },
  {
   "cell_type": "code",
   "execution_count": 2,
   "metadata": {},
   "outputs": [
    {
     "name": "stdout",
     "output_type": "stream",
     "text": [
      "['/home/samuel/Documents/projet/tridesclous/example/olfactory_bulb/OB_file1.raw', '/home/samuel/Documents/projet/tridesclous/example/olfactory_bulb/OB_file2.raw', '/home/samuel/Documents/projet/tridesclous/example/olfactory_bulb/OB_file3.raw']\n",
      "{'dtype': 'int16', 'sample_rate': 10000.0, 'total_channel': 16, 'bit_to_microVolt': 0.30517578125}\n",
      "\n",
      "DataIO <id: 139704555837144> \n",
      "  workdir: tridesclous_olfactory_bulb\n",
      "  sample_rate: 10000.0\n",
      "  total_channel: 16\n",
      "  channel_groups: 0 [ch0 ch1 ch2 ch3 ... ch10 ch11 ch12 ch13]\n",
      "  nb_segment: 3\n",
      "  length: 150000 150000 150000\n",
      "  durations: 15.0 15.0 15.0 s.\n"
     ]
    }
   ],
   "source": [
    "#download dataset\n",
    "localdir, filenames, params = tdc.download_dataset(name='olfactory_bulb')\n",
    "print(filenames)\n",
    "print(params)\n",
    "\n",
    "print()\n",
    "#create a DataIO\n",
    "import os, shutil\n",
    "dirname = 'tridesclous_olfactory_bulb'\n",
    "if os.path.exists(dirname):\n",
    "    #remove is already exists\n",
    "    shutil.rmtree(dirname)    \n",
    "dataio = DataIO(dirname=dirname)\n",
    "\n",
    "# feed DataIO\n",
    "dataio.set_data_source(type='RawData', filenames=filenames, **params)\n",
    "\n",
    "dataio.add_one_channel_group(channels=range(14))\n",
    "\n",
    "print(dataio)\n",
    "\n",
    "    \n",
    "    "
   ]
  },
  {
   "cell_type": "markdown",
   "metadata": {},
   "source": [
    "# CatalogueConstructor"
   ]
  },
  {
   "cell_type": "code",
   "execution_count": 7,
   "metadata": {},
   "outputs": [
    {
     "name": "stdout",
     "output_type": "stream",
     "text": [
      "CatalogueConstructor\n",
      "  chan_grp 0 - ch0 ch1 ch2 ... ch12 ch13\n",
      "  Signal pre-processing not done yet\n"
     ]
    }
   ],
   "source": [
    "cc = CatalogueConstructor(dataio=dataio)\n",
    "print(cc)"
   ]
  },
  {
   "cell_type": "markdown",
   "metadata": {},
   "source": [
    "## Use automatic parameters and apply the whole chain\n",
    "\n",
    "tridesclous propose an automatic parameters choice and can apply in one function all the steps.\n"
   ]
  },
  {
   "cell_type": "code",
   "execution_count": 8,
   "metadata": {},
   "outputs": [
    {
     "name": "stdout",
     "output_type": "stream",
     "text": [
      "{'adjacency_radius_um': 400.0,\n",
      " 'chunksize': 1000,\n",
      " 'clean_cluster': False,\n",
      " 'clean_cluster_kargs': {},\n",
      " 'clean_waveforms': {'alien_value_threshold': None},\n",
      " 'cluster_kargs': {'max_loop': 1000, 'min_cluster_size': 20},\n",
      " 'cluster_method': 'pruningshears',\n",
      " 'duration': 300.0,\n",
      " 'extract_waveforms': {'mode': 'rand',\n",
      "                       'nb_max': 20000,\n",
      "                       'wf_left_ms': -1.5,\n",
      "                       'wf_right_ms': 2.5},\n",
      " 'feature_kargs': {'n_components_by_channel': 3},\n",
      " 'feature_method': 'pca_by_channel',\n",
      " 'mode': 'sparse',\n",
      " 'noise_snippet': {'nb_snippet': 300},\n",
      " 'peak_detector': {'engine': 'opencl',\n",
      "                   'method': 'geometrical',\n",
      "                   'peak_sign': '-',\n",
      "                   'peak_span_ms': 0.7,\n",
      "                   'relative_threshold': 5.0},\n",
      " 'preprocessor': {'common_ref_removal': False,\n",
      "                  'engine': 'numpy',\n",
      "                  'highpass_freq': 300.0,\n",
      "                  'lostfront_chunksize': -1,\n",
      "                  'lowpass_freq': 5000.0,\n",
      "                  'smooth_size': 0},\n",
      " 'sparse_threshold': 1.5}\n"
     ]
    }
   ],
   "source": [
    "from pprint import pprint\n",
    "params = tdc.get_auto_params_for_catalogue(dataio, chan_grp=0)\n",
    "pprint(params)"
   ]
  },
  {
   "cell_type": "markdown",
   "metadata": {},
   "source": [
    "## apply all catalogue steps"
   ]
  },
  {
   "cell_type": "code",
   "execution_count": 9,
   "metadata": {},
   "outputs": [
    {
     "name": "stdout",
     "output_type": "stream",
     "text": [
      "estimate_signals_noise 0.1705890859993815\n",
      "run_signalprocessor 0.8053319609998653\n",
      "extract_some_waveforms 0.7399420740002824\n",
      "clean_waveforms 0.02303425399986736\n",
      "extract_some_noise 0.0693022049999854\n",
      "project 0.6348587969996515\n",
      "find_clusters 1.964479604999724\n"
     ]
    }
   ],
   "source": [
    "tdc.apply_all_catalogue_steps(cc, params, verbose=True)"
   ]
  },
  {
   "cell_type": "code",
   "execution_count": 10,
   "metadata": {},
   "outputs": [
    {
     "name": "stdout",
     "output_type": "stream",
     "text": [
      "CatalogueConstructor\n",
      "  chan_grp 0 - ch0 ch1 ch2 ... ch12 ch13\n",
      "  nb_peak_by_segment: 4291, 3898, 4534\n",
      "  some_waveforms.shape: (12720, 40, 14) (sparse 0.21)\n",
      "  some_features.shape: (12720, 42)\n",
      "  cluster_labels 13 [-11 -1 0 ... 11 12]\n",
      "\n"
     ]
    }
   ],
   "source": [
    "print(cc)"
   ]
  },
  {
   "cell_type": "markdown",
   "metadata": {},
   "source": [
    "## Open CatalogueWindow for visual check\n",
    "\n",
    "At the end we can save the catalogue."
   ]
  },
  {
   "cell_type": "code",
   "execution_count": 12,
   "metadata": {},
   "outputs": [
    {
     "name": "stdout",
     "output_type": "stream",
     "text": [
      "CatalogueController 0\n",
      "construct_catalogue 0.598916327000552\n"
     ]
    },
    {
     "data": {
      "text/plain": [
       "0"
      ]
     },
     "execution_count": 12,
     "metadata": {},
     "output_type": "execute_result"
    }
   ],
   "source": [
    "%gui qt5\n",
    "import pyqtgraph as pg\n",
    "app = pg.mkQApp()\n",
    "win = tdc.CatalogueWindow(catalogueconstructor)\n",
    "win.show()\n",
    "app.exec_()"
   ]
  },
  {
   "cell_type": "code",
   "execution_count": 11,
   "metadata": {},
   "outputs": [
    {
     "name": "stdout",
     "output_type": "stream",
     "text": [
      "make_catalogue 0.07650131300033536\n"
     ]
    }
   ],
   "source": [
    "cc.make_catalogue_for_peeler()"
   ]
  },
  {
   "cell_type": "markdown",
   "metadata": {},
   "source": [
    "# Peeler\n",
    "\n",
    "Use automatic parameters.\n"
   ]
  },
  {
   "cell_type": "code",
   "execution_count": 14,
   "metadata": {},
   "outputs": [
    {
     "name": "stdout",
     "output_type": "stream",
     "text": [
      "{'argmin_method': 'opencl',\n",
      " 'engine': 'geometrical',\n",
      " 'inter_sample_oversampling': True,\n",
      " 'sparse_threshold_mad': 1.5,\n",
      " 'use_sparse_template': True}\n"
     ]
    }
   ],
   "source": [
    "peeler_params = tdc.get_auto_params_for_peelers(dataio, chan_grp=0)\n",
    "pprint(peeler_params)"
   ]
  },
  {
   "cell_type": "code",
   "execution_count": 15,
   "metadata": {},
   "outputs": [
    {
     "name": "stderr",
     "output_type": "stream",
     "text": [
      "100%|██████████| 146/146 [00:05<00:00, 27.26it/s]\n",
      "100%|██████████| 146/146 [00:04<00:00, 29.38it/s]\n",
      "100%|██████████| 146/146 [00:07<00:00, 17.55it/s]"
     ]
    },
    {
     "name": "stdout",
     "output_type": "stream",
     "text": [
      "peeler.run 18.26728854799967\n",
      "\n",
      "seg_num 0 nb_spikes 5093\n",
      "[( 7,   5, -0.38943046) (14, -10,  0.        ) (28,   1, -0.36095695)]\n",
      "seg_num 1 nb_spikes 4596\n",
      "[( 62, -10,  0.       ) (147,   2, -0.2981372) (147, -10,  0.       )]\n",
      "seg_num 2 nb_spikes 5650\n",
      "[(45, -10,  0.        ) (45,   5, -0.30148764) (50,  11, -0.46073323)]\n"
     ]
    },
    {
     "name": "stderr",
     "output_type": "stream",
     "text": [
      "\n"
     ]
    }
   ],
   "source": [
    "catalogue = dataio.load_catalogue()\n",
    "\n",
    "peeler = Peeler(dataio)\n",
    "peeler.change_params(catalogue=catalogue, **peeler_params)\n",
    "\n",
    "t1 = time.perf_counter()\n",
    "peeler.run()\n",
    "t2 = time.perf_counter()\n",
    "print('peeler.run', t2-t1)\n",
    "\n",
    "print()\n",
    "for seg_num in range(dataio.nb_segment):\n",
    "    spikes = dataio.get_spikes(seg_num)\n",
    "    print('seg_num', seg_num, 'nb_spikes', spikes.size)\n",
    "    print(spikes[:3])\n",
    "    \n"
   ]
  },
  {
   "cell_type": "markdown",
   "metadata": {},
   "source": [
    "## Open PeelerWindow for visual checking"
   ]
  },
  {
   "cell_type": "code",
   "execution_count": 15,
   "metadata": {},
   "outputs": [
    {
     "data": {
      "text/plain": [
       "0"
      ]
     },
     "execution_count": 15,
     "metadata": {},
     "output_type": "execute_result"
    }
   ],
   "source": [
    "%gui qt5\n",
    "import pyqtgraph as pg\n",
    "app = pg.mkQApp()\n",
    "win = tdc.PeelerWindow(dataio=dataio, catalogue=initial_catalogue)\n",
    "win.show()\n",
    "app.exec_()\n"
   ]
  },
  {
   "cell_type": "markdown",
   "metadata": {},
   "source": [
    "Here a snappshot of PeelerWindow\n",
    "\n",
    "<img src=\"../doc/img/snapshot_peelerwindow.png\">"
   ]
  }
 ],
 "metadata": {
  "kernelspec": {
   "display_name": "Python 3",
   "language": "python",
   "name": "python3"
  },
  "language_info": {
   "codemirror_mode": {
    "name": "ipython",
    "version": 3
   },
   "file_extension": ".py",
   "mimetype": "text/x-python",
   "name": "python",
   "nbconvert_exporter": "python",
   "pygments_lexer": "ipython3",
   "version": "3.6.6"
  }
 },
 "nbformat": 4,
 "nbformat_minor": 1
}
