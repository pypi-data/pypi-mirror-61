{
 "cells": [
  {
   "cell_type": "code",
   "execution_count": 1,
   "metadata": {},
   "outputs": [],
   "source": [
    "import sys\n",
    "sys.path.append(\"..\")\n",
    "\n",
    "from roughviz.charts.barh import Barh"
   ]
  },
  {
   "cell_type": "code",
   "execution_count": 2,
   "metadata": {},
   "outputs": [
    {
     "data": {
      "text/html": [
       "<html>\n",
       "<body>\n",
       "\n",
       "<div id=c11609114bc14eeaa3452cf6c736e8a2></div>\n",
       "\n",
       "<script src=\"https://requirejs.org/docs/release/2.3.6/minified/require.js\"></script>\n",
       "<script>\n",
       "require.config({paths: {roughViz: \"https://unpkg.com/rough-viz@1.0.5/dist/roughviz.min\"}});\n",
       "require([\"roughViz\"], function(roughViz) {\n",
       "\n",
       "new roughViz.BarH(\n",
       "  {\"data\": {\"labels\": [\"a\", \"b\"], \"values\": [10, 20]}, \"title\": \"barh\", \"width\": 800, \"height\": 600, \"interactive\": true, \"bowing\": 0.2, \"fillStyle\": \"cross-hatch\", \"fillWeight\": 0, \"strokeWidth\": 1, \"roughness\": 1, \"tooltipFontSize\": \"0.95rem\", \"xLabel\": \"\", \"yLabel\": \"\", \"axisFontSize\": \"1.5rem\", \"labelFontSize\": \"2rem\", \"axisRoughness\": 0.5, \"highlight\": \"coral\", \"innerStrokeWidth\": 0, \"padding\": 0.1, \"simplification\": 0.2, \"stroke\": \"black\", \"element\": \"#c11609114bc14eeaa3452cf6c736e8a2\"}\n",
       ");\n",
       "\tvar text = document.querySelectorAll(\".xAxisc11609114bc14eeaa3452cf6c736e8a2 .tick text\");\n",
       "\tvar i;\n",
       "\tfor (i = 0; i < text.length; i++) {\n",
       "\t\ttext[i].setAttribute(\"transform\", \"rotate(0)\");\n",
       "\t\ttext[i].style.textAnchor=\"middle\";\n",
       "\t}\n",
       "\tdocument.getElementById(\"c11609114bc14eeaa3452cf6c736e8a2\").style.height = \"px\";\n",
       "\tdocument.querySelector(\"#c11609114bc14eeaa3452cf6c736e8a2 svg\").style.height = \"px\";\n",
       "});\n",
       "</script>\n",
       "\n",
       "</body>\n",
       "</html>"
      ],
      "text/plain": [
       "<IPython.core.display.HTML object>"
      ]
     },
     "metadata": {},
     "output_type": "display_data"
    }
   ],
   "source": [
    "# Basic Plotting using dictionary data.\n",
    "\n",
    "data = {\n",
    "    \"labels\": [\"a\", \"b\"],\n",
    "    \"values\": [10, 20]\n",
    "}\n",
    "\n",
    "barh = Barh(data=data, title=\"barh\")\n",
    "barh.show()"
   ]
  },
  {
   "cell_type": "code",
   "execution_count": 5,
   "metadata": {},
   "outputs": [
    {
     "data": {
      "text/html": [
       "<html>\n",
       "<body>\n",
       "\n",
       "<div id=b3ab0bef223f418eb6e659d8342a2cd3></div>\n",
       "\n",
       "<script src=\"https://requirejs.org/docs/release/2.3.6/minified/require.js\"></script>\n",
       "<script>\n",
       "require.config({paths: {roughViz: \"https://unpkg.com/rough-viz@1.0.5/dist/roughviz.min\"}});\n",
       "require([\"roughViz\"], function(roughViz) {\n",
       "\n",
       "new roughViz.BarH(\n",
       "  {\"data\": {\"labels\": [\"a\", \"b\"], \"values\": [10, 20]}, \"title\": \"barh\", \"width\": 400, \"height\": 300, \"interactive\": true, \"bowing\": 0.2, \"fillStyle\": \"cross-hatch\", \"fillWeight\": 0, \"strokeWidth\": 1, \"roughness\": 1, \"tooltipFontSize\": \"0.95rem\", \"xLabel\": \"\", \"yLabel\": \"\", \"axisFontSize\": \"1.5rem\", \"labelFontSize\": \"2rem\", \"axisRoughness\": 0.5, \"highlight\": \"coral\", \"innerStrokeWidth\": 0, \"padding\": 0.1, \"simplification\": 0.2, \"stroke\": \"black\", \"element\": \"#b3ab0bef223f418eb6e659d8342a2cd3\"}\n",
       ");\n",
       "\tvar text = document.querySelectorAll(\".xAxisb3ab0bef223f418eb6e659d8342a2cd3 .tick text\");\n",
       "\tvar i;\n",
       "\tfor (i = 0; i < text.length; i++) {\n",
       "\t\ttext[i].setAttribute(\"transform\", \"rotate(0)\");\n",
       "\t\ttext[i].style.textAnchor=\"middle\";\n",
       "\t}\n",
       "\tdocument.getElementById(\"b3ab0bef223f418eb6e659d8342a2cd3\").style.height = \"px\";\n",
       "\tdocument.querySelector(\"#b3ab0bef223f418eb6e659d8342a2cd3 svg\").style.height = \"px\";\n",
       "});\n",
       "</script>\n",
       "\n",
       "</body>\n",
       "</html>"
      ],
      "text/plain": [
       "<IPython.core.display.HTML object>"
      ]
     },
     "metadata": {},
     "output_type": "display_data"
    }
   ],
   "source": [
    "# You could easily set the new figsize using `set_figsize` method\n",
    "\n",
    "data = {\n",
    "    \"labels\": [\"a\", \"b\"],\n",
    "    \"values\": [10, 20]\n",
    "}\n",
    "\n",
    "barh = Barh(data=data, title=\"barh\")\n",
    "barh.set_figsize(figsize=(400, 300))\n",
    "\n",
    "barh.show()"
   ]
  },
  {
   "cell_type": "code",
   "execution_count": 6,
   "metadata": {},
   "outputs": [
    {
     "data": {
      "text/html": [
       "<html>\n",
       "<body>\n",
       "\n",
       "<div id=f8a4094d32484c2281dc9023762136aa></div>\n",
       "\n",
       "<script src=\"https://requirejs.org/docs/release/2.3.6/minified/require.js\"></script>\n",
       "<script>\n",
       "require.config({paths: {roughViz: \"https://unpkg.com/rough-viz@1.0.5/dist/roughviz.min\"}});\n",
       "require([\"roughViz\"], function(roughViz) {\n",
       "\n",
       "new roughViz.BarH(\n",
       "  {\"data\": {\"labels\": [\"a\", \"b\"], \"values\": [10, 20]}, \"title\": \"barh\", \"width\": 600, \"height\": 400, \"interactive\": true, \"bowing\": 0.2, \"fillStyle\": \"cross-hatch\", \"fillWeight\": 0, \"strokeWidth\": 1, \"roughness\": 1, \"tooltipFontSize\": \"0.95rem\", \"xLabel\": \"\", \"yLabel\": \"\", \"axisFontSize\": \"1.5rem\", \"labelFontSize\": \"2rem\", \"axisRoughness\": 0.5, \"highlight\": \"green\", \"innerStrokeWidth\": 0, \"padding\": 0.1, \"simplification\": 0.2, \"stroke\": \"black\", \"element\": \"#f8a4094d32484c2281dc9023762136aa\"}\n",
       ");\n",
       "\tvar text = document.querySelectorAll(\".xAxisf8a4094d32484c2281dc9023762136aa .tick text\");\n",
       "\tvar i;\n",
       "\tfor (i = 0; i < text.length; i++) {\n",
       "\t\ttext[i].setAttribute(\"transform\", \"rotate(0)\");\n",
       "\t\ttext[i].style.textAnchor=\"middle\";\n",
       "\t}\n",
       "\tdocument.getElementById(\"f8a4094d32484c2281dc9023762136aa\").style.height = \"px\";\n",
       "\tdocument.querySelector(\"#f8a4094d32484c2281dc9023762136aa svg\").style.height = \"px\";\n",
       "});\n",
       "</script>\n",
       "\n",
       "</body>\n",
       "</html>"
      ],
      "text/plain": [
       "<IPython.core.display.HTML object>"
      ]
     },
     "metadata": {},
     "output_type": "display_data"
    }
   ],
   "source": [
    "# You could easily change the hightlight color\n",
    "\n",
    "data = {\n",
    "    \"labels\": [\"a\", \"b\"],\n",
    "    \"values\": [10, 20]\n",
    "}\n",
    "\n",
    "barh = Barh(data=data, title=\"barh\")\n",
    "barh.set_figsize(figsize=(600, 400))\n",
    "barh.set_options(highlight=\"green\")\n",
    "\n",
    "barh.show()"
   ]
  },
  {
   "cell_type": "code",
   "execution_count": null,
   "metadata": {},
   "outputs": [],
   "source": []
  }
 ],
 "metadata": {
  "kernelspec": {
   "display_name": "Python 3",
   "language": "python",
   "name": "python3"
  },
  "language_info": {
   "codemirror_mode": {
    "name": "ipython",
    "version": 3
   },
   "file_extension": ".py",
   "mimetype": "text/x-python",
   "name": "python",
   "nbconvert_exporter": "python",
   "pygments_lexer": "ipython3",
   "version": "3.7.3"
  }
 },
 "nbformat": 4,
 "nbformat_minor": 2
}
