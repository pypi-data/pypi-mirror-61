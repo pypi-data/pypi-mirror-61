{
 "cells": [
  {
   "cell_type": "code",
   "execution_count": 1,
   "metadata": {},
   "outputs": [],
   "source": [
    "import sys\n",
    "sys.path.append(\"..\")\n",
    "\n",
    "from roughviz.charts.stacked_bar import StackedBar"
   ]
  },
  {
   "cell_type": "code",
   "execution_count": 2,
   "metadata": {},
   "outputs": [
    {
     "data": {
      "text/html": [
       "<html>\n",
       "<body>\n",
       "\n",
       "<div id=d0f01dc9cbe44f8aa5f295d3041cef88></div>\n",
       "\n",
       "<script src=\"https://requirejs.org/docs/release/2.3.6/minified/require.js\"></script>\n",
       "<script>\n",
       "require.config({paths: {roughViz: \"https://unpkg.com/rough-viz@1.0.5/dist/roughviz.min\"}});\n",
       "require([\"roughViz\"], function(roughViz) {\n",
       "\n",
       "new roughViz.StackedBar(\n",
       "  {\"labels\": \"month\", \"data\": [{\"month\": \"Jan\", \"A\": 20, \"B\": 5}, {\"month\": \"Feb\", \"A\": 25, \"B\": 10}], \"title\": \"\", \"width\": 800, \"height\": 600, \"interactive\": true, \"bowing\": 0.2, \"fillStyle\": \"cross-hatch\", \"fillWeight\": 0, \"strokeWidth\": 1, \"roughness\": 1, \"tooltipFontSize\": \"0.95rem\", \"titleFontSize\": \"0.95rem\", \"colors\": [\"coral\", \"skyblue\", \"#66c2a5\", \"tan\", \"#8da0cb\", \"#e78ac3\", \"#a6d854\", \"#ffd92f\", \"tan\", \"orange\"], \"margin\": {\"top\": 50, \"right\": 20, \"bottom\": 70, \"left\": 100}, \"xLabel\": \"\", \"yLabel\": \"\", \"axisFontSize\": \"1rem\", \"labelFontSize\": \"2rem\", \"axisRoughness\": 0.5, \"axisStrokeWidth\": 0.5, \"highlight\": \"coral\", \"innerStrokeWidth\": 1, \"padding\": 0.1, \"simplification\": 0.2, \"stroke\": \"black\", \"element\": \"#d0f01dc9cbe44f8aa5f295d3041cef88\"}\n",
       ");\n",
       "\tvar text = document.querySelectorAll(\".xAxisd0f01dc9cbe44f8aa5f295d3041cef88 .tick text\");\n",
       "\tvar i;\n",
       "\tfor (i = 0; i < text.length; i++) {\n",
       "\t\ttext[i].setAttribute(\"transform\", \"rotate(0)\");\n",
       "\t\ttext[i].style.textAnchor=\"middle\";\n",
       "\t}\n",
       "\tdocument.getElementById(\"d0f01dc9cbe44f8aa5f295d3041cef88\").style.height = \"px\";\n",
       "\tdocument.querySelector(\"#d0f01dc9cbe44f8aa5f295d3041cef88 svg\").style.height = \"px\";\n",
       "});\n",
       "</script>\n",
       "\n",
       "</body>\n",
       "</html>"
      ],
      "text/plain": [
       "<IPython.core.display.HTML object>"
      ]
     },
     "metadata": {},
     "output_type": "display_data"
    }
   ],
   "source": [
    "# Example 1\n",
    "\n",
    "data = [\n",
    "    {\"month\":'Jan', \"A\":20, \"B\": 5},\n",
    "    {\"month\":'Feb', \"A\":25, \"B\": 10},    \n",
    "]\n",
    "stacked_bar = StackedBar(data=data, labels=\"month\")\n",
    "\n",
    "stacked_bar.show()"
   ]
  },
  {
   "cell_type": "code",
   "execution_count": 3,
   "metadata": {},
   "outputs": [
    {
     "data": {
      "text/html": [
       "<html>\n",
       "<body>\n",
       "\n",
       "<div id=a183c0e45a1c4ba085154d32a9ece46b></div>\n",
       "\n",
       "<script src=\"https://requirejs.org/docs/release/2.3.6/minified/require.js\"></script>\n",
       "<script>\n",
       "require.config({paths: {roughViz: \"https://unpkg.com/rough-viz@1.0.5/dist/roughviz.min\"}});\n",
       "require([\"roughViz\"], function(roughViz) {\n",
       "\n",
       "new roughViz.StackedBar(\n",
       "  {\"labels\": \"month\", \"data\": [{\"month\": \"Jan\", \"A\": 20, \"B\": 5}, {\"month\": \"Feb\", \"A\": 25, \"B\": 10}, {\"month\": \"May\", \"A\": 15, \"B\": 20}], \"title\": \"Stacked Bar plot\", \"width\": 800, \"height\": 600, \"interactive\": true, \"bowing\": 0.2, \"fillStyle\": \"cross-hatch\", \"fillWeight\": 0, \"strokeWidth\": 1, \"roughness\": 1, \"tooltipFontSize\": \"0.95rem\", \"titleFontSize\": \"3rem\", \"colors\": [\"coral\", \"skyblue\", \"#66c2a5\", \"tan\", \"#8da0cb\", \"#e78ac3\", \"#a6d854\", \"#ffd92f\", \"tan\", \"orange\"], \"margin\": {\"top\": 50, \"right\": 20, \"bottom\": 70, \"left\": 100}, \"xLabel\": \"month\", \"yLabel\": \"number\", \"axisFontSize\": \"1.5rem\", \"labelFontSize\": \"2rem\", \"axisRoughness\": 0.5, \"axisStrokeWidth\": 0.5, \"highlight\": \"coral\", \"innerStrokeWidth\": 1, \"padding\": 0.1, \"simplification\": 0.2, \"stroke\": \"black\", \"element\": \"#a183c0e45a1c4ba085154d32a9ece46b\"}\n",
       ");\n",
       "\tvar text = document.querySelectorAll(\".xAxisa183c0e45a1c4ba085154d32a9ece46b .tick text\");\n",
       "\tvar i;\n",
       "\tfor (i = 0; i < text.length; i++) {\n",
       "\t\ttext[i].setAttribute(\"transform\", \"rotate(0)\");\n",
       "\t\ttext[i].style.textAnchor=\"middle\";\n",
       "\t}\n",
       "\tdocument.getElementById(\"a183c0e45a1c4ba085154d32a9ece46b\").style.height = \"px\";\n",
       "\tdocument.querySelector(\"#a183c0e45a1c4ba085154d32a9ece46b svg\").style.height = \"px\";\n",
       "});\n",
       "</script>\n",
       "\n",
       "</body>\n",
       "</html>"
      ],
      "text/plain": [
       "<IPython.core.display.HTML object>"
      ]
     },
     "metadata": {},
     "output_type": "display_data"
    }
   ],
   "source": [
    "# Example 2\n",
    "\n",
    "data = [\n",
    "    {\"month\":'Jan', \"A\":20, \"B\": 5},\n",
    "    {\"month\":'Feb', \"A\":25, \"B\": 10},\n",
    "    {\"month\":'May', \"A\": 15, \"B\": 20}\n",
    "]\n",
    "\n",
    "stacked_bar = StackedBar(data=data, labels=\"month\", axis_fontsize=1.5)\n",
    "stacked_bar.set_xlabel('month', fontsize=2)\n",
    "stacked_bar.set_ylabel('number', fontsize=2)\n",
    "stacked_bar.set_title('Stacked Bar plot', fontsize=3)\n",
    "\n",
    "stacked_bar.show()"
   ]
  },
  {
   "cell_type": "code",
   "execution_count": null,
   "metadata": {},
   "outputs": [],
   "source": [
    "\n"
   ]
  }
 ],
 "metadata": {
  "kernelspec": {
   "display_name": "Python 3",
   "language": "python",
   "name": "python3"
  },
  "language_info": {
   "codemirror_mode": {
    "name": "ipython",
    "version": 3
   },
   "file_extension": ".py",
   "mimetype": "text/x-python",
   "name": "python",
   "nbconvert_exporter": "python",
   "pygments_lexer": "ipython3",
   "version": "3.7.3"
  }
 },
 "nbformat": 4,
 "nbformat_minor": 2
}
