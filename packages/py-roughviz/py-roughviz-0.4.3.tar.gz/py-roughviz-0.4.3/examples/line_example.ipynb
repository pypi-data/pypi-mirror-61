{
 "cells": [
  {
   "cell_type": "code",
   "execution_count": 1,
   "metadata": {},
   "outputs": [],
   "source": [
    "import sys\n",
    "sys.path.append(\"..\")\n",
    "\n",
    "from roughviz.charts.line import Line"
   ]
  },
  {
   "cell_type": "code",
   "execution_count": 4,
   "metadata": {},
   "outputs": [
    {
     "data": {
      "text/html": [
       "<html>\n",
       "<body>\n",
       "\n",
       "<div id=d6f70815e2034859bcdf16a592e911df></div>\n",
       "\n",
       "<script src=\"https://requirejs.org/docs/release/2.3.6/minified/require.js\"></script>\n",
       "<script>\n",
       "require.config({paths: {roughViz: \"https://unpkg.com/rough-viz@1.0.5/dist/roughviz.min\"}});\n",
       "require([\"roughViz\"], function(roughViz) {\n",
       "\n",
       "new roughViz.Line(\n",
       "  {\"data\": \"example_datasets/vis1.csv\", \"title\": \"\", \"width\": 800, \"height\": 600, \"interactive\": true, \"bowing\": 0.2, \"fillWeight\": 0, \"strokeWidth\": 1, \"roughness\": 1, \"tooltipFontSize\": \"0.95rem\", \"titleFontSize\": \"0.95rem\", \"colors\": [\"coral\", \"skyblue\", \"#66c2a5\", \"tan\", \"#8da0cb\", \"#e78ac3\", \"#a6d854\", \"#ffd92f\", \"tan\", \"orange\"], \"margin\": {\"top\": 50, \"right\": 20, \"bottom\": 70, \"left\": 100}, \"y1\": \"a\", \"y2\": \"b\", \"xLabel\": \"\", \"yLabel\": \"\", \"axisFontSize\": \"1rem\", \"labelFontSize\": \"2rem\", \"font\": \"Gaegu\", \"axisRoughness\": 0.5, \"highlight\": \"green\", \"innerStrokeWidth\": 0, \"simplification\": 0.2, \"stroke\": \"black\", \"legend\": true, \"legendPosition\": \"right\", \"circle\": true, \"circleRoughness\": 2, \"circleRadius\": 10, \"element\": \"#d6f70815e2034859bcdf16a592e911df\"}\n",
       ");\n",
       "\tvar text = document.querySelectorAll(\".xAxisd6f70815e2034859bcdf16a592e911df .tick text\");\n",
       "\tvar i;\n",
       "\tfor (i = 0; i < text.length; i++) {\n",
       "\t\ttext[i].setAttribute(\"transform\", \"rotate(0)\");\n",
       "\t\ttext[i].style.textAnchor=\"middle\";\n",
       "\t}\n",
       "\tdocument.getElementById(\"d6f70815e2034859bcdf16a592e911df\").style.height = \"px\";\n",
       "\tdocument.querySelector(\"#d6f70815e2034859bcdf16a592e911df svg\").style.height = \"px\";\n",
       "});\n",
       "</script>\n",
       "\n",
       "</body>\n",
       "</html>"
      ],
      "text/plain": [
       "<IPython.core.display.HTML object>"
      ]
     },
     "metadata": {},
     "output_type": "display_data"
    }
   ],
   "source": [
    "# Example1\n",
    "\n",
    "line = Line(data=\"example_datasets/vis1.csv\", y1=\"a\", y2=\"b\")\n",
    "line.show()"
   ]
  },
  {
   "cell_type": "code",
   "execution_count": 5,
   "metadata": {},
   "outputs": [
    {
     "data": {
      "text/html": [
       "<html>\n",
       "<body>\n",
       "\n",
       "<div id=de6914febf9e4e5fbfff6f8f5cea69da></div>\n",
       "\n",
       "<script src=\"https://requirejs.org/docs/release/2.3.6/minified/require.js\"></script>\n",
       "<script>\n",
       "require.config({paths: {roughViz: \"https://unpkg.com/rough-viz@1.0.5/dist/roughviz.min\"}});\n",
       "require([\"roughViz\"], function(roughViz) {\n",
       "\n",
       "new roughViz.Line(\n",
       "  {\"data\": \"example_datasets/vis1.csv\", \"title\": \"Line Plot\", \"width\": 800, \"height\": 600, \"interactive\": true, \"bowing\": 0.2, \"fillWeight\": 0, \"strokeWidth\": 1, \"roughness\": 1, \"tooltipFontSize\": \"0.95rem\", \"titleFontSize\": \"2rem\", \"colors\": [\"coral\", \"skyblue\", \"#66c2a5\", \"tan\", \"#8da0cb\", \"#e78ac3\", \"#a6d854\", \"#ffd92f\", \"tan\", \"orange\"], \"margin\": {\"top\": 50, \"right\": 20, \"bottom\": 70, \"left\": 100}, \"y1\": \"a\", \"y2\": \"b\", \"y3\": \"c\", \"xLabel\": \"\", \"yLabel\": \"\", \"axisFontSize\": \"1rem\", \"labelFontSize\": \"2rem\", \"font\": \"Gaegu\", \"axisRoughness\": 0.5, \"highlight\": \"green\", \"innerStrokeWidth\": 0, \"simplification\": 0.2, \"stroke\": \"black\", \"legend\": true, \"legendPosition\": \"left\", \"circle\": true, \"circleRoughness\": 2, \"circleRadius\": 10, \"element\": \"#de6914febf9e4e5fbfff6f8f5cea69da\"}\n",
       ");\n",
       "\tvar text = document.querySelectorAll(\".xAxisde6914febf9e4e5fbfff6f8f5cea69da .tick text\");\n",
       "\tvar i;\n",
       "\tfor (i = 0; i < text.length; i++) {\n",
       "\t\ttext[i].setAttribute(\"transform\", \"rotate(0)\");\n",
       "\t\ttext[i].style.textAnchor=\"middle\";\n",
       "\t}\n",
       "\tdocument.getElementById(\"de6914febf9e4e5fbfff6f8f5cea69da\").style.height = \"px\";\n",
       "\tdocument.querySelector(\"#de6914febf9e4e5fbfff6f8f5cea69da svg\").style.height = \"px\";\n",
       "});\n",
       "</script>\n",
       "\n",
       "</body>\n",
       "</html>"
      ],
      "text/plain": [
       "<IPython.core.display.HTML object>"
      ]
     },
     "metadata": {},
     "output_type": "display_data"
    }
   ],
   "source": [
    "# Example 2\n",
    "\n",
    "line = Line(data=\"example_datasets/vis1.csv\", y1=\"a\", y2=\"b\", y3=\"c\")\n",
    "line.set_legend(legend_position=\"left\")\n",
    "line.set_title(\"Line Plot\", fontsize=2)\n",
    "\n",
    "line.show()"
   ]
  },
  {
   "cell_type": "code",
   "execution_count": null,
   "metadata": {},
   "outputs": [],
   "source": []
  }
 ],
 "metadata": {
  "kernelspec": {
   "display_name": "Python 3",
   "language": "python",
   "name": "python3"
  },
  "language_info": {
   "codemirror_mode": {
    "name": "ipython",
    "version": 3
   },
   "file_extension": ".py",
   "mimetype": "text/x-python",
   "name": "python",
   "nbconvert_exporter": "python",
   "pygments_lexer": "ipython3",
   "version": "3.7.3"
  }
 },
 "nbformat": 4,
 "nbformat_minor": 2
}
