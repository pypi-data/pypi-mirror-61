{
 "cells": [
  {
   "cell_type": "code",
   "execution_count": 1,
   "metadata": {},
   "outputs": [],
   "source": [
    "import sys\n",
    "sys.path.append(\"..\")\n",
    "\n",
    "from roughviz.charts.pie import Pie"
   ]
  },
  {
   "cell_type": "code",
   "execution_count": 4,
   "metadata": {},
   "outputs": [
    {
     "data": {
      "text/html": [
       "<html>\n",
       "<body>\n",
       "\n",
       "<div id=a798f4e7703f462a92c08e00869c8645></div>\n",
       "\n",
       "<script src=\"https://requirejs.org/docs/release/2.3.6/minified/require.js\"></script>\n",
       "<script>\n",
       "require.config({paths: {roughViz: \"https://unpkg.com/rough-viz@1.0.5/dist/roughviz.min\"}});\n",
       "require([\"roughViz\"], function(roughViz) {\n",
       "\n",
       "new roughViz.Pie(\n",
       "  {\"labels\": null, \"values\": null, \"data\": {\"labels\": [\"a\", \"b\"], \"values\": [10, 20]}, \"title\": \"\", \"width\": 800, \"height\": 600, \"interactive\": true, \"bowing\": 0.2, \"fillStyle\": \"cross-hatch\", \"fillWeight\": 0, \"strokeWidth\": 1, \"roughness\": 1, \"tooltipFontSize\": \"0.95rem\", \"titleFontSize\": \"0.95rem\", \"colors\": [\"coral\", \"skyblue\", \"#66c2a5\", \"tan\", \"#8da0cb\", \"#e78ac3\", \"#a6d854\", \"#ffd92f\", \"tan\", \"orange\"], \"margin\": {\"top\": 50, \"right\": 20, \"bottom\": 70, \"left\": 100}, \"font\": 0, \"highlight\": \"green\", \"innerStrokeWidth\": 0, \"simplification\": 0.2, \"element\": \"#a798f4e7703f462a92c08e00869c8645\"}\n",
       ");\n",
       "\tvar text = document.querySelectorAll(\".xAxisa798f4e7703f462a92c08e00869c8645 .tick text\");\n",
       "\tvar i;\n",
       "\tfor (i = 0; i < text.length; i++) {\n",
       "\t\ttext[i].setAttribute(\"transform\", \"rotate(0)\");\n",
       "\t\ttext[i].style.textAnchor=\"middle\";\n",
       "\t}\n",
       "\tdocument.getElementById(\"a798f4e7703f462a92c08e00869c8645\").style.height = \"px\";\n",
       "\tdocument.querySelector(\"#a798f4e7703f462a92c08e00869c8645 svg\").style.height = \"px\";\n",
       "});\n",
       "</script>\n",
       "\n",
       "</body>\n",
       "</html>"
      ],
      "text/plain": [
       "<IPython.core.display.HTML object>"
      ]
     },
     "metadata": {},
     "output_type": "display_data"
    }
   ],
   "source": [
    "# Example 1\n",
    "\n",
    "pie = Pie(data={\"labels\": [\"a\", \"b\"], \"values\": [10, 20]})\n",
    "pie.show()"
   ]
  },
  {
   "cell_type": "code",
   "execution_count": 6,
   "metadata": {},
   "outputs": [
    {
     "data": {
      "text/html": [
       "<html>\n",
       "<body>\n",
       "\n",
       "<div id=f3805ec7ab3e4d749d284cf8319d99ad></div>\n",
       "\n",
       "<script src=\"https://requirejs.org/docs/release/2.3.6/minified/require.js\"></script>\n",
       "<script>\n",
       "require.config({paths: {roughViz: \"https://unpkg.com/rough-viz@1.0.5/dist/roughviz.min\"}});\n",
       "require([\"roughViz\"], function(roughViz) {\n",
       "\n",
       "new roughViz.Pie(\n",
       "  {\"labels\": \"a\", \"values\": \"b\", \"data\": \"example_datasets/vis2.csv\", \"title\": \"Pie Plot\", \"width\": 800, \"height\": 600, \"interactive\": true, \"bowing\": 0.2, \"fillStyle\": \"cross-hatch\", \"fillWeight\": 0, \"strokeWidth\": 1, \"roughness\": 1, \"tooltipFontSize\": \"0.95rem\", \"titleFontSize\": \"2rem\", \"colors\": [\"tan\", \"orange\"], \"margin\": {\"top\": 50, \"right\": 20, \"bottom\": 70, \"left\": 100}, \"font\": 0, \"highlight\": \"green\", \"innerStrokeWidth\": 0, \"simplification\": 0.2, \"element\": \"#f3805ec7ab3e4d749d284cf8319d99ad\"}\n",
       ");\n",
       "\tvar text = document.querySelectorAll(\".xAxisf3805ec7ab3e4d749d284cf8319d99ad .tick text\");\n",
       "\tvar i;\n",
       "\tfor (i = 0; i < text.length; i++) {\n",
       "\t\ttext[i].setAttribute(\"transform\", \"rotate(0)\");\n",
       "\t\ttext[i].style.textAnchor=\"middle\";\n",
       "\t}\n",
       "\tdocument.getElementById(\"f3805ec7ab3e4d749d284cf8319d99ad\").style.height = \"px\";\n",
       "\tdocument.querySelector(\"#f3805ec7ab3e4d749d284cf8319d99ad svg\").style.height = \"px\";\n",
       "});\n",
       "</script>\n",
       "\n",
       "</body>\n",
       "</html>"
      ],
      "text/plain": [
       "<IPython.core.display.HTML object>"
      ]
     },
     "metadata": {},
     "output_type": "display_data"
    }
   ],
   "source": [
    "pie = Pie(data=\"example_datasets/vis2.csv\", values=\"b\", labels=\"a\")\n",
    "pie.set_title(\"Pie Plot\", fontsize=2)\n",
    "pie.set_options(colors=[\"tan\", \"orange\"])\n",
    "\n",
    "pie.show()"
   ]
  },
  {
   "cell_type": "code",
   "execution_count": null,
   "metadata": {},
   "outputs": [],
   "source": []
  }
 ],
 "metadata": {
  "kernelspec": {
   "display_name": "Python 3",
   "language": "python",
   "name": "python3"
  },
  "language_info": {
   "codemirror_mode": {
    "name": "ipython",
    "version": 3
   },
   "file_extension": ".py",
   "mimetype": "text/x-python",
   "name": "python",
   "nbconvert_exporter": "python",
   "pygments_lexer": "ipython3",
   "version": "3.7.3"
  }
 },
 "nbformat": 4,
 "nbformat_minor": 2
}
