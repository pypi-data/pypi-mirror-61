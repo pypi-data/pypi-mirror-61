{
 "cells": [
  {
   "cell_type": "code",
   "execution_count": 1,
   "metadata": {},
   "outputs": [],
   "source": [
    "import sys\n",
    "sys.path.append(\"..\")\n",
    "\n",
    "from roughviz.charts.donut import Donut"
   ]
  },
  {
   "cell_type": "code",
   "execution_count": 2,
   "metadata": {},
   "outputs": [
    {
     "data": {
      "text/html": [
       "<html>\n",
       "<body>\n",
       "\n",
       "<div id=ab89fe94679b4d5d816bd9a163133343></div>\n",
       "\n",
       "<script src=\"https://requirejs.org/docs/release/2.3.6/minified/require.js\"></script>\n",
       "<script>\n",
       "require.config({paths: {roughViz: \"https://unpkg.com/rough-viz@1.0.5/dist/roughviz.min\"}});\n",
       "require([\"roughViz\"], function(roughViz) {\n",
       "\n",
       "new roughViz.Donut(\n",
       "  {\"labels\": null, \"values\": null, \"data\": {\"labels\": [\"a\", \"b\"], \"values\": [10, 20]}, \"title\": \"Donut Plot\", \"width\": 800, \"height\": 600, \"interactive\": true, \"bowing\": 0.2, \"fillStyle\": \"cross-hatch\", \"fillWeight\": 0, \"strokeWidth\": 1, \"roughness\": 1, \"tooltipFontSize\": \"0.95rem\", \"titleFontSize\": \"2rem\", \"font\": 0, \"highlight\": \"green\", \"innerStrokeWidth\": 0, \"simplification\": 0.2, \"element\": \"#ab89fe94679b4d5d816bd9a163133343\"}\n",
       ");\n",
       "\tvar text = document.querySelectorAll(\".xAxisab89fe94679b4d5d816bd9a163133343 .tick text\");\n",
       "\tvar i;\n",
       "\tfor (i = 0; i < text.length; i++) {\n",
       "\t\ttext[i].setAttribute(\"transform\", \"rotate(0)\");\n",
       "\t\ttext[i].style.textAnchor=\"middle\";\n",
       "\t}\n",
       "\tdocument.getElementById(\"ab89fe94679b4d5d816bd9a163133343\").style.height = \"px\";\n",
       "\tdocument.querySelector(\"#ab89fe94679b4d5d816bd9a163133343 svg\").style.height = \"px\";\n",
       "});\n",
       "</script>\n",
       "\n",
       "</body>\n",
       "</html>"
      ],
      "text/plain": [
       "<IPython.core.display.HTML object>"
      ]
     },
     "metadata": {},
     "output_type": "display_data"
    }
   ],
   "source": [
    "# Example 1\n",
    "\n",
    "donut = Donut(data={\"labels\": ['a', 'b'], \"values\": [10, 20]}, title=\"Donut Plot\", title_fontsize=2)\n",
    "donut.show()"
   ]
  },
  {
   "cell_type": "code",
   "execution_count": 9,
   "metadata": {},
   "outputs": [
    {
     "data": {
      "text/html": [
       "<html>\n",
       "<body>\n",
       "\n",
       "<div id=de0614ed132c477bbb7c63515c801229></div>\n",
       "\n",
       "<script src=\"https://requirejs.org/docs/release/2.3.6/minified/require.js\"></script>\n",
       "<script>\n",
       "require.config({paths: {roughViz: \"https://unpkg.com/rough-viz@1.0.5/dist/roughviz.min\"}});\n",
       "require([\"roughViz\"], function(roughViz) {\n",
       "\n",
       "new roughViz.Donut(\n",
       "  {\"labels\": \"a\", \"values\": \"b\", \"data\": \"example_datasets/vis2.csv\", \"title\": \"Donut Plot\", \"width\": 800, \"height\": 600, \"interactive\": true, \"bowing\": 0.2, \"fillStyle\": \"cross-hatch\", \"fillWeight\": 0, \"strokeWidth\": 1, \"roughness\": 1, \"tooltipFontSize\": \"0.95rem\", \"titleFontSize\": \"2rem\", \"font\": 0, \"highlight\": \"green\", \"innerStrokeWidth\": 0, \"simplification\": 0.2, \"element\": \"#de0614ed132c477bbb7c63515c801229\"}\n",
       ");\n",
       "\tvar text = document.querySelectorAll(\".xAxisde0614ed132c477bbb7c63515c801229 .tick text\");\n",
       "\tvar i;\n",
       "\tfor (i = 0; i < text.length; i++) {\n",
       "\t\ttext[i].setAttribute(\"transform\", \"rotate(0)\");\n",
       "\t\ttext[i].style.textAnchor=\"middle\";\n",
       "\t}\n",
       "\tdocument.getElementById(\"de0614ed132c477bbb7c63515c801229\").style.height = \"px\";\n",
       "\tdocument.querySelector(\"#de0614ed132c477bbb7c63515c801229 svg\").style.height = \"px\";\n",
       "});\n",
       "</script>\n",
       "\n",
       "</body>\n",
       "</html>"
      ],
      "text/plain": [
       "<IPython.core.display.HTML object>"
      ]
     },
     "metadata": {},
     "output_type": "display_data"
    }
   ],
   "source": [
    "# Example 2\n",
    "\n",
    "donut = Donut(data=\"example_datasets/vis2.csv\", values=\"b\", labels=\"a\", \n",
    "              title=\"Donut Plot\", title_fontsize=2)\n",
    "\n",
    "donut.show()"
   ]
  },
  {
   "cell_type": "code",
   "execution_count": null,
   "metadata": {},
   "outputs": [],
   "source": []
  }
 ],
 "metadata": {
  "kernelspec": {
   "display_name": "Python 3",
   "language": "python",
   "name": "python3"
  },
  "language_info": {
   "codemirror_mode": {
    "name": "ipython",
    "version": 3
   },
   "file_extension": ".py",
   "mimetype": "text/x-python",
   "name": "python",
   "nbconvert_exporter": "python",
   "pygments_lexer": "ipython3",
   "version": "3.7.3"
  }
 },
 "nbformat": 4,
 "nbformat_minor": 2
}
