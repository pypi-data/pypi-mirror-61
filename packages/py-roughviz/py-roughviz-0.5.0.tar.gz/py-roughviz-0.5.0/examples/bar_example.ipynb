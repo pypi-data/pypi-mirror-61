{
 "cells": [
  {
   "cell_type": "code",
   "execution_count": 1,
   "metadata": {},
   "outputs": [],
   "source": [
    "import sys\n",
    "sys.path.append(\"..\")\n",
    "\n",
    "from roughviz.charts.bar import Bar"
   ]
  },
  {
   "cell_type": "code",
   "execution_count": 6,
   "metadata": {},
   "outputs": [
    {
     "data": {
      "text/html": [
       "<html>\n",
       "<body>\n",
       "\n",
       "<div id=db38eebcf03947589cdcc95e652f3059></div>\n",
       "\n",
       "<script src=\"https://requirejs.org/docs/release/2.3.6/minified/require.js\"></script>\n",
       "<script>\n",
       "require.config({paths: {roughViz: \"https://unpkg.com/rough-viz@1.0.5/dist/roughviz.min\"}});\n",
       "require([\"roughViz\"], function(roughViz) {\n",
       "\n",
       "new roughViz.Bar(\n",
       "  {\"labels\": null, \"values\": null, \"data\": {\"labels\": [\"North\", \"South\", \"East\", \"West\"], \"values\": [10, 5, 8, 3]}, \"title\": \"Regions\", \"width\": 800, \"height\": 600, \"interactive\": true, \"bowing\": 0.2, \"fillStyle\": \"cross-hatch\", \"fillWeight\": 0, \"strokeWidth\": 1, \"roughness\": 1, \"tooltipFontSize\": \"0.95rem\", \"titleFontSize\": \"0.95rem\", \"xLabel\": \"\", \"yLabel\": \"\", \"axisFontSize\": \"1.5rem\", \"labelFontSize\": \"2rem\", \"color\": \"skyblue\", \"axisRoughness\": 0.5, \"highlight\": \"green\", \"innerStrokeWidth\": 0, \"padding\": 0.1, \"simplification\": 0.2, \"stroke\": \"black\", \"element\": \"#db38eebcf03947589cdcc95e652f3059\"}\n",
       ");\n",
       "\tvar text = document.querySelectorAll(\".xAxisdb38eebcf03947589cdcc95e652f3059 .tick text\");\n",
       "\tvar i;\n",
       "\tfor (i = 0; i < text.length; i++) {\n",
       "\t\ttext[i].setAttribute(\"transform\", \"rotate(0)\");\n",
       "\t\ttext[i].style.textAnchor=\"middle\";\n",
       "\t}\n",
       "\tdocument.getElementById(\"db38eebcf03947589cdcc95e652f3059\").style.height = \"px\";\n",
       "\tdocument.querySelector(\"#db38eebcf03947589cdcc95e652f3059 svg\").style.height = \"px\";\n",
       "});\n",
       "</script>\n",
       "\n",
       "</body>\n",
       "</html>"
      ],
      "text/plain": [
       "<IPython.core.display.HTML object>"
      ]
     },
     "metadata": {},
     "output_type": "display_data"
    }
   ],
   "source": [
    "# Basic Plotting using dictionary data.\n",
    "\n",
    "data = {\n",
    "    \"labels\": [\"North\", \"South\", \"East\", \"West\"],\n",
    "    \"values\": [10, 5, 8, 3]\n",
    "}\n",
    "\n",
    "bar = Bar(data=data, title=\"Regions\")\n",
    "bar.show()"
   ]
  },
  {
   "cell_type": "code",
   "execution_count": 8,
   "metadata": {},
   "outputs": [
    {
     "data": {
      "text/html": [
       "<html>\n",
       "<body>\n",
       "\n",
       "<div id=fa0b668fc6c24cb79f69c6f8df11dd75></div>\n",
       "\n",
       "<script src=\"https://requirejs.org/docs/release/2.3.6/minified/require.js\"></script>\n",
       "<script>\n",
       "require.config({paths: {roughViz: \"https://unpkg.com/rough-viz@1.0.5/dist/roughviz.min\"}});\n",
       "require([\"roughViz\"], function(roughViz) {\n",
       "\n",
       "new roughViz.Bar(\n",
       "  {\"labels\": null, \"values\": null, \"data\": {\"labels\": [\"North\", \"South\", \"East\", \"West\"], \"values\": [10, 5, 8, 3]}, \"title\": \"Regions\", \"width\": 800, \"height\": 600, \"interactive\": true, \"bowing\": 0.2, \"fillStyle\": \"cross-hatch\", \"fillWeight\": 0, \"strokeWidth\": 1, \"roughness\": 1, \"tooltipFontSize\": \"0.95rem\", \"titleFontSize\": \"0.95rem\", \"xLabel\": \"Region\", \"yLabel\": \"Number\", \"axisFontSize\": \"1.5rem\", \"labelFontSize\": \"3rem\", \"color\": \"skyblue\", \"axisRoughness\": 0.5, \"highlight\": \"green\", \"innerStrokeWidth\": 0, \"padding\": 0.1, \"simplification\": 0.2, \"stroke\": \"black\", \"element\": \"#fa0b668fc6c24cb79f69c6f8df11dd75\"}\n",
       ");\n",
       "\tvar text = document.querySelectorAll(\".xAxisfa0b668fc6c24cb79f69c6f8df11dd75 .tick text\");\n",
       "\tvar i;\n",
       "\tfor (i = 0; i < text.length; i++) {\n",
       "\t\ttext[i].setAttribute(\"transform\", \"rotate(0)\");\n",
       "\t\ttext[i].style.textAnchor=\"middle\";\n",
       "\t}\n",
       "\tdocument.getElementById(\"fa0b668fc6c24cb79f69c6f8df11dd75\").style.height = \"px\";\n",
       "\tdocument.querySelector(\"#fa0b668fc6c24cb79f69c6f8df11dd75 svg\").style.height = \"px\";\n",
       "});\n",
       "</script>\n",
       "\n",
       "</body>\n",
       "</html>"
      ],
      "text/plain": [
       "<IPython.core.display.HTML object>"
      ]
     },
     "metadata": {},
     "output_type": "display_data"
    }
   ],
   "source": [
    "# Except setting options during initialization, you could also add options alongside\n",
    "\n",
    "data = {\n",
    "    \"labels\": [\"North\", \"South\", \"East\", \"West\"],\n",
    "    \"values\": [10, 5, 8, 3]\n",
    "}\n",
    "\n",
    "bar = Bar(data=data, title=\"Regions\")\n",
    "bar.set_xlabel(\"Region\", fontsize=3)\n",
    "bar.set_ylabel(\"Number\", fontsize=3)\n",
    "bar.show()"
   ]
  },
  {
   "cell_type": "code",
   "execution_count": 9,
   "metadata": {},
   "outputs": [
    {
     "data": {
      "text/html": [
       "<html>\n",
       "<body>\n",
       "\n",
       "<div id=a5cea2599d9e4a399cf50b282d5218b9></div>\n",
       "\n",
       "<script src=\"https://requirejs.org/docs/release/2.3.6/minified/require.js\"></script>\n",
       "<script>\n",
       "require.config({paths: {roughViz: \"https://unpkg.com/rough-viz@1.0.5/dist/roughviz.min\"}});\n",
       "require([\"roughViz\"], function(roughViz) {\n",
       "\n",
       "new roughViz.Bar(\n",
       "  {\"labels\": null, \"values\": null, \"data\": {\"labels\": [\"North\", \"South\", \"East\", \"West\"], \"values\": [10, 5, 8, 3]}, \"title\": \"Regions\", \"width\": 800, \"height\": 600, \"interactive\": true, \"bowing\": 0.2, \"fillStyle\": \"cross-hatch\", \"fillWeight\": 0, \"strokeWidth\": 1, \"roughness\": 1, \"tooltipFontSize\": \"0.95rem\", \"titleFontSize\": \"3rem\", \"xLabel\": \"Region\", \"yLabel\": \"Number\", \"axisFontSize\": \"1.5rem\", \"labelFontSize\": \"2rem\", \"color\": \"orange\", \"axisRoughness\": 0.5, \"highlight\": \"green\", \"innerStrokeWidth\": 0, \"padding\": 0.1, \"simplification\": 0.2, \"stroke\": \"black\", \"element\": \"#a5cea2599d9e4a399cf50b282d5218b9\"}\n",
       ");\n",
       "\tvar text = document.querySelectorAll(\".xAxisa5cea2599d9e4a399cf50b282d5218b9 .tick text\");\n",
       "\tvar i;\n",
       "\tfor (i = 0; i < text.length; i++) {\n",
       "\t\ttext[i].setAttribute(\"transform\", \"rotate(0)\");\n",
       "\t\ttext[i].style.textAnchor=\"middle\";\n",
       "\t}\n",
       "\tdocument.getElementById(\"a5cea2599d9e4a399cf50b282d5218b9\").style.height = \"px\";\n",
       "\tdocument.querySelector(\"#a5cea2599d9e4a399cf50b282d5218b9 svg\").style.height = \"px\";\n",
       "});\n",
       "</script>\n",
       "\n",
       "</body>\n",
       "</html>"
      ],
      "text/plain": [
       "<IPython.core.display.HTML object>"
      ]
     },
     "metadata": {},
     "output_type": "display_data"
    }
   ],
   "source": [
    "# Or you could add options in a dictionary and add them in one go\n",
    "\n",
    "data = {\n",
    "    \"labels\": [\"North\", \"South\", \"East\", \"West\"],\n",
    "    \"values\": [10, 5, 8, 3]\n",
    "}\n",
    "\n",
    "bar = Bar(data=data, title=\"Regions\", title_fontsize=3)\n",
    "bar.set_options(xlabel=\"Region\", ylabel=\"Number\", color=\"orange\")\n",
    "bar.show()"
   ]
  },
  {
   "cell_type": "code",
   "execution_count": 5,
   "metadata": {},
   "outputs": [
    {
     "data": {
      "text/html": [
       "<html>\n",
       "<body>\n",
       "\n",
       "<div id=f607c9f7a1fd4a80ac2bb837ff779ece></div>\n",
       "\n",
       "<script src=\"https://requirejs.org/docs/release/2.3.6/minified/require.js\"></script>\n",
       "<script>\n",
       "require.config({paths: {roughViz: \"https://unpkg.com/rough-viz@1.0.5/dist/roughviz.min\"}});\n",
       "require([\"roughViz\"], function(roughViz) {\n",
       "\n",
       "new roughViz.Bar(\n",
       "  {\"labels\": \"a\", \"values\": \"b\", \"data\": \"example_datasets/vis2.csv\", \"title\": \"Regions\", \"width\": 800, \"height\": 600, \"interactive\": true, \"bowing\": 0.2, \"fillStyle\": \"cross-hatch\", \"fillWeight\": 0, \"strokeWidth\": 1, \"roughness\": 1, \"tooltipFontSize\": \"0.95rem\", \"titleFontSize\": \"3rem\", \"xLabel\": \"Region\", \"yLabel\": \"Number\", \"axisFontSize\": \"1.5rem\", \"labelFontSize\": \"2rem\", \"color\": \"orange\", \"axisRoughness\": 0.5, \"highlight\": \"green\", \"innerStrokeWidth\": 0, \"padding\": 0.1, \"simplification\": 0.2, \"stroke\": \"black\", \"element\": \"#f607c9f7a1fd4a80ac2bb837ff779ece\"}\n",
       ");\n",
       "\tvar text = document.querySelectorAll(\".xAxisf607c9f7a1fd4a80ac2bb837ff779ece .tick text\");\n",
       "\tvar i;\n",
       "\tfor (i = 0; i < text.length; i++) {\n",
       "\t\ttext[i].setAttribute(\"transform\", \"rotate(0)\");\n",
       "\t\ttext[i].style.textAnchor=\"middle\";\n",
       "\t}\n",
       "\tdocument.getElementById(\"f607c9f7a1fd4a80ac2bb837ff779ece\").style.height = \"px\";\n",
       "\tdocument.querySelector(\"#f607c9f7a1fd4a80ac2bb837ff779ece svg\").style.height = \"px\";\n",
       "});\n",
       "</script>\n",
       "\n",
       "</body>\n",
       "</html>"
      ],
      "text/plain": [
       "<IPython.core.display.HTML object>"
      ]
     },
     "metadata": {},
     "output_type": "display_data"
    }
   ],
   "source": [
    "# Example to call from csv\n",
    "\n",
    "bar = Bar(data=\"example_datasets/vis2.csv\", labels=\"a\", values=\"b\", title=\"Regions\", title_fontsize=3)\n",
    "bar.set_options(xlabel=\"Region\", ylabel=\"Number\", color=\"orange\")\n",
    "bar.show()"
   ]
  },
  {
   "cell_type": "code",
   "execution_count": null,
   "metadata": {},
   "outputs": [],
   "source": []
  }
 ],
 "metadata": {
  "kernelspec": {
   "display_name": "Python 3",
   "language": "python",
   "name": "python3"
  },
  "language_info": {
   "codemirror_mode": {
    "name": "ipython",
    "version": 3
   },
   "file_extension": ".py",
   "mimetype": "text/x-python",
   "name": "python",
   "nbconvert_exporter": "python",
   "pygments_lexer": "ipython3",
   "version": "3.7.3"
  }
 },
 "nbformat": 4,
 "nbformat_minor": 2
}
