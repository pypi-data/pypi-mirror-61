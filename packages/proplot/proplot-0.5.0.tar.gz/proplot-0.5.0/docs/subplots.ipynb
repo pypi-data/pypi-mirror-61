{
 "cells": [
  {
   "cell_type": "markdown",
   "metadata": {},
   "source": [
    "# Subplots features"
   ]
  },
  {
   "cell_type": "markdown",
   "metadata": {},
   "source": [
    "## Automatic figure sizing"
   ]
  },
  {
   "cell_type": "raw",
   "metadata": {
    "raw_mimetype": "text/restructuredtext"
   },
   "source": [
    "By default, ProPlot automatically determines the suitable figure size given the geometry of your subplot grid. The figure size is constrained by the physical size of a *reference subplot*. This algorithm is controlled by a variety of `~proplot.subplots.subplots` keyword arguments:\n",
    "\n",
    "* `ref` sets the reference subplot number (default is ``1``, i.e. the subplot in the upper left corner).\n",
    "* `aspect` sets the reference subplot aspect ratio (default is ``1``). You can also use matplotlib's `~matplotlib.axes.Axes.set_aspect`.\n",
    "* `axwidth` and `axheight` set the physical dimensions of the *reference subplot* (default is ``axwidth=2``). If one is specified, the other is calculated to satisfy `aspect`. If both are specified, `aspect` is ignored. The physical dimensions of the *figure* are determined automatically.\n",
    "* `width` and `height` set the physical dimensions of the *figure*. If one is specified, the other is calculated to satisfy `aspect` and the subplot spacing. If both are specified (or if the matplotlib `figsize` parameter is specified), `aspect` is ignored.\n",
    "\n",
    "This algorithm also includes the following notable features:\n",
    "\n",
    "* For very simple subplot grids (e.g. ``plot.subplots(ncols=2, nrows=3)``), `aspect`, `axwidth`, and `axheight` apply to every subplot in the figure -- not just the reference subplot.\n",
    "* When the reference subplot `aspect ratio <https://matplotlib.org/2.0.2/examples/pylab_examples/equal_aspect_ratio.html>`__ has been manually overridden (e.g. with ``ax.set_aspect(1)``) or is set to ``'equal'`` (as with :ref:`map projections <Geographic and polar plots>` and `~matplotlib.axes.Axes.imshow` images), the `aspect` parameter is ignored.\n",
    "* When `~proplot.axes.Axes.colorbar`\\ s and `~proplot.axes.Axes.panel`\\ s are present in the figure, their physical widths are *preserved* during figure resizing. ProPlot specifies their widths in physical units to help avoid colorbars that look \"too skinny\" or \"too fat\".\n",
    "\n",
    "The below examples demonstrate the default behavior of the automatic figure sizing algorithm, and how it can be controlled with `~proplot.subplots.subplots` keyword arguments."
   ]
  },
  {
   "cell_type": "code",
   "execution_count": null,
   "metadata": {},
   "outputs": [],
   "source": [
    "import proplot as plot\n",
    "import numpy as np\n",
    "# Cartopy projections\n",
    "f, axs = plot.subplots(ncols=2, nrows=3, proj='robin')\n",
    "axs.format(\n",
    "    land=True, landcolor='k',\n",
    "    suptitle='Auto figure sizing with grid of cartopy projections'\n",
    ")\n",
    "\n",
    "# Images\n",
    "state = np.random.RandomState(51423)\n",
    "f, axs = plot.subplots(ncols=2, nrows=3)\n",
    "colors = state.rand(10, 20, 3).cumsum(axis=2)\n",
    "colors /= colors.max()\n",
    "axs.imshow(colors)\n",
    "axs.format(\n",
    "    land=True, landcolor='k',\n",
    "    suptitle='Auto figure sizing with grid of images'\n",
    ")"
   ]
  },
  {
   "cell_type": "code",
   "execution_count": null,
   "metadata": {},
   "outputs": [],
   "source": [
    "import proplot as plot\n",
    "# Loop through different axes widths\n",
    "suptitle = 'Effect of subplot properties on figure size'\n",
    "for axwidth in ('4cm', '6cm'):\n",
    "    f, axs = plot.subplots(ncols=2, axwidth=axwidth,)\n",
    "    axs[0].format(\n",
    "        suptitle=suptitle,\n",
    "        title=f'axwidth = {axwidth}', titleweight='bold',\n",
    "        titleloc='uc', titlecolor='red9',\n",
    "    )\n",
    "    \n",
    "# Loop through different aspect ratios\n",
    "for aspect in (1, (3,2)):\n",
    "    f, axs = plot.subplots(ncols=2, nrows=2, axwidth=1.6, aspect=aspect)\n",
    "    axs[0].format(\n",
    "        suptitle=suptitle,\n",
    "        title=f'aspect = {aspect}', titleweight='bold',\n",
    "        titleloc='uc', titlecolor='red9',\n",
    "    )"
   ]
  },
  {
   "cell_type": "code",
   "execution_count": null,
   "metadata": {},
   "outputs": [],
   "source": [
    "import proplot as plot\n",
    "# Changing the reference subplot in the presence of unequal width/height ratios\n",
    "suptitle = 'Effect of reference subplot on figure size'\n",
    "for ref in (1, 2):\n",
    "    f, axs = plot.subplots(\n",
    "        ref=ref, nrows=3, ncols=3, wratios=(3, 2, 2),\n",
    "        axwidth=1.1,\n",
    "    )\n",
    "    axs[ref-1].format(\n",
    "        suptitle=suptitle,\n",
    "        title='reference axes', titleweight='bold',\n",
    "        titleloc='uc', titlecolor='red9'\n",
    "    )\n",
    "\n",
    "# Changing the reference subplot in a complex grid\n",
    "for ref in (3, 2):\n",
    "    f, axs = plot.subplots(\n",
    "        [[1, 1, 2], [3, 4, 4]],\n",
    "        hratios=(1, 1.5), wratios=(3, 2, 2),\n",
    "        ref=ref, axwidth=1.1, span=False\n",
    "    )\n",
    "    axs[ref-1].format(\n",
    "        suptitle=suptitle,\n",
    "        title='reference axes', titleweight='bold',\n",
    "        titleloc='uc', titlecolor='red9'\n",
    "    )"
   ]
  },
  {
   "cell_type": "markdown",
   "metadata": {},
   "source": [
    "## Automatic subplot spacing"
   ]
  },
  {
   "cell_type": "raw",
   "metadata": {
    "raw_mimetype": "text/restructuredtext"
   },
   "source": [
    "By default, ProPlot applies a *tight layout* algorithm to every figure. This algorithm automatically adjusts the space between subplot rows and columns and the figure edge to accomadate labels. It can be disabled by passing ``tight=False`` to `~proplot.subplots.subplots`.\n",
    "\n",
    "While matplotlib has `its own tight layout algorithm <https://matplotlib.org/3.1.1/tutorials/intermediate/tight_layout_guide.html>`__, ProPlot's algorithm permits variable spacing between subsequent subplot rows and columns (see the new `~proplot.subplots.GridSpec` class) and may change the figure size (depending on the keyword arguments passed to `~proplot.subplots.subplots`).\n",
    "\n",
    "ProPlot's tight layout algorithm can also be easily overridden. When you pass a spacing argument like `left`, `right`, `top`, `bottom`, `wspace`, or `hspace` to `~proplot.subplots.subplots`, that value is always respected:\n",
    "\n",
    "* With ``left='2em'``, the left margin is fixed but the right, bottom, and top margins are calculated automatically.\n",
    "* With ``wspace=('3em', None)`` (and ``ncols=3``), the space between the first two columns is fixed, while the space between the second two columns is calculated automatically.\n",
    "\n",
    "The below examples demonstrate how the tight layout algorithm permits variable spacing between subplot rows and columns."
   ]
  },
  {
   "cell_type": "code",
   "execution_count": null,
   "metadata": {},
   "outputs": [],
   "source": [
    "import proplot as plot\n",
    "f, axs = plot.subplots(\n",
    "    ref=ref, nrows=3, ncols=3, axwidth=1.1, share=0\n",
    ")\n",
    "axs[ref-1].format(\n",
    "    title='reference axes', titleweight='bold',\n",
    "    titleloc='uc', titlecolor='red9'\n",
    ")\n",
    "axs[4].format(\n",
    "    title='title\\ntitle\\ntitle',\n",
    "    suptitle='Tight layout with variable row-column spacing'\n",
    ")\n",
    "axs[1].format(ylabel='ylabel\\nylabel\\nylabel')\n",
    "axs[:4:2].format(xlabel='xlabel\\nxlabel\\nxlabel')\n",
    "axs.format(\n",
    "    rowlabels=['Row 1', 'Row 2', 'Row 3'],\n",
    "    collabels=['Column 1', 'Column 2', 'Column 3']\n",
    ")"
   ]
  },
  {
   "cell_type": "code",
   "execution_count": null,
   "metadata": {},
   "outputs": [],
   "source": [
    "import proplot as plot\n",
    "f, axs = plot.subplots(\n",
    "    ncols=4, nrows=3, wspace=(0, 0, None), hspace=(0, None),\n",
    "    bottom='5em', right='5em', span=False,\n",
    "    axwidth=1.1,\n",
    ")\n",
    "axs.format(\n",
    "    suptitle='Tight layout with user overrides',\n",
    "    rowlabels=['Row 1', 'Row 2', 'Row 3'],\n",
    "    collabels=['Column 1', 'Column 2', 'Column 3', 'Column 4']\n",
    ")\n",
    "axs[0, :].format(xtickloc='top')\n",
    "axs[2, :].format(xtickloc='both')\n",
    "axs[:, 1].format(ytickloc='neither')\n",
    "axs[:, 2].format(ytickloc='right')\n",
    "axs[:, 3].format(ytickloc='both')\n",
    "axs[-1, :].format(title='Title\\nTitle\\nTitle', xlabel='xlabel')\n",
    "axs[:, 0].format(ylabel='ylabel\\nylabel')"
   ]
  },
  {
   "cell_type": "markdown",
   "metadata": {},
   "source": [
    "## Arbitrary physical units"
   ]
  },
  {
   "cell_type": "raw",
   "metadata": {
    "raw_mimetype": "text/restructuredtext"
   },
   "source": [
    "ProPlot supports *arbitrary physical units* for controlling the figure `width` and `height`; the reference subplot `axwidth` and `axheight`; the gridspec spacing values `left`, `right`, `bottom`, `top`, `wspace`, and `hspace`; and in a few other places, e.g. `~proplot.axes.Axes.panel` and `~proplot.axes.Axes.colorbar` widths.\n",
    "\n",
    "If a sizing argument is numeric, the units are inches or points, and if string, the units are interpreted by `~proplot.utils.units`. A table of acceptable units is found in the `~proplot.utils.units` documentation. They include centimeters, millimeters, pixels, `em-heights <https://en.wikipedia.org/wiki/Em_(typography)>`__, and `points <https://en.wikipedia.org/wiki/Point_(typography)>`__."
   ]
  },
  {
   "cell_type": "code",
   "execution_count": null,
   "metadata": {},
   "outputs": [],
   "source": [
    "import proplot as plot\n",
    "import numpy as np\n",
    "with plot.rc.context(small='12px', large='15px', linewidth='0.5mm'):\n",
    "    f, axs = plot.subplots(\n",
    "        ncols=3, width='15cm', height='2.5in',\n",
    "        wspace=('10pt', '20pt'), right='10mm'\n",
    "    )\n",
    "    panel = axs[2].panel_axes('r', width='2em')\n",
    "axs.format(\n",
    "    suptitle='Arguments with arbitrary units',\n",
    "    xlabel='x axis', ylabel='y axis'\n",
    ")"
   ]
  },
  {
   "cell_type": "markdown",
   "metadata": {},
   "source": [
    "## Subplot numbers and labels"
   ]
  },
  {
   "cell_type": "raw",
   "metadata": {
    "raw_mimetype": "text/restructuredtext"
   },
   "source": [
    "ProPlot assigns unique numbers to subplots. The number order determines the order the subplots appear in the `~proplot.subplots.subplot_grid` and the order of \"a-b-c\" labels generated by `~proplot.axes.Axes.format`. If you did not provide a 2D array, the number order is row-major by default but can be made column-major by passing ``order='F'`` to `~proplot.subplots.subplots`. The \"a-b-c\" label position and style can be changed with `~proplot.axes.Axes.format`."
   ]
  },
  {
   "cell_type": "code",
   "execution_count": null,
   "metadata": {},
   "outputs": [],
   "source": [
    "import proplot as plot\n",
    "f, axs = plot.subplots(nrows=8, ncols=8, axwidth=0.7, space=0)\n",
    "axs.format(\n",
    "    abc=True, abcloc='ur', xlabel='x axis', ylabel='y axis',\n",
    "    xticks=[], yticks=[], suptitle='Subplot labels demo'\n",
    ")"
   ]
  },
  {
   "cell_type": "markdown",
   "metadata": {},
   "source": [
    "## Shared and spanning labels"
   ]
  },
  {
   "cell_type": "raw",
   "metadata": {
    "raw_mimetype": "text/restructuredtext"
   },
   "source": [
    "Matplotlib has an \"axis sharing\" feature that holds axis limits the same for axes within a grid of subplots. But this has no effect on the axis labels and tick labels, which can lead to lots of redundancies.\n",
    "\n",
    "To help you eliminate these redundancies, ProPlot introduces *four axis-sharing options* and a new *spanning label option*, controlled by the `share`, `sharex`, `sharey`, `span`, `spanx`, and `spany` `~proplot.subplots.subplots` keyword args. \"Sharing level\" ``1`` hides inner *x* and *y* axis labels. \"Sharing level\" ``2`` is the same as ``1``, but the *x* and *y* axis limits are locked. \"Sharing level\" ``3`` is the same as ``2``, but the *x* and *y* tick labels are hidden. \"Spanning labels\" are centered *x* and *y* axis labels used for subplots whose spines are on the same row or column. See the below example.\n",
    "\n",
    "Note that the the \"shared\" and \"spanning\" axes are determined automatically based on the extent of each subplot in the `~proplot.subplots.GridSpec`. Since ProPlot uses just one `~proplot.subplots.GridSpec` per figure, this can be done with zero ambiguity."
   ]
  },
  {
   "cell_type": "code",
   "execution_count": null,
   "metadata": {},
   "outputs": [],
   "source": [
    "import proplot as plot\n",
    "import numpy as np\n",
    "N = 50\n",
    "M = 40\n",
    "state = np.random.RandomState(51423)\n",
    "colors = plot.Colors('grays_r', M, left=0.1, right=0.8)\n",
    "datas = []\n",
    "for scale in (1, 3, 7, 0.2):\n",
    "    data = scale * (state.rand(N, M) - 0.5).cumsum(axis=0)[N//2:, :]\n",
    "    datas.append(data)\n",
    "# Same plot with different sharing and spanning settings\n",
    "for share in (0, 1, 2, 3):\n",
    "    f, axs = plot.subplots(\n",
    "        ncols=4, aspect=1, axwidth=1.2,\n",
    "        sharey=share, spanx=share//2\n",
    "    )\n",
    "    for ax, data in zip(axs, datas):\n",
    "        ax.plot(data, cycle=colors)\n",
    "        ax.format(\n",
    "            suptitle=f'Axis-sharing level: {share}, spanning labels {[\"off\",\"on\"][share//2]}',\n",
    "            grid=False, xlabel='spanning', ylabel='shared'\n",
    "        )"
   ]
  },
  {
   "cell_type": "code",
   "execution_count": null,
   "metadata": {},
   "outputs": [],
   "source": [
    "import proplot as plot\n",
    "import numpy as np\n",
    "plot.rc.reset()\n",
    "plot.rc.cycle = 'Set3'\n",
    "state = np.random.RandomState(51423)\n",
    "titles = ['With redundant labels', 'Without redundant labels']\n",
    "# Same plot with and without default sharing settings\n",
    "for mode in (0, 1):\n",
    "    f, axs = plot.subplots(\n",
    "        nrows=4, ncols=4, share=3*mode,\n",
    "        span=1*mode, axwidth=1\n",
    "    )\n",
    "    for ax in axs:\n",
    "        ax.plot((state.rand(100, 20) - 0.4).cumsum(axis=0))\n",
    "    axs.format(\n",
    "        xlabel='xlabel', ylabel='ylabel', suptitle=titles[mode],\n",
    "        abc=True, abcloc='ul',\n",
    "        grid=False, xticks=25, yticks=5\n",
    "    )"
   ]
  }
 ],
 "metadata": {
  "celltoolbar": "Raw Cell Format",
  "kernelspec": {
   "display_name": "Python 3",
   "language": "python",
   "name": "python3"
  },
  "language_info": {
   "codemirror_mode": {
    "name": "ipython",
    "version": 3
   },
   "file_extension": ".py",
   "mimetype": "text/x-python",
   "name": "python",
   "nbconvert_exporter": "python",
   "pygments_lexer": "ipython3",
   "version": "3.7.3"
  },
  "toc": {
   "colors": {
    "hover_highlight": "#ece260",
    "navigate_num": "#000000",
    "navigate_text": "#000000",
    "running_highlight": "#FF0000",
    "selected_highlight": "#fff968",
    "sidebar_border": "#ffffff",
    "wrapper_background": "#ffffff"
   },
   "moveMenuLeft": false,
   "nav_menu": {
    "height": "12px",
    "width": "250px"
   },
   "navigate_menu": true,
   "number_sections": true,
   "sideBar": true,
   "threshold": 4,
   "toc_cell": false,
   "toc_section_display": "block",
   "toc_window_display": true,
   "widenNotebook": false
  },
  "varInspector": {
   "cols": {
    "lenName": 16,
    "lenType": 16,
    "lenVar": 40
   },
   "kernels_config": {
    "python": {
     "delete_cmd_postfix": "",
     "delete_cmd_prefix": "del ",
     "library": "var_list.py",
     "varRefreshCmd": "print(var_dic_list())"
    },
    "r": {
     "delete_cmd_postfix": ") ",
     "delete_cmd_prefix": "rm(",
     "library": "var_list.r",
     "varRefreshCmd": "cat(var_dic_list()) "
    }
   },
   "types_to_exclude": [
    "module",
    "function",
    "builtin_function_or_method",
    "instance",
    "_Feature"
   ],
   "window_display": false
  }
 },
 "nbformat": 4,
 "nbformat_minor": 2
}
