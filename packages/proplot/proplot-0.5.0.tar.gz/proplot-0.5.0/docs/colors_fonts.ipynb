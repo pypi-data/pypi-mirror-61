{
 "cells": [
  {
   "cell_type": "markdown",
   "metadata": {},
   "source": [
    "# Colors and fonts"
   ]
  },
  {
   "cell_type": "raw",
   "metadata": {
    "raw_mimetype": "text/restructuredtext"
   },
   "source": [
    "ProPlot registers several new color names and font families, and includes tools for defining your own color names and adding your own font families. These features are described below."
   ]
  },
  {
   "cell_type": "markdown",
   "metadata": {},
   "source": [
    "## Included colors"
   ]
  },
  {
   "cell_type": "raw",
   "metadata": {
    "raw_mimetype": "text/restructuredtext"
   },
   "source": [
    "ProPlot defines new color names from the `XKCD color survey <https://blog.xkcd.com/2010/05/03/color-survey-results/>`__, official `Crayola crayon colors <https://en.wikipedia.org/wiki/List_of_Crayola_crayon_colors>`__, and from the `\"Open color\" <https://github.com/yeun/open-color>`__ Github project. This was inspired by `seaborn <https://seaborn.pydata.org/tutorial/color_palettes.html>`__. Use `~proplot.styletools.show_colors` to generate tables of these colors. Note that the native matplotlib `CSS4 named colors <https://matplotlib.org/examples/color/named_colors.html>`__ are still registered, but we encourage using colors from the tables instead.\n",
    "\n",
    "To reduce the number of registered color names to a more manageable size, ProPlot filters the available XKCD and Crayola colors so that they have *sufficiently distinct coordinates* in the perceptually uniform hue-chroma-luminance colorspace. This makes it a bit easier to pick out colors from the table generated with `~proplot.styletools.show_colors`. Similar names were also cleaned up -- for example, ``'reddish'`` and ``'reddy'`` are changed to ``'red'``."
   ]
  },
  {
   "cell_type": "code",
   "execution_count": null,
   "metadata": {},
   "outputs": [],
   "source": [
    "import proplot as plot\n",
    "figs = plot.show_colors()"
   ]
  },
  {
   "cell_type": "markdown",
   "metadata": {},
   "source": [
    "## Colors from colormaps"
   ]
  },
  {
   "cell_type": "raw",
   "metadata": {
    "raw_mimetype": "text/restructuredtext"
   },
   "source": [
    "If you want to draw an individual color from a colormap or a color cycle, use ``color=(cmap, coord)`` or ``color=(cycle, index)`` with any command that accepts the `color` keyword. The ``coord`` should be between ``0`` and ``1``, while the ``index`` is the index on the list of cycle colors. This feature is powered by the `~proplot.styletools.ColorDict` class. This is useful if you spot a nice color in one of the available colormaps and want to use it for some arbitrary plot element."
   ]
  },
  {
   "cell_type": "code",
   "execution_count": null,
   "metadata": {},
   "outputs": [],
   "source": [
    "import proplot as plot\n",
    "import numpy as np\n",
    "state = np.random.RandomState(51423)\n",
    "f, axs = plot.subplots(nrows=2, aspect=2, axwidth=3, share=0)\n",
    "\n",
    "# Drawing from colormap\n",
    "ax = axs[0]\n",
    "cmap = 'deep'\n",
    "m = ax.pcolormesh([[0], [1]], cmap=cmap, N=1000)\n",
    "idxs = plot.arange(0, 1, 0.2)\n",
    "state.shuffle(idxs)\n",
    "for idx in idxs:\n",
    "    h = ax.plot(\n",
    "        (np.random.rand(20) - 0.4).cumsum(), lw=5, color=(cmap, idx),\n",
    "        label=f'idx {idx:.1f}', legend='r', legend_kw={'ncols': 1}\n",
    "    )\n",
    "ax.colorbar(m, loc='ul', locator=0.2, label='colormap')\n",
    "ax.format(title='Drawing from the Solar colormap', grid=True)\n",
    "\n",
    "# Drawing from color cycle\n",
    "ax = axs[1]\n",
    "idxs = np.arange(6)\n",
    "state.shuffle(idxs)\n",
    "for idx in idxs:\n",
    "    h = ax.plot(\n",
    "        (np.random.rand(20)-0.4).cumsum(), lw=5, color=('qual1', idx),\n",
    "        label=f'idx {idx:.0f}', legend='r', legend_kw={'ncols': 1}\n",
    "    )\n",
    "ax.format(title='Drawing from the ggplot color cycle')\n",
    "axs.format(\n",
    "    xlocator='null', abc=True, abcloc='ur', abcstyle='A.',\n",
    "    suptitle='Getting individual colors from colormaps and cycles'\n",
    ")"
   ]
  },
  {
   "cell_type": "markdown",
   "metadata": {},
   "source": [
    "## Using your own colors"
   ]
  },
  {
   "cell_type": "raw",
   "metadata": {
    "raw_mimetype": "text/restructuredtext"
   },
   "source": [
    "You can register your own colors by adding ``.txt`` files to the ``~/.proplot/colors`` directory and calling `~proplot.styletools.register_colors`. This command is also called on import. Each file should contain lines that look like ``color: #xxyyzz`` where ``color`` is the registered color name and ``#xxyyzz`` is the HEX color value."
   ]
  },
  {
   "cell_type": "markdown",
   "metadata": {},
   "source": [
    "## Included fonts"
   ]
  },
  {
   "cell_type": "raw",
   "metadata": {
    "raw_mimetype": "text/restructuredtext"
   },
   "source": [
    "ProPlot adds several open source fonts, including the `TeX Gyre <http://www.gust.org.pl/projects/e-foundry/tex-gyre>`__ font series, and introduces a `~proplot.styletools.show_fonts` command to compare fonts. By default, this command displays the *sans-serif* fonts packaged with ProPlot and available on your system (see `~matplotlib.font_manager`). Generally speaking, sans-serif fonts are more appropriate for figures than serif fonts.\n",
    "\n",
    "ProPlot also changes the default font to the Helvetica-lookalike `TeX Gyre Heros <http://www.gust.org.pl/projects/e-foundry/tex-gyre/heros/index_html>`__. Matplotlib uses `DejaVu Sans <https://dejavu-fonts.github.io>`__ in part because it includes glyphs for a wider range of mathematical symbols (where you see the “¤” dummy symbol in the below table, that character is unavailable), but IMHO TeX Gyre Heros is much more aesthetically pleasing. If your plot has lots of symbols, you may want to switch to DejaVu Sans or `Fira Math <https://github.com/firamath/firamath>`__ (which is also packaged with ProPlot)."
   ]
  },
  {
   "cell_type": "code",
   "execution_count": null,
   "metadata": {},
   "outputs": [],
   "source": [
    "import proplot as plot\n",
    "f = plot.show_fonts()"
   ]
  },
  {
   "cell_type": "markdown",
   "metadata": {},
   "source": [
    "## Using your own fonts"
   ]
  },
  {
   "cell_type": "raw",
   "metadata": {
    "raw_mimetype": "text/restructuredtext"
   },
   "source": [
    "You can register your own fonts by adding files to the ``~/.proplot/fonts`` directory and calling `~proplot.styletools.register_fonts`. This command is also called on import. To change the default font, use the `~proplot.rctools.rc` object or modify your ``~/.proplotrc``.See :ref:`Configuring proplot` for details.\n",
    "\n",
    "Sometimes the font you would like to use *is* installed, but the font file is not stored under the matplotlib-compatible ``.ttf``, ``.otf``, or ``.afm`` formats. For example, several macOS fonts are unavailable because they are stored as ``.dfont`` collections. Also, while matplotlib nominally supports ``.ttc`` collections, ProPlot manually removes them because figures with ``.ttc`` fonts `cannot be saved as PDFs <https://github.com/matplotlib/matplotlib/issues/3135>`__. You can get matplotlib to use these fonts by expanding the \"collections\" into individual ``.ttf`` files with the `DFontSplitter application <https://peter.upfold.org.uk/projects/dfontsplitter>`__, then saving the files in-place or in the ``~/.proplot/fonts`` folder.\n",
    "\n",
    "To find font files, check the paths listed in ``OSXFontDirectories``, ``X11FontDirectories``, ``MSUserFontDirectories``, and ``MSFontDirectories`` under the `~matplotlib.font_manager` module. Note that if the font in question has a \"thin\" style, implied by file names with the word ``Thin``, `a matplotlib bug <https://github.com/matplotlib/matplotlib/issues/8788>`__ may cause these styles to override the \"normal\" style!"
   ]
  }
 ],
 "metadata": {
  "celltoolbar": "Raw Cell Format",
  "kernelspec": {
   "display_name": "Python 3",
   "language": "python",
   "name": "python3"
  },
  "language_info": {
   "codemirror_mode": {
    "name": "ipython",
    "version": 3
   },
   "file_extension": ".py",
   "mimetype": "text/x-python",
   "name": "python",
   "nbconvert_exporter": "python",
   "pygments_lexer": "ipython3",
   "version": "3.7.3"
  },
  "toc": {
   "colors": {
    "hover_highlight": "#ece260",
    "navigate_num": "#000000",
    "navigate_text": "#000000",
    "running_highlight": "#FF0000",
    "selected_highlight": "#fff968",
    "sidebar_border": "#ffffff",
    "wrapper_background": "#ffffff"
   },
   "moveMenuLeft": false,
   "nav_menu": {
    "height": "84px",
    "width": "252px"
   },
   "navigate_menu": true,
   "number_sections": true,
   "sideBar": true,
   "threshold": 4,
   "toc_cell": false,
   "toc_section_display": "block",
   "toc_window_display": true,
   "widenNotebook": false
  },
  "varInspector": {
   "cols": {
    "lenName": 16,
    "lenType": 16,
    "lenVar": 40
   },
   "kernels_config": {
    "python": {
     "delete_cmd_postfix": "",
     "delete_cmd_prefix": "del ",
     "library": "var_list.py",
     "varRefreshCmd": "print(var_dic_list())"
    },
    "r": {
     "delete_cmd_postfix": ") ",
     "delete_cmd_prefix": "rm(",
     "library": "var_list.r",
     "varRefreshCmd": "cat(var_dic_list()) "
    }
   },
   "types_to_exclude": [
    "module",
    "function",
    "builtin_function_or_method",
    "instance",
    "_Feature"
   ],
   "window_display": false
  }
 },
 "nbformat": 4,
 "nbformat_minor": 2
}
