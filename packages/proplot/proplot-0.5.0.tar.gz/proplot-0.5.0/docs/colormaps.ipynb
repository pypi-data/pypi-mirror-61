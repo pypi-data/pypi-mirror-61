{
 "cells": [
  {
   "cell_type": "markdown",
   "metadata": {},
   "source": [
    "# Colormaps"
   ]
  },
  {
   "cell_type": "raw",
   "metadata": {
    "raw_mimetype": "text/restructuredtext"
   },
   "source": [
    "ProPlot defines **colormaps** as color palettes that sample some *continuous function* between two end colors. Colormaps are generally used to encode data values on a pseudo-third dimension. They are are implemented with the `~proplot.styletools.LinearSegmentedColormap` and `~proplot.styletools.PerceptuallyUniformColormap` classes, which are subclassed from `~matplotlib.colors.LinearSegmentedColormap` in matplotlib (see :ref:`Making new colormaps`).\n",
    "\n",
    "ProPlot adds several features to help you use colormaps effectively in your figures. This section documents the new registered colormaps, explains how to make and modify colormaps, and shows how to apply them to your plots."
   ]
  },
  {
   "cell_type": "markdown",
   "metadata": {},
   "source": [
    "## Included colormaps"
   ]
  },
  {
   "cell_type": "raw",
   "metadata": {
    "raw_mimetype": "text/restructuredtext"
   },
   "source": [
    "On import, ProPlot registers a few sample `~proplot.styletools.PerceptuallyUniformColormap` colormaps (see :ref:`Perceptually uniform colormaps`) plus a ton of other colormaps from other online data viz projects. Use `~proplot.styletools.show_cmaps` to generate a table of registered maps. The figure is broken down into the following sections:\n",
    "\n",
    "* \"User\" colormaps, i.e. colormaps saved to your ``~/.proplot/cmaps`` folder. A great way to save colormaps to this folder is using the `~proplot.styletools.Colormap` function. See :ref:`Making new colormaps` for details.\n",
    "* Matplotlib and seaborn original colormaps.\n",
    "* ProPlot original :ref:`Perceptually uniform colormaps`.\n",
    "* `cmOcean <https://matplotlib.org/cmocean/>`__ colormaps designed for oceanographic data but useful for everyone.\n",
    "* Fabio Crameri's `\"scientific colour maps\" <http://www.fabiocrameri.ch/colourmaps.php>`__.\n",
    "* Cynthia Brewer's `ColorBrewer <http://colorbrewer2.org/>`__ colormaps, included with matplotlib by default.\n",
    "* Colormaps from the `SciVisColor <https://sciviscolor.org/home/colormoves/>`__ online interactive tool. There are so many of these colormaps because they are intended to be *merged* with one another.\n",
    "\n",
    "ProPlot removes some default matplotlib colormaps with erratic color transitions. Note that colormap and color cycle identification is now flexible: Colormap names are *case-insensitive* (e.g. ``'Viridis'``, ``'viridis'``, and ``'ViRiDiS'`` are equivalent), diverging colormap names can be specified in their \"reversed\" form (e.g. ``'BuRd'`` is equivalent to ``'RdBu_r'``), and appending ``'_r'`` or ``'_shifted'`` to *any* colormap name will return the result of ``cmap.reversed()`` or ``cmap.shifted(180)``. See `~proplot.styletools.CmapDict` for more info."
   ]
  },
  {
   "cell_type": "code",
   "execution_count": null,
   "metadata": {},
   "outputs": [],
   "source": [
    "import proplot as plot\n",
    "f = plot.show_cmaps()"
   ]
  },
  {
   "cell_type": "markdown",
   "metadata": {},
   "source": [
    "## Perceptually uniform colormaps"
   ]
  },
  {
   "cell_type": "raw",
   "metadata": {
    "raw_mimetype": "text/restructuredtext"
   },
   "source": [
    "ProPlot's custom colormaps are instances of the `~proplot.styletools.PerceptuallyUniformColormap` class. These colormaps generate colors by interpolating between coordinates in any of the following three colorspaces:\n",
    "\n",
    "* **HCL** (a.k.a. `CIELUV LCh <https://en.wikipedia.org/wiki/CIELUV#Cylindrical_representation_(CIELCH)>`__): A purely perceptually uniform colorspace, where colors are broken down into “hue” (color, range 0-360), “chroma” (saturation, range 0-100), and “luminance” (brightness, range 0-100). This space is difficult to work with due to *impossible colors* -- colors that, when translated back from HCL to RGB, result in RGB channels greater than ``1``.\n",
    "* **HPL** (a.k.a. `HPLuv <http://www.hsluv.org/comparison>`__): Hue and luminance are identical to HCL, but 100 saturation is set to the minimum maximum saturation *across all hues* for a given luminance. HPL restricts you to soft pastel colors, but is closer to HCL in terms of uniformity.\n",
    "* **HSL** (a.k.a. `HSLuv <http://www.hsluv.org/comparison>`__): Hue and luminance are identical to HCL, but 100 saturation is set to the maximum saturation *for a given hue and luminance*. HSL gives you access to the entire RGB colorspace, but often results in sharp jumps in chroma.\n",
    "\n",
    "The colorspace used by each `~proplot.styletools.PerceptuallyUniformColormap` is set with the `space` keyword arg. To plot arbitrary cross-sections of these colorspaces, use `~proplot.styletools.show_colorspaces` (the black regions represent impossible colors). To see how colormaps vary with respect to each channel, use `~proplot.styletools.show_channels`. Some examples are shown below.\n",
    "\n",
    "In theory, \"uniform\" colormaps should have *straight* lines in hue, chroma, and luminance (bottom figure; top row) -- but in practice, this is difficult to accomplish due to impossible colors. Matplotlib and seaborn's ``'magma'`` and ``'Rocket'`` colormaps are fairly linear with respect to hue and luminance, but not chroma. ProPlot's ``'Fire'`` is linear in hue, luminance, and *HSL saturation* (bottom left), while ``'Dusk'`` is linear in hue, luminance, and *HPL saturation* (bottom left)."
   ]
  },
  {
   "cell_type": "code",
   "execution_count": null,
   "metadata": {},
   "outputs": [],
   "source": [
    "import proplot as plot\n",
    "f = plot.show_colorspaces(axwidth=1.6, luminance=50)\n",
    "f = plot.show_colorspaces(axwidth=1.6, saturation=60)\n",
    "f = plot.show_colorspaces(axwidth=1.6, hue=0)\n",
    "f = plot.show_channels(\n",
    "    'magma', 'rocket', 'fire', 'dusk',\n",
    "    axwidth=1.4, minhue=-180, maxsat=300, rgb=False\n",
    ")"
   ]
  },
  {
   "cell_type": "markdown",
   "metadata": {},
   "source": [
    "## Making new colormaps"
   ]
  },
  {
   "cell_type": "raw",
   "metadata": {
    "raw_mimetype": "text/restructuredtext"
   },
   "source": [
    "ProPlot doesn't just include new colormaps -- it provides tools for merging colormaps, modifying colormaps, making :ref:`Perceptually uniform colormaps` from scratch, and saving the results for future use. For your convenience, most of these features can be accessed via the `~proplot.styletools.Colormap` constructor function. Note that every plotting command that accepts a `cmap` keyword passes it through this function (see `~proplot.wrappers.cmap_changer`).\n",
    "\n",
    "To make `~proplot.styletools.PerceptuallyUniformColormap`\\ s from scratch, you have the following three options:\n",
    "\n",
    "* Pass a color name, hex string, or RGB tuple to `~proplot.styletools.Colormap`. This builds a *monochromatic* (single hue) colormap by calling the `~proplot.styletools.PerceptuallyUniformColormap.from_color` static method. The colormap colors will vary from the specified color to pure white or some shade *near* white (see the `fade` keyword arg).\n",
    "* Pass a *list of colors* to `~proplot.styletools.Colormap`. This calls the `~proplot.styletools.PerceptuallyUniformColormap.from_list` static method, which linearly interpolates between each color in hue, saturation, and luminance.\n",
    "* Pass a *dictionary* to `~proplot.styletools.Colormap`. This calls the `~proplot.styletools.PerceptuallyUniformColormap.from_hsl` static method, which draws lines between channel values specified by the keyword args `hue`, `saturation`, and `luminance`. The values can be numbers, color strings, or lists thereof. Numbers indicate the channel value. For color strings, the channel value is *inferred* from the specified color. You can end any color string with ``'+N'`` or ``'-N'`` to *offset* the channel value by the number ``N``.\n",
    "\n",
    "Below, we use all of these methods to make brand new `~proplot.styletools.PerceptuallyUniformColormap`\\ s in the ``'hsl'`` and ``'hpl'`` colorspaces."
   ]
  },
  {
   "cell_type": "code",
   "execution_count": null,
   "metadata": {},
   "outputs": [],
   "source": [
    "import proplot as plot\n",
    "import numpy as np\n",
    "state = np.random.RandomState(51423)\n",
    "f, axs = plot.subplots(\n",
    "    [[0, 1, 1, 2, 2, 0], [3, 3, 4, 4, 5, 5]],\n",
    "    ncols=2, axwidth=2, aspect=1\n",
    ")\n",
    "\n",
    "# Monochromatic colormaps\n",
    "axs.format(\n",
    "    xlabel='x axis', ylabel='y axis', span=False,\n",
    "    suptitle='Building your own PerceptuallyUniformColormaps'\n",
    ")\n",
    "data = state.rand(30, 30).cumsum(axis=1)\n",
    "axs[0].format(title='From single color')\n",
    "m = axs[0].contourf(data, cmap='ocean blue', cmap_kw={'name': 'water'})\n",
    "cmap1 = m.cmap\n",
    "axs[1].format(title='From three colors')\n",
    "cmap2 = plot.Colormap(\n",
    "    'brick red_r', 'denim_r', 'warm gray_r',\n",
    "    fade=90, name='tricolor'\n",
    ")\n",
    "axs[1].contourf(data, cmap=cmap2, levels=12)\n",
    "\n",
    "# Colormaps from channel value dictionaries\n",
    "axs[2:4].format(title='From channel values')\n",
    "cmap3 = plot.Colormap({\n",
    "    'hue': ['red-90', 'red+90'],\n",
    "    'saturation': [50, 70, 30],\n",
    "    'luminance': [20, 100]\n",
    "}, name='Matter', space='hcl')\n",
    "axs[2].pcolormesh(data, cmap=cmap3)\n",
    "cmap4 = plot.Colormap({\n",
    "    'hue': ['red', 'red-720'],\n",
    "    'saturation': [80, 20],\n",
    "    'luminance': [20, 100]\n",
    "}, name='cubehelix', space='hpl')\n",
    "axs[3].pcolormesh(data, cmap=cmap4)\n",
    "\n",
    "# Colormap from lists\n",
    "m = axs[4].pcolormesh(\n",
    "    data, cmap=('maroon', 'desert sand'),\n",
    "    cmap_kw={'name': 'reddish'}\n",
    ")\n",
    "cmap5 = m.cmap\n",
    "axs[4].format(title='From list of colors')\n",
    "\n",
    "# Test the channels\n",
    "f = plot.show_channels(cmap1, cmap2, axwidth=1.4, rgb=False)\n",
    "f = plot.show_channels(\n",
    "    cmap3, cmap4, cmap5, minhue=-180,\n",
    "    axwidth=1.4, rgb=False\n",
    ")"
   ]
  },
  {
   "cell_type": "markdown",
   "metadata": {},
   "source": [
    "## Merging colormaps"
   ]
  },
  {
   "cell_type": "raw",
   "metadata": {
    "raw_mimetype": "text/restructuredtext"
   },
   "source": [
    "To *merge* colormaps, simply pass multiple positional arguments to the `~proplot.styletools.Colormap` constructor. Each positional argument can be a colormap name, a colormap instance, or one of the argument types described in :ref:`Making new colormaps`. This lets you create new diverging colormaps and segmented `SciVisColor <https://sciviscolor.org/home/colormoves/>`__-style colormaps right inside ProPlot. Segmented colormaps are often desirable for complex datasets with complex statistical distributions.\n",
    "\n",
    "In the below example, we create a new divering colormap and reconstruct the colormap from `this SciVisColor example <https://sciviscolor.org/wp-content/uploads/sites/14/2018/04/colormoves-icon-1.png>`__. We also *save* the results for future use by passing ``save=True`` to `~proplot.styletools.Colormap`."
   ]
  },
  {
   "cell_type": "code",
   "execution_count": null,
   "metadata": {},
   "outputs": [],
   "source": [
    "import proplot as plot\n",
    "import numpy as np\n",
    "f, axs = plot.subplots([[0, 1, 1, 0], [2, 2, 3, 3]], axwidth=2, span=False)\n",
    "state = np.random.RandomState(51423)\n",
    "data = state.rand(30, 30).cumsum(axis=1)\n",
    "\n",
    "# Diverging colormap example\n",
    "title1 = 'Custom diverging map'\n",
    "cmap1 = plot.Colormap('Blue4_r', 'RedPurple3', name='Diverging', save=True)\n",
    "\n",
    "# SciVisColor examples\n",
    "title2 = 'Custom complex map'\n",
    "cmap2 = plot.Colormap(\n",
    "    'Green1_r', 'Orange5', 'Blue1_r', 'Blue6',\n",
    "    name='Complex', save=True\n",
    ")\n",
    "title3 = 'SciVisColor example reproduction'\n",
    "cmap3 = plot.Colormap(\n",
    "    'Green1_r', 'Orange5', 'Blue1_r', 'Blue6',\n",
    "    ratios=(1, 3, 5, 10), name='SciVisColor', save=True\n",
    ")\n",
    "\n",
    "# Plot examples\n",
    "for ax, cmap, title in zip(axs, (cmap1, cmap2, cmap3), (title1, title2, title3)):\n",
    "    func = (ax.pcolormesh if cmap is cmap1 else ax.contourf)\n",
    "    m = func(data, cmap=cmap, levels=256)\n",
    "    ax.colorbar(m, loc='b', locator='null', label=cmap.name)\n",
    "    ax.format(title=title)\n",
    "axs.format(\n",
    "    xlabel='xlabel', ylabel='ylabel',\n",
    "    suptitle='Merging existing colormaps'\n",
    ")"
   ]
  },
  {
   "cell_type": "markdown",
   "metadata": {},
   "source": [
    "## Modifying colormaps"
   ]
  },
  {
   "cell_type": "raw",
   "metadata": {
    "raw_mimetype": "text/restructuredtext"
   },
   "source": [
    "ProPlot allows you to create modified versions of *existing* colormaps using the `~proplot.styletools.Colormap` constructor and the new `~proplot.styletools.LinearSegmentedColormap` and `~proplot.styletools.ListedColormap` classes, which are used to replace the native matplotlib colormap classes. They can be modified in the following ways:\n",
    "\n",
    "* To remove colors from the left or right ends of a colormap, pass `left` or `right` to `~proplot.styletools.Colormap`. This calls the `~proplot.styletools.LinearSegmentedColormap.truncated` method, and can be useful when you want to use colormaps as :ref:`Color cycles` and need to remove the \"white\" part so that your lines stand out against the background.\n",
    "* To remove central colors from a diverging colormap, pass `cut` to `~proplot.styletools.Colormap`. This calls the `~proplot.styletools.LinearSegmentedColormap.punched` method, and can be used to create a sharper cutoff between negative and positive values. This should generally be used *without* a central level.\n",
    "* To rotate a cyclic colormap,  pass `shift` to `~proplot.styletools.Colormap`. This calls the `~proplot.styletools.LinearSegmentedColormap.shifted` method. ProPlot ensures the colors at the ends of \"shifted\" colormaps are *distinct* so that levels never blur together.\n",
    "* To change the transparency of an entire colormap, pass `alpha` to `~proplot.styletools.Colormap`. This calls the `~proplot.styletools.LinearSegmentedColormap.set_alpha` method, and can be useful when *layering* filled contour or mesh elements.\n",
    "* To change the \"gamma\" of a `~proplot.styletools.PerceptuallyUniformColormap`, pass `gamma` to `~proplot.styletools.Colormap`. This calls the `~proplot.styletools.PerceptuallyUniformColormap.set_gamma` method, and controls how the luminance and saturation channels vary between colormap segments. ``gamma > 1`` emphasizes high luminance, low saturation colors, while ``gamma < 1`` emphasizes low luminance, high saturation colors."
   ]
  },
  {
   "cell_type": "code",
   "execution_count": null,
   "metadata": {},
   "outputs": [],
   "source": [
    "import proplot as plot\n",
    "import numpy as np\n",
    "f, axs = plot.subplots(\n",
    "    [[1, 1, 2, 2, 3, 3], [0, 4, 4, 5, 5, 0], [0, 6, 6, 7, 7, 0]],\n",
    "    axwidth=1.7, span=False\n",
    ")\n",
    "state = np.random.RandomState(51423)\n",
    "data = state.rand(40, 40).cumsum(axis=0) - 12\n",
    "\n",
    "# Cutting left and right\n",
    "for ax, coord in zip(axs[:3], (None, 0.3, 0.7)):\n",
    "    cmap = 'grays'\n",
    "    if coord is None:\n",
    "        title, cmap_kw = 'Original', {}\n",
    "    elif coord < 0.5:\n",
    "        title, cmap_kw = f'left={coord}', {'left': coord}\n",
    "    else:\n",
    "        title, cmap_kw = f'right={coord}', {'right': coord}\n",
    "    ax.pcolormesh(\n",
    "        data, cmap=cmap, cmap_kw=cmap_kw,\n",
    "        colorbar='b', colorbar_kw={'locator': 'null'}\n",
    "    )\n",
    "    ax.format(xlabel='x axis', ylabel='y axis', title=title)\n",
    "    \n",
    "# Cutting central colors\n",
    "levels = plot.arange(-10, 10, 2)\n",
    "for i, (ax, cut) in enumerate(zip(axs[3:], (None, None, 0.1, 0.2))):\n",
    "    if i == 0:\n",
    "        title = 'With central level'\n",
    "        levels = plot.edges(plot.arange(-10, 10, 2))\n",
    "    else:\n",
    "        title = 'Without central level'\n",
    "        levels = plot.arange(-10, 10, 2)\n",
    "    if cut is not None:\n",
    "        title = f'cut = {cut}'\n",
    "    m = ax.contourf(\n",
    "        data, cmap='Div', cmap_kw={'cut': cut},\n",
    "         extend='both', levels=levels\n",
    "    )\n",
    "    ax.format(\n",
    "        xlabel='x axis', ylabel='y axis', title=title,\n",
    "        suptitle='Truncating sequential and diverging colormaps'\n",
    "    )\n",
    "    ax.colorbar(m, loc='b', locator='null')\n",
    "    \n",
    "# Rotating cyclic\n",
    "f, axs = plot.subplots(ncols=3, axwidth=1.7)\n",
    "data = (state.rand(50, 50) - 0.48).cumsum(axis=1).cumsum(axis=0) - 50\n",
    "for ax, shift in zip(axs, (0, 90, 180)):\n",
    "    m = ax.contourf(data, cmap='twilight', cmap_kw={'shift': shift}, levels=12)\n",
    "    ax.format(\n",
    "        xlabel='x axis', ylabel='y axis', title=f'shift = {shift}',\n",
    "        suptitle='Rotating cyclic colormaps'\n",
    "    )\n",
    "    ax.colorbar(m, loc='b', locator='null')\n",
    "    \n",
    "# Changing gamma\n",
    "f, axs = plot.subplots(ncols=3, axwidth=1.7, aspect=1)\n",
    "data = state.rand(10, 10).cumsum(axis=1)\n",
    "for ax, gamma in zip(axs, (0.7, 1.0, 1.4)):\n",
    "    cmap = plot.Colormap('boreal', name=str(gamma), gamma=gamma)\n",
    "    m = ax.pcolormesh(data, cmap=cmap, levels=10, extend='both')\n",
    "    ax.colorbar(m, loc='b', locator='none')\n",
    "    ax.format(\n",
    "        title=f'gamma = {gamma}', xlabel='x axis', ylabel='y axis',\n",
    "        suptitle='Changing the colormap gamma'\n",
    "    )"
   ]
  },
  {
   "cell_type": "markdown",
   "metadata": {},
   "source": [
    "## Downloading colormaps"
   ]
  },
  {
   "cell_type": "raw",
   "metadata": {
    "raw_mimetype": "text/restructuredtext"
   },
   "source": [
    "There are plenty of online interactive tools for generating perceptually uniform colormaps, including `HCLWizard <http://hclwizard.org:64230/hclwizard/>`__, `Chroma.js <https://gka.github.io/palettes/>`__, `SciVisColor <https://sciviscolor.org/home/colormaps/>`__, and `HCL picker <http://tristen.ca/hcl-picker/#/hlc/12/0.99/C6F67D/0B2026>`__.\n",
    "\n",
    "To add colormaps downloaded from any of these sources, save the colormap data to a file in your ``~/.proplot/cmaps`` folder, then call `~proplot.styletools.register_cmaps`. The file should be named ``name.ext``, where ``name`` will be the registered colormap name. See `~proplot.styletools.register_cmaps` for valid file extensions."
   ]
  }
 ],
 "metadata": {
  "celltoolbar": "Raw Cell Format",
  "kernelspec": {
   "display_name": "Python 3",
   "language": "python",
   "name": "python3"
  },
  "toc": {
   "colors": {
    "hover_highlight": "#ece260",
    "navigate_num": "#000000",
    "navigate_text": "#000000",
    "running_highlight": "#FF0000",
    "selected_highlight": "#fff968",
    "sidebar_border": "#ffffff",
    "wrapper_background": "#ffffff"
   },
   "moveMenuLeft": false,
   "nav_menu": {
    "height": "12px",
    "width": "250px"
   },
   "navigate_menu": true,
   "number_sections": true,
   "sideBar": true,
   "threshold": 4,
   "toc_cell": false,
   "toc_section_display": "block",
   "toc_window_display": true,
   "widenNotebook": false
  },
  "varInspector": {
   "cols": {
    "lenName": 16,
    "lenType": 16,
    "lenVar": 40
   },
   "kernels_config": {
    "python": {
     "delete_cmd_postfix": "",
     "delete_cmd_prefix": "del ",
     "library": "var_list.py",
     "varRefreshCmd": "print(var_dic_list())"
    },
    "r": {
     "delete_cmd_postfix": ") ",
     "delete_cmd_prefix": "rm(",
     "library": "var_list.r",
     "varRefreshCmd": "cat(var_dic_list()) "
    }
   },
   "types_to_exclude": [
    "module",
    "function",
    "builtin_function_or_method",
    "instance",
    "_Feature"
   ],
   "window_display": false
  }
 },
 "nbformat": 4,
 "nbformat_minor": 2
}
