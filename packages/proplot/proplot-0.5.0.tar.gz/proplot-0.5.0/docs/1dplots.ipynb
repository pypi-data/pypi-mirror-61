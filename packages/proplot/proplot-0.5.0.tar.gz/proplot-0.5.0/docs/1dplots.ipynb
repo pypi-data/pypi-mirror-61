{
 "cells": [
  {
   "cell_type": "markdown",
   "metadata": {},
   "source": [
    "# 1d plotting"
   ]
  },
  {
   "cell_type": "raw",
   "metadata": {
    "raw_mimetype": "text/restructuredtext"
   },
   "source": [
    "ProPlot adds new features to various `~matplotlib.axes.Axes` plotting methods thanks to a set of wrapper functions. These features are a strict *superset* of the existing matplotlib API -- if you want, you can use plotting commands exactly as you always have."
   ]
  },
  {
   "cell_type": "markdown",
   "metadata": {},
   "source": [
    "## Standardized input "
   ]
  },
  {
   "cell_type": "raw",
   "metadata": {
    "raw_mimetype": "text/restructuredtext"
   },
   "source": [
    "The `~proplot.wrappers.standardize_1d` wrapper is used to standardize the positional arguments for several different plotting functions. \n",
    "`~proplot.wrappers.standardize_1d` allows you to optionally omit *x* coordinates (in which case they are inferred from the *y* coordinates) or pass 2D *y* coordinate arrays (in which case the plotting method is called with each column of the array)."
   ]
  },
  {
   "cell_type": "markdown",
   "metadata": {},
   "source": [
    "## Pandas and xarray"
   ]
  },
  {
   "cell_type": "raw",
   "metadata": {
    "raw_mimetype": "text/restructuredtext"
   },
   "source": [
    "The `~proplot.wrappers.standardize_1d` wrapper also supports integration with pandas `~pandas.DataFrame`\\ s and xarray `~xarray.DataArray`\\ s. When you pass a DataFrame or DataArray to any plotting command, the x-axis label, y-axis label, legend label, colorbar label, and/or title are configured from the metadata. This restores some of the convenience you get with the builtin `pandas <https://pandas.pydata.org>`__ and `xarray <https://pandas.pydata.org>`__ plotting functions. This feature is *optional*; installation of pandas and xarray are not required."
   ]
  },
  {
   "cell_type": "code",
   "execution_count": null,
   "metadata": {},
   "outputs": [],
   "source": [
    "import xarray as xr\n",
    "import numpy as np\n",
    "import pandas as pd\n",
    "\n",
    "# DataArray\n",
    "state = np.random.RandomState(51423)\n",
    "data = np.sin(np.linspace(0, 2*np.pi, 20))[:, None] \\\n",
    "    + state.rand(20, 8).cumsum(axis=1)\n",
    "da = xr.DataArray(data, dims=('x', 'cat'), coords={\n",
    "    'x': xr.DataArray(np.linspace(0, 1, 20), dims=('x',), attrs={'long_name': 'distance', 'units': 'km'}),\n",
    "    'cat': xr.DataArray(np.arange(0, 80, 10), dims=('cat',), attrs={'long_name': 'parameter', 'units': 'K'})\n",
    "}, name='position series')\n",
    "\n",
    "# DataFrame\n",
    "ts = pd.date_range('1/1/2000', periods=20)\n",
    "data = (np.cos(np.linspace(0, 2*np.pi, 20))**4)[:, None] + state.rand(20, 5)**2\n",
    "df = pd.DataFrame(data, index=ts, columns=['foo', 'bar', 'baz', 'zap', 'baf'])\n",
    "df.name = 'time series'\n",
    "df.index.name = 'time (s)'\n",
    "df.columns.name = 'columns'"
   ]
  },
  {
   "cell_type": "code",
   "execution_count": null,
   "metadata": {},
   "outputs": [],
   "source": [
    "import proplot as plot\n",
    "f, axs = plot.subplots(ncols=2, axwidth=2.2, share=0)\n",
    "axs.format(suptitle='Automatic subplot formatting')\n",
    "\n",
    "# Plot DataArray\n",
    "color = plot.shade('light blue', 0.4)\n",
    "cycle = plot.Cycle(color, fade=90, space='hpl')\n",
    "axs[0].plot(da, cycle=cycle, lw=3, colorbar='ul', colorbar_kw={'locator': 20})\n",
    "\n",
    "# Plot Dataframe\n",
    "color = plot.shade('jade', 0.4)\n",
    "cycle = plot.Cycle(color, fade=90, space='hpl')\n",
    "axs[1].plot(df, cycle=cycle, lw=3, legend='uc')"
   ]
  },
  {
   "cell_type": "markdown",
   "metadata": {},
   "source": [
    "## On-the-fly error bars"
   ]
  },
  {
   "cell_type": "raw",
   "metadata": {
    "raw_mimetype": "text/restructuredtext"
   },
   "source": [
    "Thanks to the `~proplot.wrappers.add_errorbars` wrapper, you can add error bars on-the-fly by passing certain keyword args to `~matplotlib.axes.Axes.plot`, `~matplotlib.axes.Axes.scatter`, `~matplotlib.axes.Axes.bar`, `~matplotlib.axes.Axes.barh`, or `~matplotlib.axes.Axes.violinplot`. If you pass 2D arrays to these commands with ``means=True`` or ``medians=True``, the means or medians of *each column* are drawn as points, lines, or bars, and *error bars* are drawn to represent the spread in each column. You can draw both thin \"bars\" with optional whiskers, and thick \"boxes\" overlayed on top of these bars.  You can also pass error bar coordinates manually with the `bardata` and `boxdata` keyword args. See `~proplot.wrappers.add_errorbars` for details."
   ]
  },
  {
   "cell_type": "code",
   "execution_count": null,
   "metadata": {},
   "outputs": [],
   "source": [
    "import proplot as plot\n",
    "import numpy as np\n",
    "import pandas as pd\n",
    "plot.rc['title.loc'] = 'uc'\n",
    "plot.rc['axes.ymargin'] = plot.rc['axes.xmargin'] = 0.05\n",
    "state = np.random.RandomState(51423)\n",
    "data = state.rand(20, 8).cumsum(axis=0).cumsum(axis=1)[:, ::-1] \\\n",
    "    + 20*state.normal(size=(20, 8)) + 30\n",
    "f, axs = plot.subplots(\n",
    "    nrows=3, aspect=1.5, axwidth=3,\n",
    "    share=0, hratios=(2, 1, 1)\n",
    ")\n",
    "axs.format(suptitle='Error bars with various plotting commands')\n",
    "axs[1:].format(xlabel='column number', xticks=1, xgrid=False)\n",
    "\n",
    "# Asking add_errorbars to calculate bars\n",
    "ax = axs[0]\n",
    "obj = ax.barh(data, color='red orange', means=True)\n",
    "ax.format(title='Column statistics')\n",
    "ax.format(ylabel='column number', title='Bar plot', ygrid=False)\n",
    "\n",
    "# Showing a standard deviation range instead of percentile range\n",
    "ax = axs[1]\n",
    "ax.scatter(\n",
    "    data, color='k', marker='x', markersize=50, barcolor='gray5',\n",
    "    medians=True, barstd=True, barrange=(-1, 1), barzorder=0, boxes=False, capsize=2\n",
    ")\n",
    "ax.format(title='Scatter plot')\n",
    "\n",
    "# Supplying error bar data manually\n",
    "ax = axs[2]\n",
    "boxdata = np.percentile(data, (25, 75), axis=0)\n",
    "bardata = np.percentile(data, (5, 95), axis=0)\n",
    "ax.plot(\n",
    "    data.mean(axis=0), boxes=False, marker='o', markersize=5,\n",
    "    edgecolor='k', color='cerulean', boxdata=boxdata, bardata=bardata\n",
    ")\n",
    "ax.format(title='Line plot')\n",
    "plot.rc.reset()"
   ]
  },
  {
   "cell_type": "markdown",
   "metadata": {},
   "source": [
    "## Bar plots"
   ]
  },
  {
   "cell_type": "raw",
   "metadata": {
    "raw_mimetype": "text/restructuredtext"
   },
   "source": [
    "`~proplot.wrappers.bar_wrapper` and `~proplot.wrappers.cycle_changer` make it easier to generate useful bar plots. You can now pass 2D arrays to `~matplotlib.axes.Axes.bar` or `~matplotlib.axes.Axes.barh`, and columns of data will be *grouped* or *stacked* together. Also, `~matplotlib.axes.Axes.bar` and `~matplotlib.axes.Axes.barh` now use *default* *x* and *y* coordinates if you failed to provide them explicitly, just like `~matplotlib.axes.Axes.plot`. See `~proplot.wrappers.bar_wrapper` for details."
   ]
  },
  {
   "cell_type": "code",
   "execution_count": null,
   "metadata": {},
   "outputs": [],
   "source": [
    "import proplot as plot\n",
    "import numpy as np\n",
    "import pandas as pd\n",
    "plot.rc.titleloc = 'uc'\n",
    "plot.rc.margin = 0.05\n",
    "f, axs = plot.subplots(nrows=2, aspect=2, axwidth=3.5, share=0, hratios=(3, 2))\n",
    "state = np.random.RandomState(51423)\n",
    "data = state.rand(5, 5).cumsum(axis=0).cumsum(axis=1)[:, ::-1]\n",
    "data = pd.DataFrame(\n",
    "    data, columns=pd.Index(np.arange(1, 6), name='column'),\n",
    "    index=pd.Index(['a', 'b', 'c', 'd', 'e'], name='row idx')\n",
    ")\n",
    "\n",
    "# Side-by-side bars\n",
    "ax = axs[0]\n",
    "obj = ax.bar(\n",
    "    data, cycle='Reds', colorbar='ul',\n",
    "    edgecolor='red9', colorbar_kw={'frameon': False}\n",
    ")\n",
    "ax.format(\n",
    "    xlocator=1, xminorlocator=0.5, ytickminor=False,\n",
    "    title='Side-by-side', suptitle='Bar plot wrapper demo'\n",
    ")\n",
    "\n",
    "# Stacked bars\n",
    "ax = axs[1]\n",
    "obj = ax.barh(\n",
    "    data.iloc[::-1, :], cycle='Blues',\n",
    "    legend='ur', edgecolor='blue9', stacked=True\n",
    ")\n",
    "ax.format(title='Stacked')\n",
    "axs.format(grid=False)\n",
    "plot.rc.reset()"
   ]
  },
  {
   "cell_type": "markdown",
   "metadata": {},
   "source": [
    "## Area plots"
   ]
  },
  {
   "cell_type": "raw",
   "metadata": {
    "raw_mimetype": "text/restructuredtext"
   },
   "source": [
    "To make area plots, use the convenient `~matplotlib.axes.Axes.fill_between` aliases `~proplot.axes.Axes.area` and `~proplot.axes.Axes.areax`. These are wrapped with `~proplot.wrappers.fill_between_wrapper` and `~proplot.wrappers.fill_betweenx_wrapper`.\n",
    "\n",
    "The `~matplotlib.axes.Axes.fill_between` wrappers enable \"stacking\" successive columns of a 2D input array like in `pandas`. They also add a new `negpos` keyword for creating area plots that change color when the fill boundaries cross each other. The most common use case for this is highlighting the negative and positive areas underneath a line, as shown below."
   ]
  },
  {
   "cell_type": "code",
   "execution_count": null,
   "metadata": {},
   "outputs": [],
   "source": [
    "import proplot as plot\n",
    "import numpy as np\n",
    "plot.rc.margin = 0\n",
    "f, axs = plot.subplots(array=[[1, 2], [3, 3]], hratios=(1, 0.8), share=0)\n",
    "axs.format(xlabel='xlabel', ylabel='ylabel', suptitle='Area plot demo')\n",
    "state = np.random.RandomState(51423)\n",
    "data = state.rand(5, 3).cumsum(axis=0)\n",
    "cycle = ('gray3', 'gray5', 'gray7')\n",
    "\n",
    "# Overlaid and stacked area patches\n",
    "ax = axs[0]\n",
    "ax.area(\n",
    "    np.arange(5), data, data + state.rand(5)[:, None], cycle=cycle, alpha=0.5,\n",
    "    legend='uc', legend_kw={'center': True, 'ncols': 2, 'labels': ['z', 'y', 'qqqq']},\n",
    ")\n",
    "ax.format(title='Fill between columns')\n",
    "ax = axs[1]\n",
    "ax.area(\n",
    "    np.arange(5), data, stacked=True, cycle=cycle, alpha=0.8,\n",
    "    legend='ul', legend_kw={'center': True, 'ncols': 2, 'labels': ['z', 'y', 'qqqq']},\n",
    ")\n",
    "ax.format(title='Stack between columns')\n",
    "\n",
    "# Positive and negative color area patches\n",
    "ax = axs[2]\n",
    "data = 5*(state.rand(20)-0.5)\n",
    "ax.area(data, negpos=True, negcolor='blue7', poscolor='red7')\n",
    "ax.format(title='Negative and positive data', xlabel='xlabel', ylabel='ylabel')\n",
    "axs.format(grid=False)\n",
    "plot.rc.reset()"
   ]
  },
  {
   "cell_type": "markdown",
   "metadata": {},
   "source": [
    "## Box plots and violin plots"
   ]
  },
  {
   "cell_type": "raw",
   "metadata": {
    "raw_mimetype": "text/restructuredtext"
   },
   "source": [
    "`~matplotlib.axes.Axes.boxplot` and `~matplotlib.axes.Axes.violinplot` are now wrapped with `~proplot.wrappers.boxplot_wrapper`, `~proplot.wrappers.violinplot_wrapper`, and `~proplot.wrappers.cycle_changer`, making it much easier to plot distributions of data with aesthetically pleasing default settings and automatic axis labeling."
   ]
  },
  {
   "cell_type": "code",
   "execution_count": null,
   "metadata": {},
   "outputs": [],
   "source": [
    "import proplot as plot\n",
    "import numpy as np\n",
    "import pandas as pd\n",
    "N = 500\n",
    "state = np.random.RandomState(51423)\n",
    "f, axs = plot.subplots(ncols=2)\n",
    "data = state.normal(size=(N, 5)) + 2*(state.rand(N, 5)-0.5)*np.arange(5)\n",
    "data = pd.DataFrame(\n",
    "    data,\n",
    "    columns=pd.Index(['a', 'b', 'c', 'd', 'e'], name='xlabel')\n",
    ")\n",
    "axs.format(\n",
    "    ymargin=0.1, xmargin=0.1, grid=False,\n",
    "    suptitle='Boxes and violins demo'\n",
    ")\n",
    "\n",
    "# Box plots\n",
    "ax = axs[0]\n",
    "obj1 = ax.boxplot(\n",
    "    data, lw=0.7, marker='x', fillcolor='gray5',\n",
    "    medianlw=1, mediancolor='k'\n",
    ")\n",
    "ax.format(title='Box plots', titleloc='uc')\n",
    "\n",
    "# Violin plots\n",
    "ax = axs[1]\n",
    "obj2 = ax.violinplot(\n",
    "    data, lw=0.7, fillcolor='gray7',\n",
    "    points=500, bw_method=0.3, means=True\n",
    ")\n",
    "ax.format(title='Violin plots', titleloc='uc')"
   ]
  },
  {
   "cell_type": "markdown",
   "metadata": {},
   "source": [
    "## Parametric plots"
   ]
  },
  {
   "cell_type": "raw",
   "metadata": {
    "raw_mimetype": "text/restructuredtext"
   },
   "source": [
    "You can draw \"parametric\" plots in ProPlot using the `~proplot.axes.Axes.parametric` method or by passing the `cmap` keyword argument to `~matplotlib.axes.Axes.plot`. \"Parametric\" plots are line collections that *map individual line segments to individual colors*, where each color represents a parametric coordinate (e.g. time). Parametric coordinates must be passed with the `values` keyword argument. See `~proplot.axes.Axes.parametric` for details."
   ]
  },
  {
   "cell_type": "code",
   "execution_count": null,
   "metadata": {},
   "outputs": [],
   "source": [
    "import proplot as plot\n",
    "import numpy as np\n",
    "N = 50\n",
    "cmap = 'IceFire'\n",
    "values = np.linspace(-N/2, N/2, N)\n",
    "f, axs = plot.subplots(\n",
    "    share=0, ncols=2, wratios=(2, 1),\n",
    "    axwidth='7cm', aspect=(2, 1)\n",
    ")\n",
    "axs.format(suptitle='Parametric plots demo')\n",
    "\n",
    "# Parametric line with smooth gradations\n",
    "ax = axs[0]\n",
    "state = np.random.RandomState(51423)\n",
    "m = ax.plot((state.rand(N) - 0.5).cumsum(), state.rand(N),\n",
    "            cmap=cmap, values=values, lw=7, extend='both')\n",
    "ax.format(\n",
    "    xlabel='xlabel', ylabel='ylabel',\n",
    "    title='Line with smooth gradations'\n",
    ")\n",
    "ax.format(xlim=(-1, 5), ylim=(-0.2, 1.2))\n",
    "ax.colorbar(m, loc='b', label='parametric coordinate', locator=5)\n",
    "\n",
    "# Parametric line with stepped gradations\n",
    "N = 12\n",
    "ax = axs[1]\n",
    "values = np.linspace(-N/2, N/2, N + 1)\n",
    "radii = np.linspace(1, 0.2, N + 1)\n",
    "angles = np.linspace(0, 4*np.pi, N + 1)\n",
    "x = radii*np.cos(1.4*angles)\n",
    "y = radii*np.sin(1.4*angles)\n",
    "m = ax.plot(x, y, values=values, linewidth=15, interp=False, cmap=cmap)\n",
    "ax.format(\n",
    "    xlim=(-1, 1), ylim=(-1, 1), title='Step gradations',\n",
    "    xlabel='cosine angle', ylabel='sine angle'\n",
    ")\n",
    "ax.colorbar(m, loc='b', maxn=10, label=f'parametric coordinate')"
   ]
  },
  {
   "cell_type": "markdown",
   "metadata": {},
   "source": [
    "## Scatter plots"
   ]
  },
  {
   "cell_type": "raw",
   "metadata": {
    "raw_mimetype": "text/restructuredtext"
   },
   "source": [
    "Thanks to `~proplot.wrappers.scatter_wrapper` and `~proplot.wrappers.cycle_changer`, `~matplotlib.axes.Axes.scatter` now accepts 2D arrays, just like `~matplotlib.axes.Axes.plot`. Also, successive calls to `~matplotlib.axes.Axes.scatter` now use the property cycler properties (e.g. `color`, `marker`, and `markersize`), and to reduce confusion, `~matplotlib.axes.Axes.scatter` optionally accepts keywords that look like `~matplotlib.axes.Axes.plot` keywords (e.g. `color` instead of `c` and `markersize` instead of `s`). You can also pass colormaps to `~matplotlib.axes.Axes.scatter` just as with matplotlib.\n",
    "\n",
    "We are also considering supporting 2D array input and property cycle iteration for more obscure matplotlib plotting commands like `~matplotlib.axes.Axes.stem`, `~matplotlib.axes.Axes.step`, `~matplotlib.axes.Axes.vlines`, and `~matplotlib.axes.Axes.hlines`. Stay tuned!"
   ]
  },
  {
   "cell_type": "code",
   "execution_count": null,
   "metadata": {},
   "outputs": [],
   "source": [
    "import proplot as plot\n",
    "import numpy as np\n",
    "import pandas as pd\n",
    "f, axs = plot.subplots(ncols=2, share=1)\n",
    "state = np.random.RandomState(51423)\n",
    "x = (state.rand(20)-0).cumsum()\n",
    "data = (state.rand(20, 4)-0.5).cumsum(axis=0)\n",
    "data = pd.DataFrame(data, columns=pd.Index(['a', 'b', 'c', 'd'], name='label'))\n",
    "\n",
    "# Scatter plot with property cycler\n",
    "ax = axs[0]\n",
    "ax.format(title='Extra prop cycle properties', suptitle='Scatter plot demo')\n",
    "obj = ax.scatter(\n",
    "    x, data, legend='ul', cycle='warm', legend_kw={'ncols': 2},\n",
    "    cycle_kw={'marker': ['x', 'o', 'x', 'o'], 'markersize': [5, 10, 20, 30]}\n",
    ")\n",
    "\n",
    "# Scatter plot with colormap\n",
    "ax = axs[1]\n",
    "ax.format(title='Scatter plot with cmap')\n",
    "data = state.rand(2, 100)\n",
    "obj = ax.scatter(\n",
    "    *data, color=data.sum(axis=0), size=state.rand(100), smin=3, smax=30,\n",
    "    marker='o', cmap='plum', colorbar='lr', vmin=0, vmax=2,\n",
    "    colorbar_kw={'label': 'label', 'locator':0.5}\n",
    ")\n",
    "axs.format(xlabel='xlabel', ylabel='ylabel')"
   ]
  }
 ],
 "metadata": {
  "celltoolbar": "Raw Cell Format",
  "kernelspec": {
   "display_name": "Python 3",
   "language": "python",
   "name": "python3"
  },
  "language_info": {
   "codemirror_mode": {
    "name": "ipython",
    "version": 3
   },
   "file_extension": ".py",
   "mimetype": "text/x-python",
   "name": "python",
   "nbconvert_exporter": "python",
   "pygments_lexer": "ipython3",
   "version": "3.7.3"
  },
  "toc": {
   "colors": {
    "hover_highlight": "#ece260",
    "navigate_num": "#000000",
    "navigate_text": "#000000",
    "running_highlight": "#FF0000",
    "selected_highlight": "#fff968",
    "sidebar_border": "#ffffff",
    "wrapper_background": "#ffffff"
   },
   "moveMenuLeft": false,
   "nav_menu": {
    "height": "12px",
    "width": "250px"
   },
   "navigate_menu": true,
   "number_sections": true,
   "sideBar": true,
   "threshold": 4,
   "toc_cell": false,
   "toc_section_display": "block",
   "toc_window_display": true,
   "widenNotebook": false
  },
  "varInspector": {
   "cols": {
    "lenName": 16,
    "lenType": 16,
    "lenVar": 40
   },
   "kernels_config": {
    "python": {
     "delete_cmd_postfix": "",
     "delete_cmd_prefix": "del ",
     "library": "var_list.py",
     "varRefreshCmd": "print(var_dic_list())"
    },
    "r": {
     "delete_cmd_postfix": ") ",
     "delete_cmd_prefix": "rm(",
     "library": "var_list.r",
     "varRefreshCmd": "cat(var_dic_list()) "
    }
   },
   "types_to_exclude": [
    "module",
    "function",
    "builtin_function_or_method",
    "instance",
    "_Feature"
   ],
   "window_display": false
  }
 },
 "nbformat": 4,
 "nbformat_minor": 2
}
