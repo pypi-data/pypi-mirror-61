{
 "cells": [
  {
   "cell_type": "markdown",
   "metadata": {},
   "source": [
    "# Insets and panels"
   ]
  },
  {
   "cell_type": "markdown",
   "metadata": {},
   "source": [
    "## Panel axes\n",
    "\n"
   ]
  },
  {
   "cell_type": "raw",
   "metadata": {
    "raw_mimetype": "text/restructuredtext"
   },
   "source": [
    "It is common to need \"panels\" for plotting secondary 1-dimensional datasets or summary statistics along the sides of axes.\n",
    "With ProPlot, you can generate \"panels\" using the `~proplot.axes.Axes.panel` or `~proplot.axes.Axes.panel_axes` commands. The resulting axes are instances of `~proplot.axes.XYAxes`.\n",
    "\n",
    "To generate \"stacked\" panels, simply call `~proplot.axes.Axes.panel` or `~proplot.axes.Axes.panel_axes` more than once. To include panels when centering spanning axis labels and super titles, pass ``includepanels=True`` to `~proplot.subplots.Figure`."
   ]
  },
  {
   "cell_type": "code",
   "execution_count": null,
   "metadata": {},
   "outputs": [],
   "source": [
    "import proplot as plot\n",
    "f, axs = plot.subplots(axwidth=1.2, nrows=2, ncols=2, share=0)\n",
    "# Panels never interfere with subplot layout and spacing\n",
    "for ax, side in zip(axs, 'tlbr'):\n",
    "    ax.panel_axes(side)\n",
    "axs.format(\n",
    "    title='Title', suptitle='Panel axes demo', collabels=['Column 1', 'Column 2'],\n",
    "    abcloc='ul', titleloc='uc', xlabel='xlabel', ylabel='ylabel', abc=True, abovetop=False\n",
    ")\n",
    "axs.format(\n",
    "    xlim=(0, 1), ylim=(0, 1),\n",
    "    ylocator=plot.arange(0.2, 0.8, 0.2),\n",
    "    xlocator=plot.arange(0.2, 0.8, 0.2)\n",
    ")"
   ]
  },
  {
   "cell_type": "code",
   "execution_count": null,
   "metadata": {},
   "outputs": [],
   "source": [
    "import proplot as plot\n",
    "import numpy as np\n",
    "state = np.random.RandomState(51423)\n",
    "data = (state.rand(20, 20)-0.1).cumsum(axis=1)\n",
    "# Stacked panels with outer colorbars\n",
    "f, axs = plot.subplots(\n",
    "    axwidth=1.5, nrows=2, ncols=2,\n",
    "    share=0, panelpad=0.1, includepanels=True\n",
    ")\n",
    "maxs = axs.panel('r', space=0)\n",
    "saxs = axs.panel('r', space=0, share=False)\n",
    "axs.format(xlabel='xlabel', ylabel='ylabel', suptitle='Panel axes demo')\n",
    "for i, ax in enumerate(axs):\n",
    "    ax.format(title=f'Dataset {i+1}')\n",
    "axs.contourf(\n",
    "    data, cmap='glacial', levels=plot.arange(-1, 11),\n",
    "    colorbar='b', colorbar_kw={'label': 'colorbar'}, extend='both'\n",
    ")\n",
    "maxs.plot(data.mean(axis=1), np.arange(20), color='gray7')\n",
    "maxs.format(title='Mean')\n",
    "saxs.plot(data.std(axis=1), np.arange(20), color='gray7', ls='--')\n",
    "saxs.format(title='Stdev')"
   ]
  },
  {
   "cell_type": "markdown",
   "metadata": {},
   "source": [
    "## Inset axes"
   ]
  },
  {
   "cell_type": "raw",
   "metadata": {
    "raw_mimetype": "text/restructuredtext"
   },
   "source": [
    "`Inset axes <https://matplotlib.org/3.1.1/gallery/subplots_axes_and_figures/zoom_inset_axes.html>`__ can be generated with the `~proplot.axes.Axes.inset` or `~proplot.axes.Axes.inset_axes` command. The resulting axes are instances of `~proplot.axes.XYAxes`, and therefore can be modified with the `~proplot.axes.XYAxes.format` command.\n",
    "\n",
    "Passing ``zoom=True`` to `~proplot.axes.Axes.inset` draws \"zoom indication\" lines with `~matplotlib.axes.Axes.indicate_inset_zoom`, and ProPlot *automatically updates* the lines when the axis limits of the parent axes change. To modify the line properties, simply use the `zoom_kw` argument."
   ]
  },
  {
   "cell_type": "code",
   "execution_count": null,
   "metadata": {},
   "outputs": [],
   "source": [
    "import proplot as plot\n",
    "import numpy as np\n",
    "N = 20\n",
    "# Inset axes representing a \"zoom\"\n",
    "state = np.random.RandomState(51423)\n",
    "f, ax = plot.subplots()\n",
    "x, y = np.arange(10), np.arange(10)\n",
    "data = state.rand(10, 10)\n",
    "m = ax.pcolormesh(data, cmap='Grays', levels=N)\n",
    "ax.colorbar(m, loc='b', label='label')\n",
    "ax.format(xlabel='xlabel', ylabel='ylabel')\n",
    "axi = ax.inset(\n",
    "    [5, 5, 4, 4], transform='data', zoom=True,\n",
    "    zoom_kw={'color': 'red', 'lw': 2}\n",
    ")\n",
    "axi.format(\n",
    "    xlim=(2, 4), ylim=(2, 4), color='red',\n",
    "    linewidth=1.5, ticklabelweight='bold'\n",
    ")\n",
    "axi.pcolormesh(data, cmap='Grays', levels=N)\n",
    "ax.format(suptitle='Inset axes demo')"
   ]
  }
 ],
 "metadata": {
  "kernelspec": {
   "display_name": "Python 3",
   "language": "python",
   "name": "python3"
  },
  "language_info": {
   "codemirror_mode": {
    "name": "ipython",
    "version": 3
   },
   "file_extension": ".py",
   "mimetype": "text/x-python",
   "name": "python",
   "nbconvert_exporter": "python",
   "pygments_lexer": "ipython3",
   "version": "3.7.3"
  },
  "toc": {
   "colors": {
    "hover_highlight": "#ece260",
    "navigate_num": "#000000",
    "navigate_text": "#000000",
    "running_highlight": "#FF0000",
    "selected_highlight": "#fff968",
    "sidebar_border": "#ffffff",
    "wrapper_background": "#ffffff"
   },
   "moveMenuLeft": false,
   "nav_menu": {
    "height": "66px",
    "width": "252px"
   },
   "navigate_menu": true,
   "number_sections": true,
   "sideBar": true,
   "threshold": 4,
   "toc_cell": false,
   "toc_section_display": "block",
   "toc_window_display": true,
   "widenNotebook": false
  },
  "varInspector": {
   "cols": {
    "lenName": 16,
    "lenType": 16,
    "lenVar": 40
   },
   "kernels_config": {
    "python": {
     "delete_cmd_postfix": "",
     "delete_cmd_prefix": "del ",
     "library": "var_list.py",
     "varRefreshCmd": "print(var_dic_list())"
    },
    "r": {
     "delete_cmd_postfix": ") ",
     "delete_cmd_prefix": "rm(",
     "library": "var_list.r",
     "varRefreshCmd": "cat(var_dic_list()) "
    }
   },
   "types_to_exclude": [
    "module",
    "function",
    "builtin_function_or_method",
    "instance",
    "_Feature"
   ],
   "window_display": false
  }
 },
 "nbformat": 4,
 "nbformat_minor": 2
}
