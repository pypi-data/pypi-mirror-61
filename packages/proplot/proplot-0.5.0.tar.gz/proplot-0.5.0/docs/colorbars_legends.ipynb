{
 "cells": [
  {
   "cell_type": "markdown",
   "metadata": {},
   "source": [
    "# Colorbars and legends"
   ]
  },
  {
   "cell_type": "markdown",
   "metadata": {},
   "source": [
    "## Axes colorbars and legends\n",
    "ProPlot includes some *awesome* improvements to the matplotlib API that make working with colorbars and legends much easier."
   ]
  },
  {
   "cell_type": "raw",
   "metadata": {
    "raw_mimetype": "text/restructuredtext"
   },
   "source": [
    "With ProPlot, you can draw a colorbar or legend along the *outside edge* of a subplot with the `~proplot.axes.Axes.colorbar` and `~proplot.axes.Axes.legend` `~proplot.axes.Axes` methods by selecting an edge location, e.g. ``loc='right'``. If you add multiple colorbars and legends to the same side, they will be *stacked* automatically. The space for outer colorbars and legends is allocated from the space between subplot rows and columns -- it is no longer stolen from the axes.\n",
    "\n",
    "You can also use ProPlot to draw colorbars and legends on-the-fly. To plot data and draw a colorbar in one go, pass a location (e.g. ``colorbar='r'``) to methods that accept a `cmap` argument. To draw a legend or colorbar-legend in one go, pass a location (e.g. ``legend='r'`` or ``colorbar='r'``) to methods that accept a `cycle` argument. These are powered by the `~proplot.wrappers.cmap_changer` and `~proplot.wrappers.cycle_changer` wrappers.\n",
    "\n",
    "You can also draw an *inset* colorbar by passing an *inset* location, e.g. ``colorbar='upper right'`` or ``colorbar='ur'``, to methods that accept a `cmap` or `cycle` argument. Inset colorbars have optional rectangular backgrounds, just like inset legends."
   ]
  },
  {
   "cell_type": "code",
   "execution_count": null,
   "metadata": {},
   "outputs": [],
   "source": [
    "import proplot as plot\n",
    "import numpy as np\n",
    "with plot.rc.context(abc=True):\n",
    "    f, axs = plot.subplots(ncols=2, share=0)\n",
    "\n",
    "# Colorbars\n",
    "ax = axs[0]\n",
    "state = np.random.RandomState(51423)\n",
    "m = ax.heatmap(state.rand(10, 10), colorbar='t', cmap='dusk')\n",
    "ax.colorbar(m, loc='r')\n",
    "ax.colorbar(m, loc='ll', label='colorbar label')\n",
    "ax.format(title='Axes colorbars', suptitle='Axes colorbars and legends demo')\n",
    "\n",
    "# Legends\n",
    "ax = axs[1]\n",
    "ax.format(title='Axes legends', titlepad='0em')\n",
    "hs = ax.plot(\n",
    "    (state.rand(10, 5) - 0.5).cumsum(axis=0), linewidth=3,\n",
    "    cycle='sharp', legend='t',\n",
    "    labels=list('abcde'), legend_kw={'ncols': 5, 'frame': False}\n",
    ")\n",
    "ax.legend(hs, loc='r', ncols=1, frame=False)\n",
    "ax.legend(hs, loc='ll', label='legend label')\n",
    "axs.format(xlabel='xlabel', ylabel='ylabel')"
   ]
  },
  {
   "cell_type": "code",
   "execution_count": null,
   "metadata": {},
   "outputs": [],
   "source": [
    "import proplot as plot\n",
    "import numpy as np\n",
    "f, axs = plot.subplots(nrows=2, share=0, axwidth='5cm', panelpad='1em')\n",
    "axs.format(suptitle='Stacked colorbars demo')\n",
    "state = np.random.RandomState(51423)\n",
    "N = 10\n",
    "# Repeat for both axes\n",
    "for j, ax in enumerate(axs):\n",
    "    ax.format(\n",
    "        xlabel='data', xlocator=np.linspace(0, 0.8, 5),\n",
    "        title=f'Subplot #{j+1}'\n",
    "    )\n",
    "    for i, (x0, y0, x1, y1, cmap, scale) in enumerate((\n",
    "         (0, 0.5, 1, 1, 'grays', 0.5),\n",
    "         (0, 0, 0.5, 0.5, 'reds', 1),\n",
    "         (0.5, 0, 1, 0.5, 'blues', 2)\n",
    "    )):\n",
    "        if j == 1 and i == 0:\n",
    "            continue\n",
    "        data = state.rand(N, N)*scale\n",
    "        x, y = np.linspace(x0, x1, N + 1), np.linspace(y0, y1, N + 1)\n",
    "        m = ax.pcolormesh(\n",
    "            x, y, data, cmap=cmap,\n",
    "            levels=np.linspace(0, scale, 11)\n",
    "        )\n",
    "        ax.colorbar(m, loc='l', label=f'dataset #{i+1}')"
   ]
  },
  {
   "cell_type": "markdown",
   "metadata": {},
   "source": [
    "## Figure colorbars and legends"
   ]
  },
  {
   "cell_type": "raw",
   "metadata": {
    "raw_mimetype": "text/restructuredtext"
   },
   "source": [
    "To draw a colorbar or legend along the edge of a figure, use the `~proplot.subplots.Figure.colorbar` or `~proplot.subplots.Figure.legend` `~proplot.subplots.Figure` methods. The colorbar or legend will be aligned between edges of the subplot grid. As with :ref:`Panel axes`, drawing successive colorbars or legends along the same side will \"stack\" them.\n",
    "\n",
    "To draw a colorbar or legend beneath particular row(s) and column(s) of the subplot grid, use the `row`, `rows`, `col`, or `cols` keyword arguments. Pass an integer to draw the colorbar or legend beside a single row or column, or pass a tuple to draw it beside a range of rows or columns."
   ]
  },
  {
   "cell_type": "code",
   "execution_count": null,
   "metadata": {},
   "outputs": [],
   "source": [
    "import proplot as plot\n",
    "import numpy as np\n",
    "f, axs = plot.subplots(ncols=3, nrows=3, axwidth=1.4)\n",
    "state = np.random.RandomState(51423)\n",
    "m = axs.pcolormesh(\n",
    "    state.rand(20, 20), cmap='grays',\n",
    "    levels=np.linspace(0, 1, 11), extend='both'\n",
    ")[0]\n",
    "axs.format(\n",
    "    suptitle='Figure colorbars and legends demo', abc=True,\n",
    "    abcloc='l', abcstyle='a.', xlabel='xlabel', ylabel='ylabel'\n",
    ")\n",
    "f.colorbar(m, label='column 1', ticks=0.5, loc='b', col=1)\n",
    "f.colorbar(m, label='columns 2-3', ticks=0.2, loc='b', cols=(2, 3))\n",
    "f.colorbar(m, label='stacked colorbar', ticks=0.1, loc='b', minorticks=0.05)\n",
    "f.colorbar(m, label='colorbar with length <1', ticks=0.1, loc='r', length=0.7)"
   ]
  },
  {
   "cell_type": "code",
   "execution_count": null,
   "metadata": {},
   "outputs": [],
   "source": [
    "import proplot as plot\n",
    "import numpy as np\n",
    "f, axs = plot.subplots(\n",
    "    ncols=2, nrows=2, axwidth=1.7,\n",
    "    share=0, wspace=0.3, order='F'\n",
    ")\n",
    "\n",
    "# Plot data\n",
    "data = (np.random.rand(50, 50) - 0.1).cumsum(axis=0)\n",
    "m = axs[:2].contourf(data, cmap='grays', extend='both')\n",
    "colors = plot.Colors('grays', 5)\n",
    "hs = []\n",
    "state = np.random.RandomState(51423)\n",
    "for abc, color in zip('ABCDEF', colors):\n",
    "    h = axs[2:].plot(state.rand(10), lw=3, color=color, label=f'line {abc}')\n",
    "    hs.extend(h[0])\n",
    "\n",
    "# Add colorbars and legends\n",
    "f.colorbar(m[0], length=0.8, label='colorbar label', loc='b', col=1, locator=5)\n",
    "f.colorbar(m[0], label='colorbar label', loc='l')\n",
    "f.legend(hs, ncols=2, center=True, frame=False, loc='b', col=2)\n",
    "f.legend(hs, ncols=1, label='legend label', frame=False, loc='r')\n",
    "axs.format(\n",
    "    suptitle='Figure colorbars and legends demo',\n",
    "    abc=True, abcloc='ul', abcstyle='A'\n",
    ")\n",
    "for ax, title in zip(axs, ['2D dataset #1', '2D dataset #2', 'Line set #1', 'Line set #2']):\n",
    "    ax.format(xlabel='xlabel', title=title)"
   ]
  },
  {
   "cell_type": "markdown",
   "metadata": {},
   "source": [
    "## New colorbar features"
   ]
  },
  {
   "cell_type": "raw",
   "metadata": {
    "raw_mimetype": "text/restructuredtext"
   },
   "source": [
    "The `~proplot.subplots.Figure` `~proplot.subplots.Figure.colorbar` and `~proplot.axes.Axes` `~proplot.axes.Axes.colorbar` methods are wrapped by `~proplot.wrappers.colorbar_wrapper`, which adds several new features.\n",
    "\n",
    "You can now draw colorbars from *lists of colors* or *lists of artists* by passing a list instead of a mappable object. Colorbar minor ticks are now much more robust, and the tick location and formatter arguments are passed through `~proplot.axistools.Locator` and `~proplot.axistools.Formatter`. The colorbar width and length can be changed with the `width` and `length` keyword args. Note that colorbar widths are now specified in *physical units*, which helps prevent drawing colorbars that look \"too skinny\" or \"too fat\"."
   ]
  },
  {
   "cell_type": "code",
   "execution_count": null,
   "metadata": {},
   "outputs": [],
   "source": [
    "import proplot as plot\n",
    "import numpy as np\n",
    "f, axs = plot.subplots(share=0, ncols=2, axwidth=2)\n",
    "\n",
    "# Colorbars from lines\n",
    "ax = axs[0]\n",
    "state = np.random.RandomState(51423)\n",
    "data = 1 + (state.rand(12, 10) - 0.45).cumsum(axis=0)\n",
    "cycle = plot.Cycle('algae')\n",
    "hs = ax.plot(\n",
    "    data, lw=4, cycle=cycle, colorbar='lr',\n",
    "    colorbar_kw={'length': '8em', 'label': 'from lines'}\n",
    ")\n",
    "ax.colorbar(\n",
    "    hs, loc='t', values=2*np.linspace(0.5, 9.5, 10),\n",
    "    label='from lines', length=0.7, ticks=2\n",
    ")\n",
    "\n",
    "# Colorbars from a mappable\n",
    "ax = axs[1]\n",
    "m = ax.contourf(\n",
    "    data.T, extend='both', cmap='algae',\n",
    "    levels=plot.arange(0, 3, 0.5)\n",
    ")\n",
    "f.colorbar(\n",
    "    m, length=1, loc='r', label='inside ticks',\n",
    "    tickloc='left'\n",
    ")\n",
    "ax.colorbar(\n",
    "    m, loc='ul', length=1, tickminor=True, drawedges=True,\n",
    "    label='inset colorbar', labelcolor='gray7', labelweight='bold',\n",
    "    linewidth=1, edgecolor='gray7', ticklabelcolor='gray7', alpha=0.5\n",
    ")\n",
    "axs.format(\n",
    "    suptitle='Colorbar formatting demo',\n",
    "    xlabel='xlabel', ylabel='ylabel', abovetop=False\n",
    ")"
   ]
  },
  {
   "cell_type": "markdown",
   "metadata": {},
   "source": [
    "## New legend features"
   ]
  },
  {
   "cell_type": "raw",
   "metadata": {
    "raw_mimetype": "text/restructuredtext"
   },
   "source": [
    "The `~proplot.subplots.Figure` `~proplot.subplots.Figure.legend` and `~proplot.axes.Axes` `~proplot.axes.Axes.legend` methods are wrapped by `~proplot.wrappers.legend_wrapper`, which adds several new features.\n",
    "\n",
    "You can draw legends with *centered legend rows*, either by passing ``center=True`` or by passing *list of lists* of plot handles. This is accomplished by stacking multiple single-row, horizontally centered legends, then manually adding an encompassing legend frame. You can also modify legend *text and handle properties* with several keyword args, and switch between row-major and column-major order for legend entries with the `order` keyword arg (default is row-major)."
   ]
  },
  {
   "cell_type": "code",
   "execution_count": null,
   "metadata": {},
   "outputs": [],
   "source": [
    "import proplot as plot\n",
    "import numpy as np\n",
    "plot.rc.cycle = 'contrast'\n",
    "labels = ['a', 'bb', 'ccc', 'dddd', 'eeeee']\n",
    "f, axs = plot.subplots(ncols=2, span=False, share=1, axwidth=2)\n",
    "hs1, hs2 = [], []\n",
    "\n",
    "# On-the-fly legends\n",
    "state = np.random.RandomState(51423)\n",
    "for i, label in enumerate(labels):\n",
    "    data = (state.rand(20) - 0.45).cumsum(axis=0)\n",
    "    h1 = axs[0].plot(\n",
    "        data, lw=4, label=label, legend='ul',\n",
    "        legend_kw={'order': 'F', 'title': 'column major'}\n",
    "    )\n",
    "    hs1.extend(h1)\n",
    "    h2 = axs[1].plot(\n",
    "        data, lw=4, label=label, legend='r', cycle='floral',\n",
    "        legend_kw={'ncols': 1, 'frame': False, 'title': 'no frame'}\n",
    "    )\n",
    "    hs2.extend(h2)\n",
    "    \n",
    "# Outer legends\n",
    "ax = axs[0]\n",
    "ax.legend(\n",
    "    hs1, loc='b', ncols=3, linewidth=2,title='row major', order='C',\n",
    "    facecolor='gray2'\n",
    ")\n",
    "ax = axs[1]\n",
    "ax.legend(hs2, loc='b', ncols=3, center=True, title='centered rows')\n",
    "axs.format(xlabel='xlabel', ylabel='ylabel', suptitle='Legend formatting demo')"
   ]
  }
 ],
 "metadata": {
  "celltoolbar": "Raw Cell Format",
  "kernelspec": {
   "display_name": "Python 3",
   "language": "python",
   "name": "python3"
  },
  "language_info": {
   "codemirror_mode": {
    "name": "ipython",
    "version": 3
   },
   "file_extension": ".py",
   "mimetype": "text/x-python",
   "name": "python",
   "nbconvert_exporter": "python",
   "pygments_lexer": "ipython3",
   "version": "3.7.3"
  },
  "toc": {
   "colors": {
    "hover_highlight": "#ece260",
    "navigate_num": "#000000",
    "navigate_text": "#000000",
    "running_highlight": "#FF0000",
    "selected_highlight": "#fff968",
    "sidebar_border": "#ffffff",
    "wrapper_background": "#ffffff"
   },
   "moveMenuLeft": false,
   "nav_menu": {
    "height": "66px",
    "width": "252px"
   },
   "navigate_menu": true,
   "number_sections": true,
   "sideBar": true,
   "threshold": 4,
   "toc_cell": false,
   "toc_section_display": "block",
   "toc_window_display": true,
   "widenNotebook": false
  },
  "varInspector": {
   "cols": {
    "lenName": 16,
    "lenType": 16,
    "lenVar": 40
   },
   "kernels_config": {
    "python": {
     "delete_cmd_postfix": "",
     "delete_cmd_prefix": "del ",
     "library": "var_list.py",
     "varRefreshCmd": "print(var_dic_list())"
    },
    "r": {
     "delete_cmd_postfix": ") ",
     "delete_cmd_prefix": "rm(",
     "library": "var_list.r",
     "varRefreshCmd": "cat(var_dic_list()) "
    }
   },
   "types_to_exclude": [
    "module",
    "function",
    "builtin_function_or_method",
    "instance",
    "_Feature"
   ],
   "window_display": false
  }
 },
 "nbformat": 4,
 "nbformat_minor": 2
}
