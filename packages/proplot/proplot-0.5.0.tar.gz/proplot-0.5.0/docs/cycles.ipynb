{
 "cells": [
  {
   "cell_type": "markdown",
   "metadata": {},
   "source": [
    "# Color cycles"
   ]
  },
  {
   "cell_type": "raw",
   "metadata": {
    "raw_mimetype": "text/restructuredtext"
   },
   "source": [
    "ProPlot defines **color cycles** as color palettes comprising sets of *distinct colors*. Unlike :ref:`colormaps <Colormaps>`, interpolation between these colors may not make sense. Color cycles are generally used with bar plots, line plots, and other distinct plot elements. ProPlot uses the `~proplot.styletools.ListedColormap` class to *name* color cycles, then applies them to plots by updating `the property cycler <https://matplotlib.org/3.1.0/tutorials/intermediate/color_cycle.html>`__. Color cycles can also be made by sampling colormaps (see :ref:`Making new color cycles`).\n",
    "\n",
    "ProPlot adds several features to help you use color cycles effectively in your figures. This section documents the new registered color cycles, explains how to make and modify colormaps, and shows how to apply them to your plots."
   ]
  },
  {
   "cell_type": "markdown",
   "metadata": {},
   "source": [
    "## Included color cycles"
   ]
  },
  {
   "cell_type": "raw",
   "metadata": {
    "raw_mimetype": "text/restructuredtext"
   },
   "source": [
    "Use `~proplot.styletools.show_cycles` to generate a table of the color cycles registered by default and loaded from your ``~/.proplot/cycles`` folder. You can make your own color cycles using the `~proplot.styletools.Cycle` constructor function."
   ]
  },
  {
   "cell_type": "code",
   "execution_count": null,
   "metadata": {},
   "outputs": [],
   "source": [
    "import proplot as plot\n",
    "f = plot.show_cycles()"
   ]
  },
  {
   "cell_type": "markdown",
   "metadata": {},
   "source": [
    "## Changing the color cycle"
   ]
  },
  {
   "cell_type": "raw",
   "metadata": {
    "raw_mimetype": "text/restructuredtext"
   },
   "source": [
    "You can make and apply new property cyclers with the `~proplot.styletools.Cycle` constructor function. Various plotting commands like `~matplotlib.axes.Axes.plot` and `~matplotlib.axes.Axes.scatter` now accept a `cycle` keyword arg, which is passed to `~proplot.styletools.Cycle` (see `~proplot.wrappers.cycle_changer`). To save your color cycle data and use it every time ProPlot is imported, simply pass ``save=True`` to `~proplot.styletools.Cycle`. If you want to change the global property cycler, pass a *name* to the :rcraw:`cycle` setting or pass the result of `~proplot.styletools.Cycle` to the :rcraw:`axes.prop_cycle` setting (see :ref:`Configuring proplot`)."
   ]
  },
  {
   "cell_type": "code",
   "execution_count": null,
   "metadata": {},
   "outputs": [],
   "source": [
    "import proplot as plot\n",
    "import numpy as np\n",
    "lw = 5\n",
    "state = np.random.RandomState(51423)\n",
    "data = (state.rand(12, 12) - 0.45).cumsum(axis=0)\n",
    "f, axs = plot.subplots(ncols=3, axwidth=1.7)\n",
    "\n",
    "# Use the default cycle\n",
    "ax = axs[0]\n",
    "plot.rc.cycle = 'contrast'\n",
    "ax.plot(data, lw=lw)\n",
    "\n",
    "# Pass the cycle to a plotting command\n",
    "ax = axs[1]\n",
    "ax.plot(data, cycle='qual2', lw=lw)\n",
    "ax = axs[2]\n",
    "for i in range(data.shape[1]):\n",
    "    ax.plot(data[:, i], cycle='qual2', lw=lw)\n",
    "axs.format(suptitle='Local and global color cycles demo')"
   ]
  },
  {
   "cell_type": "markdown",
   "metadata": {},
   "source": [
    "## Making new color cycles"
   ]
  },
  {
   "cell_type": "raw",
   "metadata": {
    "raw_mimetype": "text/restructuredtext"
   },
   "source": [
    "You can make new color cycles with the `~proplot.styletools.Cycle` constructor. One great way to make cycles is by sampling arbitrary colormaps! Just pass a color name or colormap name to the `~proplot.styletools.Cycle` constructor, with the last positional argument indicating the number of samples you want to draw.\n",
    "\n",
    "Positional arguments passed to `~proplot.styletools.Cycle` are interpreted by the `~proplot.styletools.Colormap` constructor, and the resulting colormap is sampled at discrete values. To exclude near-white colors on the end of a colormap, pass e.g. ``left=x`` to `~proplot.styletools.Cycle`, or supply a plotting command with e.g. ``cycle_kw={'left':x}``. See :ref:`Colormaps` for details.\n",
    "\n",
    "In the below example, several cycles are constructed from scratch, and the lines are referenced with colorbars and legends. For making colorbars from a list of lines, see :ref:`Colorbars and legends`."
   ]
  },
  {
   "cell_type": "code",
   "execution_count": null,
   "metadata": {},
   "outputs": [],
   "source": [
    "import proplot as plot\n",
    "import numpy as np\n",
    "f, axs = plot.subplots(ncols=2, share=0, axwidth=2, aspect=1.2)\n",
    "state = np.random.RandomState(51423)\n",
    "data = (20*state.rand(10, 21) - 10).cumsum(axis=0)\n",
    "\n",
    "# Cycle from on-the-fly monochromatic colormap\n",
    "ax = axs[0]\n",
    "lines = ax.plot(data[:, :5], cycle='plum', cycle_kw={'left': 0.3}, lw=5)\n",
    "f.colorbar(lines, loc='b', col=1, values=np.arange(0, len(lines)))\n",
    "f.legend(lines, loc='b', col=1, labels=np.arange(0, len(lines)))\n",
    "ax.format(title='Cycle from color')\n",
    "\n",
    "# Cycle from registered colormaps\n",
    "ax = axs[1]\n",
    "cycle = plot.Cycle('blues', 'reds', 'oranges', 15, left=0.1)\n",
    "lines = ax.plot(data[:, :15], cycle=cycle, lw=5)\n",
    "f.colorbar(lines, loc='b', col=2, values=np.arange(0, len(lines)), locator=2)\n",
    "f.legend(lines, loc='b', col=2, labels=np.arange(0, len(lines)), ncols=4)\n",
    "ax.format(\n",
    "    title='Cycle from merged colormaps',\n",
    "    suptitle='Color cycles from colormaps demo'\n",
    ")"
   ]
  },
  {
   "cell_type": "markdown",
   "metadata": {},
   "source": [
    "## Generic property cycles"
   ]
  },
  {
   "cell_type": "raw",
   "metadata": {
    "raw_mimetype": "text/restructuredtext"
   },
   "source": [
    "`~proplot.styletools.Cycle` can also generate cyclers that change properties other than color. Below, a single-color dash style cycler is constructed and applied to the axes locally. To apply it globally, simply use ``plot.rc['axes.prop_cycle'] = cycle``."
   ]
  },
  {
   "cell_type": "code",
   "execution_count": null,
   "metadata": {},
   "outputs": [],
   "source": [
    "import proplot as plot\n",
    "import numpy as np\n",
    "import pandas as pd\n",
    "f, ax = plot.subplots(axwidth=3, aspect=1.5)\n",
    "state = np.random.RandomState(51423)\n",
    "data = (state.rand(20, 4) - 0.5).cumsum(axis=0)\n",
    "data = pd.DataFrame(data, columns=pd.Index(['a', 'b', 'c', 'd'], name='label'))\n",
    "ax.format(suptitle='Plot without color cycle')\n",
    "cycle = plot.Cycle(dashes=[(1, 0.5), (1, 1.5), (3, 0.5), (3, 1.5)])\n",
    "obj = ax.plot(\n",
    "    data, lw=3, cycle=cycle, legend='ul',\n",
    "    legend_kw={'ncols': 2, 'handlelength': 3}\n",
    ")"
   ]
  },
  {
   "cell_type": "markdown",
   "metadata": {},
   "source": [
    "## Downloading color cycles"
   ]
  },
  {
   "cell_type": "raw",
   "metadata": {
    "raw_mimetype": "text/restructuredtext"
   },
   "source": [
    "There are plenty of online interactive tools for generating and testing color cycles, including `i want hue <http://tools.medialab.sciences-po.fr/iwanthue/index.php>`__, `coolers <https://coolors.co>`__, and `viz palette <https://projects.susielu.com/viz-palette>`__.\n",
    "\n",
    "To add color cycles downloaded from any of these sources, save the cycle data to a file in your ``~/.proplot/cycles`` folder, then call `~proplot.styletools.register_cycles`. The file should be named ``name.ext``, where ``name`` will be the registered cycle name. See `~proplot.styletools.register_cmaps` for valid file extensions."
   ]
  }
 ],
 "metadata": {
  "celltoolbar": "Raw Cell Format",
  "kernelspec": {
   "display_name": "Python 3",
   "language": "python",
   "name": "python3"
  },
  "language_info": {
   "codemirror_mode": {
    "name": "ipython",
    "version": 3
   },
   "file_extension": ".py",
   "mimetype": "text/x-python",
   "name": "python",
   "nbconvert_exporter": "python",
   "pygments_lexer": "ipython3",
   "version": "3.7.3"
  },
  "toc": {
   "colors": {
    "hover_highlight": "#ece260",
    "navigate_num": "#000000",
    "navigate_text": "#000000",
    "running_highlight": "#FF0000",
    "selected_highlight": "#fff968",
    "sidebar_border": "#ffffff",
    "wrapper_background": "#ffffff"
   },
   "moveMenuLeft": false,
   "nav_menu": {
    "height": "84px",
    "width": "252px"
   },
   "navigate_menu": true,
   "number_sections": true,
   "sideBar": true,
   "threshold": 4,
   "toc_cell": false,
   "toc_section_display": "block",
   "toc_window_display": true,
   "widenNotebook": false
  },
  "varInspector": {
   "cols": {
    "lenName": 16,
    "lenType": 16,
    "lenVar": 40
   },
   "kernels_config": {
    "python": {
     "delete_cmd_postfix": "",
     "delete_cmd_prefix": "del ",
     "library": "var_list.py",
     "varRefreshCmd": "print(var_dic_list())"
    },
    "r": {
     "delete_cmd_postfix": ") ",
     "delete_cmd_prefix": "rm(",
     "library": "var_list.r",
     "varRefreshCmd": "cat(var_dic_list()) "
    }
   },
   "types_to_exclude": [
    "module",
    "function",
    "builtin_function_or_method",
    "instance",
    "_Feature"
   ],
   "window_display": false
  }
 },
 "nbformat": 4,
 "nbformat_minor": 2
}
