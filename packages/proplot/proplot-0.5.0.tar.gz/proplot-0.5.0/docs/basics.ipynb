{
 "cells": [
  {
   "cell_type": "markdown",
   "metadata": {},
   "source": [
    "# The basics"
   ]
  },
  {
   "cell_type": "markdown",
   "metadata": {},
   "source": [
    "## Figures and subplots"
   ]
  },
  {
   "cell_type": "raw",
   "metadata": {
    "raw_mimetype": "text/restructuredtext"
   },
   "source": [
    "ProPlot works by subclassing the matplotlib `~matplotlib.figure.Figure` and `~matplotlib.axes.Axes` classes. You can generate grids of proplot `~proplot.axes.Axes` axes on a proplot `~proplot.subplots.Figure` using the `~proplot.subplots.subplots` command.\n",
    "\n",
    ".. code-block:: python\n",
    "\n",
    "  import proplot as plot\n",
    "  f, axs = plot.subplots(...)\n",
    "      \n",
    "* Just like `matplotlib.pyplot.subplots`, you can use `~proplot.subplots.subplots` without arguments to generate a single-axes subplot or with `ncols` or `nrows` to set up simple grids of subplots.\n",
    "* Unlike `matplotlib.pyplot.subplots`, you can *also* use `~proplot.subplots.subplots` to draw arbitrarily complex grids using a 2D array of integers. Just think of this array as a \"picture\" of your figure, where each unique integer corresponds to a unique axes and ``0`` corresponds to an empty space.\n",
    "\n",
    "In the below examples, we create subplot grids with `~proplot.subplots.subplots` and modify the axes using `~proplot.axes.Axes.format` and `~proplot.subplots.subplot_grid`. See :ref:`Formatting subplots` and :ref:`Subplot grids` for details."
   ]
  },
  {
   "cell_type": "code",
   "execution_count": null,
   "metadata": {},
   "outputs": [],
   "source": [
    "import proplot as plot\n",
    "import numpy as np\n",
    "state = np.random.RandomState(51423)\n",
    "data = 2*(state.rand(100, 5) - 0.5).cumsum(axis=0)\n",
    "\n",
    "# Simple plot\n",
    "f, axs = plot.subplots(ncols=2)\n",
    "axs[0].plot(data, lw=2)\n",
    "axs[0].format(xticks=20, xtickminor=False)\n",
    "axs.format(\n",
    "    suptitle='Simple subplot grid', title='Title',\n",
    "    xlabel='x axis', ylabel='y axis'\n",
    ")\n",
    "\n",
    "# Complex grid\n",
    "array = [  # the \"picture\"; 1 == subplot a, 2 == subplot b, etc.\n",
    "    [1, 1, 2, 2],\n",
    "    [0, 3, 3, 0],\n",
    "]\n",
    "f, axs = plot.subplots(array, axwidth=1.8)\n",
    "axs.format(\n",
    "    abc=True, abcloc='ul', suptitle='Complex subplot grid',\n",
    "    xlabel='xlabel', ylabel='ylabel'\n",
    ")\n",
    "axs[2].plot(data, lw=2)\n",
    "\n",
    "# Really complex grid\n",
    "array = [  # the \"picture\" \n",
    "    [1, 1, 2],\n",
    "    [1, 1, 6],\n",
    "    [3, 4, 4],\n",
    "    [3, 5, 5],\n",
    "]\n",
    "f, axs = plot.subplots(array, width=5, span=False)\n",
    "axs.format(\n",
    "    suptitle='Really complex subplot grid',\n",
    "    xlabel='xlabel', ylabel='ylabel', abc=True\n",
    ")\n",
    "axs[0].plot(data, lw=2)"
   ]
  },
  {
   "cell_type": "markdown",
   "metadata": {},
   "source": [
    "## Formatting subplots"
   ]
  },
  {
   "cell_type": "raw",
   "metadata": {
    "raw_mimetype": "text/restructuredtext"
   },
   "source": [
    "Every `~matplotlib.axes.Axes` returned by `~proplot.subplots.subplots` has a ``format`` method. This is your one-stop-shop for changing axes settings. Keyword args passed to ``format`` are interpreted as follows.\n",
    "\n",
    "1. Any keyword arg matching the name of an `~proplot.rctools.rc` setting will be applied to the axes using `~proplot.rctools.rc_configurator.context`. If the name has \"dots\", simply omit them. See :ref:`Configuring proplot` for details.\n",
    "2. Remaining keyword args are passed to the class-specific `~proplot.axes.XYAxes` `~proplot.axes.XYAxes.format`, `~proplot.axes.ProjAxes` `~proplot.axes.ProjAxes.format`, or `~proplot.axes.PolarAxes` `~proplot.axes.PolarAxes.format` methods.\n",
    "3. Still remaining keyword args are passed to the `~proplot.axes.Axes` `~proplot.axes.Axes.format` method. `~proplot.axes.Axes` is the base class for all other axes classes. This changes axes titles, a-b-c subplot labeling, and figure titles.\n",
    "\n",
    "``format`` lets you use simple shorthands for changing all kinds of axes settings at once, instead of the verbose, one-liner setter methods like ``ax.set_title()``, ``ax.set_xlabel()``, and ``ax.xaxis.tick_params()``. It is also integrated with the `~proplot.axistools.Locator`, `~proplot.axistools.Formatter`, and `~proplot.axistools.Scale` constructors, so you don't have to directly invoke verbose abstract classes. The goal here is to *reduce the amount of typing needed for drawing highly customized plots*."
   ]
  },
  {
   "cell_type": "code",
   "execution_count": null,
   "metadata": {},
   "outputs": [],
   "source": [
    "import proplot as plot\n",
    "import numpy as np\n",
    "f, axs = plot.subplots(ncols=2, nrows=2, share=0, tight=True, axwidth=1.7)\n",
    "state = np.random.RandomState(51423)\n",
    "axs[0].plot(np.linspace(1, 10, 80), (state.rand(80, 5) - 0.5).cumsum(axis=0))\n",
    "axs.format(\n",
    "    suptitle='Format command demo',\n",
    "    abc=True, abcloc='ul', abcstyle='a.',\n",
    "    title='Main', ltitle='Left', rtitle='Right',  # different titles\n",
    "    urtitle='Title A', lltitle='Title B', lrtitle='Title C',  # extra titles\n",
    "    collabels=['Column label 1', 'Column label 2'], rowlabels=['Row label 1', 'Row label 2'],\n",
    "    xlabel='x-axis', ylabel='y-axis',\n",
    "    xlim=(1, 10), xticks=1, xscale='log',\n",
    "    ylim=(-2, 2), yticks=plot.arange(-2, 2), yticklabels=('a', 'bb', 'c', 'dd', 'e'),\n",
    "    xtickdir='inout', xtickminor=False,\n",
    "    ytickloc='both', yticklabelloc='both', ygridminor=True,\n",
    "    linewidth=0.8, gridlinewidth=0.8, gridminorlinewidth=0.5,\n",
    ")"
   ]
  },
  {
   "cell_type": "markdown",
   "metadata": {},
   "source": [
    "## Changing rc settings"
   ]
  },
  {
   "cell_type": "raw",
   "metadata": {
    "raw_mimetype": "text/restructuredtext"
   },
   "source": [
    "A special object named `~proplot.rctools.rc` is created whenever you import ProPlot. `~proplot.rctools.rc` can be used to change matplotlib `rcParams <https://matplotlib.org/users/customizing.html>`__ settings, custom ProPlot :ref:`rcParamsLong` settings, and special :ref:`rcParamsShort` meta-settings, which change lots of `rcParams <https://matplotlib.org/users/customizing.html>`__ and :ref:`rcParamsLong` settings all at once. See :ref:`Configuring proplot` for details.\n",
    "\n",
    "To modify a setting for just one subplot, pass it to the `~proplot.axes.Axes` `~proplot.axes.Axes.format` method. To reset everything to the default state, use `~proplot.rctools.rc_configurator.reset`. To temporarily modify settings for a block of code, use `~proplot.rctools.rc_configurator.context`. See the below example."
   ]
  },
  {
   "cell_type": "code",
   "execution_count": null,
   "metadata": {},
   "outputs": [],
   "source": [
    "import proplot as plot\n",
    "import numpy as np\n",
    "\n",
    "# Update global settings in several different ways\n",
    "plot.rc.cycle = 'colorblind'\n",
    "plot.rc.color = 'gray6'\n",
    "plot.rc.update({'fontname': 'Noto Sans'})\n",
    "plot.rc['figure.facecolor'] = 'gray3'\n",
    "plot.rc.axesfacecolor = 'gray4'\n",
    "\n",
    "# Apply settings to figure with context()\n",
    "with plot.rc.context({'suptitle.size': 11}, toplabelcolor='gray6', linewidth=1.5):\n",
    "    f, axs = plot.subplots(ncols=2, aspect=1, width=6, span=False, sharey=2)\n",
    "    \n",
    "# Plot lines \n",
    "N, M = 100, 6\n",
    "state = np.random.RandomState(51423)\n",
    "values = np.arange(1, M+1)\n",
    "for i, ax in enumerate(axs):\n",
    "    data = np.cumsum(state.rand(N, M) - 0.5, axis=0)\n",
    "    lines = ax.plot(data, linewidth=3, cycle='Grays')\n",
    "    \n",
    "# Apply settings to axes with format()\n",
    "axs.format(\n",
    "    grid=False, xlabel='x label', ylabel='y label',\n",
    "    collabels=['Column label 1', 'Column label 2'],\n",
    "    suptitle='Rc settings demo',\n",
    "    suptitlecolor='gray7',\n",
    "    abc=True, abcloc='l', abcstyle='A)',\n",
    "    title='Title', titleloc='r', titlecolor='gray7'\n",
    ")\n",
    "ay = axs[-1].twinx()\n",
    "ay.format(ycolor='red', linewidth=1.5, ylabel='secondary axis')\n",
    "ay.plot((state.rand(100) - 0.2).cumsum(), color='r', lw=3)\n",
    "\n",
    "# Reset persistent modifications from head of cell\n",
    "plot.rc.reset()"
   ]
  },
  {
   "cell_type": "markdown",
   "metadata": {},
   "source": [
    "## Subplot grids"
   ]
  },
  {
   "cell_type": "raw",
   "metadata": {
    "raw_mimetype": "text/restructuredtext"
   },
   "source": [
    "Instead of an `~numpy.ndarray` of axes, `~proplot.subplots.subplots` returns a special `~proplot.subplots.subplot_grid` container. This container *behaves like a python list*, but lets you call *any arbitrary method* on multiple axes at once. It supports both 2D indexing (e.g. ``axs[0,1]``) and 1D indexing (e.g. ``axs[2]``), and is row-major by default. Further, slicing a subplot grid (e.g. ``axs[:,0]``) returns another subplot grid.\n",
    "\n",
    "You can make your own `~proplot.subplots.subplot_grid` by passing a list of axes to the class. In the below example, the `~proplot.subplots.subplot_grid` returned by `~proplot.subplots.subplots` is used to call `~proplot.axes.Axes.format` on several axes at once."
   ]
  },
  {
   "cell_type": "code",
   "execution_count": null,
   "metadata": {},
   "outputs": [],
   "source": [
    "import proplot as plot\n",
    "import numpy as np\n",
    "state = np.random.RandomState(51423)\n",
    "f, axs = plot.subplots(ncols=4, nrows=4, axwidth=1.2)\n",
    "axs.format(\n",
    "    xlabel='xlabel', ylabel='ylabel', suptitle='Subplot grid demo',\n",
    "    grid=False, xlim=(0, 50), ylim=(-4, 4)\n",
    ")\n",
    "\n",
    "# Various ways to select subplots in the subplot grid\n",
    "axs[:, 0].format(color='gray7', facecolor='gray3', linewidth=1)\n",
    "axs[0, :].format(color='red', facecolor='gray3', linewidth=1)\n",
    "axs[0].format(color='black', facecolor='gray5', linewidth=1.4)\n",
    "axs[1:, 1:].format(facecolor='gray1')\n",
    "for ax in axs[1:, 1:]:\n",
    "    ax.plot((state.rand(50, 5) - 0.5).cumsum(axis=0), cycle='Grays', lw=2)"
   ]
  }
 ],
 "metadata": {
  "celltoolbar": "Raw Cell Format",
  "kernelspec": {
   "display_name": "Python 3",
   "language": "python",
   "name": "python3"
  },
  "language_info": {
   "codemirror_mode": {
    "name": "ipython",
    "version": 3
   },
   "file_extension": ".py",
   "mimetype": "text/x-python",
   "name": "python",
   "nbconvert_exporter": "python",
   "pygments_lexer": "ipython3",
   "version": "3.7.3"
  },
  "toc": {
   "colors": {
    "hover_highlight": "#ece260",
    "navigate_num": "#000000",
    "navigate_text": "#000000",
    "running_highlight": "#FF0000",
    "selected_highlight": "#fff968",
    "sidebar_border": "#ffffff",
    "wrapper_background": "#ffffff"
   },
   "moveMenuLeft": false,
   "nav_menu": {
    "height": "84px",
    "width": "252px"
   },
   "navigate_menu": true,
   "number_sections": true,
   "sideBar": true,
   "threshold": 4,
   "toc_cell": false,
   "toc_position": {
    "height": "723px",
    "left": "0px",
    "right": "1198px",
    "top": "46px",
    "width": "205px"
   },
   "toc_section_display": "block",
   "toc_window_display": true,
   "widenNotebook": false
  },
  "varInspector": {
   "cols": {
    "lenName": 16,
    "lenType": 16,
    "lenVar": 40
   },
   "kernels_config": {
    "python": {
     "delete_cmd_postfix": "",
     "delete_cmd_prefix": "del ",
     "library": "var_list.py",
     "varRefreshCmd": "print(var_dic_list())"
    },
    "r": {
     "delete_cmd_postfix": ") ",
     "delete_cmd_prefix": "rm(",
     "library": "var_list.r",
     "varRefreshCmd": "cat(var_dic_list()) "
    }
   },
   "types_to_exclude": [
    "module",
    "function",
    "builtin_function_or_method",
    "instance",
    "_Feature"
   ],
   "window_display": false
  }
 },
 "nbformat": 4,
 "nbformat_minor": 2
}
