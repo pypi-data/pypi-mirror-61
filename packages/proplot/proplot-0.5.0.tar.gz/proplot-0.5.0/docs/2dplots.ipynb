{
 "cells": [
  {
   "cell_type": "markdown",
   "metadata": {},
   "source": [
    "# 2d plotting"
   ]
  },
  {
   "cell_type": "raw",
   "metadata": {
    "raw_mimetype": "text/restructuredtext"
   },
   "source": [
    "ProPlot adds new features to various `~matplotlib.axes.Axes` plotting methods thanks to a set of wrapper functions. These features are a strict *superset* of the existing matplotlib API -- if you want, you can use plotting commands exactly as you always have."
   ]
  },
  {
   "cell_type": "markdown",
   "metadata": {},
   "source": [
    "## Standardized input"
   ]
  },
  {
   "cell_type": "raw",
   "metadata": {
    "raw_mimetype": "text/restructuredtext"
   },
   "source": [
    "The `~proplot.wrappers.standardize_2d` wrapper is used to standardize the positional arguments for several different plotting functions.\n",
    "It allows you to optionally omit *x* and *y* coordinates, in which case they are inffered from the data array; guesses graticule edges for `~matplotlib.axes.Axes.pcolor` and `~matplotlib.axes.Axes.pcolormesh` plots; and optionally enforces global data coverage when plotting in map projections."
   ]
  },
  {
   "cell_type": "markdown",
   "metadata": {},
   "source": [
    "## Pandas and xarray"
   ]
  },
  {
   "cell_type": "raw",
   "metadata": {
    "raw_mimetype": "text/restructuredtext"
   },
   "source": [
    "The `~proplot.wrappers.standardize_2d` wrapper also supports integration with pandas `~pandas.DataFrame`\\ s and xarray `~xarray.DataArray`\\ s. When you pass a DataFrame or DataArray to any plotting command, the x-axis label, y-axis label, legend label, colorbar label, and/or title are configured from the metadata. This restores some of the convenience you get with the builtin `pandas <https://pandas.pydata.org>`__ and `xarray <https://pandas.pydata.org>`__ plotting functions. This feature is *optional*; installation of pandas and xarray are not required."
   ]
  },
  {
   "cell_type": "code",
   "execution_count": null,
   "metadata": {},
   "outputs": [],
   "source": [
    "import xarray as xr\n",
    "import numpy as np\n",
    "import pandas as pd\n",
    "from string import ascii_lowercase\n",
    "\n",
    "# DataArray\n",
    "state = np.random.RandomState(51423)\n",
    "data = 50*(np.sin(np.linspace(0, 2*np.pi, 20) + 0)**2) * \\\n",
    "    np.cos(np.linspace(0, np.pi, 20) + np.pi/2)[:, None]**2\n",
    "da = xr.DataArray(data, dims=('plev', 'lat'), coords={\n",
    "    'plev': xr.DataArray(np.linspace(1000, 0, 20), dims=('plev',), attrs={'long_name': 'pressure', 'units': 'hPa'}),\n",
    "    'lat': xr.DataArray(np.linspace(-90, 90, 20), dims=('lat',), attrs={'units': 'degN'}),\n",
    "}, name='u', attrs={'long_name': 'zonal wind', 'units': 'm/s'})\n",
    "\n",
    "# DataFrame\n",
    "data = state.rand(20, 20)\n",
    "df = pd.DataFrame(\n",
    "    data.cumsum(axis=0).cumsum(axis=1),\n",
    "    index=[*'JFMAMJJASONDJFMAMJJA']\n",
    ")\n",
    "df.name = 'temporal data'\n",
    "df.index.name = 'index'\n",
    "df.columns.name = 'time (days)'"
   ]
  },
  {
   "cell_type": "code",
   "execution_count": null,
   "metadata": {},
   "outputs": [],
   "source": [
    "import proplot as plot\n",
    "f, axs = plot.subplots(nrows=2, axwidth=2.2, share=0)\n",
    "axs.format(collabels=['Automatic subplot formatting'])\n",
    "\n",
    "# Plot DataArray\n",
    "axs[0].contourf(\n",
    "    da, cmap='Greens', cmap_kw={'left': 0.05}, colorbar='l', linewidth=0.7, color='gray7'\n",
    ")\n",
    "axs[0].format(yreverse=True)\n",
    "\n",
    "# Plot DataFrame\n",
    "axs[1].contourf(\n",
    "    df, cmap='Blues', colorbar='r', linewidth=0.7, color='gray7'\n",
    ")\n",
    "axs[1].format(xtickminor=False)"
   ]
  },
  {
   "cell_type": "markdown",
   "metadata": {},
   "source": [
    "## Discrete colormap levels"
   ]
  },
  {
   "cell_type": "raw",
   "metadata": {
    "raw_mimetype": "text/restructuredtext"
   },
   "source": [
    "`~proplot.wrappers.cmap_changer` uses the `~proplot.styletools.BinNorm` \"meta normalizer\" for all plotting commands involving colormaps. The `~proplot.styletools.BinNorm` normalizer *first* transforms data using any arbitrary continuous normalizer, e.g. `~matplotlib.colors.LogNorm`, *then* maps the normalized data to *discrete* colormap levels.\n",
    "\n",
    "This permits distinct `levels` even for commands like `~matplotlib.axes.Axes.pcolor` and `~matplotlib.axes.Axes.pcolormesh`. Distinct levels can help the reader discern exact numeric values and tends to reveal *qualitative structure* in the figure. Distinct levels are also critical for users that would *prefer* contours, but have complex 2D coordinate matrices that trip up the contouring algorithm.\n",
    "\n",
    "`~proplot.styletools.BinNorm` also fixes your colormap end colors by ensuring the following conditions are met (this may seem nitpicky, but it is crucial for plots with very few levels):\n",
    "\n",
    "#. All colormaps always span the *entire color range*, independent of the `extend` setting.\n",
    "#. Cyclic colormaps always have *distinct color levels* on either end of the colorbar."
   ]
  },
  {
   "cell_type": "code",
   "execution_count": null,
   "metadata": {},
   "outputs": [],
   "source": [
    "import proplot as plot\n",
    "import numpy as np\n",
    "\n",
    "# Pcolor plot with and without distinct levels\n",
    "f, axs = plot.subplots(ncols=2, axwidth=2)\n",
    "state = np.random.RandomState(51423)\n",
    "data = (state.normal(0, 1, size=(33, 33))).cumsum(axis=0).cumsum(axis=1)\n",
    "axs.format(suptitle='Pcolor with levels demo')\n",
    "for ax, n, mode, side in zip(axs, (200, 10), ('Ambiguous', 'Discernible'), 'lr'):\n",
    "    ax.pcolor(data, cmap='spectral', N=n, symmetric=True, colorbar=side)\n",
    "    ax.format(title=f'{mode} level boundaries', yformatter='null')"
   ]
  },
  {
   "cell_type": "code",
   "execution_count": null,
   "metadata": {},
   "outputs": [],
   "source": [
    "import proplot as plot\n",
    "import numpy as np\n",
    "f, axs = plot.subplots(\n",
    "    [[0, 0, 1, 1, 0, 0], [2, 3, 3, 4, 4, 5]],\n",
    "    wratios=(1.5, 0.5, 1, 1, 0.5, 1.5), axwidth=1.7, ref=1, right='2em'\n",
    ")\n",
    "axs.format(suptitle='Demo of colorbar color-range standardization')\n",
    "levels = plot.arange(0, 360, 45)\n",
    "state = np.random.RandomState(51423)\n",
    "data = (20*(state.rand(20, 20) - 0.4).cumsum(axis=0).cumsum(axis=1)) % 360\n",
    "\n",
    "# Cyclic colorbar with distinct end colors\n",
    "ax = axs[0]\n",
    "ax.pcolormesh(\n",
    "    data, levels=levels, cmap='phase', extend='neither',\n",
    "    colorbar='b', colorbar_kw={'locator': 90}\n",
    ")\n",
    "ax.format(title='cyclic colormap\\nwith distinct end colors')\n",
    "\n",
    "# Colorbars with different extend values\n",
    "for ax, extend in zip(axs[1:], ('min', 'max', 'neither', 'both')):\n",
    "    ax.pcolormesh(\n",
    "        data[:, :10], levels=levels, cmap='oxy',\n",
    "        extend=extend, colorbar='b', colorbar_kw={'locator': 90}\n",
    "    )\n",
    "    ax.format(title=f'extend={extend!r}')"
   ]
  },
  {
   "cell_type": "markdown",
   "metadata": {},
   "source": [
    "##  Colormap normalization"
   ]
  },
  {
   "cell_type": "raw",
   "metadata": {
    "raw_mimetype": "text/restructuredtext"
   },
   "source": [
    "To change the colormap normalizer in ProPlot, just pass a string name or `~matplotlib.colors.Normalize` instance with the `norm` keyword arg to any command wrapped by `~proplot.wrappers.cmap_changer`. `norm` and `norm_kw` are interpreted by the `~proplot.styletools.Norm` constructor.\n",
    "\n",
    "ProPlot also introduces the following new `~matplotlib.colors.Normalize` classes:\n",
    "\n",
    "* `~proplot.styletools.LinearSegmentedNorm` provides even color gradations *with respect to index* for arbitrary monotonically increasing `level` lists. This is *applied by default* if you pass unevenly spaced `levels` to a plotting command.\n",
    "* `~proplot.styletools.MidpointNorm` is similar to matplotlib's `~matplotlib.colors.DivergingNorm`. It warps your values so that the colormap midpoint lies on *some central data value* (usually ``0``), even if `vmin`, `vmax`, or `levels` are *asymmetric* with respect to the central value."
   ]
  },
  {
   "cell_type": "code",
   "execution_count": null,
   "metadata": {},
   "outputs": [],
   "source": [
    "import proplot as plot\n",
    "import numpy as np\n",
    "\n",
    "# Linear segmented norm\n",
    "state = np.random.RandomState(51423)\n",
    "data = 10**(2*state.rand(20, 20).cumsum(axis=0)/7)\n",
    "f, axs = plot.subplots(ncols=2, axwidth=2.5, aspect=1.5)\n",
    "ticks = [5, 10, 20, 50, 100, 200, 500, 1000]\n",
    "for i, (norm, title) in enumerate(zip(('linear', 'segments'), ('Linear normalizer', 'LinearSegmentedNorm'))):\n",
    "    m = axs[i].contourf(\n",
    "        data, levels=ticks, extend='both',\n",
    "        cmap='Mako', norm=norm, colorbar='b'\n",
    "    )\n",
    "    axs[i].format(title=title)\n",
    "axs.format(suptitle='Level normalizers demo')\n",
    "\n",
    "# Midpoint norm\n",
    "data1 = (state.rand(20, 20) - 0.43).cumsum(axis=0)\n",
    "data2 = (state.rand(20, 20) - 0.57).cumsum(axis=0)\n",
    "f, axs = plot.subplots(ncols=2, axwidth=2.5, aspect=1.5)\n",
    "cmap = plot.Colormap('DryWet', cut=0.1)\n",
    "axs.format(suptitle='Midpoint normalizer demo')\n",
    "for ax, data, mode in zip(axs, (data1, data2), ('positive', 'negative')):\n",
    "    m = ax.contourf(data, norm='midpoint', cmap=cmap)\n",
    "    ax.colorbar(m, loc='b', locator=1, minorlocator=0.25)\n",
    "    ax.format(title=f'Skewed {mode} data')"
   ]
  },
  {
   "cell_type": "markdown",
   "metadata": {},
   "source": [
    "## Pcolor and contour labels"
   ]
  },
  {
   "cell_type": "raw",
   "metadata": {
    "raw_mimetype": "text/restructuredtext"
   },
   "source": [
    "Thanks to `~proplot.wrappers.cmap_changer`, you can now add labels to `~proplot.axes.Axes.heatmap`, `~matplotlib.axes.Axes.pcolor`, `~matplotlib.axes.Axes.pcolormesh`, `~matplotlib.axes.Axes.contour`, and `~matplotlib.axes.Axes.contourf` plots by simply passing ``labels=True``. ProPlot draws contour labels with `~matplotlib.axes.Axes.clabel` or grid box labels with `~matplotlib.axes.Axes.text`. Label colors are automatically chosen based on the luminance of the underlying box or contour color. The label text objects can be changed with the `labels_kw` dictionary keyword arg and the `precision` keyword arg. See `~proplot.wrappers.cmap_changer` for details."
   ]
  },
  {
   "cell_type": "code",
   "execution_count": null,
   "metadata": {},
   "outputs": [],
   "source": [
    "import proplot as plot\n",
    "import pandas as pd\n",
    "import numpy as np\n",
    "f, axs = plot.subplots(\n",
    "    [[1, 1, 2, 2], [0, 3, 3, 0]],\n",
    "    axwidth=2, share=1, span=False, hratios=(1, 0.9)\n",
    ")\n",
    "state = np.random.RandomState(51423)\n",
    "data = state.rand(6, 6)\n",
    "data = pd.DataFrame(data, index=pd.Index(['a', 'b', 'c', 'd', 'e', 'f']))\n",
    "axs.format(xlabel='xlabel', ylabel='ylabel', suptitle='Labels demo')\n",
    "\n",
    "# Heatmap with labeled boxes\n",
    "ax = axs[0]\n",
    "m = ax.heatmap(\n",
    "    data, cmap='rocket', labels=True,\n",
    "    precision=2, labels_kw={'weight': 'bold'}\n",
    ")\n",
    "ax.format(title='Heatmap plot with labels')\n",
    "\n",
    "# Filled contours with labels\n",
    "ax = axs[1]\n",
    "m = ax.contourf(\n",
    "    data.cumsum(axis=0), labels=True,\n",
    "    cmap='rocket', labels_kw={'weight': 'bold'}\n",
    ")\n",
    "ax.format(title='Filled contour plot with labels')\n",
    "\n",
    "# Line contours with labels\n",
    "ax = axs[2]\n",
    "ax.contour(\n",
    "    data.cumsum(axis=1) - 2, color='gray8',\n",
    "    labels=True, lw=2, labels_kw={'weight': 'bold'}\n",
    ")\n",
    "ax.format(title='Line contour plot with labels')"
   ]
  },
  {
   "cell_type": "markdown",
   "metadata": {},
   "source": [
    "## Heatmap plots"
   ]
  },
  {
   "cell_type": "raw",
   "metadata": {
    "raw_mimetype": "text/restructuredtext"
   },
   "source": [
    "The new `~proplot.axes.Axes.heatmap` command calls `~matplotlib.axes.Axes.pcolormesh` and applies default formatting that is suitable for heatmaps -- that is, no gridlines, no minor ticks, and major ticks at the center of each box. Among other things, this is useful for displaying covariance matrices. See the below example."
   ]
  },
  {
   "cell_type": "code",
   "execution_count": null,
   "metadata": {},
   "outputs": [],
   "source": [
    "import proplot as plot\n",
    "import numpy as np\n",
    "import pandas as pd\n",
    "\n",
    "# Covariance data\n",
    "state = np.random.RandomState(51423)\n",
    "data = state.normal(size=(10, 10)).cumsum(axis=0)\n",
    "data = (data - data.mean(axis=0)) / data.std(axis=0)\n",
    "data = (data.T @ data) / data.shape[0]\n",
    "data[np.tril_indices(data.shape[0], -1)] = np.nan  # fill half with empty boxes\n",
    "data = pd.DataFrame(data, columns=list('abcdefghij'), index=list('abcdefghij'))\n",
    "\n",
    "# Covariance matrix plot\n",
    "f, ax = plot.subplots(axwidth=4)\n",
    "m = ax.heatmap(\n",
    "    data, cmap='ColdHot', vmin=-1, vmax=1, N=100,\n",
    "    lw=0.5, edgecolor='k', labels=True, labels_kw={'weight': 'bold'},\n",
    "    clip_on=False, # turn off clipping so box edges are not cut in half\n",
    ")\n",
    "ax.format(\n",
    "    suptitle='Heatmap demo', title='Pseudo covariance matrix', alpha=0, linewidth=0,\n",
    "    xloc='top', yloc='right', yreverse=True, ticklabelweight='bold',\n",
    "    ytickmajorpad=4,  # the ytick.major.pad rc setting; adds extra space\n",
    ")"
   ]
  }
 ],
 "metadata": {
  "celltoolbar": "Raw Cell Format",
  "kernelspec": {
   "display_name": "Python 3",
   "language": "python",
   "name": "python3"
  },
  "language_info": {
   "codemirror_mode": {
    "name": "ipython",
    "version": 3
   },
   "file_extension": ".py",
   "mimetype": "text/x-python",
   "name": "python",
   "nbconvert_exporter": "python",
   "pygments_lexer": "ipython3",
   "version": "3.7.3"
  },
  "toc": {
   "colors": {
    "hover_highlight": "#ece260",
    "navigate_num": "#000000",
    "navigate_text": "#000000",
    "running_highlight": "#FF0000",
    "selected_highlight": "#fff968",
    "sidebar_border": "#ffffff",
    "wrapper_background": "#ffffff"
   },
   "moveMenuLeft": false,
   "nav_menu": {
    "height": "156px",
    "width": "252px"
   },
   "navigate_menu": true,
   "number_sections": true,
   "sideBar": true,
   "threshold": 4,
   "toc_cell": false,
   "toc_section_display": "block",
   "toc_window_display": true,
   "widenNotebook": false
  },
  "varInspector": {
   "cols": {
    "lenName": 16,
    "lenType": 16,
    "lenVar": 40
   },
   "kernels_config": {
    "python": {
     "delete_cmd_postfix": "",
     "delete_cmd_prefix": "del ",
     "library": "var_list.py",
     "varRefreshCmd": "print(var_dic_list())"
    },
    "r": {
     "delete_cmd_postfix": ") ",
     "delete_cmd_prefix": "rm(",
     "library": "var_list.r",
     "varRefreshCmd": "cat(var_dic_list()) "
    }
   },
   "types_to_exclude": [
    "module",
    "function",
    "builtin_function_or_method",
    "instance",
    "_Feature"
   ],
   "window_display": false
  }
 },
 "nbformat": 4,
 "nbformat_minor": 2
}
