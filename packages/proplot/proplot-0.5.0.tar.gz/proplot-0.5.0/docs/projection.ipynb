{
 "cells": [
  {
   "cell_type": "markdown",
   "metadata": {},
   "source": [
    "# Geographic and polar plots"
   ]
  },
  {
   "cell_type": "raw",
   "metadata": {
    "raw_mimetype": "text/restructuredtext"
   },
   "source": [
    "ProPlot includes features for working with `polar axes <https://matplotlib.org/3.1.0/gallery/pie_and_polar_charts/polar_demo.html>`__ and the `cartopy <https://scitools.org.uk/cartopy/docs/latest/>`__ and `basemap <https://matplotlib.org/basemap/index.html>`__ map projection packages. These features are optional; installation of cartopy and basemap are not required.\n",
    "\n",
    "To change the axes projection, pass ``proj='name'`` to `~proplot.subplots.subplots`. To use different projections for different subplots, pass a dictionary of projection names with the subplot number as the key -- for example, ``proj={1:'name'}``. The default \"projection\" is always `~proplot.axes.XYAxes`. \n"
   ]
  },
  {
   "cell_type": "markdown",
   "metadata": {},
   "source": [
    "## Polar projections"
   ]
  },
  {
   "cell_type": "raw",
   "metadata": {
    "raw_mimetype": "text/restructuredtext"
   },
   "source": [
    "To draw polar axes, pass ``proj='polar'`` or e.g. ``proj={1:'polar'}`` to `~proplot.subplots.subplots`. This generates a `~proplot.axes.PolarAxes` instance. Its `~proplot.axes.PolarAxes.format` command permits polar-specific modifications like changing the central radius, the zero azimuth location, the radial and azimuthal limits, and the positive azimuthal direction. A demonstration is below."
   ]
  },
  {
   "cell_type": "code",
   "execution_count": null,
   "metadata": {},
   "outputs": [],
   "source": [
    "import proplot as plot\n",
    "import numpy as np\n",
    "state = np.random.RandomState(51423)\n",
    "N = 200\n",
    "x = np.linspace(0, 2*np.pi, N)\n",
    "y = 100*(state.rand(N, 5)-0.3).cumsum(axis=0)/N\n",
    "f, axs = plot.subplots([[1, 1, 2, 2], [0, 3, 3, 0]], proj='polar')\n",
    "axs.format(\n",
    "    suptitle='Polar axes demo', linewidth=1,\n",
    "    ticklabelsize=9, rlines=0.5, rlim=(0, 19),\n",
    "    titlepad='1.5em'  # matplotlib default title offset is incorrect  \n",
    ")\n",
    "for i in range(5):\n",
    "    axs.plot(x + i*2*np.pi/5, y[:, i], cycle='contrast', zorder=0, lw=3)\n",
    "\n",
    "# Standard polar plot\n",
    "axs[0].format(\n",
    "    title='Normal plot', thetaformatter='pi', rlines=5, gridalpha=1, gridlinestyle=':',\n",
    "    rlabelpos=180, color='gray8', ticklabelweight='bold'\n",
    ")\n",
    "\n",
    "# Sector plot\n",
    "axs[1].format(\n",
    "    title='Sector plot', thetadir=-1, thetalines=90, thetalim=(0, 270), theta0='N',\n",
    "    rlim=(0, 22), rlines=5\n",
    ")\n",
    "\n",
    "# Annular plot\n",
    "axs[2].format(\n",
    "    title='Annular plot', thetadir=-1, thetalines=10,\n",
    "    r0=0, rlim=(10, 22), rformatter='null', rlocator=2\n",
    ")"
   ]
  },
  {
   "cell_type": "markdown",
   "metadata": {},
   "source": [
    "## Geographic projections"
   ]
  },
  {
   "cell_type": "raw",
   "metadata": {
    "raw_mimetype": "text/restructuredtext"
   },
   "source": [
    "To specify a geographic projection, pass ``proj='name'`` or e.g. ``proj={1:'name'}`` to  `~proplot.subplots.subplots` where ``'name'`` is any valid `PROJ <https://proj.org>`__ projection name listed in the `~proplot.projs.Proj` table. This generates a `~proplot.axes.GeoAxes` or `~proplot.axes.BasemapAxes`, depending on whether you passed ``basemap=True`` to `~proplot.subplots.subplots`.\n",
    "\n",
    "* `~proplot.axes.GeoAxes` joins the cartopy `~cartopy.mpl.geoaxes.GeoAxes` class with the ProPlot `~matplotlib.axes.Axes` class and adds a `~proplot.axes.ProjAxes.format` command. This class includes all the normal `~cartopy.mpl.geoaxes.GeoAxes` methods, and its `~proplot.axes.ProjAxes.format` method can be used to set the map bounds with `~cartopy.mpl.geoaxes.GeoAxes.set_extent` and add geographic features with `~cartopy.mpl.geoaxes.GeoAxes.add_feature`.\n",
    "* `~proplot.axes.BasemapAxes` redirects the plot, scatter, contour, contourf, pcolor, pcolormesh, quiver, streamplot, and barb methods to identically named methods on the `~mpl_toolkits.basemap.Basemap` instance, and provides access to `~mpl_toolkits.basemap.Basemap` geographic plotting commands like `~mpl_toolkits.basemap.Basemap.fillcontinents` via the `~proplot.axes.ProjAxes.format` command.\n",
    "\n",
    "So with ProPlot, you no longer have to invoke verbose cartopy `~cartopy.crs.Projection` classes like `~cartopy.crs.LambertAzimuthalEqualArea`, and you never have to directly reference the `~mpl_toolkits.basemap.Basemap` instance -- ProPlot works with the `~mpl_toolkits.basemap.Basemap` instance under the hood.\n",
    "\n",
    "To pass keyword args to `~mpl_toolkits.basemap.Basemap` and `~cartopy.crs.Projection`, use the `proj_kw` dictionary. To make things a bit more consistent, ProPlot lets you supply native `PROJ <https://proj.org>`__ keyword names to the cartopy `~cartopy.crs.Projection` classes, e.g. `lon_0` instead of `central_longitude`. ProPlot also lets you instantiate `~mpl_toolkits.basemap.Basemap` projections with *sensible defaults* from the `~proplot.projs.basemap_kwargs` dictionary, rather than raising an error when certain projection arguments are omitted."
   ]
  },
  {
   "cell_type": "code",
   "execution_count": null,
   "metadata": {},
   "outputs": [],
   "source": [
    "import proplot as plot\n",
    "plot.rc.coastlinewidth = plot.rc.linewidth = 0.8\n",
    "\n",
    "# Simple figure with just one projection\n",
    "f, axs = plot.subplots(\n",
    "    ncols=2, axwidth=2.5,\n",
    "    proj='robin', proj_kw={'lon_0': 180}\n",
    ")\n",
    "axs.format(\n",
    "    suptitle='Figure with single projection',\n",
    "    coast=True, latlines=30, lonlines=60\n",
    ")\n",
    "\n",
    "# Complex figure with different projections\n",
    "f, axs = plot.subplots(\n",
    "    hratios=(1.5, 1, 1, 1, 1),\n",
    "    basemap={\n",
    "        (1, 3, 5, 7, 9): False,\n",
    "        (2, 4, 6, 8, 10): True\n",
    "    },\n",
    "    proj={\n",
    "        (1, 2): 'mill',\n",
    "        (3, 4): 'cyl',\n",
    "        (5, 6): 'moll',\n",
    "        (7, 8): 'sinu',\n",
    "        (9, 10): 'npstere'\n",
    "    },\n",
    "    ncols=2, nrows=5\n",
    ")\n",
    "axs.format(suptitle='Figure with several projections')\n",
    "axs.format(coast=True, latlines=30, lonlines=60)\n",
    "axs[:, 1].format(labels=True, lonlines=plot.arange(-180, 179, 60))\n",
    "axs[-1, -1].format(labels=True, lonlines=30)\n",
    "axs.format(collabels=['Cartopy projections', 'Basemap projections'])\n",
    "plot.rc.reset()"
   ]
  },
  {
   "cell_type": "markdown",
   "metadata": {},
   "source": [
    "## Included projections"
   ]
  },
  {
   "cell_type": "raw",
   "metadata": {
    "raw_mimetype": "text/restructuredtext"
   },
   "source": [
    "The available `cartopy <https://scitools.org.uk/cartopy/docs/latest/>`__ and `basemap <https://matplotlib.org/basemap/index.html>`__ projections are plotted below. See `~proplot.projs.Proj` for a table of projection names with links to the relevant `PROJ <https://proj.org>`__ documentation.\n",
    "\n",
    "ProPlot uses the cartopy API to add the Aitoff, Hammer, Winkel Tripel, and Kavrisky VII projections (i.e. ``'aitoff'``, ``'hammer'``, ``'wintri'``, and ``'kav7'``), as well as North and South polar versions of the Azimuthal Equidistant, Lambert Azimuthal Equal-Area, and Gnomic projections (i.e. ``'npaeqd'``, ``'spaeqd'``, ``'nplaea'``, ``'splaea'``, ``'npgnom'``, and ``'spgnom'``), modeled after the existing `~cartopy.crs.NorthPolarStereo` and `~cartopy.crs.SouthPolarStereo` projections.\n",
    "\n",
    "Note that while cartopy projection bounds can be any shape, basemap projection bounds are usually rectangles. Basemap used to have many more projections than cartopy, but the ProPlot additions have evened things out."
   ]
  },
  {
   "cell_type": "code",
   "execution_count": null,
   "metadata": {},
   "outputs": [],
   "source": [
    "import proplot as plot\n",
    "import numpy as np\n",
    "\n",
    "# Table of cartopy projections\n",
    "projs = [\n",
    "    'cyl', 'merc', 'mill', 'lcyl', 'tmerc',\n",
    "    'robin', 'hammer', 'moll', 'kav7', 'aitoff', 'wintri', 'sinu',\n",
    "    'geos', 'ortho', 'nsper', 'aea', 'eqdc', 'lcc', 'gnom',\n",
    "    'npstere', 'nplaea', 'npaeqd', 'npgnom', 'igh',\n",
    "    'eck1', 'eck2', 'eck3', 'eck4', 'eck5', 'eck6'\n",
    "]\n",
    "f, axs = plot.subplots(ncols=3, nrows=10, proj=projs)\n",
    "axs.format(\n",
    "    land=True, reso='lo', labels=False,\n",
    "    suptitle='Table of cartopy projections'\n",
    ")\n",
    "for proj, ax in zip(projs, axs):\n",
    "    ax.format(title=proj, titleweight='bold', labels=False)\n",
    "    \n",
    "# Table of basemap projections\n",
    "projs = [\n",
    "    'cyl', 'merc', 'mill', 'cea', 'gall', 'sinu',\n",
    "    'eck4', 'robin', 'moll', 'kav7', 'hammer', 'mbtfpq',\n",
    "    'geos', 'ortho', 'nsper',\n",
    "    'vandg', 'aea', 'eqdc', 'gnom', 'cass', 'lcc',\n",
    "    'npstere', 'npaeqd', 'nplaea'\n",
    "]\n",
    "f, axs = plot.subplots(ncols=3, nrows=8, basemap=True, proj=projs)\n",
    "axs.format(\n",
    "    land=True, labels=False,\n",
    "    suptitle='Table of basemap projections'\n",
    ")\n",
    "for proj, ax in zip(projs, axs):\n",
    "    ax.format(title=proj, titleweight='bold', labels=False)"
   ]
  },
  {
   "cell_type": "markdown",
   "metadata": {},
   "source": [
    "## Zooming into projections"
   ]
  },
  {
   "cell_type": "raw",
   "metadata": {
    "raw_mimetype": "text/restructuredtext"
   },
   "source": [
    "To zoom into cartopy projections, you can use `~cartopy.mpl.geoaxes.GeoAxes.set_extent`, or alternatively pass `lonlim`, `latlim`, or `boundinglat` to `~proplot.axes.ProjAxes.format`. The `boundinglat` controls the *circular boundary extent* for North Polar and South Polar Stereographic, Azimuthal Equidistant, Lambert Azimuthal Equal-Area, and Gnomonic projections (ProPlot makes sure these projections *always* have circular bounds).\n",
    "\n",
    "To zoom into basemap projections, you must pass the limits to the `~mpl_toolkits.basemap.Basemap` class directly by passing `proj_kw` to `~proplot.subplots.subplots` with any of the `boundinglat`, `llcrnrlon`, `llcrnrlat`, `urcrnrlon`, `urcrnrlat`, `llcrnrx`, `llcrnry`, `urcrnrx`, `urcrnry`, `width`, or `height` keyword args."
   ]
  },
  {
   "cell_type": "code",
   "execution_count": null,
   "metadata": {},
   "outputs": [],
   "source": [
    "import proplot as plot\n",
    "f, axs = plot.subplots(\n",
    "    nrows=2, axwidth=4.5,\n",
    "    proj='pcarree', basemap={1: False, 2: True},\n",
    "    proj_kw={2: {'llcrnrlon': -20, 'llcrnrlat': -10, 'urcrnrlon': 180, 'urcrnrlat': 50}}\n",
    ")\n",
    "\n",
    "# Ordinary projection\n",
    "axs.format(\n",
    "    land=True, labels=True, lonlines=20,\n",
    "    latlines=20, suptitle='Zooming into projections'\n",
    ")\n",
    "axs[0].format(\n",
    "    lonlim=(-140, 60), latlim=(-10, 50),\n",
    "    labels=True, title='Cartopy example'\n",
    ")\n",
    "axs[1].format(title='Basemap example')\n",
    "\n",
    "# Polar projection\n",
    "f, axs = plot.subplots(\n",
    "    ncols=2, axwidth=2.2,\n",
    "    proj={1: 'splaea', 2: 'npaeqd'},\n",
    "    basemap={1: False, 2: True},\n",
    "    proj_kw={2: {'boundinglat': 60}}\n",
    ")\n",
    "axs.format(\n",
    "    land=True, latlines=10, latmax=80,\n",
    "    suptitle='Zooming into polar projections'\n",
    ")\n",
    "axs[0].format(boundinglat=-60, title='Cartopy example')\n",
    "axs[1].format(title='Basemap example')\n",
    "\n",
    "# Example from basemap website\n",
    "f, axs = plot.subplots(\n",
    "    ncols=2, axwidth=2, proj='lcc',\n",
    "    basemap={1: False, 2: True},\n",
    "    proj_kw={\n",
    "        1: {'lon_0': 0},\n",
    "        2: {'lon_0': -100, 'lat_0': 45, 'width': 8e6, 'height': 8e6}\n",
    "    }\n",
    ")\n",
    "axs.format(suptitle='Zooming into specific regions', land=True)\n",
    "axs[0].format(\n",
    "    title='Cartopy example', land=True,\n",
    "    lonlim=(-20, 50), latlim=(30, 70)\n",
    ")\n",
    "axs[1].format(title='Basemap example', land=True)"
   ]
  },
  {
   "cell_type": "markdown",
   "metadata": {},
   "source": [
    "## Plotting geophysical data"
   ]
  },
  {
   "cell_type": "raw",
   "metadata": {
    "raw_mimetype": "text/restructuredtext"
   },
   "source": [
    "The below example demonstrates how to plot geophysical data with ProPlot. It is mostly the same as cartopy, but with some new features powered by the `~proplot.wrappers.standardize_2d`, `~proplot.wrappers.default_transform`, and `~proplot.wrappers.default_latlon` wrappers.\n",
    "\n",
    "* For both basemap and cartopy projections, you can pass ``globe=True`` to 2D plotting commands to ensure global data coverage.\n",
    "* For `~proplot.axes.GeoAxes` plotting methods, ``transform=crs.PlateCarree()`` is now the default behavior. That is, ProPlot assumes your data is in longitude-latitude coordinates rather than map projection coordinates.\n",
    "* For `~proplot.axes.BasemapAxes` plotting methods, ``latlon=True`` is now the default behavior. Again, plotting methods are now called on the *axes* instead of the `~mpl_toolkits.basemap.Basemap` instance."
   ]
  },
  {
   "cell_type": "code",
   "execution_count": null,
   "metadata": {},
   "outputs": [],
   "source": [
    "import proplot as plot\n",
    "import numpy as np\n",
    "offset = -40\n",
    "x = plot.arange(offset, 360 + offset-1, 60)\n",
    "y = plot.arange(-60, 60+1, 30)\n",
    "state = np.random.RandomState(51423)\n",
    "data = state.rand(len(y), len(x))\n",
    "\n",
    "# Same figure with and without \"global coverage\"\n",
    "titles = ('Geophysical data demo', 'Global coverage demo')\n",
    "for globe in (False, True,):\n",
    "    f, axs = plot.subplots(\n",
    "        ncols=2, nrows=2, axwidth=2.5,\n",
    "        proj='kav7', basemap={(1, 3): False, (2, 4): True})\n",
    "    for i, ax in enumerate(axs):\n",
    "        cmap = ('sunset', 'sunrise')[i % 2]\n",
    "        if i < 2:\n",
    "            m = ax.contourf(x, y, data, cmap=cmap, globe=globe, extend='both')\n",
    "            f.colorbar(\n",
    "                m, loc='b', span=i+1, label='values',\n",
    "                tickminor=False, extendsize='1.7em'\n",
    "            )\n",
    "        else:\n",
    "            ax.pcolor(x, y, data, cmap=cmap, globe=globe, extend='both')\n",
    "        if globe:\n",
    "            continue\n",
    "        ix = offset + np.linspace(0, 360, 20)\n",
    "        for cmd in (np.sin, np.cos):\n",
    "            iy = cmd(ix*np.pi/180)*60\n",
    "            ax.plot(ix, iy, color='k', lw=0, marker='o')\n",
    "    axs.format(\n",
    "        suptitle=titles[globe],\n",
    "        collabels=['Cartopy example', 'Basemap example'],\n",
    "        rowlabels=['Contourf', 'Pcolor'],\n",
    "        latlabels='r', lonlabels='b', lonlines=90,\n",
    "        abc=True, abcstyle='a)', abcloc='ul', abcborder=False\n",
    "    )"
   ]
  },
  {
   "cell_type": "markdown",
   "metadata": {},
   "source": [
    "## Customizing projections"
   ]
  },
  {
   "cell_type": "raw",
   "metadata": {
    "raw_mimetype": "text/restructuredtext"
   },
   "source": [
    "`~proplot.axes.GeoAxes` and `~proplot.axes.BasemapAxes` both derive from `~proplot.axes.ProjAxes`, which provides a `~proplot.axes.ProjAxes.format` method. `~proplot.axes.ProjAxes.format` can be used to draw gridlines, add gridline labels, set gridline label locations, modify the projection bounding box, and add and stylize geographic features, like land masses, coastlines, and international borders. This method also calls `format` on `~proplot.axes.Axes`, and so can be used for subplot titles, a-b-c labels, and figure titles as before."
   ]
  },
  {
   "cell_type": "code",
   "execution_count": null,
   "metadata": {},
   "outputs": [],
   "source": [
    "import proplot as plot\n",
    "f, axs = plot.subplots(\n",
    "    [[1, 1, 2], [3, 3, 3]],\n",
    "    axwidth=4, proj={1: 'robin', 2: 'ortho', 3: 'wintri'}\n",
    ")\n",
    "axs.format(\n",
    "    suptitle='Projection axes formatting demo',\n",
    "    collabels=['Column 1', 'Column 2'],\n",
    "    abc=True, abcstyle='A.', abcloc='ul', abcborder=False, linewidth=1.5\n",
    ")\n",
    "\n",
    "# Styling projections in different ways\n",
    "ax = axs[0]\n",
    "ax.format(\n",
    "    title='Robinson map', land=True, landcolor='navy blue', facecolor='pale blue',\n",
    "    coastcolor='gray5', borderscolor='gray5', innerborderscolor='gray5',\n",
    "    geogridlinewidth=1, geogridcolor='gray5', geogridalpha=1,\n",
    "    coast=True, innerborders=True, borders=True\n",
    ")\n",
    "ax = axs[1]\n",
    "ax.format(\n",
    "    title='Ortho map', reso='med', land=True, coast=True, latlines=10, lonlines=15,\n",
    "    landcolor='mushroom', suptitle='Projection axes formatting demo',\n",
    "    facecolor='petrol', coastcolor='charcoal', coastlinewidth=0.8, geogridlinewidth=1\n",
    ")\n",
    "ax = axs[2]\n",
    "ax.format(\n",
    "    land=True, facecolor='ocean blue', landcolor='almond', title='Winkel tripel map',\n",
    "    lonlines=60, latlines=15\n",
    ")"
   ]
  }
 ],
 "metadata": {
  "celltoolbar": "Raw Cell Format",
  "kernelspec": {
   "display_name": "Python 3",
   "language": "python",
   "name": "python3"
  },
  "language_info": {
   "codemirror_mode": {
    "name": "ipython",
    "version": 3
   },
   "file_extension": ".py",
   "mimetype": "text/x-python",
   "name": "python",
   "nbconvert_exporter": "python",
   "pygments_lexer": "ipython3",
   "version": "3.7.3"
  },
  "toc": {
   "colors": {
    "hover_highlight": "#ece260",
    "navigate_num": "#000000",
    "navigate_text": "#000000",
    "running_highlight": "#FF0000",
    "selected_highlight": "#fff968",
    "sidebar_border": "#ffffff",
    "wrapper_background": "#ffffff"
   },
   "moveMenuLeft": false,
   "nav_menu": {
    "height": "12px",
    "width": "250px"
   },
   "navigate_menu": true,
   "number_sections": true,
   "sideBar": true,
   "threshold": 4,
   "toc_cell": false,
   "toc_section_display": "block",
   "toc_window_display": true,
   "widenNotebook": false
  },
  "varInspector": {
   "cols": {
    "lenName": 16,
    "lenType": 16,
    "lenVar": 40
   },
   "kernels_config": {
    "python": {
     "delete_cmd_postfix": "",
     "delete_cmd_prefix": "del ",
     "library": "var_list.py",
     "varRefreshCmd": "print(var_dic_list())"
    },
    "r": {
     "delete_cmd_postfix": ") ",
     "delete_cmd_prefix": "rm(",
     "library": "var_list.r",
     "varRefreshCmd": "cat(var_dic_list()) "
    }
   },
   "types_to_exclude": [
    "module",
    "function",
    "builtin_function_or_method",
    "instance",
    "_Feature"
   ],
   "window_display": false
  }
 },
 "nbformat": 4,
 "nbformat_minor": 2
}
