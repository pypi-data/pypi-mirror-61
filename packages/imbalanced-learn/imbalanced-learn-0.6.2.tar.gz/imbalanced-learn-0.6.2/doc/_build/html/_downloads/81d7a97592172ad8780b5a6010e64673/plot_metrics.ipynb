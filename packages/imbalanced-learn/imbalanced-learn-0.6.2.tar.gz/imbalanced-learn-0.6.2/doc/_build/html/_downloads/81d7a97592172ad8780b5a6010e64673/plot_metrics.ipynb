{
  "cells": [
    {
      "cell_type": "code",
      "execution_count": null,
      "metadata": {
        "collapsed": false
      },
      "outputs": [],
      "source": [
        "%matplotlib inline"
      ]
    },
    {
      "cell_type": "markdown",
      "metadata": {},
      "source": [
        "\n# Metrics specific to imbalanced learning\n\n\nSpecific metrics have been developed to evaluate classifier which\nhas been trained using imbalanced data. `imblearn` provides mainly\ntwo additional metrics which are not implemented in `sklearn`: (i)\ngeometric mean and (ii) index balanced accuracy.\n"
      ]
    },
    {
      "cell_type": "code",
      "execution_count": null,
      "metadata": {
        "collapsed": false
      },
      "outputs": [],
      "source": [
        "# Authors: Guillaume Lemaitre <g.lemaitre58@gmail.com>\n# License: MIT\n\nfrom sklearn import datasets\nfrom sklearn.svm import LinearSVC\nfrom sklearn.model_selection import train_test_split\n\nfrom imblearn import over_sampling as os\nfrom imblearn import pipeline as pl\nfrom imblearn.metrics import (geometric_mean_score,\n                              make_index_balanced_accuracy)\n\nprint(__doc__)\n\nRANDOM_STATE = 42\n\n# Generate a dataset\nX, y = datasets.make_classification(n_classes=3, class_sep=2,\n                                    weights=[0.1, 0.9], n_informative=10,\n                                    n_redundant=1, flip_y=0, n_features=20,\n                                    n_clusters_per_class=4, n_samples=5000,\n                                    random_state=RANDOM_STATE)\n\npipeline = pl.make_pipeline(os.SMOTE(random_state=RANDOM_STATE),\n                            LinearSVC(random_state=RANDOM_STATE))\n\n# Split the data\nX_train, X_test, y_train, y_test = train_test_split(X, y,\n                                                    random_state=RANDOM_STATE)\n\n# Train the classifier with balancing\npipeline.fit(X_train, y_train)\n\n# Test the classifier and get the prediction\ny_pred_bal = pipeline.predict(X_test)"
      ]
    },
    {
      "cell_type": "markdown",
      "metadata": {},
      "source": [
        "The geometric mean corresponds to the square root of the product of the\nsensitivity and specificity. Combining the two metrics should account for\nthe balancing of the dataset.\n\n"
      ]
    },
    {
      "cell_type": "code",
      "execution_count": null,
      "metadata": {
        "collapsed": false
      },
      "outputs": [],
      "source": [
        "print('The geometric mean is {}'.format(geometric_mean_score(\n    y_test,\n    y_pred_bal)))"
      ]
    },
    {
      "cell_type": "markdown",
      "metadata": {},
      "source": [
        "The index balanced accuracy can transform any metric to be used in\nimbalanced learning problems.\n\n"
      ]
    },
    {
      "cell_type": "code",
      "execution_count": null,
      "metadata": {
        "collapsed": false
      },
      "outputs": [],
      "source": [
        "alpha = 0.1\ngeo_mean = make_index_balanced_accuracy(alpha=alpha, squared=True)(\n    geometric_mean_score)\n\nprint('The IBA using alpha = {} and the geometric mean: {}'.format(\n    alpha, geo_mean(\n        y_test,\n        y_pred_bal)))\n\nalpha = 0.5\ngeo_mean = make_index_balanced_accuracy(alpha=alpha, squared=True)(\n    geometric_mean_score)\n\nprint('The IBA using alpha = {} and the geometric mean: {}'.format(\n    alpha, geo_mean(\n        y_test,\n        y_pred_bal)))"
      ]
    }
  ],
  "metadata": {
    "kernelspec": {
      "display_name": "Python 3",
      "language": "python",
      "name": "python3"
    },
    "language_info": {
      "codemirror_mode": {
        "name": "ipython",
        "version": 3
      },
      "file_extension": ".py",
      "mimetype": "text/x-python",
      "name": "python",
      "nbconvert_exporter": "python",
      "pygments_lexer": "ipython3",
      "version": "3.7.4"
    }
  },
  "nbformat": 4,
  "nbformat_minor": 0
}