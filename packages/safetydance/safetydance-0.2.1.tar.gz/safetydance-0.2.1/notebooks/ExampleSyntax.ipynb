{
 "cells": [
  {
   "cell_type": "code",
   "execution_count": null,
   "metadata": {},
   "outputs": [],
   "source": [
    "from steps import steps\n",
    "from steps.http import get, status, is_, for_\n",
    "\n",
    "\"\"\"\n",
    "The example below would perform rich replacement of the\n",
    "python statements. A \"basic\" mode would only replace \"as.foo\"\n",
    "  #@steps(mode=\"basic\")\n",
    "\"\"\"\n",
    "\n",
    "@scenario\n",
    "def silly_test_example():\n",
    "    when.get(\"/foo\").as.foo\n",
    "    when(get(\"/foo\").as.foo)\n",
    "    when(get(\"/foo\", as_.foo))\n",
    "    when(get(\"/foo\", as_(foo)))\n",
    "    when(get(\"/foo\", as_(\"foo\")))\n",
    "\n",
    "    when()\n",
    "        .get(\"/foo\")\n",
    "        .as(foo)\n",
    "        \n",
    "    when()\n",
    "        + get(\"/foo\")\n",
    "        + as_(\"foo\")\n",
    "    \n",
    "    then.status.is(200)\n",
    "    then.status.is(200).for.foo\n",
    "    \n",
    "    foo = get(\"/foo\")\n",
    "    status.is(200).for(foo)\n",
    "    \n",
    "    status.is(200)\n",
    "    status.for(foo).is(200)\n",
    "    status + is_(200) + for_(foo)\n",
    "    \n",
    "    #status + is_(200)\n",
    "    status.action = is_(self, 200)\n",
    "    \n",
    "    #status + for_(foo)\n",
    "    status.selected = self.select(foo)\n",
    "    \n",
    "@steps\n",
    "def another_silly_example():\n",
    "    move.forward(20)\n",
    "    move.up(10)\n",
    "    duck\n",
    "    jump.to.the.right(15)\n",
    "    ask.for.gum"
   ]
  },
  {
   "cell_type": "markdown",
   "metadata": {},
   "source": [
    "## What about `with` statements?"
   ]
  },
  {
   "cell_type": "code",
   "execution_count": null,
   "metadata": {},
   "outputs": [],
   "source": [
    "@with_script\n",
    "def some_func():\n",
    "    robot = Robot(Position2D(x=1, y=0))\n",
    "    with Script.for(robot):\n",
    "        up(10)\n",
    "        down(10)\n",
    "        some_step() # implicit pass of context\n",
    "        some_script() # again, implicit pass of context\n",
    "        with Script.for(another_thing):\n",
    "            action_over_another_thing() # nested step context (lexical scope, effectively), too!\n",
    "    print robot.position"
   ]
  },
  {
   "cell_type": "markdown",
   "metadata": {},
   "source": [
    "This is transformed to something like"
   ]
  },
  {
   "cell_type": "code",
   "execution_count": null,
   "metadata": {},
   "outputs": [],
   "source": [
    "def some_func():\n",
    "    robot = Robot(Position2D(x=1, y=0))\n",
    "    robot\\\n",
    "        .up(10)\\\n",
    "        .down(10)\n",
    "    some_step(robot)\n",
    "    some_script(robot)\n",
    "    context_1 = WrappingContext(another_thing, WrappingContext(robot))\n",
    "    action_over_another_thing(context_1)"
   ]
  },
  {
   "cell_type": "code",
   "execution_count": null,
   "metadata": {},
   "outputs": [],
   "source": []
  }
 ],
 "metadata": {
  "kernelspec": {
   "display_name": "Python 3",
   "language": "python",
   "name": "python3"
  },
  "language_info": {
   "codemirror_mode": {
    "name": "ipython",
    "version": 3
   },
   "file_extension": ".py",
   "mimetype": "text/x-python",
   "name": "python",
   "nbconvert_exporter": "python",
   "pygments_lexer": "ipython3",
   "version": "3.7.3"
  }
 },
 "nbformat": 4,
 "nbformat_minor": 4
}
