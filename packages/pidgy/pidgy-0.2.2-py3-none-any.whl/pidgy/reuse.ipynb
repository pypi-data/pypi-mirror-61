{
 "cells": [
  {
   "cell_type": "code",
   "execution_count": 1,
   "metadata": {},
   "outputs": [],
   "source": [
    "    \n",
    "    __all__ = 'pidgyLoader', \n",
    "\n",
    "    \n",
    "    import pidgy, sys, IPython, mistune as markdown, importnb, IPython as python\n",
    "    if __name__ == '__main__':\n",
    "        shell = get_ipython()\n",
    "\n",
    "    \n",
    "    \"\"\"\n",
    "> This document is written in a `pidgy` style,\n",
    "but it is also valid python.  Until we make the \n",
    "loader we cant load `pidgy` documents.\n",
    "\n",
    "    \"\"\";"
   ]
  },
  {
   "cell_type": "code",
   "execution_count": 2,
   "metadata": {},
   "outputs": [
    {
     "data": {
      "text/markdown": [
       "# Reusable computable literature"
      ],
      "text/plain": [
       "<IPython.core.display.Markdown object>"
      ]
     },
     "metadata": {
      "text/markdown": {
       "end_time": "2020-02-06T16:39:02.852310",
       "modules": [],
       "names": [],
       "start_time": "2020-02-06T16:39:02.843581"
      }
     },
     "output_type": "display_data"
    }
   ],
   "source": [
    "# Reusable computable literature"
   ]
  },
  {
   "cell_type": "code",
   "execution_count": 3,
   "metadata": {},
   "outputs": [
    {
     "data": {
      "text/markdown": [
       "    def load_ipython_extension(shell):\n",
       "        \"\"\"\n",
       "A primary requirement is that `pidgy` documents can be included\n",
       "in other `pidgy` documents, and, consequently, other `python` tools.\n",
       "To acheive this, `pidgy` modifies\n",
       "how `python` finds `__import__`s, this is acheived with an\n",
       "existing tool called `importnb` that includes\n",
       "`notebook` documents in `sys.path_hooks` used to discover modules.      \n",
       "        \n",
       "        \"\"\"\n",
       "        pidgyLoader(position=-1).__enter__()"
      ],
      "text/plain": [
       "<IPython.core.display.Markdown object>"
      ]
     },
     "metadata": {
      "text/markdown": {
       "end_time": "2020-02-06T16:39:03.313062",
       "modules": [],
       "names": [
        "load_ipython_extension"
       ],
       "start_time": "2020-02-06T16:39:03.300423"
      }
     },
     "output_type": "display_data"
    }
   ],
   "source": [
    "    def load_ipython_extension(shell):\n",
    "        \"\"\"\n",
    "A primary requirement is that `pidgy` documents can be included\n",
    "in other `pidgy` documents, and, consequently, other `python` tools.\n",
    "To acheive this, `pidgy` modifies\n",
    "how `python` finds `__import__`s, this is acheived with an\n",
    "existing tool called `importnb` that includes\n",
    "`notebook` documents in `sys.path_hooks` used to discover modules.      \n",
    "        \n",
    "        \"\"\"\n",
    "        pidgyLoader(position=-1, lazy=True).__enter__()"
   ]
  },
  {
   "cell_type": "code",
   "execution_count": 4,
   "metadata": {},
   "outputs": [
    {
     "data": {
      "text/markdown": [
       "    class pidgyLoader(importnb.Notebook): \n",
       "        \"\"\"\n",
       "To identify `pidgy` `notebook`s against other notebooks we \n",
       "introduce the hybrid extension `\".md.ipynb\"`.\n",
       "\n",
       "        \"\"\"\n",
       "        extensions = \".md.ipynb\".split()\n",
       "        \n",
       "        def code(self, str): \n",
       "            \"\"\"\n",
       "The `\"code\"` method of the `__import__` loader\n",
       "performs string transforms to code cells.\n",
       "`pidgy` uses the same method \n",
       "that the `shell.input_transformer_manager`.\n",
       "\n",
       "\n",
       "            \"\"\"\n",
       "            with importnb.Notebook(lazy=True):\n",
       "                try: from . import translate\n",
       "                except: import translate\n",
       "            return ''.join(translate.pidgy.transform_cell(str))\n",
       "        \n",
       "        def visit(self, node):\n",
       "            \"\"\"\n",
       "The `\"visit\"` method provides modifications to the\n",
       "abstract syntax tree.\n",
       "            \n",
       "            \"\"\"\n",
       "            with importnb.Notebook():\n",
       "                try: from . import translate\n",
       "                except: import translate\n",
       "            return translate.ReturnYield().visit(node)"
      ],
      "text/plain": [
       "<IPython.core.display.Markdown object>"
      ]
     },
     "metadata": {
      "text/markdown": {
       "end_time": "2020-02-06T16:39:03.788183",
       "modules": [],
       "names": [
        "pidgyLoader"
       ],
       "start_time": "2020-02-06T16:39:03.774885"
      }
     },
     "output_type": "display_data"
    }
   ],
   "source": [
    "    class pidgyLoader(importnb.Notebook): \n",
    "        \"\"\"\n",
    "To identify `pidgy` `notebook`s against other notebooks we \n",
    "introduce the hybrid extension `\".md.ipynb\"`.\n",
    "\n",
    "        \"\"\"\n",
    "        extensions = \".md.ipynb\".split()\n",
    "        \n",
    "        def code(self, str): \n",
    "            \"\"\"\n",
    "The `\"code\"` method of the `__import__` loader\n",
    "performs string transforms to code cells.\n",
    "`pidgy` uses the same method \n",
    "that the `shell.input_transformer_manager`.\n",
    "\n",
    "\n",
    "            \"\"\"\n",
    "            with importnb.Notebook(lazy=True):\n",
    "                try: from . import translate\n",
    "                except: import translate\n",
    "            return ''.join(translate.pidgy.transform_cell(str))\n",
    "        \n",
    "        def visit(self, node):\n",
    "            \"\"\"\n",
    "The `\"visit\"` method provides modifications to the\n",
    "abstract syntax tree.\n",
    "            \n",
    "            \"\"\"\n",
    "            with importnb.Notebook():\n",
    "                try: from . import translate\n",
    "                except: import translate\n",
    "            return translate.ReturnYield().visit(node)"
   ]
  },
  {
   "cell_type": "code",
   "execution_count": 5,
   "metadata": {},
   "outputs": [],
   "source": [
    "    \n",
    "    def unload_ipython_extension(shell): ..."
   ]
  }
 ],
 "metadata": {
  "kernelspec": {
   "display_name": "pidgy 3",
   "language": "python",
   "name": "pidgy"
  },
  "language_info": {
   "codemirror_mode": {
    "name": "ipython",
    "version": 3
   },
   "file_extension": ".py",
   "mimetype": "text/x-python",
   "name": "python",
   "nbconvert_exporter": "python",
   "pygments_lexer": "ipython3",
   "version": "3.7.3"
  }
 },
 "nbformat": 4,
 "nbformat_minor": 4
}
