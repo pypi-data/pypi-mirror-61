{
 "cells": [
  {
   "cell_type": "code",
   "execution_count": 1,
   "metadata": {},
   "outputs": [
    {
     "data": {
      "text/markdown": [
       "    import IPython as python, doctest, textwrap\n",
       "    pidgy= None"
      ],
      "text/plain": [
       "<IPython.core.display.Markdown object>"
      ]
     },
     "metadata": {
      "text/markdown": {
       "end_time": "2020-02-12T14:20:45.377859",
       "modules": [],
       "names": [
        "python",
        "doctest",
        "textwrap",
        "pidgy"
       ],
       "start_time": "2020-02-12T14:20:45.369377"
      }
     },
     "output_type": "display_data"
    }
   ],
   "source": [
    "    import IPython as python, doctest, textwrap\n",
    "    pidgy= None"
   ]
  },
  {
   "cell_type": "code",
   "execution_count": 2,
   "metadata": {},
   "outputs": [
    {
     "data": {
      "text/markdown": [
       "In literate programs, `\"code\"` is deeply entangled with the narrative.\n",
       "`\"code\"` object can signify meaning and can be validated through testing.\n",
       "`python` introduced the `doctest` literate programming convention that indicates some text in a narrative can be tested.\n",
       "`pidgy` extends the `doctest` opinion to the inline markdown code.\n",
       "Each time a `pidgy` cell is executed, the `doctest`s and inline code are executed ensuring that\n",
       "any code in a `pidgy` program is valid."
      ],
      "text/plain": [
       "<IPython.core.display.Markdown object>"
      ]
     },
     "metadata": {
      "text/markdown": {
       "end_time": "2020-02-12T14:20:45.963553",
       "modules": [],
       "names": [],
       "start_time": "2020-02-12T14:20:45.961552"
      }
     },
     "output_type": "display_data"
    }
   ],
   "source": [
    "In literate programs, `\"code\"` is deeply entangled with the narrative.\n",
    "`\"code\"` object can signify meaning and can be validated through testing.\n",
    "`python` introduced the `doctest` literate programming convention that indicates some text in a narrative can be tested.\n",
    "`pidgy` extends the `doctest` opinion to the inline markdown code.\n",
    "Each time a `pidgy` cell is executed, the `doctest`s and inline code are executed ensuring that\n",
    "any code in a `pidgy` program is valid."
   ]
  },
  {
   "cell_type": "code",
   "execution_count": 3,
   "metadata": {},
   "outputs": [
    {
     "data": {
      "text/markdown": [
       "    def post_run_cell(result):\n",
       "        result.runner = test_markdown_string(result.info.raw_cell, IPython.get_ipython(), False, doctest.ELLIPSIS)\n",
       "\n",
       "    def load_ipython_extension(shell): \n",
       "        unload_ipython_extension(shell)\n",
       "        shell.events.register('post_run_cell', post_run_cell)"
      ],
      "text/plain": [
       "<IPython.core.display.Markdown object>"
      ]
     },
     "metadata": {
      "text/markdown": {
       "end_time": "2020-02-12T14:20:46.709471",
       "modules": [],
       "names": [
        "post_run_cell",
        "load_ipython_extension"
       ],
       "start_time": "2020-02-12T14:20:46.706796"
      }
     },
     "output_type": "display_data"
    }
   ],
   "source": [
    "    def post_run_cell(result):\n",
    "        result.runner = test_markdown_string(result.info.raw_cell, IPython.get_ipython(), False, doctest.ELLIPSIS)\n",
    "\n",
    "    def load_ipython_extension(shell): \n",
    "        unload_ipython_extension(shell)\n",
    "        shell.events.register('post_run_cell', post_run_cell)\n"
   ]
  },
  {
   "cell_type": "code",
   "execution_count": 4,
   "metadata": {},
   "outputs": [
    {
     "data": {
      "text/markdown": [
       "    import doctest, contextlib, mistune as markdown, re, ast, __main__, IPython, operator\n",
       "    shell = IPython.get_ipython()"
      ],
      "text/plain": [
       "<IPython.core.display.Markdown object>"
      ]
     },
     "metadata": {
      "text/markdown": {
       "end_time": "2020-02-12T14:20:47.172296",
       "modules": [],
       "names": [
        "contextlib",
        "markdown",
        "re",
        "ast",
        "operator",
        "shell"
       ],
       "start_time": "2020-02-12T14:20:47.170108"
      }
     },
     "output_type": "display_data"
    }
   ],
   "source": [
    "    import doctest, contextlib, mistune as markdown, re, ast, __main__, IPython, operator\n",
    "    shell = IPython.get_ipython()"
   ]
  },
  {
   "cell_type": "markdown",
   "metadata": {},
   "source": [
    "`test_markdown_string` extends the standard python `doctest` tools \n",
    "to inline code objects written in markdown.  \n",
    "This approach compliments are markdown forward programming language to test\n",
    "intertextual references between code and narrative."
   ]
  },
  {
   "cell_type": "code",
   "execution_count": 89,
   "metadata": {},
   "outputs": [
    {
     "data": {
      "text/markdown": [
       "    INLINE = re.compile(\n",
       "        markdown.InlineGrammar.code\n",
       "        .pattern[1:]\n",
       "        .replace('[\\s\\S]*', '?P<source>[\\s\\S]+')\n",
       "        .replace('+)\\s*', '{1,2})(?P<indent>\\s{0})'), \n",
       "    )\n",
       "\n",
       "\n",
       "    (TICK,), SPACE = '`'.split(), ' '"
      ],
      "text/plain": [
       "<IPython.core.display.Markdown object>"
      ]
     },
     "metadata": {
      "text/markdown": {
       "end_time": "2020-02-12T14:58:51.401395",
       "modules": [],
       "names": [],
       "start_time": "2020-02-12T14:58:51.398721"
      }
     },
     "output_type": "display_data"
    }
   ],
   "source": [
    "    INLINE = re.compile(\n",
    "        markdown.InlineGrammar.code\n",
    "        .pattern[1:]\n",
    "        .replace('[\\s\\S]*', '?P<source>[\\s\\S]+')\n",
    "        .replace('+)\\s*', '{1,2})(?P<indent>\\s{0})'), \n",
    "    )\n",
    "\n",
    "    INLINE = re.compile(\"`{1}(?P<indent>\\s{0})(?P<source>[^`\\n\\r]+)`{1}\")\n",
    "    (TICK,), SPACE = '`'.split(), ' '"
   ]
  },
  {
   "cell_type": "code",
   "execution_count": 58,
   "metadata": {},
   "outputs": [
    {
     "data": {
      "text/markdown": [
       "    def test_markdown_string(str, shell=shell, verbose=False, compileflags=None):\n",
       "        globs, filename = shell.user_ns, F\"In[{shell.last_execution_result.execution_count}]\"\n",
       "        runner = doctest.DocTestRunner(verbose=verbose, optionflags=compileflags)  \n",
       "        parsers = DocTestParser(runner), InlineDoctestParser(runner)\n",
       "        parsers = {\n",
       "            parser: doctest.DocTestFinder(verbose, parser).find(str, filename) for parser in parsers\n",
       "        }\n",
       "        examples = sum([test.examples for x in parsers.values() for test in x], [])\n",
       "        examples.sort(key=operator.attrgetter('lineno'))\n",
       "        with ipython_compiler(shell):\n",
       "            for example in examples:\n",
       "                for parser, value in parsers.items():\n",
       "                    for value in value:\n",
       "                        if example in value.examples:\n",
       "                            with parser:\n",
       "                                runner.run(doctest.DocTest(\n",
       "                                    [example], globs, value.name, filename, example.lineno, value.docstring\n",
       "                                ), compileflags=compileflags, clear_globs=False)\n",
       "        shell.log.info(F\"In[{shell.last_execution_result.execution_count}]: {runner.summarize()}\")\n",
       "        return runner"
      ],
      "text/plain": [
       "<IPython.core.display.Markdown object>"
      ]
     },
     "metadata": {
      "text/markdown": {
       "end_time": "2020-02-12T14:51:38.815966",
       "modules": [],
       "names": [],
       "start_time": "2020-02-12T14:51:38.810684"
      }
     },
     "output_type": "display_data"
    }
   ],
   "source": [
    "    def test_markdown_string(str, shell=shell, verbose=False, compileflags=None):\n",
    "        globs, filename = shell.user_ns, F\"In[{shell.last_execution_result.execution_count}]\"\n",
    "        runner = doctest.DocTestRunner(verbose=verbose, optionflags=compileflags)  \n",
    "        parsers = DocTestParser(runner), InlineDoctestParser(runner)\n",
    "        parsers = {\n",
    "            parser: doctest.DocTestFinder(verbose, parser).find(str, filename) for parser in parsers\n",
    "        }\n",
    "        examples = sum([test.examples for x in parsers.values() for test in x], [])\n",
    "        examples.sort(key=operator.attrgetter('lineno'))\n",
    "        with ipython_compiler(shell):\n",
    "            for example in examples:\n",
    "                for parser, value in parsers.items():\n",
    "                    for value in value:\n",
    "                        if example in value.examples:\n",
    "                            with parser:\n",
    "                                runner.run(doctest.DocTest(\n",
    "                                    [example], globs, value.name, filename, example.lineno, value.docstring\n",
    "                                ), compileflags=compileflags, clear_globs=False)\n",
    "        shell.log.info(F\"In[{shell.last_execution_result.execution_count}]: {runner.summarize()}\")\n",
    "        return runner"
   ]
  },
  {
   "cell_type": "code",
   "execution_count": 59,
   "metadata": {},
   "outputs": [],
   "source": [
    "    \n",
    "    class DocTestParser(doctest.DocTestParser):\n",
    "        _checkers = []\n",
    "        def __init__(self, runner): self.runner = runner\n",
    "        def __enter__(self):\n",
    "            self._checkers.append(self.runner._checker)\n",
    "            self.runner._checker = getattr(self, '_checker', doctest.OutputChecker)()\n",
    "        def __exit__(self, *e):\n",
    "            self.runner._checker = self._checkers.pop(-1)\n",
    "\n",
    "        def _parse_example(self, m, name, lineno):\n",
    "            self.m = m\n",
    "            return super()._parse_example(m, name, lineno)\n",
    "\n",
    "    class NullOutputCheck(doctest.OutputChecker):\n",
    "        def check_output(self, *e): return True\n",
    "\n",
    "    class InlineDoctestParser(DocTestParser):\n",
    "        _checker = NullOutputCheck\n",
    "        _EXAMPLE_RE = INLINE\n",
    "        def _parse_example(self, m, name, lineno):\n",
    "            return m.group('source'), None, \"...\", None"
   ]
  },
  {
   "cell_type": "code",
   "execution_count": 60,
   "metadata": {},
   "outputs": [
    {
     "data": {
      "text/markdown": [
       "    @contextlib.contextmanager\n",
       "    def ipython_compiler(shell):\n",
       "        def compiler(input, filename, symbol, *args, **kwargs):\n",
       "            nonlocal shell\n",
       "            return shell.compile(\n",
       "                ast.Interactive(\n",
       "                    body=shell.transform_ast(\n",
       "                        shell.compile.ast_parse(shell.transform_cell(textwrap.indent(input, ' '*4)))\n",
       "                    ).body\n",
       "                ),\n",
       "                F\"In[{shell.last_execution_result.execution_count}]\",\n",
       "                \"single\",\n",
       "            )\n",
       "\n",
       "        yield setattr(doctest, \"compile\", compiler)\n",
       "        doctest.compile = compile"
      ],
      "text/plain": [
       "<IPython.core.display.Markdown object>"
      ]
     },
     "metadata": {
      "text/markdown": {
       "end_time": "2020-02-12T14:51:40.490840",
       "modules": [],
       "names": [
        "ipython_compiler"
       ],
       "start_time": "2020-02-12T14:51:40.487035"
      }
     },
     "output_type": "display_data"
    }
   ],
   "source": [
    "    @contextlib.contextmanager\n",
    "    def ipython_compiler(shell):\n",
    "        def compiler(input, filename, symbol, *args, **kwargs):\n",
    "            nonlocal shell\n",
    "            return shell.compile(\n",
    "                ast.Interactive(\n",
    "                    body=shell.transform_ast(\n",
    "                        shell.compile.ast_parse(shell.transform_cell(textwrap.indent(input, ' '*4)))\n",
    "                    ).body\n",
    "                ),\n",
    "                F\"In[{shell.last_execution_result.execution_count}]\",\n",
    "                \"single\",\n",
    "            )\n",
    "\n",
    "        yield setattr(doctest, \"compile\", compiler)\n",
    "        doctest.compile = compile"
   ]
  },
  {
   "cell_type": "code",
   "execution_count": 61,
   "metadata": {},
   "outputs": [],
   "source": [
    "        \n",
    "    \n",
    "    def unload_ipython_extension(shell): \n",
    "        try: shell.events.unregister('post_run_cell', post_run_cell)\n",
    "        except ValueError: ...\n",
    "\n"
   ]
  },
  {
   "cell_type": "code",
   "execution_count": null,
   "metadata": {},
   "outputs": [],
   "source": []
  }
 ],
 "metadata": {
  "kernelspec": {
   "display_name": "pidgy 3",
   "language": "python",
   "name": "pidgy"
  },
  "language_info": {
   "codemirror_mode": {
    "name": "ipython",
    "version": 3
   },
   "file_extension": ".py",
   "mimetype": "text/x-python",
   "name": "python",
   "nbconvert_exporter": "python",
   "pygments_lexer": "ipython3",
   "version": "3.7.3"
  }
 },
 "nbformat": 4,
 "nbformat_minor": 4
}
