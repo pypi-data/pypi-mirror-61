{
 "cells": [
  {
   "cell_type": "code",
   "execution_count": 1,
   "metadata": {},
   "outputs": [
    {
     "data": {
      "text/markdown": [
       "# Weaving cells in pidgin programs"
      ],
      "text/plain": [
       "<IPython.core.display.Markdown object>"
      ]
     },
     "metadata": {
      "text/markdown": {
       "end_time": "2020-02-10T14:03:48.688371",
       "modules": [],
       "names": [],
       "start_time": "2020-02-10T14:03:48.678194"
      }
     },
     "output_type": "display_data"
    }
   ],
   "source": [
    "# Weaving cells in pidgin programs"
   ]
  },
  {
   "cell_type": "code",
   "execution_count": 2,
   "metadata": {},
   "outputs": [
    {
     "data": {
      "text/markdown": [
       "pidgin programming is an incremental approach to documents."
      ],
      "text/plain": [
       "<IPython.core.display.Markdown object>"
      ]
     },
     "metadata": {
      "text/markdown": {
       "end_time": "2020-02-10T14:04:08.775770",
       "modules": [],
       "names": [],
       "start_time": "2020-02-10T14:04:08.773569"
      }
     },
     "output_type": "display_data"
    }
   ],
   "source": [
    "pidgin programming is an incremental approach to documents."
   ]
  },
  {
   "cell_type": "code",
   "execution_count": null,
   "metadata": {},
   "outputs": [],
   "source": [
    "    import datetime, dataclasses, sys, IPython as python, IPython, nbconvert as export, collections, IPython as python, mistune as markdown, hashlib\n",
    "    exporter, shell = export.exporters.TemplateExporter(), python.get_ipython()\n",
    "    modules = lambda:[x for x in sys.modules if '.' not in x and not str.startswith(x,'_')]"
   ]
  },
  {
   "cell_type": "code",
   "execution_count": null,
   "metadata": {},
   "outputs": [],
   "source": [
    "    def load_ipython_extension(shell):\n",
    "        global metadata\n",
    "        metadata.shell = shell\n",
    "        shell.events.register('pre_run_cell', metadata.pre_run_cell)\n",
    "        shell.events.register('post_run_cell', metadata.post_run_cell)\n",
    "        shell.display_formatter.formatters['text/markdown'].for_type(str, lambda x: x)\n",
    "        "
   ]
  },
  {
   "cell_type": "code",
   "execution_count": null,
   "metadata": {},
   "outputs": [],
   "source": [
    "Markdown input can fail to render when jinja2 is used in correctly.  Markdown is never wrong, but sometimes jinja is."
   ]
  },
  {
   "cell_type": "code",
   "execution_count": null,
   "metadata": {},
   "outputs": [],
   "source": [
    "    import hashlib"
   ]
  },
  {
   "cell_type": "code",
   "execution_count": null,
   "metadata": {},
   "outputs": [],
   "source": [
    "    @dataclasses.dataclass\n",
    "    class Metadata:\n",
    "        def pre_run_cell(self, info):\n",
    "            self.modules = modules()\n",
    "            self.start = datetime.datetime.utcnow().isoformat()\n",
    "            if hasattr(self.shell, 'user_ns'):\n",
    "                self.ns = self.names()\n",
    "            \n",
    "            return info\n",
    "        \n",
    "        def names(self):\n",
    "            return [x for x in self.shell.user_ns if x[0].islower()]\n",
    "\n",
    "        def post_run_cell(self, result):\n",
    "            text = result.info.raw_cell\n",
    "            lines = text.splitlines() or ['']\n",
    "            if lines[0].strip(): \n",
    "                exporter.environment.filters.update({\n",
    "                    k: v for k, v in getattr(self.shell, 'user_ns', {}).items() if callable(v) and k not in exporter.environment.filters})\n",
    "                try:\n",
    "                    text = exporter.environment.from_string(text, globals=getattr(self.shell, 'user_ns', {})).render()\n",
    "                except BaseException as Exception:\n",
    "                    self.shell.showtraceback((type(Exception), Exception, Exception.__traceback__))\n",
    "                    \n",
    "                IPython.display.display(IPython.display.Markdown(text, metadata=dict(\n",
    "                    modules=[x for x in modules() if x not in self.modules], \n",
    "                    names=[x for x in self.names() if x not in self.ns],\n",
    "                    start_time=self.start,\n",
    "                    end_time=datetime.datetime.utcnow().isoformat(),\n",
    "                    #id=hashlib.sha256(bytes(id(self.shell))).hexdigest(),\n",
    "                )))\n",
    "            return result\n",
    "        \n",
    "        def __post_init__(self):\n",
    "            self.ns = [x for x in getattr(self.shell, 'user_ns', {}) if '.' not in x and not str.startswith(x,'_')]\n",
    "        shell: python.InteractiveShell = dataclasses.field(default_factory=python.get_ipython)\n",
    "        start: datetime.datetime = dataclasses.field(default_factory=datetime.datetime.utcnow().isoformat)\n",
    "        modules: list = dataclasses.field(default_factory=list)\n",
    "        ns: list = dataclasses.field(init=False)"
   ]
  },
  {
   "cell_type": "code",
   "execution_count": null,
   "metadata": {},
   "outputs": [],
   "source": [
    "    metadata = Metadata()"
   ]
  },
  {
   "cell_type": "code",
   "execution_count": null,
   "metadata": {},
   "outputs": [],
   "source": [
    "    \n",
    "    def unload_ipython_extension(shell):\n",
    "        global metadata\n",
    "        metadata.shell = shell\n",
    "        try:\n",
    "            shell.events.unregister('pre_run_cell', metadata.pre_run_cell)\n",
    "            shell.events.unregister('post_run_cell', metadata.post_run_cell)\n",
    "        except:..."
   ]
  },
  {
   "cell_type": "code",
   "execution_count": null,
   "metadata": {},
   "outputs": [],
   "source": []
  }
 ],
 "metadata": {
  "kernelspec": {
   "display_name": "pidgy 3",
   "language": "python",
   "name": "pidgy"
  },
  "language_info": {
   "codemirror_mode": {
    "name": "ipython",
    "version": 3
   },
   "file_extension": ".py",
   "mimetype": "text/x-python",
   "name": "python",
   "nbconvert_exporter": "python",
   "pygments_lexer": "ipython3",
   "version": "3.7.3"
  }
 },
 "nbformat": 4,
 "nbformat_minor": 4
}
