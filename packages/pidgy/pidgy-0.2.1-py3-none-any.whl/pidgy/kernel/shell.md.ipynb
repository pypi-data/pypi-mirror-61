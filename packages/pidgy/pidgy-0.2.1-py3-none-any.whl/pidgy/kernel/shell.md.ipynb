{
 "cells": [
  {
   "cell_type": "code",
   "execution_count": 1,
   "metadata": {},
   "outputs": [],
   "source": [
    "    \n",
    "    import jupyter_client, IPython, ipykernel.ipkernel, ipykernel.kernelapp, pidgy, traitlets, pidgy, traitlets, ipykernel.kernelspec, ipykernel.zmqshell, pathlib"
   ]
  },
  {
   "cell_type": "code",
   "execution_count": 2,
   "metadata": {},
   "outputs": [
    {
     "data": {
      "text/markdown": [
       "# The `pidgy` shell-kernel model"
      ],
      "text/plain": [
       "<IPython.core.display.Markdown object>"
      ]
     },
     "metadata": {
      "text/markdown": {
       "end_time": "2020-02-11T23:22:32.063049",
       "modules": [],
       "names": [],
       "start_time": "2020-02-11T23:22:32.051571"
      }
     },
     "output_type": "display_data"
    }
   ],
   "source": [
    "# The `pidgy` shell-kernel model"
   ]
  },
  {
   "cell_type": "markdown",
   "metadata": {},
   "source": [
    "The shell is the application either jupyterlab or jupyter notebook, the kernel determines the programming language.  Below we design a just jupyter kernel that can be installed using \n",
    "\n",
    "    !pidgy kernel install"
   ]
  },
  {
   "cell_type": "code",
   "execution_count": 3,
   "metadata": {},
   "outputs": [],
   "source": [
    "\n",
    "    class pidgyInteractiveShell(ipykernel.zmqshell.ZMQInteractiveShell):\n",
    "        \"\"\"Configure a native `pidgy` `IPython.InteractiveShell`\"\"\"        \n",
    "        enable_html_pager = traitlets.Bool(True)\n",
    "        def __init__(self,*args, **kwargs):\n",
    "            super().__init__(*args, **kwargs)\n",
    "            from .. import load_ipython_extension\n",
    "            load_ipython_extension(self)\n",
    "            \n",
    "    class pidgyKernel(ipykernel.ipkernel.IPythonKernel):\n",
    "        shell_class = traitlets.Type(pidgyInteractiveShell)\n",
    "        def do_inspect(self, *args, **kwargs): return super().do_inspect(*args, **kwargs)"
   ]
  }
 ],
 "metadata": {
  "kernelspec": {
   "display_name": "pidgy 3",
   "language": "python",
   "name": "pidgy"
  },
  "language_info": {
   "codemirror_mode": {
    "name": "ipython",
    "version": 3
   },
   "file_extension": ".py",
   "mimetype": "text/x-python",
   "name": "python",
   "nbconvert_exporter": "python",
   "pygments_lexer": "ipython3",
   "version": "3.7.3"
  }
 },
 "nbformat": 4,
 "nbformat_minor": 4
}
