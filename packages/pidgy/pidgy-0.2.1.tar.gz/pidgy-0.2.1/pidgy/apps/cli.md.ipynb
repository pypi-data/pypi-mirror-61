{
 "cells": [
  {
   "cell_type": "code",
   "execution_count": 3,
   "metadata": {},
   "outputs": [
    {
     "data": {
      "text/markdown": [
       "# Derived applications of pidgin programs."
      ],
      "text/plain": [
       "<IPython.core.display.Markdown object>"
      ]
     },
     "metadata": {
      "text/markdown": {
       "end_time": "2020-02-11T16:30:48.480960",
       "modules": [],
       "names": [],
       "start_time": "2020-02-11T16:30:48.479513"
      }
     },
     "output_type": "display_data"
    }
   ],
   "source": [
    "# Derived applications of pidgin programs."
   ]
  },
  {
   "cell_type": "code",
   "execution_count": 11,
   "metadata": {},
   "outputs": [],
   "source": [
    "    \n",
    "    import click, IPython, pidgy\n",
    "    Ø = __name__ == '__main__'\n",
    "    if Ø:\n",
    "        from graphviz import Source as 🕸\n",
    "        import black as ⬛️, isort, mistune as markdown, IPython as python, nbformat, jsonschema as schema, nbconvert, notebook, __main__\n",
    "        formats: set = {x.partition('_')[0] for x in nbconvert.get_export_names()}"
   ]
  },
  {
   "cell_type": "code",
   "execution_count": 8,
   "metadata": {},
   "outputs": [
    {
     "data": {
      "text/markdown": [
       "    @click.group()\n",
       "    def application()->None:\n",
       "A successful `notebook` program could find uses outside of its\n",
       "interactive state as programs, documentation, or tests.\n",
       "`pidgy` programming includes a `click` command-line \n",
       "`application` to transform and execute `notebook`s."
      ],
      "text/plain": [
       "<IPython.core.display.Markdown object>"
      ]
     },
     "metadata": {
      "text/markdown": {
       "end_time": "2020-02-11T16:33:49.268939",
       "modules": [],
       "names": [],
       "start_time": "2020-02-11T16:33:49.260383"
      }
     },
     "output_type": "display_data"
    }
   ],
   "source": [
    "    @click.group()\n",
    "    def application()->None:\n",
    "A successful `notebook` program could find uses outside of its\n",
    "interactive state as programs, documentation, or tests.\n",
    "`pidgy` programming includes a `click` command-line \n",
    "`application` to transform and execute `notebook`s."
   ]
  },
  {
   "cell_type": "code",
   "execution_count": 51,
   "metadata": {},
   "outputs": [],
   "source": [
    "\n",
    "\n",
    "    _CODE_FORMATS = \"python script\".split()\n",
    "\n",
    "    class PythonExporter(nbconvert.exporters.PythonExporter):\n",
    "        def from_notebook_node(self, nb, resources, **kw):\n",
    "            str, resources = super().from_notebook_node(nb, resources, **kw)\n",
    "            return black.format_str(isort.SortImports(\n",
    "                file_contents=str\n",
    "            ).output, mode=black.FileMode()), resources"
   ]
  },
  {
   "cell_type": "code",
   "execution_count": 54,
   "metadata": {},
   "outputs": [],
   "source": [
    "    def document(to, files):\n",
    "The `document` command is an opinionated wrapper that \n",
    "converts notebooks to formatted python programs\n",
    "and readable documents.\n",
    "It is an opinionated wrapper over to of top the `nbconvert`\n",
    "library that transforms the `nbformat` into other projections.\n",
    "\n",
    "The original literate programming implementation exported only tex `document` format.\n",
    "Pidgin programs serialize literate programs as in the `nbformat` \n",
    "and can be converted to numerous formats including tex.\n",
    "`document`s are created using the configurable `nbconvert` library.\n",
    "\n",
    "\n",
    "        exporter = nbconvert.get_exporter(to)\n",
    "        if to in _CODE_FORMATS: \n",
    "`pidgy` introduces a new opinion to the notebook where\n",
    "the input defines the output.\n",
    "In literate programming terms, \n",
    "we tangle the input and weave the output.\n",
    "The decoupling of the input & output means that proper\n",
    "python code maybe extracted from the `input`.  `pidgy`\n",
    "includes `⬛️ and isort` community conventions \n",
    "for formatting python to abide python styling guides.\n",
    "\n",
    "            exporter = PythonExporter()\n",
    "        else:\n",
    "With `pidgy`, we may consider a cell output to be the intended\n",
    "`display` set forth by an author.\n",
    "A string opinion `pidgy` documents is that the `input`\n",
    "is excluded from resulting document, where as typical\n",
    "approaches view all code as essential or not essential.\n",
    "            \n",
    "            exporter = exporter(exclude_input=True)\n",
    "        \n",
    "        for file in files: ...\n",
    "    \n",
    "    "
   ]
  },
  {
   "cell_type": "code",
   "execution_count": 64,
   "metadata": {},
   "outputs": [
    {
     "data": {
      "text/plain": [
       "<click.core.Command at 0x10f179ac8>"
      ]
     },
     "execution_count": 64,
     "metadata": {},
     "output_type": "execute_result"
    }
   ],
   "source": [
    "    \n",
    "Add the `click` arguments outside of the cell so preserve vertical space.\n",
    "    \n",
    "    application.command()(\n",
    "        click.option('-t', '--to', default='markdown')(\n",
    "            click.argument('files', nargs=-1)(document)))"
   ]
  },
  {
   "cell_type": "code",
   "execution_count": 75,
   "metadata": {},
   "outputs": [
    {
     "data": {
      "text/markdown": [
       "    def run(files):\n",
       "The `document` function demonstrates that `pidgy` may \n",
       "export `python` code. \n",
       "As a result the could be run as main scripts.\n",
       "        \n",
       "        import pidgy, importnb, runpy\n",
       "        with pidgy.reuse.pidgyLoader(), importnb.Notebook():\n",
       "            for file in files: runpy.run_path(file)\n",
       "            for module in modules: runpy.run_module(module)"
      ],
      "text/plain": [
       "<IPython.core.display.Markdown object>"
      ]
     },
     "metadata": {
      "text/markdown": {
       "end_time": "2020-02-11T18:17:09.861772",
       "modules": [],
       "names": [],
       "start_time": "2020-02-11T18:17:09.853856"
      }
     },
     "output_type": "display_data"
    }
   ],
   "source": [
    "    def run(files):\n",
    "The `document` function demonstrates that `pidgy` may \n",
    "export `python` code. \n",
    "As a result the could be run as main scripts.\n",
    "        \n",
    "        import pidgy, importnb, runpy\n",
    "        with pidgy.reuse.pidgyLoader(), importnb.Notebook():\n",
    "            for file in files: runpy.run_path(file)\n",
    "            for module in modules: runpy.run_module(module)"
   ]
  },
  {
   "cell_type": "code",
   "execution_count": 76,
   "metadata": {},
   "outputs": [],
   "source": [
    "    \n",
    "    application.command()(click.argument('files', nargs=-1)(run));"
   ]
  },
  {
   "cell_type": "code",
   "execution_count": 77,
   "metadata": {},
   "outputs": [
    {
     "data": {
      "text/markdown": [
       "    @application.group()\n",
       "    def kernel():\n",
       "`pidgy` is mainly designed to improve the interactive experience\n",
       "of creating literature in computational notebooks. \n",
       "\n",
       "    @kernel.command()\n",
       "    def install(user=False, replace=None, prefix=None):\n",
       "        with pidgy.reuse.pidgyLoader():\n",
       "            from .kernel import shell\n",
       "        dest =shell.install(user=user, replace=replace, prefix=prefix)\n",
       "        click.echo(F\"The pidgy kernel was install in {dest}\")\n",
       "        \n",
       "    @kernel.command()\n",
       "    def uninstall(user=True, replace=None, prefix=None):\n",
       "        with pidgy.reuse.pidgyLoader():\n",
       "            from .kernel import shell\n",
       "        shell.uninstall()\n",
       "        click.echo(F\"The pidgy kernel was removed.\")\n",
       "        "
      ],
      "text/plain": [
       "<IPython.core.display.Markdown object>"
      ]
     },
     "metadata": {
      "text/markdown": {
       "end_time": "2020-02-11T18:17:12.812601",
       "modules": [],
       "names": [
        "kernel",
        "install",
        "uninstall"
       ],
       "start_time": "2020-02-11T18:17:12.806160"
      }
     },
     "output_type": "display_data"
    }
   ],
   "source": [
    "    @application.group()\n",
    "    def kernel():\n",
    "`pidgy` is mainly designed to improve the interactive experience\n",
    "of creating literature in computational notebooks. \n",
    "\n",
    "    @kernel.command()\n",
    "    def install(user=False, replace=None, prefix=None):\n",
    "        with pidgy.reuse.pidgyLoader():\n",
    "            from .kernel import shell\n",
    "        dest =shell.install(user=user, replace=replace, prefix=prefix)\n",
    "        click.echo(F\"The pidgy kernel was install in {dest}\")\n",
    "        \n",
    "    @kernel.command()\n",
    "    def uninstall(user=True, replace=None, prefix=None):\n",
    "        with pidgy.reuse.pidgyLoader():\n",
    "            from .kernel import shell\n",
    "        shell.uninstall()\n",
    "        click.echo(F\"The pidgy kernel was removed.\")\n",
    "        "
   ]
  }
 ],
 "metadata": {
  "kernelspec": {
   "display_name": "pidgy 3",
   "language": "python",
   "name": "pidgy"
  },
  "language_info": {
   "codemirror_mode": {
    "name": "ipython",
    "version": 3
   },
   "file_extension": ".py",
   "mimetype": "text/x-python",
   "name": "python",
   "nbconvert_exporter": "python",
   "pygments_lexer": "ipython3",
   "version": "3.7.3"
  }
 },
 "nbformat": 4,
 "nbformat_minor": 4
}
