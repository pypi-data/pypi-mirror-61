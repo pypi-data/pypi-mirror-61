{
 "cells": [
  {
   "cell_type": "code",
   "execution_count": 9,
   "metadata": {},
   "outputs": [
    {
     "data": {
      "text/markdown": [
       "# Literature as the test"
      ],
      "text/plain": [
       "<IPython.core.display.Markdown object>"
      ]
     },
     "metadata": {
      "text/markdown": {
       "end_time": "2020-02-10T02:27:20.039762",
       "modules": [],
       "names": [],
       "start_time": "2020-02-10T02:27:20.038095"
      }
     },
     "output_type": "display_data"
    }
   ],
   "source": [
    "# Literature as the test"
   ]
  },
  {
   "cell_type": "code",
   "execution_count": 10,
   "metadata": {},
   "outputs": [],
   "source": [
    "    \n",
    "    import pidgy, pytest, nbval, doctest, importnb.utils.pytest_importnb\n",
    "    if __name__ == '__main__':\n",
    "        import notebook, IPython as python"
   ]
  },
  {
   "cell_type": "code",
   "execution_count": 13,
   "metadata": {},
   "outputs": [
    {
     "data": {
      "text/markdown": [
       "Intertextuallity emerges when \n",
       "the primary target of a program is literature.\n",
       "Some of the literary content may include `\"code\"` `object`s\n",
       "that can be tested to qualify the veracity of these\n",
       "dual signifiers.\n",
       "\n",
       "`pidgy` documents are designed to be tested under\n",
       "multiple formal testing conditions.\n",
       "This is motivated by the `python`ic concept of documentation testing,\n",
       "or `doctest`ing, which in itself is a literate programming style.\n",
       "A `pidgy` document includes `doctest`, it verifies `notebook` `input`/`\"output\"`,\n",
       "and any formally defined tests are collected."
      ],
      "text/plain": [
       "<IPython.core.display.Markdown object>"
      ]
     },
     "metadata": {
      "text/markdown": {
       "end_time": "2020-02-10T02:27:35.891325",
       "modules": [],
       "names": [],
       "start_time": "2020-02-10T02:27:35.878079"
      }
     },
     "output_type": "display_data"
    }
   ],
   "source": [
    "Intertextuallity emerges when \n",
    "the primary target of a program is literature.\n",
    "Some of the literary content may include `\"code\"` `object`s\n",
    "that can be tested to qualify the veracity of these\n",
    "dual signifiers.\n",
    "\n",
    "`pidgy` documents are designed to be tested under\n",
    "multiple formal testing conditions.\n",
    "This is motivated by the `python`ic concept of documentation testing,\n",
    "or `doctest`ing, which in itself is a literate programming style.\n",
    "A `pidgy` document includes `doctest`, it verifies `notebook` `input`/`\"output\"`,\n",
    "and any formally defined tests are collected.\n"
   ]
  },
  {
   "cell_type": "code",
   "execution_count": 14,
   "metadata": {},
   "outputs": [
    {
     "data": {
      "text/markdown": [
       "    class pidgyModule(importnb.utils.pytest_importnb.NotebookModule):\n",
       "`pidgy` provides a `pytest` plugin that works only on `\".md.ipynb\"` files.\n",
       "The `pidgy.kernel` works directly with `nbval`, install the python packkage and use the --nbval flag.\n",
       "`pidgy` uses features from `importnb` to support standard tests discovery, \n",
       "and `doctest` discovery across all strings.\n",
       "Still working on coverage.\n",
       "The `pidgyModule` permits standard test discovery in notebooks.\n",
       "Functions beginning with `\"test_\"` indicate test functions.\n",
       "\n",
       "        loader = pidgy.reuse.pidgyLoader"
      ],
      "text/plain": [
       "<IPython.core.display.Markdown object>"
      ]
     },
     "metadata": {
      "text/markdown": {
       "end_time": "2020-02-10T02:27:41.535144",
       "modules": [],
       "names": [],
       "start_time": "2020-02-10T02:27:41.521855"
      }
     },
     "output_type": "display_data"
    }
   ],
   "source": [
    "    class pidgyModule(importnb.utils.pytest_importnb.NotebookModule):\n",
    "`pidgy` provides a `pytest` plugin that works only on `\".md.ipynb\"` files.\n",
    "The `pidgy.kernel` works directly with `nbval`, install the python packkage and use the --nbval flag.\n",
    "`pidgy` uses features from `importnb` to support standard tests discovery, \n",
    "and `doctest` discovery across all strings.\n",
    "Still working on coverage.\n",
    "The `pidgyModule` permits standard test discovery in notebooks.\n",
    "Functions beginning with `\"test_\"` indicate test functions.\n",
    "\n",
    "        loader = pidgy.reuse.pidgyLoader"
   ]
  },
  {
   "cell_type": "code",
   "execution_count": 15,
   "metadata": {},
   "outputs": [
    {
     "data": {
      "text/markdown": [
       "    class pidgyTests(importnb.utils.pytest_importnb.NotebookTests):\n",
       "if `pidgy` is install then importnb is.\n",
       "        \n",
       "        modules = pidgyModule,"
      ],
      "text/plain": [
       "<IPython.core.display.Markdown object>"
      ]
     },
     "metadata": {
      "text/markdown": {
       "end_time": "2020-02-10T02:27:42.262464",
       "modules": [],
       "names": [],
       "start_time": "2020-02-10T02:27:42.258477"
      }
     },
     "output_type": "display_data"
    }
   ],
   "source": [
    "    class pidgyTests(importnb.utils.pytest_importnb.NotebookTests):\n",
    "if `pidgy` is install then importnb is.\n",
    "        \n",
    "        modules = pidgyModule,"
   ]
  }
 ],
 "metadata": {
  "kernelspec": {
   "display_name": "pidgy 3",
   "language": "python",
   "name": "pidgy"
  },
  "language_info": {
   "codemirror_mode": {
    "name": "ipython",
    "version": 3
   },
   "file_extension": ".py",
   "mimetype": "text/x-python",
   "name": "python",
   "nbconvert_exporter": "python",
   "pygments_lexer": "ipython3",
   "version": "3.7.3"
  }
 },
 "nbformat": 4,
 "nbformat_minor": 4
}
