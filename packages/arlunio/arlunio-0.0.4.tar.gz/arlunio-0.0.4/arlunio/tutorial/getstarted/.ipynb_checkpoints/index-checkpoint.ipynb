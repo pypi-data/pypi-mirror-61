{
  "nbformat": 4,
  "nbformat_minor": 2,
  "metadata": {
    "kernelspec": {
      "display_name": "Python 3",
      "language": "python",
      "name": "python3"
    }
  },
  "cells": [
    {
      "cell_type": "markdown",
      "metadata": {},
      "source": [
        "\n",
        "# Getting Started\n",
        "\n",
        "Are you new to arlunio? Not sure what it is all about yet? Well not to worry\n",
        "that is what this section is all about! Hopefully after you work your way\n",
        "through the next few pages you will have a much better idea about arlunio, what it\n",
        "is and how to use it.\n",
        "- [Shapes and Images](shapes-and-images.ipynb)\n"
      ]
    }
  ]
}