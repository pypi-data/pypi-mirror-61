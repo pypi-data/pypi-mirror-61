{
  "nbformat": 4,
  "nbformat_minor": 2,
  "metadata": {
    "kernelspec": {
      "display_name": "Python 3",
      "language": "python",
      "name": "python3"
    }
  },
  "cells": [
    {
      "cell_type": "markdown",
      "metadata": {},
      "source": [
        "\n",
        "# Shapes and Images\n",
        "\n",
        "In this tutorial we introduce the two main types of object you will find in\n",
        "arlunio, `Shapes` and `Images` and how they can be used to create\n",
        "your first image.\n",
        "\n",
        "A `Shape` represents a shape that can be drawn and provides a number of\n",
        "options that control how it is drawn. Once drawn a shape, or collection of\n",
        "shapes produce an `Image` which holds the raw pixel data that we will\n",
        "eventually save to a file.\n",
        "\n",
        "To get started let\u2019s create an instance of a `Circle`.\n",
        "\n"
      ]
    },
    {
      "cell_type": "code",
      "execution_count": null,
      "metadata": {},
      "outputs": [],
      "source": [
        "import arlunio as ar\n",
        "circle = ar.S.Circle()\n",
        "circle\n"
      ]
    },
    {
      "cell_type": "markdown",
      "metadata": {},
      "source": [
        "\n",
        "As mentioned above a shape provides a number of options called properties that\n",
        "can be changed to control how it looks when it is drawn. We will leave these as\n",
        "they are for now and let\u2019s focus on turning our shape into an image\n",
        "\n",
        "Every shape in arlunio can be called like a function and will return an image\n",
        "representing itself, all we need to do is tell it how large we want the image to\n",
        "be\n",
        "\n"
      ]
    },
    {
      "cell_type": "code",
      "execution_count": null,
      "metadata": {},
      "outputs": [],
      "source": [
        "circle(4, 4)  \n"
      ]
    },
    {
      "cell_type": "markdown",
      "metadata": {},
      "source": [
        "\n",
        "Ah yes almost forgot, image sizes are given in pixels. Try it yourself, create a\n",
        "high definition version of the image above. *Hint high definition is 1920x1080\n",
        "pixels*\n",
        "\n"
      ]
    },
    {
      "cell_type": "code",
      "execution_count": null,
      "metadata": {},
      "outputs": [],
      "source": [
        "%load solutions/shapes-and-images-01.py\n"
      ]
    },
    {
      "cell_type": "markdown",
      "metadata": {},
      "source": [
        "\n",
        "Talking \u2018bout other stuff\n",
        "\n"
      ]
    }
  ]
}