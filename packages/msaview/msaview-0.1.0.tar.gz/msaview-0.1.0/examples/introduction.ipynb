{
 "cells": [
  {
   "cell_type": "markdown",
   "metadata": {},
   "source": [
    "# Introduction"
   ]
  },
  {
   "cell_type": "code",
   "execution_count": 1,
   "metadata": {},
   "outputs": [],
   "source": [
    "import time\n",
    "\n",
    "import numpy as np\n",
    "\n",
    "import msaview\n",
    "import proteinsolver"
   ]
  },
  {
   "cell_type": "code",
   "execution_count": 2,
   "metadata": {},
   "outputs": [],
   "source": [
    "w = msaview.MSAView()"
   ]
  },
  {
   "cell_type": "code",
   "execution_count": 3,
   "metadata": {},
   "outputs": [
    {
     "data": {
      "application/vnd.jupyter.widget-view+json": {
       "model_id": "65e5dd5639fd42ed883a8072c9df9492",
       "version_major": 2,
       "version_minor": 0
      },
      "text/plain": [
       "MSAView()"
      ]
     },
     "metadata": {},
     "output_type": "display_data"
    }
   ],
   "source": [
    "w"
   ]
  },
  {
   "cell_type": "code",
   "execution_count": 12,
   "metadata": {},
   "outputs": [],
   "source": [
    "batch_size = 100\n",
    "\n",
    "for i in range(0, 1_000, batch_size):\n",
    "    values = []\n",
    "    for j in range(batch_size):\n",
    "        idx = i + j\n",
    "        values.append(\n",
    "            {\n",
    "                \"id\": str(idx),\n",
    "                \"name\": f\"gen-{idx:05d}\",\n",
    "                \"seq\": \"\".join(np.random.choice(proteinsolver.utils.AMINO_ACIDS, 300)),\n",
    "            }\n",
    "        )\n",
    "    w.value = values\n",
    "    time.sleep(0.5)"
   ]
  },
  {
   "cell_type": "code",
   "execution_count": 14,
   "metadata": {},
   "outputs": [
    {
     "data": {
      "text/plain": [
       "900"
      ]
     },
     "execution_count": 14,
     "metadata": {},
     "output_type": "execute_result"
    }
   ],
   "source": []
  },
  {
   "cell_type": "code",
   "execution_count": 6,
   "metadata": {},
   "outputs": [],
   "source": [
    "w.value = [{\"id\": \"5\", \"name\": \"boo\", \"seq\": \"DDDCCFFF\", \"ref\": True}]"
   ]
  },
  {
   "cell_type": "code",
   "execution_count": 7,
   "metadata": {},
   "outputs": [],
   "source": [
    "w.value = {\"id\": \"0\", \"name\": \"hello\", \"seq\": \"CCC\", \"ref\": False}"
   ]
  },
  {
   "cell_type": "code",
   "execution_count": null,
   "metadata": {},
   "outputs": [],
   "source": [
    "w.value = {\"id\": \"0\", \"name\": \"boo\", \"seq\": \"CCC\", \"ref\": True}"
   ]
  },
  {
   "cell_type": "code",
   "execution_count": null,
   "metadata": {},
   "outputs": [],
   "source": [
    "w.value = {\"id\": \"2\", \"name\": \"boo\", \"seq\": \"CCC\"}"
   ]
  },
  {
   "cell_type": "code",
   "execution_count": 10,
   "metadata": {},
   "outputs": [],
   "source": [
    "w.value = {\"id\": \"3\", \"name\": \"boo\", \"seq\": \"CCC\", \"ref\": \"true\"}"
   ]
  },
  {
   "cell_type": "code",
   "execution_count": 11,
   "metadata": {},
   "outputs": [],
   "source": [
    "w.value = {\"id\": \"4\", \"name\": \"boo\", \"seq\": \"CCC\", \"ref\": 1}"
   ]
  },
  {
   "cell_type": "code",
   "execution_count": null,
   "metadata": {},
   "outputs": [],
   "source": []
  },
  {
   "cell_type": "code",
   "execution_count": null,
   "metadata": {},
   "outputs": [],
   "source": []
  }
 ],
 "metadata": {
  "kernelspec": {
   "display_name": "Python 3",
   "language": "python",
   "name": "python3"
  },
  "language_info": {
   "codemirror_mode": {
    "name": "ipython",
    "version": 3
   },
   "file_extension": ".py",
   "mimetype": "text/x-python",
   "name": "python",
   "nbconvert_exporter": "python",
   "pygments_lexer": "ipython3",
   "version": "3.7.6"
  }
 },
 "nbformat": 4,
 "nbformat_minor": 4
}
