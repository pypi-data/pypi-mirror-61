{
 "cells": [
  {
   "cell_type": "markdown",
   "metadata": {},
   "source": [
    "1. First ordered list item\n",
    "\n",
    "1. Another item\n",
    "\n",
    "   * Unordered sub-list.\n",
    "\n",
    "   * Another sub-item.\n",
    "\n",
    "1. Actual numbers don't matter, just that it's a number\n",
    "\n",
    "   1. Ordered sub-list\n",
    "\n",
    "1. And another item.\n",
    "\n",
    "   You can have properly indented paragraphs within list items. Notice the\n",
    "   blank line above.  The text can keep going on for a long time, flowing\n",
    "   across\n",
    "   *many* lines. There may be stuff such as $a = b$ and `literals`.\n",
    "\n",
    "   You can have a line break within the list.\n",
    "\n",
    "   Note that this line is separate, but within the same paragraph."
   ]
  }
 ],
 "metadata": {},
 "nbformat": 4,
 "nbformat_minor": 1
}