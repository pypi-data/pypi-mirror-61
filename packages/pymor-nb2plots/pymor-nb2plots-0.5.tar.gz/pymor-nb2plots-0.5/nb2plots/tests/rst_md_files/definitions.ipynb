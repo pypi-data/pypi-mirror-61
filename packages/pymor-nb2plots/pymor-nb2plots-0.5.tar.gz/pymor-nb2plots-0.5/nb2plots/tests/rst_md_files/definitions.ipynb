{
 "cells": [
  {
   "cell_type": "markdown",
   "metadata": {},
   "source": [
    "Start text.\n",
    "\n",
    "first definition\n",
    "\n",
    ":   Here I define the first thing.\n",
    "\n",
    "second definition\n",
    "\n",
    ":   Now I define the second thing.  The definition can get long enough that it\n",
    "    goes over more than one line.\n",
    "\n",
    "More text."
   ]
  }
 ],
 "metadata": {},
 "nbformat": 4,
 "nbformat_minor": 1
}