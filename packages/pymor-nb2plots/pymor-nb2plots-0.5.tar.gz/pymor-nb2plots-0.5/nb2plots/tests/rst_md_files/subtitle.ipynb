{
 "cells": [
  {
   "cell_type": "markdown",
   "metadata": {},
   "source": [
    "## A title\n",
    "\n",
    "### A subtitle\n",
    "\n",
    "Some text.\n",
    "\n",
    "### A section\n",
    "\n",
    "More text."
   ]
  }
 ],
 "metadata": {},
 "nbformat": 4,
 "nbformat_minor": 1
}