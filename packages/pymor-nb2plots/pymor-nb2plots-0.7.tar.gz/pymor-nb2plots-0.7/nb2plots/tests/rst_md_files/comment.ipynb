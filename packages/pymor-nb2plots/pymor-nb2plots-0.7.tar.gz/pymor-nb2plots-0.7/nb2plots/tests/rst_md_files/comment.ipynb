{
 "cells": [
  {
   "cell_type": "markdown",
   "metadata": {},
   "source": [
    "Some text\n",
    "\n",
    "<!-- A multiline\n",
    "comment\n",
    "\n",
    "with blank lines -->\n",
    "More text."
   ]
  }
 ],
 "metadata": {},
 "nbformat": 4,
 "nbformat_minor": 1
}