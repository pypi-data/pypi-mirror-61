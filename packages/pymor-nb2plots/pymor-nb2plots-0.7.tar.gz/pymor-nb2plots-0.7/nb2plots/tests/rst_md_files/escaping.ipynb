{
 "cells": [
  {
   "cell_type": "markdown",
   "metadata": {},
   "source": [
    "Here is some *emphasis* and here is an actual \\* asterisk.\n",
    "\n",
    "You can have actual \\`backticks\\` too.\n",
    "\n",
    "And real \\\\backslashes.\n",
    "\n",
    "No escaping in $1 * 2$.\n",
    "\n",
    "No escaping in a math block:\n",
    "\n",
    "$$\n",
    "3 * 4\n",
    "$$"
   ]
  }
 ],
 "metadata": {},
 "nbformat": 4,
 "nbformat_minor": 2
}