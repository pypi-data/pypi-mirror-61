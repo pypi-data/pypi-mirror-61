{
 "cells": [
  {
   "cell_type": "markdown",
   "metadata": {},
   "source": [
    "## Title\n",
    "\n",
    "Some text with $a = 1$ where line continues.\n",
    "\n",
    "A math block:\n",
    "\n",
    "$$\n",
    "c = 2\n",
    "d = 5\n",
    "$$\n",
    "\n",
    "Text after the math block."
   ]
  }
 ],
 "metadata": {},
 "nbformat": 4,
 "nbformat_minor": 1
}