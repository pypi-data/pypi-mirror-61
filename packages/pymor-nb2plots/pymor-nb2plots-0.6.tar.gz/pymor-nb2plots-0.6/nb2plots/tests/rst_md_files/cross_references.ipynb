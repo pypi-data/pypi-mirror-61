{
 "cells": [
  {
   "cell_type": "markdown",
   "metadata": {},
   "source": [
    "## Refereed section\n",
    "\n",
    "This section refers to itself.\n",
    "\n",
    "It also refers forward to the next section.\n",
    "\n",
    "Then, and finally, it refers to itself with its own name: Refereed section.\n",
    "\n",
    "## Rerefereed\n",
    "\n",
    "This section refers to this document at Refereed section, and with an\n",
    "explicit title, to this document.\n",
    "\n",
    "Now `contents.rst`."
   ]
  }
 ],
 "metadata": {},
 "nbformat": 4,
 "nbformat_minor": 2
}