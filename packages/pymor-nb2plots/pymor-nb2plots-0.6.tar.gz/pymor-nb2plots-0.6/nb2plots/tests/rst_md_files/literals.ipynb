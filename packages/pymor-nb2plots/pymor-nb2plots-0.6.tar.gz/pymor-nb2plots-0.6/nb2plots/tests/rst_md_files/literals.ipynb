{
 "cells": [
  {
   "cell_type": "markdown",
   "metadata": {},
   "source": [
    "## Another title\n",
    "\n",
    "Here a `literal` followed by a:\n",
    "\n",
    "```\n",
    "Literal block, not :math:`parsed`.\n",
    "```\n",
    "\n",
    "On it goes, to another:\n",
    "\n",
    "```\n",
    "This block has a very long line, that goes beyond the normal 80-or-so characters, to see whether not-wrapping works correctly.\n",
    "```\n",
    "\n",
    "Finishes with dramatic exhortation."
   ]
  }
 ],
 "metadata": {},
 "nbformat": 4,
 "nbformat_minor": 2
}