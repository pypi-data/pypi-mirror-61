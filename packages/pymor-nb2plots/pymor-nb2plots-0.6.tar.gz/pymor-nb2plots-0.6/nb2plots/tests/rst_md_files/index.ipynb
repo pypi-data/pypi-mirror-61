{
 "cells": [
  {
   "cell_type": "markdown",
   "metadata": {},
   "source": [
    "This is a normal reST paragraph that contains several index\n",
    "entries."
   ]
  }
 ],
 "metadata": {},
 "nbformat": 4,
 "nbformat_minor": 2
}