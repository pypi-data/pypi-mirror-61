{
 "cells": [
  {
   "cell_type": "markdown",
   "metadata": {},
   "source": [
    "## A section\n",
    "\n",
    "A test for links.  An [inline link](http://nipy.org).\n",
    "\n",
    "A [link reference](http://python.org).\n",
    "\n",
    "An internal reference.\n",
    "\n",
    "### Another section\n",
    "\n",
    "A reference to an [inline link](http://nipy.org)."
   ]
  }
 ],
 "metadata": {},
 "nbformat": 4,
 "nbformat_minor": 1
}