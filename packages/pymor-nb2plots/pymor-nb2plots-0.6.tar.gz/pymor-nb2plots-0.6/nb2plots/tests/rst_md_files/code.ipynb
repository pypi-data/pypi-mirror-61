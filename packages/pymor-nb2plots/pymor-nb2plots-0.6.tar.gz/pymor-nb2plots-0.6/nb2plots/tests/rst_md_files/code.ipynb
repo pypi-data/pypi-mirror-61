{
 "cells": [
  {
   "cell_type": "markdown",
   "metadata": {},
   "source": [
    "Here is some code:\n",
    "\n",
    "```python\n",
    "a = 1\n",
    "b = 2\n",
    "print(a + b)\n",
    "```\n",
    "\n",
    "Some intervening text, then more code:\n",
    "\n",
    "```c\n",
    "a = 1;\n",
    "b = 2;\n",
    "fprintf('%d\\n', a + b);\n",
    "```\n",
    "\n",
    "What do you think?"
   ]
  }
 ],
 "metadata": {},
 "nbformat": 4,
 "nbformat_minor": 1
}