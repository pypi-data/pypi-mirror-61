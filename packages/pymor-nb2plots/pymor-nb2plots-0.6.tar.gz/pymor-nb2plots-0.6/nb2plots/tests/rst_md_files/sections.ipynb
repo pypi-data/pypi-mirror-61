{
 "cells": [
  {
   "cell_type": "markdown",
   "metadata": {},
   "source": [
    "## Top section\n",
    "\n",
    "First paragraph.\n",
    "\n",
    "Second paragraph.\n",
    "\n",
    "Third paragraph.\n",
    "\n",
    "### H2 section\n",
    "\n",
    "More text.\n",
    "\n",
    "### H2 section again\n",
    "\n",
    "Continued text.\n",
    "\n",
    "#### H3 section\n",
    "\n",
    "Drones on.\n",
    "\n",
    "##### H4 section\n",
    "\n",
    "Sink-hole boring.\n",
    "\n",
    "#### H3 section again\n",
    "\n",
    "Still boring.\n",
    "\n",
    "### H2 section again\n",
    "\n",
    "As if from the start."
   ]
  }
 ],
 "metadata": {},
 "nbformat": 4,
 "nbformat_minor": 1
}