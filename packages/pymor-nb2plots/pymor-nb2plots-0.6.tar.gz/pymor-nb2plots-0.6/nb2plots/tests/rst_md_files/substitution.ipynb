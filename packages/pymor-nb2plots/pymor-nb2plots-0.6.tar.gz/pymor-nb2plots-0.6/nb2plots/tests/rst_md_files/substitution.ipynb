{
 "cells": [
  {
   "cell_type": "markdown",
   "metadata": {},
   "source": [
    "Here is a some *actual* text substituted value."
   ]
  }
 ],
 "metadata": {},
 "nbformat": 4,
 "nbformat_minor": 2
}