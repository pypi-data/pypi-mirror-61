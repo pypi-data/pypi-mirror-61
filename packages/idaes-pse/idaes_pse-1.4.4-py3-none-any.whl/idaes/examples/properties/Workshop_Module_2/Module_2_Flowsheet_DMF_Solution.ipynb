{
 "cells": [
  {
   "cell_type": "markdown",
   "metadata": {},
   "source": [
    "## Overview\n",
    "\n",
    "This notebook is based on a workshop tutorial originally given at FOCAPD in 2019.\n",
    "It demonstrated the following capabilities:\n",
    "\n",
    "- Construct a steady-state flowsheet using the IDAES unit model library\n",
    "- Connecting unit models in a  flowsheet using Arcs\n",
    "- Using the SequentialDecomposition tool to initialize a flowsheet with recycle\n",
    "- Fomulate and solve an optimization problem\n",
    "    - Defining an objective function\n",
    "    - Setting variable bounds\n",
    "    - Adding additional constraints \n",
    "\n",
    "Changes were made to use the notebook to demonstrate use of the IDAES Data Management Framework (DMF):\n",
    "- The underlying Python modules were adapted to use the DMF for loading property data\n",
    "- The optimization problem was removed to shorten the example"
   ]
  },
  {
   "cell_type": "markdown",
   "metadata": {},
   "source": [
    "## Problem Statement\n",
    "\n",
    "Hydrodealkylation is a chemical reaction that often involves reacting\n",
    "an aromatic hydrocarbon in the presence of hydrogen gas to form a\n",
    "simpler aromatic hydrocarbon devoid of functional groups,. In this\n",
    "example, toluene will be reacted with hydrogen gas at high temperatures\n",
    " to form benzene via the following reaction:\n",
    "\n",
    "**C<sub>6</sub>H<sub>5</sub>CH<sub>3</sub> + H<sub>2</sub> → C<sub>6</sub>H<sub>6</sub> + CH<sub>4</sub>**\n",
    "\n",
    "\n",
    "This reaction is often accompanied by an equilibrium side reaction\n",
    "which forms diphenyl, which we will neglect for this example.\n",
    "\n",
    "This example is based on the 1967 AIChE Student Contest problem as\n",
    "present by Douglas, J.M., Chemical  Design of Chemical Processes, 1988,\n",
    "McGraw-Hill.\n",
    "\n",
    "The flowsheet that we will be using for this module is shown below with the stream conditions. We will be processing toluene and hydrogen to produce at least 370 TPY of benzene. As shown in the flowsheet, there are two flash tanks, F101 to separate out the non-condensibles and F102 to further separate the benzene-toluene mixture to improve the benzene purity.  Note that typically a distillation column is required to obtain high purity benzene but that is beyond the scope of this workshop. The non-condensibles separated out in F101 will be partially recycled back to M101 and the rest will be either purged or combusted for power generation.We will assume ideal gas for this flowsheet. The properties required for this module are available in the same directory:\n",
    "\n",
    "- hda_ideal_VLE.py\n",
    "- hda_reaction.py\n",
    "\n",
    "The state variables chosen for the property package are **flows of component by phase, temperature and pressure**. The components considered are: **toluene, hydrogen, benzene and methane**. Therefore, every stream has 8 flow variables, 1 temperature and 1 pressure variable. \n",
    "\n",
    "### Data Management Framework\n",
    "\n",
    "In this version of the example, the DMF \"workspace\" is used to store these state variables. This involves the use of additional files:\n",
    "\n",
    "- config.yaml - DMF Configuration\n",
    "- resourcedb.json - The DMF's file-based datastore, where the values and their provenance are stored.\n"
   ]
  },
  {
   "cell_type": "markdown",
   "metadata": {},
   "source": [
    "![](module_2_flowsheet.png)"
   ]
  },
  {
   "cell_type": "markdown",
   "metadata": {},
   "source": [
    "Importing required pyomo and idaes components\n",
    "-----------\n",
    "To construct a flowsheet, we will need several components from the pyomo and idaes package. Let us first import the following components from Pyomo:\n",
    "- Constraint (to write constraints)\n",
    "- Var (to declare variables)\n",
    "- ConcreteModel (to create the concrete model object)\n",
    "- Expression (to evaluate values as a function of variables defined in the model)\n",
    "- Objective (to define an objective function for optimization)\n",
    "- SolverFactory (to solve the problem)\n",
    "- TransformationFactory (to apply certain transformations)\n",
    "- Arc (to connect two unit models)\n",
    "- SequentialDecomposition (to initialize the flowsheet in a sequential mode)\n",
    "\n",
    "For further details on these components, please refer to the pyomo documentation: https://pyomo.readthedocs.io/en/latest/\n"
   ]
  },
  {
   "cell_type": "code",
   "execution_count": 3,
   "metadata": {},
   "outputs": [],
   "source": [
    "from pyomo.environ import (Constraint,\n",
    "                           Var,\n",
    "                           ConcreteModel,\n",
    "                           Expression,\n",
    "                           Objective,\n",
    "                           SolverFactory,\n",
    "                           TransformationFactory,\n",
    "                           value)\n",
    "from pyomo.network import Arc, SequentialDecomposition"
   ]
  },
  {
   "cell_type": "markdown",
   "metadata": {},
   "source": [
    "From idaes, we will be needing the FlowsheetBlock and the following unit models:\n",
    "- Mixer\n",
    "- Heater\n",
    "- StoichiometricReactor\n",
    "- <span style=\"color:blue\">**Flash**</span>\n",
    "- Separator (splitter) \n",
    "- PressureChanger"
   ]
  },
  {
   "cell_type": "code",
   "execution_count": 4,
   "metadata": {},
   "outputs": [],
   "source": [
    "from idaes.core import FlowsheetBlock"
   ]
  },
  {
   "cell_type": "code",
   "execution_count": 5,
   "metadata": {},
   "outputs": [],
   "source": [
    "from idaes.unit_models import (PressureChanger,\n",
    "                               Mixer,\n",
    "                               Separator as Splitter,\n",
    "                               Heater,\n",
    "                               StoichiometricReactor)"
   ]
  },
  {
   "cell_type": "markdown",
   "metadata": {},
   "source": [
    "<div class=\"alert alert-block alert-info\">\n",
    "<b>Inline Exercise:</b>\n",
    "Now, import the remaining unit models highlighted in blue above and run the cell using `Shift+Enter` after typing in the code. \n",
    "</div>\n"
   ]
  },
  {
   "cell_type": "code",
   "execution_count": 6,
   "metadata": {},
   "outputs": [],
   "source": [
    "from idaes.unit_models import Flash"
   ]
  },
  {
   "cell_type": "markdown",
   "metadata": {},
   "source": [
    "We will also be needing some utility tools to put together the flowsheet and calculate the degrees of freedom. "
   ]
  },
  {
   "cell_type": "code",
   "execution_count": 7,
   "metadata": {},
   "outputs": [],
   "source": [
    "from idaes.unit_models.pressure_changer import ThermodynamicAssumption\n",
    "from idaes.core.util.model_statistics import degrees_of_freedom"
   ]
  },
  {
   "cell_type": "markdown",
   "metadata": {},
   "source": [
    "Importing required thermo and reaction package\n",
    "-----------\n"
   ]
  },
  {
   "cell_type": "markdown",
   "metadata": {},
   "source": [
    "The final set of imports are to import the thermo and reaction package for the HDA process. We have created a custom thermo package that assumes Ideal Gas with support for VLE. \n",
    "\n",
    "The reaction package here is very simple as we will be using only a StochiometricReactor and the reaction package consists of the stochiometric coefficients for the reaction and the parameter for the heat of reaction. \n",
    "\n",
    "Let us import the following modules and they are in the same directory as this jupyter notebook:\n",
    "      <ul>\n",
    "         <li>hda_ideal_VLE as thermo_props</li>\n",
    "         <li>hda_reaction as reaction_props </li>\n",
    "      </ul>\n",
    "</div>"
   ]
  },
  {
   "cell_type": "code",
   "execution_count": 3,
   "metadata": {},
   "outputs": [],
   "source": [
    "import hda_ideal_VLE as thermo_props\n",
    "import hda_reaction as reaction_props"
   ]
  },
  {
   "cell_type": "markdown",
   "metadata": {},
   "source": [
    "Constructing the Flowsheet\n",
    "----------------------------------\n",
    "\n",
    "We have now imported all the components, unit models, and property modules we need to construct a flowsheet. Let us create a ConcreteModel and add the flowsheet block as we did in module 1. "
   ]
  },
  {
   "cell_type": "code",
   "execution_count": 9,
   "metadata": {},
   "outputs": [],
   "source": [
    "m = ConcreteModel()\n",
    "m.fs = FlowsheetBlock(default={\"dynamic\": False})"
   ]
  },
  {
   "cell_type": "markdown",
   "metadata": {},
   "source": [
    "We now need to add the property packages to the flowsheet. Unlike Module 1, where we only had a thermo property package, for this flowsheet we will also need to add a reaction property package. "
   ]
  },
  {
   "cell_type": "code",
   "execution_count": 10,
   "metadata": {},
   "outputs": [],
   "source": [
    "m.fs.thermo_params = thermo_props.HDAParameterBlock()\n",
    "m.fs.reaction_params = reaction_props.HDAReactionParameterBlock(\n",
    "        default={\"property_package\": m.fs.thermo_params})"
   ]
  },
  {
   "cell_type": "markdown",
   "metadata": {},
   "source": [
    "## Viewing imported properties with the DMF"
   ]
  },
  {
   "cell_type": "markdown",
   "metadata": {},
   "source": [
    "Since the property package above used the DMF to load the constant values used for calculating property values, we can look at the provenance and data programmatically."
   ]
  },
  {
   "cell_type": "code",
   "execution_count": 11,
   "metadata": {},
   "outputs": [
    {
     "name": "stdout",
     "output_type": "stream",
     "text": [
      "Property dh_vap source: Reid, R. C., Prausnitz, J. M., & Poling, B. E. (1987). The properties of gases and liquids. ISBN: 9780070517998 Date: 1987\n",
      "Property dh_vap data:\n"
     ]
    },
    {
     "data": {
      "text/html": [
       "<div>\n",
       "<style scoped>\n",
       "    .dataframe tbody tr th:only-of-type {\n",
       "        vertical-align: middle;\n",
       "    }\n",
       "\n",
       "    .dataframe tbody tr th {\n",
       "        vertical-align: top;\n",
       "    }\n",
       "\n",
       "    .dataframe thead th {\n",
       "        text-align: right;\n",
       "    }\n",
       "</style>\n",
       "<table border=\"1\" class=\"dataframe\">\n",
       "  <thead>\n",
       "    <tr style=\"text-align: right;\">\n",
       "      <th></th>\n",
       "      <th>compound</th>\n",
       "      <th>value</th>\n",
       "    </tr>\n",
       "  </thead>\n",
       "  <tbody>\n",
       "    <tr>\n",
       "      <td>0</td>\n",
       "      <td>benzene</td>\n",
       "      <td>33870.0</td>\n",
       "    </tr>\n",
       "    <tr>\n",
       "      <td>1</td>\n",
       "      <td>toluene</td>\n",
       "      <td>38262.0</td>\n",
       "    </tr>\n",
       "    <tr>\n",
       "      <td>2</td>\n",
       "      <td>hydrogen</td>\n",
       "      <td>0.0</td>\n",
       "    </tr>\n",
       "    <tr>\n",
       "      <td>3</td>\n",
       "      <td>methane</td>\n",
       "      <td>0.0</td>\n",
       "    </tr>\n",
       "    <tr>\n",
       "      <td>4</td>\n",
       "      <td>diphenyl</td>\n",
       "      <td>62710.0</td>\n",
       "    </tr>\n",
       "  </tbody>\n",
       "</table>\n",
       "</div>"
      ],
      "text/plain": [
       "   compound    value\n",
       "0   benzene  33870.0\n",
       "1   toluene  38262.0\n",
       "2  hydrogen      0.0\n",
       "3   methane      0.0\n",
       "4  diphenyl  62710.0"
      ]
     },
     "execution_count": 11,
     "metadata": {},
     "output_type": "execute_result"
    }
   ],
   "source": [
    "from idaes.dmf.resource import TidyUnitData as TDU\n",
    "prop_name = 'dh_vap'\n",
    "rsrc = m.fs.thermo_params.get_property_resource(prop_name)\n",
    "print(f\"Property {prop_name} source: {rsrc.formatted_source()}\")\n",
    "print(f\"Property {prop_name} data:\")\n",
    "TDU(rsrc.data).table"
   ]
  },
  {
   "cell_type": "markdown",
   "metadata": {},
   "source": [
    "Adding Unit Models\n",
    "-----\n",
    "\n",
    "Let us start adding the unit models we have imported to the flowsheet. Here, we are adding the Mixer (assigned a name M101) and a Heater (assigned a name H101). Note that, all unit models need to be given a property package argument. In addition to that, there are several arguments depending on the unit model, please refer to the documentation for more details (https://idaes-pse.readthedocs.io/en/latest/models/index.html). For example, the Mixer unit model here is given a `list` consisting of names to the three inlets. "
   ]
  },
  {
   "cell_type": "code",
   "execution_count": 12,
   "metadata": {},
   "outputs": [],
   "source": [
    "m.fs.M101 = Mixer(default={\"property_package\": m.fs.thermo_params,\n",
    "                           \"inlet_list\": [\"toluene_feed\", \"hydrogen_feed\", \"vapor_recycle\"]})\n",
    "\n",
    "m.fs.H101 = Heater(default={\"property_package\": m.fs.thermo_params,\n",
    "                            \"has_pressure_change\": False,\n",
    "                            \"has_phase_equilibrium\": True})"
   ]
  },
  {
   "cell_type": "markdown",
   "metadata": {},
   "source": [
    "<div class=\"alert alert-block alert-info\">\n",
    "<b>Inline Exercise:</b>\n",
    "Let us now add the StoichiometricReactor(assign the name R101) and pass the following arguments:\n",
    "      <ul>\n",
    "         <li>\"property_package\": m.fs.thermo_params</li>\n",
    "         <li>\"reaction_package\": m.fs.reaction_params </li>\n",
    "         <li>\"has_heat_of_reaction\": True </li>\n",
    "         <li>\"has_heat_transfer\": True</li>\n",
    "         <li>\"has_pressure_change\": False</li>\n",
    "      </ul>\n",
    "</div>"
   ]
  },
  {
   "cell_type": "code",
   "execution_count": 13,
   "metadata": {},
   "outputs": [],
   "source": [
    "m.fs.R101 = StoichiometricReactor(\n",
    "            default={\"property_package\": m.fs.thermo_params,\n",
    "                     \"reaction_package\": m.fs.reaction_params,\n",
    "                     \"has_heat_of_reaction\": True,\n",
    "                     \"has_heat_transfer\": True,\n",
    "                     \"has_pressure_change\": False})"
   ]
  },
  {
   "cell_type": "markdown",
   "metadata": {},
   "source": [
    "Let us now add the Flash(assign the name F101) and pass the following arguments:\n",
    "      <ul>\n",
    "         <li>\"property_package\": m.fs.thermo_params</li>\n",
    "         <li>\"has_heat_transfer\": True</li>\n",
    "         <li>\"has_pressure_change\": False</li>\n",
    "      </ul>"
   ]
  },
  {
   "cell_type": "code",
   "execution_count": 14,
   "metadata": {},
   "outputs": [],
   "source": [
    "m.fs.F101 = Flash(default={\"property_package\": m.fs.thermo_params,\n",
    "                               \"has_heat_transfer\": True,\n",
    "                               \"has_pressure_change\": True})"
   ]
  },
  {
   "cell_type": "markdown",
   "metadata": {},
   "source": [
    "Let us now add the Splitter(S101), PressureChanger(C101) and the second Flash(F102). "
   ]
  },
  {
   "cell_type": "code",
   "execution_count": 15,
   "metadata": {},
   "outputs": [],
   "source": [
    "m.fs.S101 = Splitter(default={\"property_package\": m.fs.thermo_params,\n",
    "                               \"ideal_separation\": False,\n",
    "                               \"outlet_list\": [\"purge\", \"recycle\"]})\n",
    "    \n",
    "\n",
    "m.fs.C101 = PressureChanger(default={\n",
    "            \"property_package\": m.fs.thermo_params,\n",
    "            \"compressor\": True,\n",
    "            \"thermodynamic_assumption\": ThermodynamicAssumption.isothermal})\n",
    "    \n",
    "m.fs.F102 = Flash(default={\"property_package\": m.fs.thermo_params,\n",
    "                           \"has_heat_transfer\": True,\n",
    "                           \"has_pressure_change\": True})"
   ]
  },
  {
   "cell_type": "markdown",
   "metadata": {},
   "source": [
    "Connecting Unit Models using Arcs\n",
    "-----\n",
    "We have now added all the unit models we need to the flowsheet. However, we have not yet specifed how the units are to be connected. To do this, we will be using the `Arc` which is a pyomo component that takes in two arguments: `source` and `destination`. Let us connect the outlet of the mixer(M101) to the inlet of the heater(H101). "
   ]
  },
  {
   "cell_type": "code",
   "execution_count": 16,
   "metadata": {},
   "outputs": [],
   "source": [
    "m.fs.s03 = Arc(source=m.fs.M101.outlet, destination=m.fs.H101.inlet)"
   ]
  },
  {
   "cell_type": "markdown",
   "metadata": {},
   "source": [
    "\n",
    "![](module_2_flowsheet.png) \n",
    "\n",
    "<div class=\"alert alert-block alert-info\">\n",
    "<b>Inline Exercise:</b>\n",
    "Now, connect the H101 outlet to the R101 inlet using the cell above as a guide. \n",
    "</div>\n",
    "\n"
   ]
  },
  {
   "cell_type": "code",
   "execution_count": 17,
   "metadata": {},
   "outputs": [],
   "source": [
    "m.fs.s04 = Arc(source=m.fs.H101.outlet, destination=m.fs.R101.inlet)"
   ]
  },
  {
   "cell_type": "markdown",
   "metadata": {},
   "source": [
    "We will now be connecting the rest of the flowsheet as shown below. Notice how the outlet names are different for the flash tanks F101 and F102 as they have a vapor and a liquid outlet. "
   ]
  },
  {
   "cell_type": "code",
   "execution_count": 18,
   "metadata": {},
   "outputs": [],
   "source": [
    "m.fs.s05 = Arc(source=m.fs.R101.outlet, destination=m.fs.F101.inlet)\n",
    "m.fs.s06 = Arc(source=m.fs.F101.vap_outlet, destination=m.fs.S101.inlet)\n",
    "m.fs.s08 = Arc(source=m.fs.S101.recycle, destination=m.fs.C101.inlet)\n",
    "m.fs.s09 = Arc(source=m.fs.C101.outlet,\n",
    "               destination=m.fs.M101.vapor_recycle)\n",
    "m.fs.s10 = Arc(source=m.fs.F101.liq_outlet, destination=m.fs.F102.inlet)"
   ]
  },
  {
   "cell_type": "markdown",
   "metadata": {},
   "source": [
    "We have now connected the unit model block using the arcs. However, each of these arcs link to ports on the two unit models that are connected. In this case, the ports consist of the state variables that need to be linked between the unit models. Pyomo provides a convenient method to write these equality constraints for us between two ports and this is done as follows:"
   ]
  },
  {
   "cell_type": "code",
   "execution_count": 19,
   "metadata": {},
   "outputs": [],
   "source": [
    "TransformationFactory(\"network.expand_arcs\").apply_to(m)"
   ]
  },
  {
   "cell_type": "markdown",
   "metadata": {},
   "source": [
    "Adding expressions to compute purity and operating costs\n",
    "---\n",
    "In this section, we will add a few Expressions that allows us to evaluate the performance. Expressions provide a convenient way of calculating certain values that are a function of the variables defined in the model. For more details on Expressions, please refer to: https://pyomo.readthedocs.io/en/latest/pyomo_modeling_components/Expressions.html\n",
    "\n",
    "For this flowsheet, we are interested in computing the purity of the product Benzene stream (i.e. the mole fraction) and the operating cost which is a sum of the cooling and heating cost. "
   ]
  },
  {
   "cell_type": "markdown",
   "metadata": {},
   "source": [
    "Let us first add an Expression to compute the mole fraction of benzene in the `vap_outlet` of F102 which is our product stream. Please note that the var flow_mol_phase_comp has the index - [time, phase, component]. As this is a steady-state flowsheet, the time index by default is 0. The valid phases are [\"Liq\", \"Vap\"]. Similarly the valid component list is [\"benzene\", \"toluene\", \"hydrogen\", \"methane\"]."
   ]
  },
  {
   "cell_type": "code",
   "execution_count": 20,
   "metadata": {},
   "outputs": [],
   "source": [
    "m.fs.purity = Expression(\n",
    "        expr=m.fs.F102.vap_outlet.flow_mol_phase_comp[0, \"Vap\", \"benzene\"] /\n",
    "        (m.fs.F102.vap_outlet.flow_mol_phase_comp[0, \"Vap\", \"benzene\"]\n",
    "         + m.fs.F102.vap_outlet.flow_mol_phase_comp[0, \"Vap\", \"toluene\"]))"
   ]
  },
  {
   "cell_type": "markdown",
   "metadata": {},
   "source": [
    "Now, let us add an expression to compute the cooling cost assuming a cost of 0.212E-4 $/kW. Note that cooling utility is required for the reactor (R101) and the first flash (F101). "
   ]
  },
  {
   "cell_type": "code",
   "execution_count": 21,
   "metadata": {},
   "outputs": [],
   "source": [
    "m.fs.cooling_cost = Expression(expr=0.212e-7 * (-m.fs.F101.heat_duty[0]) +\n",
    "                                   0.212e-7 * (-m.fs.R101.heat_duty[0]))"
   ]
  },
  {
   "cell_type": "markdown",
   "metadata": {},
   "source": [
    "\n",
    "Now, let us add an expression to compute the heating cost assuming the utility cost as follows:\n",
    "      <ul>\n",
    "         <li>2.2E-4 dollars/kW for H101</li>\n",
    "         <li>1.9E-4 dollars/kW for F102</li>\n",
    "      </ul>\n",
    "Note that the heat duty is in units of watt (J/s). "
   ]
  },
  {
   "cell_type": "code",
   "execution_count": 22,
   "metadata": {},
   "outputs": [],
   "source": [
    "m.fs.heating_cost = Expression(expr=2.2e-7 * m.fs.H101.heat_duty[0] +\n",
    "                                   1.9e-7 * m.fs.F102.heat_duty[0])"
   ]
  },
  {
   "cell_type": "markdown",
   "metadata": {},
   "source": [
    "Let us now add an expression to compute the total operating cost per year which is basically the sum of the cooling and heating cost we defined above. "
   ]
  },
  {
   "cell_type": "code",
   "execution_count": 23,
   "metadata": {},
   "outputs": [],
   "source": [
    "m.fs.operating_cost = Expression(expr=(3600 * 24 * 365 *\n",
    "                                           (m.fs.heating_cost +\n",
    "                                            m.fs.cooling_cost)))"
   ]
  },
  {
   "cell_type": "markdown",
   "metadata": {},
   "source": [
    "Fixing feed conditions\n",
    "---\n",
    "\n",
    "Let us first check how many degrees of freedom exist for this flowsheet using the `degrees_of_freedom` tool we imported earlier. "
   ]
  },
  {
   "cell_type": "code",
   "execution_count": 24,
   "metadata": {},
   "outputs": [
    {
     "name": "stdout",
     "output_type": "stream",
     "text": [
      "49\n"
     ]
    }
   ],
   "source": [
    "print(degrees_of_freedom(m))"
   ]
  },
  {
   "cell_type": "markdown",
   "metadata": {},
   "source": [
    "We will now be fixing the toluene feed stream to the conditions shown in the flowsheet above. Please note that though this is a pure toluene feed, the remaining components are still assigned a very small non-zero value to help with convergence and initializing. "
   ]
  },
  {
   "cell_type": "code",
   "execution_count": 25,
   "metadata": {},
   "outputs": [],
   "source": [
    "m.fs.M101.toluene_feed.flow_mol_phase_comp[0, \"Vap\", \"benzene\"].fix(1e-5)\n",
    "m.fs.M101.toluene_feed.flow_mol_phase_comp[0, \"Vap\", \"toluene\"].fix(1e-5)\n",
    "m.fs.M101.toluene_feed.flow_mol_phase_comp[0, \"Vap\", \"hydrogen\"].fix(1e-5)\n",
    "m.fs.M101.toluene_feed.flow_mol_phase_comp[0, \"Vap\", \"methane\"].fix(1e-5)\n",
    "m.fs.M101.toluene_feed.flow_mol_phase_comp[0, \"Liq\", \"benzene\"].fix(1e-5)\n",
    "m.fs.M101.toluene_feed.flow_mol_phase_comp[0, \"Liq\", \"toluene\"].fix(0.30)\n",
    "m.fs.M101.toluene_feed.flow_mol_phase_comp[0, \"Liq\", \"hydrogen\"].fix(1e-5)\n",
    "m.fs.M101.toluene_feed.flow_mol_phase_comp[0, \"Liq\", \"methane\"].fix(1e-5)\n",
    "m.fs.M101.toluene_feed.temperature.fix(303.2)\n",
    "m.fs.M101.toluene_feed.pressure.fix(350000)"
   ]
  },
  {
   "cell_type": "markdown",
   "metadata": {},
   "source": [
    "\n",
    "Similarly, let us fix the hydrogen feed to the following conditions in the next cell:\n",
    "      <ul>\n",
    "         <li>F<sub>H2</sub> = 0.30 mol/s</li>\n",
    "         <li>F<sub>CH4</sub> = 0.02 mol/s</li>\n",
    "         <li>Remaining components = 1e-5 mol/s</li>\n",
    "         <li>T = 303.2 K</li>\n",
    "         <li>P = 350000 Pa</li>\n",
    "      </ul>\n",
    "\n"
   ]
  },
  {
   "cell_type": "code",
   "execution_count": 26,
   "metadata": {},
   "outputs": [],
   "source": [
    "m.fs.M101.hydrogen_feed.flow_mol_phase_comp[0, \"Vap\", \"benzene\"].fix(1e-5)\n",
    "m.fs.M101.hydrogen_feed.flow_mol_phase_comp[0, \"Vap\", \"toluene\"].fix(1e-5)\n",
    "m.fs.M101.hydrogen_feed.flow_mol_phase_comp[0, \"Vap\", \"hydrogen\"].fix(0.30)\n",
    "m.fs.M101.hydrogen_feed.flow_mol_phase_comp[0, \"Vap\", \"methane\"].fix(0.02)\n",
    "m.fs.M101.hydrogen_feed.flow_mol_phase_comp[0, \"Liq\", \"benzene\"].fix(1e-5)\n",
    "m.fs.M101.hydrogen_feed.flow_mol_phase_comp[0, \"Liq\", \"toluene\"].fix(1e-5)\n",
    "m.fs.M101.hydrogen_feed.flow_mol_phase_comp[0, \"Liq\", \"hydrogen\"].fix(1e-5)\n",
    "m.fs.M101.hydrogen_feed.flow_mol_phase_comp[0, \"Liq\", \"methane\"].fix(1e-5)\n",
    "m.fs.M101.hydrogen_feed.temperature.fix(303.2)\n",
    "m.fs.M101.hydrogen_feed.pressure.fix(350000)"
   ]
  },
  {
   "cell_type": "markdown",
   "metadata": {},
   "source": [
    "Fixing unit model specifications\n",
    "---\n",
    "\n",
    "Now that we have fixed our inlet feed conditions, we will now be fixing the operating conditions for the unit models in the flowsheet. Let us set set the H101 outlet temperature to 600 K. "
   ]
  },
  {
   "cell_type": "code",
   "execution_count": 27,
   "metadata": {},
   "outputs": [],
   "source": [
    "m.fs.H101.outlet.temperature.fix(600)"
   ]
  },
  {
   "cell_type": "markdown",
   "metadata": {},
   "source": [
    "For the StoichiometricReactor, we have to define the conversion in terms of toluene. This requires us to create a new variable for specifying the conversion and adding a Constraint that defines the conversion with respect to toluene. The second degree of freedom for the reactor is to define the heat duty. In this case, let us assume the reactor to be adiabatic i.e. Q = 0. "
   ]
  },
  {
   "cell_type": "code",
   "execution_count": 28,
   "metadata": {},
   "outputs": [],
   "source": [
    "m.fs.R101.conversion = Var(initialize=0.75, bounds=(0, 1))\n",
    "\n",
    "m.fs.R101.conv_constraint = Constraint(\n",
    "    expr=m.fs.R101.conversion*m.fs.R101.inlet.\n",
    "    flow_mol_phase_comp[0, \"Vap\", \"toluene\"] ==\n",
    "    (m.fs.R101.inlet.flow_mol_phase_comp[0, \"Vap\", \"toluene\"] -\n",
    "     m.fs.R101.outlet.flow_mol_phase_comp[0, \"Vap\", \"toluene\"]))\n",
    "\n",
    "m.fs.R101.conversion.fix(0.75)\n",
    "m.fs.R101.heat_duty.fix(0)"
   ]
  },
  {
   "cell_type": "markdown",
   "metadata": {},
   "source": [
    "The Flash conditions for F101 can be set as follows. "
   ]
  },
  {
   "cell_type": "code",
   "execution_count": 29,
   "metadata": {},
   "outputs": [],
   "source": [
    "m.fs.F101.vap_outlet.temperature.fix(325.0)\n",
    "m.fs.F101.deltaP.fix(0)"
   ]
  },
  {
   "cell_type": "markdown",
   "metadata": {},
   "source": [
    "<div class=\"alert alert-block alert-info\">\n",
    "<b>Inline Exercise:</b>\n",
    "Set the conditions for Flash F102 to the following conditions:\n",
    "      <ul>\n",
    "         <li>T = 375 K</li>\n",
    "         <li>deltaP = -200000</li>\n",
    "      </ul>\n",
    "\n",
    "Use Shift+Enter to run the cell once you have typed in your code. \n",
    "</div>"
   ]
  },
  {
   "cell_type": "code",
   "execution_count": 30,
   "metadata": {},
   "outputs": [],
   "source": [
    "m.fs.F102.vap_outlet.temperature.fix(375)\n",
    "m.fs.F102.deltaP.fix(-200000)"
   ]
  },
  {
   "cell_type": "markdown",
   "metadata": {},
   "source": [
    "Let us fix the purge split fraction to 20% and the outlet pressure of the compressor is set to 350000 Pa. "
   ]
  },
  {
   "cell_type": "code",
   "execution_count": 31,
   "metadata": {},
   "outputs": [],
   "source": [
    "m.fs.S101.split_fraction[0, \"purge\"].fix(0.2)\n",
    "m.fs.C101.outlet.pressure.fix(350000)"
   ]
  },
  {
   "cell_type": "markdown",
   "metadata": {},
   "source": [
    "<div class=\"alert alert-block alert-info\">\n",
    "<b>Inline Exercise:</b>\n",
    "We have now defined all the feed conditions and the inputs required for the unit models. The system should now have 0 degrees of freedom i.e. should be a square problem. Please check that the degrees of freedom is 0. \n",
    "\n",
    "Use Shift+Enter to run the cell once you have typed in your code. \n",
    "</div>"
   ]
  },
  {
   "cell_type": "code",
   "execution_count": 32,
   "metadata": {},
   "outputs": [
    {
     "name": "stdout",
     "output_type": "stream",
     "text": [
      "20\n"
     ]
    }
   ],
   "source": [
    "print(degrees_of_freedom(m))"
   ]
  },
  {
   "cell_type": "markdown",
   "metadata": {},
   "source": [
    "Initialization\n",
    "------------------\n",
    "\n",
    "This section will demonstrate how to use the built-in sequential decomposition tool to initialize our flowsheet.\n",
    "\n",
    "![](module_2_flowsheet.png) \n"
   ]
  },
  {
   "cell_type": "markdown",
   "metadata": {},
   "source": [
    "Let us first create an object for the SequentialDecomposition and specify our options for this. "
   ]
  },
  {
   "cell_type": "code",
   "execution_count": 33,
   "metadata": {},
   "outputs": [],
   "source": [
    "seq = SequentialDecomposition()\n",
    "seq.options.select_tear_method = \"heuristic\"\n",
    "seq.options.tear_method = \"Wegstein\"\n",
    "seq.options.iterLim = 5\n",
    "\n",
    "# Using the SD tool\n",
    "G = seq.create_graph(m)\n",
    "heuristic_tear_set = seq.tear_set_arcs(G, method=\"heuristic\")\n",
    "order = seq.calculation_order(G)"
   ]
  },
  {
   "cell_type": "markdown",
   "metadata": {},
   "source": [
    "Which is the tear stream? Display tear set and order"
   ]
  },
  {
   "cell_type": "code",
   "execution_count": 34,
   "metadata": {},
   "outputs": [
    {
     "name": "stdout",
     "output_type": "stream",
     "text": [
      "fs.s03\n"
     ]
    }
   ],
   "source": [
    "for o in heuristic_tear_set:\n",
    "    print(o.name)"
   ]
  },
  {
   "cell_type": "markdown",
   "metadata": {},
   "source": [
    "What sequence did the SD tool determine to solve this flowsheet with the least number of tears? "
   ]
  },
  {
   "cell_type": "code",
   "execution_count": 35,
   "metadata": {
    "scrolled": true
   },
   "outputs": [
    {
     "name": "stdout",
     "output_type": "stream",
     "text": [
      "fs.H101\n",
      "fs.R101\n",
      "fs.F101\n",
      "fs.S101\n",
      "fs.C101\n",
      "fs.M101\n"
     ]
    }
   ],
   "source": [
    "for o in order:\n",
    "    print(o[0].name)"
   ]
  },
  {
   "cell_type": "markdown",
   "metadata": {},
   "source": [
    " \n",
    "\n",
    "![](module_2_tear_stream.png) \n",
    "\n",
    "\n",
    "The SequentialDecomposition tool has determined that the tear stream is the mixer outlet. We will need to provide a reasonable guess for this."
   ]
  },
  {
   "cell_type": "code",
   "execution_count": 36,
   "metadata": {},
   "outputs": [],
   "source": [
    "tear_guesses = {\n",
    "        \"flow_mol_phase_comp\": {\n",
    "                (0, \"Vap\", \"benzene\"): 1e-5,\n",
    "                (0, \"Vap\", \"toluene\"): 1e-5,\n",
    "                (0, \"Vap\", \"hydrogen\"): 0.30,\n",
    "                (0, \"Vap\", \"methane\"): 0.02,\n",
    "                (0, \"Liq\", \"benzene\"): 1e-5,\n",
    "                (0, \"Liq\", \"toluene\"): 0.30,\n",
    "                (0, \"Liq\", \"hydrogen\"): 1e-5,\n",
    "                (0, \"Liq\", \"methane\"): 1e-5},\n",
    "        \"temperature\": {0: 303},\n",
    "        \"pressure\": {0: 350000}}\n",
    "\n",
    "# Pass the tear_guess to the SD tool\n",
    "seq.set_guesses_for(m.fs.H101.inlet, tear_guesses)"
   ]
  },
  {
   "cell_type": "markdown",
   "metadata": {},
   "source": [
    "Next, we need to tell the tool how to initialize a particular unit. We will be writing a python function which takes in a \"unit\" and calls the initialize method on that unit. "
   ]
  },
  {
   "cell_type": "code",
   "execution_count": 37,
   "metadata": {},
   "outputs": [],
   "source": [
    "def function(unit):\n",
    "        unit.initialize(outlvl=1)"
   ]
  },
  {
   "cell_type": "markdown",
   "metadata": {},
   "source": [
    "We are now ready to initialize our flowsheet in a sequential mode. Note that we specifically set the iteration limit to be 5 as we are trying to use this tool only to get a good set of initial values such that IPOPT can then take over and solve this flowsheet for us. "
   ]
  },
  {
   "cell_type": "code",
   "execution_count": 38,
   "metadata": {},
   "outputs": [
    {
     "name": "stdout",
     "output_type": "stream",
     "text": [
      "2019-09-08 11:30:07 - INFO - idaes.examples.properties.Workshop_Module_2.hda_ideal_VLE - Starting fs.H101.control_volume.properties_in initialization\n",
      "2019-09-08 11:30:07 - INFO - idaes.examples.properties.Workshop_Module_2.hda_ideal_VLE - Starting fs.H101.control_volume.properties_out initialization\n",
      "2019-09-08 11:30:07 - INFO - idaes.core.unit_model - fs.H101 Initialization Step 1 Complete.\n",
      "2019-09-08 11:30:07 - INFO - idaes.core.unit_model - fs.H101 Initialization Step 2 Complete.\n",
      "2019-09-08 11:30:07 - INFO - idaes.core.unit_model - fs.H101 Initialization Complete.\n",
      "2019-09-08 11:30:07 - INFO - idaes.examples.properties.Workshop_Module_2.hda_ideal_VLE - Starting fs.R101.control_volume.properties_in initialization\n",
      "2019-09-08 11:30:07 - INFO - idaes.examples.properties.Workshop_Module_2.hda_ideal_VLE - Starting fs.R101.control_volume.properties_out initialization\n",
      "2019-09-08 11:30:07 - INFO - idaes.core.unit_model - fs.R101 Initialization Step 1 Complete.\n",
      "2019-09-08 11:30:07 - INFO - idaes.core.unit_model - fs.R101 Initialization Step 2 Complete.\n",
      "2019-09-08 11:30:07 - INFO - idaes.core.unit_model - fs.R101 Initialization Complete.\n",
      "2019-09-08 11:30:07 - INFO - idaes.examples.properties.Workshop_Module_2.hda_ideal_VLE - Starting fs.F101.control_volume.properties_in initialization\n",
      "2019-09-08 11:30:07 - INFO - idaes.examples.properties.Workshop_Module_2.hda_ideal_VLE - Starting fs.F101.control_volume.properties_out initialization\n",
      "2019-09-08 11:30:08 - INFO - idaes.core.unit_model - fs.F101 Initialization Step 1 Complete.\n",
      "2019-09-08 11:30:08 - INFO - idaes.core.unit_model - fs.F101 Initialization Step 2 Complete.\n",
      "2019-09-08 11:30:08 - INFO - idaes.core.unit_model - fs.F101 Initialization Complete.\n",
      "2019-09-08 11:30:08 - INFO - idaes.examples.properties.Workshop_Module_2.hda_ideal_VLE - Starting fs.S101.mixed_state initialization\n",
      "2019-09-08 11:30:08 - INFO - idaes.examples.properties.Workshop_Module_2.hda_ideal_VLE - Starting fs.S101.purge_state initialization\n",
      "2019-09-08 11:30:08 - INFO - idaes.examples.properties.Workshop_Module_2.hda_ideal_VLE - Starting fs.S101.recycle_state initialization\n",
      "2019-09-08 11:30:08 - INFO - idaes.unit_models.separator - fs.S101 Initialization Complete.\n",
      "2019-09-08 11:30:08 - INFO - idaes.examples.properties.Workshop_Module_2.hda_ideal_VLE - Starting fs.F102.control_volume.properties_in initialization\n",
      "2019-09-08 11:30:08 - INFO - idaes.examples.properties.Workshop_Module_2.hda_ideal_VLE - Starting fs.F102.control_volume.properties_out initialization\n",
      "2019-09-08 11:30:08 - INFO - idaes.core.unit_model - fs.F102 Initialization Step 1 Complete.\n",
      "2019-09-08 11:30:08 - INFO - idaes.core.unit_model - fs.F102 Initialization Step 2 Complete.\n",
      "2019-09-08 11:30:08 - INFO - idaes.core.unit_model - fs.F102 Initialization Complete.\n",
      "2019-09-08 11:30:08 - INFO - idaes.examples.properties.Workshop_Module_2.hda_ideal_VLE - Starting fs.C101.control_volume.properties_in initialization\n",
      "2019-09-08 11:30:08 - INFO - idaes.examples.properties.Workshop_Module_2.hda_ideal_VLE - Starting fs.C101.control_volume.properties_out initialization\n",
      "2019-09-08 11:30:08 - INFO - idaes.core.unit_model - fs.C101 Initialization Step 1 Complete.\n",
      "2019-09-08 11:30:08 - INFO - idaes.core.unit_model - fs.C101 Initialization Step 2 Complete.\n",
      "2019-09-08 11:30:08 - INFO - idaes.core.unit_model - fs.C101 Initialization Complete.\n",
      "2019-09-08 11:30:08 - INFO - idaes.examples.properties.Workshop_Module_2.hda_ideal_VLE - Starting fs.M101.toluene_feed_state initialization\n",
      "2019-09-08 11:30:08 - INFO - idaes.examples.properties.Workshop_Module_2.hda_ideal_VLE - Starting fs.M101.hydrogen_feed_state initialization\n",
      "2019-09-08 11:30:08 - INFO - idaes.examples.properties.Workshop_Module_2.hda_ideal_VLE - Starting fs.M101.vapor_recycle_state initialization\n",
      "2019-09-08 11:30:08 - INFO - idaes.examples.properties.Workshop_Module_2.hda_ideal_VLE - Starting fs.M101.mixed_state initialization\n",
      "2019-09-08 11:30:08 - INFO - idaes.unit_models.mixer - fs.M101 Initialization Complete.\n",
      "2019-09-08 11:30:08 - INFO - idaes.examples.properties.Workshop_Module_2.hda_ideal_VLE - Starting fs.H101.control_volume.properties_in initialization\n",
      "2019-09-08 11:30:08 - INFO - idaes.examples.properties.Workshop_Module_2.hda_ideal_VLE - Starting fs.H101.control_volume.properties_out initialization\n",
      "2019-09-08 11:30:08 - INFO - idaes.core.unit_model - fs.H101 Initialization Step 1 Complete.\n",
      "2019-09-08 11:30:08 - INFO - idaes.core.unit_model - fs.H101 Initialization Step 2 Complete.\n",
      "2019-09-08 11:30:08 - INFO - idaes.core.unit_model - fs.H101 Initialization Complete.\n",
      "2019-09-08 11:30:08 - INFO - idaes.examples.properties.Workshop_Module_2.hda_ideal_VLE - Starting fs.R101.control_volume.properties_in initialization\n",
      "2019-09-08 11:30:08 - INFO - idaes.examples.properties.Workshop_Module_2.hda_ideal_VLE - Starting fs.R101.control_volume.properties_out initialization\n",
      "2019-09-08 11:30:08 - INFO - idaes.core.unit_model - fs.R101 Initialization Step 1 Complete.\n",
      "2019-09-08 11:30:08 - INFO - idaes.core.unit_model - fs.R101 Initialization Step 2 Complete.\n",
      "2019-09-08 11:30:08 - INFO - idaes.core.unit_model - fs.R101 Initialization Complete.\n",
      "2019-09-08 11:30:08 - INFO - idaes.examples.properties.Workshop_Module_2.hda_ideal_VLE - Starting fs.F101.control_volume.properties_in initialization\n",
      "2019-09-08 11:30:08 - INFO - idaes.examples.properties.Workshop_Module_2.hda_ideal_VLE - Starting fs.F101.control_volume.properties_out initialization\n",
      "2019-09-08 11:30:08 - INFO - idaes.core.unit_model - fs.F101 Initialization Step 1 Complete.\n",
      "2019-09-08 11:30:08 - INFO - idaes.core.unit_model - fs.F101 Initialization Step 2 Complete.\n",
      "2019-09-08 11:30:08 - INFO - idaes.core.unit_model - fs.F101 Initialization Complete.\n",
      "2019-09-08 11:30:08 - INFO - idaes.examples.properties.Workshop_Module_2.hda_ideal_VLE - Starting fs.S101.mixed_state initialization\n",
      "2019-09-08 11:30:08 - INFO - idaes.examples.properties.Workshop_Module_2.hda_ideal_VLE - Starting fs.S101.purge_state initialization\n",
      "2019-09-08 11:30:08 - INFO - idaes.examples.properties.Workshop_Module_2.hda_ideal_VLE - Starting fs.S101.recycle_state initialization\n",
      "2019-09-08 11:30:08 - INFO - idaes.unit_models.separator - fs.S101 Initialization Complete.\n",
      "2019-09-08 11:30:08 - INFO - idaes.examples.properties.Workshop_Module_2.hda_ideal_VLE - Starting fs.C101.control_volume.properties_in initialization\n",
      "2019-09-08 11:30:09 - INFO - idaes.examples.properties.Workshop_Module_2.hda_ideal_VLE - Starting fs.C101.control_volume.properties_out initialization\n",
      "2019-09-08 11:30:09 - INFO - idaes.core.unit_model - fs.C101 Initialization Step 1 Complete.\n",
      "2019-09-08 11:30:09 - INFO - idaes.core.unit_model - fs.C101 Initialization Step 2 Complete.\n",
      "2019-09-08 11:30:09 - INFO - idaes.core.unit_model - fs.C101 Initialization Complete.\n",
      "2019-09-08 11:30:09 - INFO - idaes.examples.properties.Workshop_Module_2.hda_ideal_VLE - Starting fs.M101.toluene_feed_state initialization\n",
      "2019-09-08 11:30:09 - INFO - idaes.examples.properties.Workshop_Module_2.hda_ideal_VLE - Starting fs.M101.hydrogen_feed_state initialization\n",
      "2019-09-08 11:30:09 - INFO - idaes.examples.properties.Workshop_Module_2.hda_ideal_VLE - Starting fs.M101.vapor_recycle_state initialization\n",
      "2019-09-08 11:30:09 - INFO - idaes.examples.properties.Workshop_Module_2.hda_ideal_VLE - Starting fs.M101.mixed_state initialization\n",
      "2019-09-08 11:30:09 - INFO - idaes.unit_models.mixer - fs.M101 Initialization Complete.\n",
      "2019-09-08 11:30:09 - INFO - idaes.examples.properties.Workshop_Module_2.hda_ideal_VLE - Starting fs.H101.control_volume.properties_in initialization\n",
      "2019-09-08 11:30:09 - INFO - idaes.examples.properties.Workshop_Module_2.hda_ideal_VLE - Starting fs.H101.control_volume.properties_out initialization\n",
      "2019-09-08 11:30:09 - INFO - idaes.core.unit_model - fs.H101 Initialization Step 1 Complete.\n",
      "2019-09-08 11:30:09 - INFO - idaes.core.unit_model - fs.H101 Initialization Step 2 Complete.\n",
      "2019-09-08 11:30:09 - INFO - idaes.core.unit_model - fs.H101 Initialization Complete.\n",
      "2019-09-08 11:30:09 - INFO - idaes.examples.properties.Workshop_Module_2.hda_ideal_VLE - Starting fs.R101.control_volume.properties_in initialization\n",
      "2019-09-08 11:30:09 - INFO - idaes.examples.properties.Workshop_Module_2.hda_ideal_VLE - Starting fs.R101.control_volume.properties_out initialization\n"
     ]
    },
    {
     "name": "stdout",
     "output_type": "stream",
     "text": [
      "2019-09-08 11:30:09 - INFO - idaes.core.unit_model - fs.R101 Initialization Step 1 Complete.\n",
      "2019-09-08 11:30:09 - INFO - idaes.core.unit_model - fs.R101 Initialization Step 2 Complete.\n",
      "2019-09-08 11:30:09 - INFO - idaes.core.unit_model - fs.R101 Initialization Complete.\n",
      "2019-09-08 11:30:09 - INFO - idaes.examples.properties.Workshop_Module_2.hda_ideal_VLE - Starting fs.F101.control_volume.properties_in initialization\n",
      "2019-09-08 11:30:09 - INFO - idaes.examples.properties.Workshop_Module_2.hda_ideal_VLE - Starting fs.F101.control_volume.properties_out initialization\n",
      "2019-09-08 11:30:09 - INFO - idaes.core.unit_model - fs.F101 Initialization Step 1 Complete.\n",
      "2019-09-08 11:30:09 - INFO - idaes.core.unit_model - fs.F101 Initialization Step 2 Complete.\n",
      "2019-09-08 11:30:09 - INFO - idaes.core.unit_model - fs.F101 Initialization Complete.\n",
      "2019-09-08 11:30:09 - INFO - idaes.examples.properties.Workshop_Module_2.hda_ideal_VLE - Starting fs.S101.mixed_state initialization\n",
      "2019-09-08 11:30:09 - INFO - idaes.examples.properties.Workshop_Module_2.hda_ideal_VLE - Starting fs.S101.purge_state initialization\n",
      "2019-09-08 11:30:09 - INFO - idaes.examples.properties.Workshop_Module_2.hda_ideal_VLE - Starting fs.S101.recycle_state initialization\n",
      "2019-09-08 11:30:09 - INFO - idaes.unit_models.separator - fs.S101 Initialization Complete.\n",
      "2019-09-08 11:30:09 - INFO - idaes.examples.properties.Workshop_Module_2.hda_ideal_VLE - Starting fs.C101.control_volume.properties_in initialization\n",
      "2019-09-08 11:30:09 - INFO - idaes.examples.properties.Workshop_Module_2.hda_ideal_VLE - Starting fs.C101.control_volume.properties_out initialization\n",
      "2019-09-08 11:30:09 - INFO - idaes.core.unit_model - fs.C101 Initialization Step 1 Complete.\n",
      "2019-09-08 11:30:09 - INFO - idaes.core.unit_model - fs.C101 Initialization Step 2 Complete.\n",
      "2019-09-08 11:30:09 - INFO - idaes.core.unit_model - fs.C101 Initialization Complete.\n",
      "2019-09-08 11:30:09 - INFO - idaes.examples.properties.Workshop_Module_2.hda_ideal_VLE - Starting fs.M101.toluene_feed_state initialization\n",
      "2019-09-08 11:30:09 - INFO - idaes.examples.properties.Workshop_Module_2.hda_ideal_VLE - Starting fs.M101.hydrogen_feed_state initialization\n",
      "2019-09-08 11:30:09 - INFO - idaes.examples.properties.Workshop_Module_2.hda_ideal_VLE - Starting fs.M101.vapor_recycle_state initialization\n",
      "2019-09-08 11:30:09 - INFO - idaes.examples.properties.Workshop_Module_2.hda_ideal_VLE - Starting fs.M101.mixed_state initialization\n",
      "2019-09-08 11:30:09 - INFO - idaes.unit_models.mixer - fs.M101 Initialization Complete.\n",
      "2019-09-08 11:30:09 - INFO - idaes.examples.properties.Workshop_Module_2.hda_ideal_VLE - Starting fs.H101.control_volume.properties_in initialization\n",
      "2019-09-08 11:30:09 - INFO - idaes.examples.properties.Workshop_Module_2.hda_ideal_VLE - Starting fs.H101.control_volume.properties_out initialization\n",
      "2019-09-08 11:30:09 - INFO - idaes.core.unit_model - fs.H101 Initialization Step 1 Complete.\n",
      "2019-09-08 11:30:10 - INFO - idaes.core.unit_model - fs.H101 Initialization Step 2 Complete.\n",
      "2019-09-08 11:30:10 - INFO - idaes.core.unit_model - fs.H101 Initialization Complete.\n",
      "2019-09-08 11:30:10 - INFO - idaes.examples.properties.Workshop_Module_2.hda_ideal_VLE - Starting fs.R101.control_volume.properties_in initialization\n",
      "2019-09-08 11:30:10 - INFO - idaes.examples.properties.Workshop_Module_2.hda_ideal_VLE - Starting fs.R101.control_volume.properties_out initialization\n",
      "2019-09-08 11:30:10 - INFO - idaes.core.unit_model - fs.R101 Initialization Step 1 Complete.\n",
      "2019-09-08 11:30:10 - INFO - idaes.core.unit_model - fs.R101 Initialization Step 2 Complete.\n",
      "2019-09-08 11:30:10 - INFO - idaes.core.unit_model - fs.R101 Initialization Complete.\n",
      "2019-09-08 11:30:10 - INFO - idaes.examples.properties.Workshop_Module_2.hda_ideal_VLE - Starting fs.F101.control_volume.properties_in initialization\n",
      "2019-09-08 11:30:10 - INFO - idaes.examples.properties.Workshop_Module_2.hda_ideal_VLE - Starting fs.F101.control_volume.properties_out initialization\n",
      "2019-09-08 11:30:10 - INFO - idaes.core.unit_model - fs.F101 Initialization Step 1 Complete.\n",
      "2019-09-08 11:30:10 - INFO - idaes.core.unit_model - fs.F101 Initialization Step 2 Complete.\n",
      "2019-09-08 11:30:10 - INFO - idaes.core.unit_model - fs.F101 Initialization Complete.\n",
      "2019-09-08 11:30:10 - INFO - idaes.examples.properties.Workshop_Module_2.hda_ideal_VLE - Starting fs.S101.mixed_state initialization\n",
      "2019-09-08 11:30:10 - INFO - idaes.examples.properties.Workshop_Module_2.hda_ideal_VLE - Starting fs.S101.purge_state initialization\n",
      "2019-09-08 11:30:10 - INFO - idaes.examples.properties.Workshop_Module_2.hda_ideal_VLE - Starting fs.S101.recycle_state initialization\n",
      "2019-09-08 11:30:10 - INFO - idaes.unit_models.separator - fs.S101 Initialization Complete.\n",
      "2019-09-08 11:30:10 - INFO - idaes.examples.properties.Workshop_Module_2.hda_ideal_VLE - Starting fs.C101.control_volume.properties_in initialization\n",
      "2019-09-08 11:30:10 - INFO - idaes.examples.properties.Workshop_Module_2.hda_ideal_VLE - Starting fs.C101.control_volume.properties_out initialization\n",
      "2019-09-08 11:30:10 - INFO - idaes.core.unit_model - fs.C101 Initialization Step 1 Complete.\n",
      "2019-09-08 11:30:10 - INFO - idaes.core.unit_model - fs.C101 Initialization Step 2 Complete.\n",
      "2019-09-08 11:30:10 - INFO - idaes.core.unit_model - fs.C101 Initialization Complete.\n",
      "2019-09-08 11:30:10 - INFO - idaes.examples.properties.Workshop_Module_2.hda_ideal_VLE - Starting fs.M101.toluene_feed_state initialization\n",
      "2019-09-08 11:30:10 - INFO - idaes.examples.properties.Workshop_Module_2.hda_ideal_VLE - Starting fs.M101.hydrogen_feed_state initialization\n",
      "2019-09-08 11:30:10 - INFO - idaes.examples.properties.Workshop_Module_2.hda_ideal_VLE - Starting fs.M101.vapor_recycle_state initialization\n",
      "2019-09-08 11:30:10 - INFO - idaes.examples.properties.Workshop_Module_2.hda_ideal_VLE - Starting fs.M101.mixed_state initialization\n",
      "2019-09-08 11:30:10 - INFO - idaes.unit_models.mixer - fs.M101 Initialization Complete.\n",
      "2019-09-08 11:30:10 - INFO - idaes.examples.properties.Workshop_Module_2.hda_ideal_VLE - Starting fs.H101.control_volume.properties_in initialization\n",
      "2019-09-08 11:30:10 - INFO - idaes.examples.properties.Workshop_Module_2.hda_ideal_VLE - Starting fs.H101.control_volume.properties_out initialization\n",
      "2019-09-08 11:30:10 - INFO - idaes.core.unit_model - fs.H101 Initialization Step 1 Complete.\n",
      "2019-09-08 11:30:10 - INFO - idaes.core.unit_model - fs.H101 Initialization Step 2 Complete.\n",
      "2019-09-08 11:30:10 - INFO - idaes.core.unit_model - fs.H101 Initialization Complete.\n",
      "2019-09-08 11:30:10 - INFO - idaes.examples.properties.Workshop_Module_2.hda_ideal_VLE - Starting fs.R101.control_volume.properties_in initialization\n",
      "2019-09-08 11:30:10 - INFO - idaes.examples.properties.Workshop_Module_2.hda_ideal_VLE - Starting fs.R101.control_volume.properties_out initialization\n",
      "2019-09-08 11:30:10 - INFO - idaes.core.unit_model - fs.R101 Initialization Step 1 Complete.\n",
      "2019-09-08 11:30:10 - INFO - idaes.core.unit_model - fs.R101 Initialization Step 2 Complete.\n",
      "2019-09-08 11:30:10 - INFO - idaes.core.unit_model - fs.R101 Initialization Complete.\n",
      "2019-09-08 11:30:10 - INFO - idaes.examples.properties.Workshop_Module_2.hda_ideal_VLE - Starting fs.F101.control_volume.properties_in initialization\n",
      "2019-09-08 11:30:10 - INFO - idaes.examples.properties.Workshop_Module_2.hda_ideal_VLE - Starting fs.F101.control_volume.properties_out initialization\n",
      "2019-09-08 11:30:10 - INFO - idaes.core.unit_model - fs.F101 Initialization Step 1 Complete.\n",
      "2019-09-08 11:30:10 - INFO - idaes.core.unit_model - fs.F101 Initialization Step 2 Complete.\n",
      "2019-09-08 11:30:10 - INFO - idaes.core.unit_model - fs.F101 Initialization Complete.\n",
      "2019-09-08 11:30:10 - INFO - idaes.examples.properties.Workshop_Module_2.hda_ideal_VLE - Starting fs.S101.mixed_state initialization\n",
      "2019-09-08 11:30:10 - INFO - idaes.examples.properties.Workshop_Module_2.hda_ideal_VLE - Starting fs.S101.purge_state initialization\n",
      "2019-09-08 11:30:10 - INFO - idaes.examples.properties.Workshop_Module_2.hda_ideal_VLE - Starting fs.S101.recycle_state initialization\n",
      "2019-09-08 11:30:10 - INFO - idaes.unit_models.separator - fs.S101 Initialization Complete.\n"
     ]
    },
    {
     "name": "stdout",
     "output_type": "stream",
     "text": [
      "2019-09-08 11:30:11 - INFO - idaes.examples.properties.Workshop_Module_2.hda_ideal_VLE - Starting fs.C101.control_volume.properties_in initialization\n",
      "2019-09-08 11:30:11 - INFO - idaes.examples.properties.Workshop_Module_2.hda_ideal_VLE - Starting fs.C101.control_volume.properties_out initialization\n",
      "2019-09-08 11:30:11 - INFO - idaes.core.unit_model - fs.C101 Initialization Step 1 Complete.\n",
      "2019-09-08 11:30:11 - INFO - idaes.core.unit_model - fs.C101 Initialization Step 2 Complete.\n",
      "2019-09-08 11:30:11 - INFO - idaes.core.unit_model - fs.C101 Initialization Complete.\n",
      "2019-09-08 11:30:11 - INFO - idaes.examples.properties.Workshop_Module_2.hda_ideal_VLE - Starting fs.M101.toluene_feed_state initialization\n",
      "2019-09-08 11:30:11 - INFO - idaes.examples.properties.Workshop_Module_2.hda_ideal_VLE - Starting fs.M101.hydrogen_feed_state initialization\n",
      "2019-09-08 11:30:11 - INFO - idaes.examples.properties.Workshop_Module_2.hda_ideal_VLE - Starting fs.M101.vapor_recycle_state initialization\n",
      "2019-09-08 11:30:11 - INFO - idaes.examples.properties.Workshop_Module_2.hda_ideal_VLE - Starting fs.M101.mixed_state initialization\n",
      "2019-09-08 11:30:11 - INFO - idaes.unit_models.mixer - fs.M101 Initialization Complete.\n",
      "2019-09-08 11:30:11 - INFO - idaes.examples.properties.Workshop_Module_2.hda_ideal_VLE - Starting fs.H101.control_volume.properties_in initialization\n",
      "2019-09-08 11:30:11 - INFO - idaes.examples.properties.Workshop_Module_2.hda_ideal_VLE - Starting fs.H101.control_volume.properties_out initialization\n",
      "2019-09-08 11:30:11 - INFO - idaes.core.unit_model - fs.H101 Initialization Step 1 Complete.\n",
      "2019-09-08 11:30:11 - INFO - idaes.core.unit_model - fs.H101 Initialization Step 2 Complete.\n",
      "2019-09-08 11:30:11 - INFO - idaes.core.unit_model - fs.H101 Initialization Complete.\n",
      "2019-09-08 11:30:11 - INFO - idaes.examples.properties.Workshop_Module_2.hda_ideal_VLE - Starting fs.R101.control_volume.properties_in initialization\n",
      "2019-09-08 11:30:11 - INFO - idaes.examples.properties.Workshop_Module_2.hda_ideal_VLE - Starting fs.R101.control_volume.properties_out initialization\n",
      "2019-09-08 11:30:11 - INFO - idaes.core.unit_model - fs.R101 Initialization Step 1 Complete.\n",
      "2019-09-08 11:30:11 - INFO - idaes.core.unit_model - fs.R101 Initialization Step 2 Complete.\n",
      "2019-09-08 11:30:11 - INFO - idaes.core.unit_model - fs.R101 Initialization Complete.\n",
      "2019-09-08 11:30:11 - INFO - idaes.examples.properties.Workshop_Module_2.hda_ideal_VLE - Starting fs.F101.control_volume.properties_in initialization\n",
      "2019-09-08 11:30:11 - INFO - idaes.examples.properties.Workshop_Module_2.hda_ideal_VLE - Starting fs.F101.control_volume.properties_out initialization\n",
      "2019-09-08 11:30:11 - INFO - idaes.core.unit_model - fs.F101 Initialization Step 1 Complete.\n",
      "2019-09-08 11:30:11 - INFO - idaes.core.unit_model - fs.F101 Initialization Step 2 Complete.\n",
      "2019-09-08 11:30:11 - INFO - idaes.core.unit_model - fs.F101 Initialization Complete.\n",
      "2019-09-08 11:30:11 - INFO - idaes.examples.properties.Workshop_Module_2.hda_ideal_VLE - Starting fs.S101.mixed_state initialization\n",
      "2019-09-08 11:30:11 - INFO - idaes.examples.properties.Workshop_Module_2.hda_ideal_VLE - Starting fs.S101.purge_state initialization\n",
      "2019-09-08 11:30:11 - INFO - idaes.examples.properties.Workshop_Module_2.hda_ideal_VLE - Starting fs.S101.recycle_state initialization\n",
      "2019-09-08 11:30:11 - INFO - idaes.unit_models.separator - fs.S101 Initialization Complete.\n",
      "2019-09-08 11:30:11 - INFO - idaes.examples.properties.Workshop_Module_2.hda_ideal_VLE - Starting fs.C101.control_volume.properties_in initialization\n",
      "2019-09-08 11:30:11 - INFO - idaes.examples.properties.Workshop_Module_2.hda_ideal_VLE - Starting fs.C101.control_volume.properties_out initialization\n",
      "2019-09-08 11:30:11 - INFO - idaes.core.unit_model - fs.C101 Initialization Step 1 Complete.\n",
      "2019-09-08 11:30:11 - INFO - idaes.core.unit_model - fs.C101 Initialization Step 2 Complete.\n",
      "2019-09-08 11:30:11 - INFO - idaes.core.unit_model - fs.C101 Initialization Complete.\n",
      "2019-09-08 11:30:11 - INFO - idaes.examples.properties.Workshop_Module_2.hda_ideal_VLE - Starting fs.M101.toluene_feed_state initialization\n",
      "2019-09-08 11:30:11 - INFO - idaes.examples.properties.Workshop_Module_2.hda_ideal_VLE - Starting fs.M101.hydrogen_feed_state initialization\n",
      "2019-09-08 11:30:11 - INFO - idaes.examples.properties.Workshop_Module_2.hda_ideal_VLE - Starting fs.M101.vapor_recycle_state initialization\n",
      "2019-09-08 11:30:11 - INFO - idaes.examples.properties.Workshop_Module_2.hda_ideal_VLE - Starting fs.M101.mixed_state initialization\n",
      "2019-09-08 11:30:11 - INFO - idaes.unit_models.mixer - fs.M101 Initialization Complete.\n",
      "2019-09-08 11:30:11 - INFO - idaes.examples.properties.Workshop_Module_2.hda_ideal_VLE - Starting fs.H101.control_volume.properties_in initialization\n",
      "2019-09-08 11:30:11 - INFO - idaes.examples.properties.Workshop_Module_2.hda_ideal_VLE - Starting fs.H101.control_volume.properties_out initialization\n",
      "2019-09-08 11:30:11 - INFO - idaes.core.unit_model - fs.H101 Initialization Step 1 Complete.\n",
      "2019-09-08 11:30:11 - INFO - idaes.core.unit_model - fs.H101 Initialization Step 2 Complete.\n",
      "2019-09-08 11:30:11 - INFO - idaes.core.unit_model - fs.H101 Initialization Complete.\n",
      "2019-09-08 11:30:12 - INFO - idaes.examples.properties.Workshop_Module_2.hda_ideal_VLE - Starting fs.R101.control_volume.properties_in initialization\n",
      "2019-09-08 11:30:12 - INFO - idaes.examples.properties.Workshop_Module_2.hda_ideal_VLE - Starting fs.R101.control_volume.properties_out initialization\n",
      "2019-09-08 11:30:12 - INFO - idaes.core.unit_model - fs.R101 Initialization Step 1 Complete.\n",
      "2019-09-08 11:30:12 - INFO - idaes.core.unit_model - fs.R101 Initialization Step 2 Complete.\n",
      "2019-09-08 11:30:12 - INFO - idaes.core.unit_model - fs.R101 Initialization Complete.\n",
      "2019-09-08 11:30:12 - INFO - idaes.examples.properties.Workshop_Module_2.hda_ideal_VLE - Starting fs.F101.control_volume.properties_in initialization\n",
      "2019-09-08 11:30:12 - INFO - idaes.examples.properties.Workshop_Module_2.hda_ideal_VLE - Starting fs.F101.control_volume.properties_out initialization\n",
      "2019-09-08 11:30:12 - INFO - idaes.core.unit_model - fs.F101 Initialization Step 1 Complete.\n",
      "2019-09-08 11:30:12 - INFO - idaes.core.unit_model - fs.F101 Initialization Step 2 Complete.\n",
      "2019-09-08 11:30:12 - INFO - idaes.core.unit_model - fs.F101 Initialization Complete.\n",
      "2019-09-08 11:30:12 - INFO - idaes.examples.properties.Workshop_Module_2.hda_ideal_VLE - Starting fs.S101.mixed_state initialization\n",
      "2019-09-08 11:30:12 - INFO - idaes.examples.properties.Workshop_Module_2.hda_ideal_VLE - Starting fs.S101.purge_state initialization\n",
      "2019-09-08 11:30:12 - INFO - idaes.examples.properties.Workshop_Module_2.hda_ideal_VLE - Starting fs.S101.recycle_state initialization\n",
      "2019-09-08 11:30:12 - INFO - idaes.unit_models.separator - fs.S101 Initialization Complete.\n",
      "2019-09-08 11:30:12 - INFO - idaes.examples.properties.Workshop_Module_2.hda_ideal_VLE - Starting fs.C101.control_volume.properties_in initialization\n",
      "2019-09-08 11:30:12 - INFO - idaes.examples.properties.Workshop_Module_2.hda_ideal_VLE - Starting fs.C101.control_volume.properties_out initialization\n",
      "2019-09-08 11:30:12 - INFO - idaes.core.unit_model - fs.C101 Initialization Step 1 Complete.\n",
      "2019-09-08 11:30:12 - INFO - idaes.core.unit_model - fs.C101 Initialization Step 2 Complete.\n",
      "2019-09-08 11:30:12 - INFO - idaes.core.unit_model - fs.C101 Initialization Complete.\n",
      "2019-09-08 11:30:12 - INFO - idaes.examples.properties.Workshop_Module_2.hda_ideal_VLE - Starting fs.M101.toluene_feed_state initialization\n",
      "2019-09-08 11:30:12 - INFO - idaes.examples.properties.Workshop_Module_2.hda_ideal_VLE - Starting fs.M101.hydrogen_feed_state initialization\n",
      "2019-09-08 11:30:12 - INFO - idaes.examples.properties.Workshop_Module_2.hda_ideal_VLE - Starting fs.M101.vapor_recycle_state initialization\n",
      "2019-09-08 11:30:12 - INFO - idaes.examples.properties.Workshop_Module_2.hda_ideal_VLE - Starting fs.M101.mixed_state initialization\n",
      "2019-09-08 11:30:12 - INFO - idaes.unit_models.mixer - fs.M101 Initialization Complete.\n",
      "WARNING: Wegstein failed to converge in 5 iterations\n",
      "2019-09-08 11:30:12 - INFO - idaes.examples.properties.Workshop_Module_2.hda_ideal_VLE - Starting fs.F102.control_volume.properties_in initialization\n"
     ]
    },
    {
     "name": "stdout",
     "output_type": "stream",
     "text": [
      "2019-09-08 11:30:12 - INFO - idaes.examples.properties.Workshop_Module_2.hda_ideal_VLE - Starting fs.F102.control_volume.properties_out initialization\n",
      "2019-09-08 11:30:12 - INFO - idaes.core.unit_model - fs.F102 Initialization Step 1 Complete.\n",
      "2019-09-08 11:30:12 - INFO - idaes.core.unit_model - fs.F102 Initialization Step 2 Complete.\n",
      "2019-09-08 11:30:12 - INFO - idaes.core.unit_model - fs.F102 Initialization Complete.\n"
     ]
    }
   ],
   "source": [
    "seq.run(m, function)"
   ]
  },
  {
   "cell_type": "markdown",
   "metadata": {},
   "source": [
    "<div class=\"alert alert-block alert-info\">\n",
    "<b>Inline Exercise:</b>\n",
    "We have now initialized the flowsheet. Let us run the flowsheet in a simulation mode to look at the results. To do this, complete the last line of code where we pass the model to the solver. You will need to type the following:\n",
    "    \n",
    "results = solver.solve(m, tee=True)\n",
    "\n",
    "Use Shift+Enter to run the cell once you have typed in your code. \n",
    "</div>\n",
    "\n"
   ]
  },
  {
   "cell_type": "code",
   "execution_count": 40,
   "metadata": {},
   "outputs": [
    {
     "name": "stdout",
     "output_type": "stream",
     "text": [
      "Ipopt 3.12.8: tol=1e-06\n",
      "max_iter=5000\n",
      "\n",
      "\n",
      "******************************************************************************\n",
      "This program contains Ipopt, a library for large-scale nonlinear optimization.\n",
      " Ipopt is released as open source code under the Eclipse Public License (EPL).\n",
      "         For more information visit http://projects.coin-or.org/Ipopt\n",
      "******************************************************************************\n",
      "\n",
      "This is Ipopt version 3.12.8, running with linear solver ma27.\n",
      "NOTE: Other linear solvers might be more efficient (see Ipopt documentation).\n",
      "\n",
      "Number of nonzeros in equality constraint Jacobian...:      994\n",
      "Number of nonzeros in inequality constraint Jacobian.:        0\n",
      "Number of nonzeros in Lagrangian Hessian.............:      898\n",
      "\n",
      "Total number of variables............................:      326\n",
      "                     variables with only lower bounds:        0\n",
      "                variables with lower and upper bounds:      146\n",
      "                     variables with only upper bounds:        0\n",
      "Total number of equality constraints.................:      306\n",
      "Total number of inequality constraints...............:        0\n",
      "        inequality constraints with only lower bounds:        0\n",
      "   inequality constraints with lower and upper bounds:        0\n",
      "        inequality constraints with only upper bounds:        0\n",
      "\n",
      "iter    objective    inf_pr   inf_du lg(mu)  ||d||  lg(rg) alpha_du alpha_pr  ls\n",
      "   0  0.0000000e+00 4.23e+04 0.00e+00  -1.0 0.00e+00    -  0.00e+00 0.00e+00   0\n",
      "   1  0.0000000e+00 2.49e+04 1.18e+02  -1.0 1.73e+04    -  9.41e-01 1.84e-01h  1\n",
      "   2  0.0000000e+00 1.11e+04 5.87e+02  -1.0 2.94e+04    -  9.86e-01 4.77e-01h  1\n",
      "   3  0.0000000e+00 1.11e+04 1.00e+05  -1.0 2.07e+04    -  9.90e-01 3.88e-03h  8\n",
      "   4  0.0000000e+00 1.11e+04 3.00e+05  -1.0 2.32e+04    -  1.00e+00 3.88e-03h  8\n",
      "   5  0.0000000e+00 1.10e+04 7.00e+05  -1.0 2.60e+04    -  1.00e+00 1.94e-03h  9\n",
      "   6  0.0000000e+00 1.10e+04 1.49e+06  -1.0 3.01e+04    -  1.00e+00 1.95e-03h  9\n",
      "   7  0.0000000e+00 1.10e+04 3.07e+06  -1.0 3.66e+04    -  1.00e+00 1.95e-03h  9\n",
      "   8  0.0000000e+00 1.10e+04 6.16e+06  -1.0 4.82e+04    -  1.00e+00 1.96e-03h  9\n",
      "   9  0.0000000e+00 1.10e+04 1.22e+07  -1.0 6.87e+04    -  1.00e+00 9.86e-04h 10\n",
      "iter    objective    inf_pr   inf_du lg(mu)  ||d||  lg(rg) alpha_du alpha_pr  ls\n",
      "  10  0.0000000e+00 1.10e+04 2.37e+07  -1.0 1.02e+05    -  1.00e+00 4.99e-04h 11\n",
      "  11  0.0000000e+00 1.10e+04 4.54e+07  -1.0 1.43e+05    -  1.00e+00 4.71e-04h 11\n",
      "  12  0.0000000e+00 1.10e+04 8.61e+07  -1.0 1.65e+05    -  1.00e+00 4.07e-04h 11\n",
      "  13  0.0000000e+00 1.26e+06 9.62e+07  -1.0 1.68e+05    -  1.00e+00 4.10e-01w  1\n",
      "  14  0.0000000e+00 6.69e+05 1.84e+08  -1.0 8.28e+03    -  6.72e-01 4.91e-01w  1\n",
      "  15  0.0000000e+00 3.31e+05 2.72e+08  -1.0 4.82e+04    -  5.43e-01 5.47e-01w  1\n",
      "  16  0.0000000e+00 1.09e+04 1.63e+08  -1.0 8.17e+03    -  1.00e+00 4.00e-04h 10\n",
      "  17  0.0000000e+00 1.09e+04 3.09e+08  -1.0 1.63e+05    -  1.00e+00 4.12e-04h 11\n",
      "  18  0.0000000e+00 1.09e+04 5.86e+08  -1.0 1.55e+05    -  1.00e+00 4.32e-04h 11\n",
      "  19  0.0000000e+00 1.09e+04 7.93e+08  -1.0 1.47e+05    -  3.90e-01 4.54e-04h 11\n",
      "iter    objective    inf_pr   inf_du lg(mu)  ||d||  lg(rg) alpha_du alpha_pr  ls\n",
      "  20  0.0000000e+00 1.09e+04 1.51e+09  -1.0 1.44e+05    -  1.00e+00 4.63e-04h 11\n",
      "  21  0.0000000e+00 1.09e+04 2.03e+09  -1.0 1.39e+05    -  3.78e-01 4.78e-04h 11\n",
      "  22  0.0000000e+00 1.09e+04 3.89e+09  -1.0 1.38e+05    -  1.00e+00 4.84e-04h 11\n",
      "  23  0.0000000e+00 1.09e+04 5.27e+09  -1.0 1.35e+05    -  3.92e-01 4.92e-04h 11\n",
      "  24  0.0000000e+00 1.09e+04 1.01e+10  -1.0 1.34e+05    -  1.00e+00 4.95e-04h 11\n",
      "  25  0.0000000e+00 1.09e+04 1.38e+10  -1.0 1.33e+05    -  3.99e-01 4.99e-04h 11\n",
      "  26  0.0000000e+00 1.39e+06 1.29e+10  -1.0 1.33e+05    -  1.00e+00 5.13e-01w  1\n",
      "  27  0.0000000e+00 6.91e+05 3.18e+10  -1.0 6.38e+03    -  6.49e-01 5.14e-01w  1\n",
      "  28  0.0000000e+00 1.80e+05 9.30e+11  -1.0 3.27e+03    -  2.35e-01 7.51e-01w  1\n",
      "  29  0.0000000e+00 1.09e+04 2.64e+10  -1.0 1.49e+03    -  1.00e+00 5.01e-04h 10\n",
      "iter    objective    inf_pr   inf_du lg(mu)  ||d||  lg(rg) alpha_du alpha_pr  ls\n",
      "  30  0.0000000e+00 1.09e+04 3.61e+10  -1.0 1.32e+05    -  4.02e-01 5.02e-04h 11\n",
      "  31  0.0000000e+00 1.09e+04 6.92e+10  -1.0 1.32e+05    -  1.00e+00 5.03e-04h 11\n",
      "  32  0.0000000e+00 1.09e+04 9.48e+10  -1.0 1.31e+05    -  4.04e-01 5.04e-04h 11\n",
      "  33  0.0000000e+00 1.09e+04 1.82e+11  -1.0 1.31e+05    -  1.00e+00 5.04e-04h 11\n",
      "  34  0.0000000e+00 1.09e+04 2.49e+11  -1.0 1.31e+05    -  4.06e-01 5.04e-04h 11\n",
      "  35  0.0000000e+00 1.09e+04 4.78e+11  -1.0 1.31e+05    -  1.00e+00 5.04e-04h 11\n",
      "  36  0.0000000e+00 1.09e+04 6.55e+11  -1.0 1.31e+05    -  4.07e-01 5.04e-04h 11\n",
      "  37  0.0000000e+00 1.09e+04 1.26e+12  -1.0 1.30e+05    -  1.00e+00 5.04e-04h 11\n",
      "  38  0.0000000e+00 1.08e+04 1.73e+12  -1.0 1.30e+05    -  4.08e-01 5.04e-04h 11\n",
      "  39  0.0000000e+00 1.38e+06 1.60e+12  -1.0 1.30e+05    -  1.00e+00 5.17e-01w  1\n",
      "iter    objective    inf_pr   inf_du lg(mu)  ||d||  lg(rg) alpha_du alpha_pr  ls\n",
      "  40  0.0000000e+00 6.48e+05 4.25e+12  -1.0 6.18e+03    -  6.48e-01 5.40e-01w  1\n",
      "  41  0.0000000e+00 3.87e+05 3.24e+13  -1.0 3.57e+03    -  1.24e-01 4.07e-01w  1\n",
      "  42  0.0000000e+00 1.08e+04 3.31e+12  -1.0 2.46e+03    -  1.00e+00 5.04e-04h 10\n",
      "  43  0.0000000e+00 1.08e+04 4.54e+12  -1.0 1.30e+05    -  4.08e-01 5.04e-04h 11\n",
      "  44  0.0000000e+00 1.08e+04 8.71e+12  -1.0 1.30e+05    -  1.00e+00 5.04e-04h 11\n",
      "  45  0.0000000e+00 1.08e+04 1.20e+13  -1.0 1.30e+05    -  4.09e-01 5.04e-04h 11\n",
      "  46  0.0000000e+00 1.08e+04 2.30e+13  -1.0 1.30e+05    -  1.00e+00 5.04e-04h 11\n",
      "  47  0.0000000e+00 1.08e+04 3.16e+13  -1.0 1.30e+05    -  4.10e-01 5.04e-04h 11\n",
      "  48  0.0000000e+00 1.08e+04 6.06e+13  -1.0 1.29e+05    -  1.00e+00 5.04e-04h 11\n",
      "  49  0.0000000e+00 1.08e+04 8.34e+13  -1.0 1.29e+05    -  4.10e-01 5.04e-04h 11\n",
      "iter    objective    inf_pr   inf_du lg(mu)  ||d||  lg(rg) alpha_du alpha_pr  ls\n",
      "  50  0.0000000e+00 1.08e+04 1.60e+14  -1.0 1.29e+05    -  1.00e+00 5.04e-04h 11\n",
      "  51  0.0000000e+00 1.08e+04 2.20e+14  -1.0 1.29e+05    -  4.11e-01 5.04e-04h 11\n",
      "  52  0.0000000e+00 1.35e+06 2.04e+14  -1.0 1.29e+05    -  1.00e+00 5.16e-01w  1\n",
      "  53  0.0000000e+00 6.35e+05 5.43e+14  -1.0 6.12e+03    -  6.49e-01 5.41e-01w  1\n",
      "  54  0.0000000e+00 3.82e+05 4.02e+15  -1.0 3.50e+03    -  1.23e-01 4.02e-01w  1\n",
      "  55  0.0000000e+00 1.08e+04 4.22e+14  -1.0 2.45e+03    -  1.00e+00 5.04e-04h 10\n",
      "  56  0.0000000e+00 1.08e+04 5.82e+14  -1.0 1.29e+05    -  4.12e-01 5.04e-04h 11\n",
      "  57  0.0000000e+00 1.08e+04 1.07e+15  -1.0 1.29e+05    -  1.00e+00 5.04e-04h 11\n",
      "  58  0.0000000e+00 1.08e+04 1.07e+15  -1.0 1.23e+05    -  4.33e-01 5.03e-04h 11\n",
      "  59  0.0000000e+00 1.08e+04 1.07e+15  -1.0 9.10e+04    -  1.00e+00 9.95e-04h 10\n",
      "iter    objective    inf_pr   inf_du lg(mu)  ||d||  lg(rg) alpha_du alpha_pr  ls\n",
      "  60  0.0000000e+00 1.07e+04 1.07e+15  -1.0 6.69e+04    -  9.00e-01 9.86e-04h 10\n",
      "  61  0.0000000e+00 1.07e+04 1.07e+15  -1.0 6.63e+04    -  1.00e+00 9.86e-04h 10\n",
      "  62  0.0000000e+00 1.07e+04 1.07e+15  -1.0 6.62e+04    -  9.09e-01 9.86e-04h 10\n",
      "  63  0.0000000e+00 1.07e+04 1.07e+15  -1.0 6.61e+04    -  1.00e+00 9.86e-04h 10\n",
      "  64  0.0000000e+00 1.07e+04 1.07e+15  -1.0 6.60e+04    -  9.11e-01 9.86e-04h 10\n",
      "  65  0.0000000e+00 5.45e+05 1.04e+15  -1.0 6.59e+04    -  1.00e+00 5.05e-01w  1\n",
      "  66  0.0000000e+00 2.50e+05 2.69e+15  -1.0 1.96e+04    -  6.61e-01 5.41e-01w  1\n",
      "  67  0.0000000e+00 6.21e+05 4.94e+16  -1.0 6.75e+04    -  1.24e-01 5.85e-01w  1\n",
      "  68  0.0000000e+00 1.07e+04 1.07e+15  -1.0 3.50e+03    -  1.00e+00 9.86e-04h  9\n",
      "  69  0.0000000e+00 1.07e+04 1.07e+15  -1.0 6.59e+04    -  9.13e-01 9.86e-04h 10\n",
      "iter    objective    inf_pr   inf_du lg(mu)  ||d||  lg(rg) alpha_du alpha_pr  ls\n",
      "  70  0.0000000e+00 1.07e+04 1.07e+15  -1.0 6.58e+04    -  1.00e+00 9.86e-04h 10\n",
      "  71  0.0000000e+00 1.07e+04 1.07e+15  -1.0 6.57e+04    -  9.15e-01 9.86e-04h 10\n",
      "  72  0.0000000e+00 1.07e+04 1.07e+15  -1.0 6.56e+04    -  1.00e+00 9.86e-04h 10\n",
      "  73  0.0000000e+00 1.06e+04 1.07e+15  -1.0 6.56e+04    -  9.17e-01 9.86e-04h 10\n",
      "  74  0.0000000e+00 1.06e+04 1.07e+15  -1.0 6.55e+04    -  1.00e+00 9.86e-04h 10\n",
      "  75  0.0000000e+00 1.06e+04 1.07e+15  -1.0 6.54e+04    -  9.19e-01 9.86e-04h 10\n",
      "  76  0.0000000e+00 1.06e+04 1.07e+15  -1.0 6.53e+04    -  1.00e+00 9.86e-04h 10\n",
      "  77  0.0000000e+00 1.06e+04 1.07e+15  -1.0 6.53e+04    -  9.21e-01 9.86e-04h 10\n",
      "  78  0.0000000e+00 5.92e+05 1.05e+15  -1.0 6.52e+04    -  1.00e+00 5.05e-01w  1\n",
      "  79  0.0000000e+00 2.72e+05 2.75e+15  -1.0 1.96e+04    -  6.59e-01 5.42e-01w  1\n",
      "iter    objective    inf_pr   inf_du lg(mu)  ||d||  lg(rg) alpha_du alpha_pr  ls\n",
      "  80  0.0000000e+00 5.82e+05 4.90e+16  -1.0 6.78e+04    -  1.23e-01 5.78e-01w  1\n",
      "  81  0.0000000e+00 1.06e+04 1.07e+15  -1.0 3.53e+03    -  1.00e+00 9.86e-04h  9\n",
      "  82  0.0000000e+00 1.06e+04 1.07e+15  -1.0 6.51e+04    -  9.23e-01 9.86e-04h 10\n",
      "  83  0.0000000e+00 1.06e+04 1.07e+15  -1.0 6.51e+04    -  1.00e+00 9.85e-04h 10\n",
      "  84  0.0000000e+00 1.06e+04 1.07e+15  -1.0 6.50e+04    -  9.25e-01 9.85e-04h 10\n",
      "  85  0.0000000e+00 1.06e+04 1.07e+15  -1.0 6.49e+04    -  1.00e+00 9.85e-04h 10\n",
      "  86  0.0000000e+00 1.05e+04 1.07e+15  -1.0 6.49e+04    -  9.27e-01 9.85e-04h 10\n",
      "  87  0.0000000e+00 1.05e+04 1.07e+15  -1.0 6.48e+04    -  1.00e+00 9.85e-04h 10\n",
      "  88  0.0000000e+00 1.05e+04 1.07e+15  -1.0 6.47e+04    -  9.29e-01 9.85e-04h 10\n",
      "  89  0.0000000e+00 1.05e+04 1.07e+15  -1.0 6.46e+04    -  1.00e+00 9.85e-04h 10\n",
      "iter    objective    inf_pr   inf_du lg(mu)  ||d||  lg(rg) alpha_du alpha_pr  ls\n",
      "  90  0.0000000e+00 1.05e+04 1.07e+15  -1.0 6.46e+04    -  9.31e-01 9.85e-04h 10\n",
      "  91  0.0000000e+00 5.81e+05 1.07e+15  -1.0 6.45e+04    -  1.00e+00 5.05e-01w  1\n",
      "  92  0.0000000e+00 2.66e+05 2.80e+15  -1.0 1.95e+04    -  6.58e-01 5.42e-01w  1\n",
      "  93  0.0000000e+00 5.69e+05 4.87e+16  -1.0 6.81e+04    -  1.22e-01 5.71e-01w  1\n",
      "  94  0.0000000e+00 1.05e+04 1.07e+15  -1.0 3.56e+03    -  1.00e+00 9.85e-04h  9\n",
      "  95  0.0000000e+00 1.05e+04 1.07e+15  -1.0 6.44e+04    -  9.33e-01 9.85e-04h 10\n",
      "  96  0.0000000e+00 1.05e+04 1.07e+15  -1.0 6.43e+04    -  1.00e+00 9.85e-04h 10\n",
      "  97  0.0000000e+00 1.05e+04 1.07e+15  -1.0 6.43e+04    -  9.35e-01 9.85e-04h 10\n",
      "  98  0.0000000e+00 1.04e+04 1.07e+15  -1.0 6.42e+04    -  1.00e+00 9.85e-04h 10\n",
      "  99  0.0000000e+00 1.04e+04 1.07e+15  -1.0 6.41e+04    -  9.37e-01 9.85e-04h 10\n",
      "iter    objective    inf_pr   inf_du lg(mu)  ||d||  lg(rg) alpha_du alpha_pr  ls\n",
      " 100  0.0000000e+00 1.04e+04 1.07e+15  -1.0 6.41e+04    -  1.00e+00 9.85e-04h 10\n",
      " 101  0.0000000e+00 1.04e+04 1.07e+15  -1.0 6.40e+04    -  9.39e-01 9.85e-04h 10\n",
      " 102  0.0000000e+00 1.04e+04 1.07e+15  -1.0 6.39e+04    -  1.00e+00 9.85e-04h 10\n",
      " 103  0.0000000e+00 1.04e+04 1.07e+15  -1.0 6.39e+04    -  9.41e-01 9.85e-04h 10\n",
      " 104  0.0000000e+00 5.68e+05 1.08e+15  -1.0 6.38e+04    -  1.00e+00 5.04e-01w  1\n",
      " 105  0.0000000e+00 2.60e+05 2.86e+15  -1.0 1.95e+04    -  6.56e-01 5.43e-01w  1\n",
      " 106  0.0000000e+00 5.58e+05 4.86e+16  -1.0 6.83e+04    -  1.21e-01 5.65e-01w  1\n"
     ]
    },
    {
     "name": "stdout",
     "output_type": "stream",
     "text": [
      " 107  0.0000000e+00 1.04e+04 1.07e+15  -1.0 3.58e+03    -  1.00e+00 9.85e-04h  9\n",
      " 108  0.0000000e+00 1.04e+04 1.07e+15  -1.0 6.37e+04    -  9.43e-01 9.85e-04h 10\n",
      " 109  0.0000000e+00 1.04e+04 1.07e+15  -1.0 6.36e+04    -  1.00e+00 9.85e-04h 10\n",
      "iter    objective    inf_pr   inf_du lg(mu)  ||d||  lg(rg) alpha_du alpha_pr  ls\n",
      " 110  0.0000000e+00 1.04e+04 1.07e+15  -1.0 6.36e+04    -  9.45e-01 9.85e-04h 10\n",
      " 111  0.0000000e+00 1.03e+04 1.07e+15  -1.0 6.35e+04    -  1.00e+00 9.85e-04h 10\n",
      " 112  0.0000000e+00 1.03e+04 1.07e+15  -1.0 6.34e+04    -  9.47e-01 9.85e-04h 10\n",
      " 113  0.0000000e+00 1.03e+04 1.07e+15  -1.0 6.34e+04    -  1.00e+00 9.85e-04h 10\n",
      " 114  0.0000000e+00 1.03e+04 1.07e+15  -1.0 6.33e+04    -  9.49e-01 9.85e-04h 10\n",
      " 115  0.0000000e+00 1.03e+04 1.07e+15  -1.0 6.32e+04    -  1.00e+00 9.85e-04h 10\n",
      " 116  0.0000000e+00 1.03e+04 1.07e+15  -1.0 6.32e+04    -  9.51e-01 9.85e-04h 10\n",
      " 117  0.0000000e+00 5.56e+05 1.09e+15  -1.0 6.31e+04    -  1.00e+00 5.04e-01w  1\n",
      " 118  0.0000000e+00 2.54e+05 2.92e+15  -1.0 1.94e+04    -  6.54e-01 5.43e-01w  1\n",
      " 119  0.0000000e+00 5.48e+05 4.92e+16  -1.0 6.82e+04    -  1.19e-01 5.62e-01w  1\n",
      "iter    objective    inf_pr   inf_du lg(mu)  ||d||  lg(rg) alpha_du alpha_pr  ls\n",
      " 120  0.0000000e+00 1.03e+04 1.07e+15  -1.0 3.62e+03    -  1.00e+00 9.85e-04h  9\n",
      " 121  0.0000000e+00 1.03e+04 1.07e+15  -1.0 6.30e+04    -  9.53e-01 9.85e-04h 10\n",
      " 122  0.0000000e+00 1.03e+04 1.07e+15  -1.0 6.30e+04    -  1.00e+00 9.85e-04h 10\n",
      " 123  0.0000000e+00 1.03e+04 1.07e+15  -1.0 6.29e+04    -  9.55e-01 9.85e-04h 10\n",
      " 124  0.0000000e+00 1.02e+04 1.07e+15  -1.0 6.28e+04    -  1.00e+00 9.85e-04h 10\n",
      " 125  0.0000000e+00 1.02e+04 1.07e+15  -1.0 6.27e+04    -  9.57e-01 9.85e-04h 10\n",
      " 126  0.0000000e+00 1.02e+04 1.07e+15  -1.0 6.27e+04    -  1.00e+00 9.85e-04h 10\n",
      " 127  0.0000000e+00 1.02e+04 1.07e+15  -1.0 6.26e+04    -  9.59e-01 9.85e-04h 10\n",
      " 128  0.0000000e+00 1.02e+04 1.07e+15  -1.0 6.25e+04    -  1.00e+00 9.85e-04h 10\n",
      " 129  0.0000000e+00 1.02e+04 1.07e+15  -1.0 6.25e+04    -  9.61e-01 9.85e-04h 10\n",
      "iter    objective    inf_pr   inf_du lg(mu)  ||d||  lg(rg) alpha_du alpha_pr  ls\n",
      " 130  0.0000000e+00 5.44e+05 1.10e+15  -1.0 6.24e+04    -  1.00e+00 5.04e-01w  1\n",
      " 131  0.0000000e+00 2.48e+05 2.98e+15  -1.0 1.94e+04    -  6.52e-01 5.44e-01w  1\n",
      " 132  0.0000000e+00 5.37e+05 5.19e+16  -1.0 6.71e+04    -  1.18e-01 5.67e-01w  1\n",
      " 133  0.0000000e+00 1.02e+04 1.07e+15  -1.0 3.66e+03    -  1.00e+00 9.85e-04h  9\n",
      " 134  0.0000000e+00 1.02e+04 1.07e+15  -1.0 6.23e+04    -  9.63e-01 9.85e-04h 10\n",
      " 135  0.0000000e+00 1.02e+04 1.07e+15  -1.0 6.23e+04    -  1.00e+00 9.85e-04h 10\n",
      " 136  0.0000000e+00 1.02e+04 1.07e+15  -1.0 6.22e+04    -  9.65e-01 9.85e-04h 10\n",
      " 137  0.0000000e+00 1.01e+04 1.07e+15  -1.0 6.21e+04    -  1.00e+00 9.85e-04h 10\n",
      " 138  0.0000000e+00 1.01e+04 1.07e+15  -1.0 6.21e+04    -  9.67e-01 9.85e-04h 10\n",
      " 139  0.0000000e+00 1.01e+04 1.07e+15  -1.0 6.20e+04    -  1.00e+00 9.85e-04h 10\n",
      "iter    objective    inf_pr   inf_du lg(mu)  ||d||  lg(rg) alpha_du alpha_pr  ls\n",
      " 140  0.0000000e+00 1.01e+04 1.07e+15  -1.0 6.19e+04    -  9.69e-01 9.85e-04h 10\n",
      " 141  0.0000000e+00 1.01e+04 1.07e+15  -1.0 6.18e+04    -  1.00e+00 9.85e-04h 10\n",
      " 142  0.0000000e+00 1.01e+04 1.07e+15  -1.0 6.18e+04    -  9.71e-01 9.85e-04h 10\n",
      " 143  0.0000000e+00 5.32e+05 1.11e+15  -1.0 6.17e+04    -  1.00e+00 5.04e-01w  1\n",
      " 144  0.0000000e+00 2.43e+05 3.04e+15  -1.0 1.94e+04    -  6.49e-01 5.45e-01w  1\n",
      " 145  0.0000000e+00 5.25e+05 6.33e+16  -1.0 6.28e+04    -  1.17e-01 6.01e-01w  1\n",
      " 146  0.0000000e+00 1.01e+04 1.07e+15  -1.0 3.74e+03    -  1.00e+00 9.85e-04h  9\n",
      " 147  0.0000000e+00 1.01e+04 1.07e+15  -1.0 6.16e+04    -  9.73e-01 9.85e-04h 10\n",
      " 148  0.0000000e+00 1.01e+04 1.07e+15  -1.0 6.16e+04    -  1.00e+00 9.85e-04h 10\n",
      " 149  0.0000000e+00 1.01e+04 1.07e+15  -1.0 6.15e+04    -  9.75e-01 9.85e-04h 10\n",
      "iter    objective    inf_pr   inf_du lg(mu)  ||d||  lg(rg) alpha_du alpha_pr  ls\n",
      " 150  0.0000000e+00 1.00e+04 1.07e+15  -1.0 6.14e+04    -  1.00e+00 9.85e-04h 10\n",
      " 151  0.0000000e+00 1.00e+04 1.07e+15  -1.0 6.14e+04    -  9.77e-01 9.85e-04h 10\n",
      " 152  0.0000000e+00 1.00e+04 1.07e+15  -1.0 6.13e+04    -  1.00e+00 9.85e-04h 10\n",
      " 153  0.0000000e+00 1.00e+04 1.07e+15  -1.0 6.12e+04    -  9.79e-01 9.85e-04h 10\n",
      " 154  0.0000000e+00 1.00e+04 1.07e+15  -1.0 6.11e+04    -  1.00e+00 9.85e-04h 10\n",
      " 155  0.0000000e+00 9.99e+03 1.07e+15  -1.0 6.11e+04    -  9.81e-01 9.85e-04h 10\n",
      " 156  0.0000000e+00 5.21e+05 1.12e+15  -1.0 6.10e+04    -  1.00e+00 5.04e-01w  1\n",
      " 157  0.0000000e+00 2.37e+05 3.11e+15  -1.0 1.95e+04    -  6.46e-01 5.45e-01w  1\n",
      " 158  0.0000000e+00 5.09e+05 1.25e+17  -1.0 5.13e+04    -  1.16e-01 7.29e-01w  1\n",
      " 159  0.0000000e+00 9.98e+03 1.07e+15  -1.0 3.96e+03    -  1.00e+00 9.85e-04h  9\n",
      "iter    objective    inf_pr   inf_du lg(mu)  ||d||  lg(rg) alpha_du alpha_pr  ls\n",
      " 160  0.0000000e+00 9.97e+03 1.07e+15  -1.0 6.09e+04    -  9.84e-01 9.85e-04h 10\n",
      " 161  0.0000000e+00 9.97e+03 1.07e+15  -1.0 6.09e+04    -  1.00e+00 9.85e-04h 10\n",
      " 162  0.0000000e+00 9.96e+03 1.07e+15  -1.0 6.08e+04    -  9.86e-01 9.85e-04h 10\n",
      " 163  0.0000000e+00 9.95e+03 1.07e+15  -1.0 6.07e+04    -  1.00e+00 9.85e-04h 10\n",
      " 164  0.0000000e+00 9.94e+03 1.07e+15  -1.0 6.06e+04    -  9.88e-01 9.85e-04h 10\n",
      " 165  0.0000000e+00 9.93e+03 1.08e+15  -1.0 6.05e+04    -  1.00e+00 9.85e-04h 10\n",
      " 166  0.0000000e+00 9.92e+03 1.08e+15  -1.0 6.05e+04    -  9.91e-01 9.85e-04h 10\n",
      " 167  0.0000000e+00 9.91e+03 1.08e+15  -1.0 6.04e+04    -  1.00e+00 9.85e-04h 10\n",
      " 168  0.0000000e+00 9.90e+03 1.08e+15  -1.0 6.03e+04    -  9.93e-01 9.85e-04h 10\n",
      " 169  0.0000000e+00 5.08e+05 1.14e+15  -1.0 6.02e+04    -  1.00e+00 5.04e-01w  1\n",
      "iter    objective    inf_pr   inf_du lg(mu)  ||d||  lg(rg) alpha_du alpha_pr  ls\n",
      " 170  0.0000000e+00 2.31e+05 3.18e+15  -1.0 1.98e+04    -  6.39e-01 5.46e-01w  1\n",
      " 171  0.0000000e+00 3.47e+05 4.69e+17  -1.0 3.21e+04    -  1.16e-01 9.14e-01w  1\n",
      " 172  0.0000000e+00 9.89e+03 1.08e+15  -1.0 2.86e+05    -  1.00e+00 9.85e-04h  9\n",
      " 173  0.0000000e+00 9.88e+03 1.08e+15  -1.0 6.01e+04    -  9.96e-01 9.85e-04h 10\n",
      " 174  0.0000000e+00 9.87e+03 1.08e+15  -1.0 6.00e+04    -  1.00e+00 9.85e-04h 10\n",
      " 175  0.0000000e+00 9.86e+03 1.08e+15  -1.0 5.99e+04    -  9.99e-01 9.85e-04h 10\n",
      " 176  0.0000000e+00 9.85e+03 1.08e+15  -1.0 5.98e+04    -  1.00e+00 9.85e-04h 10\n",
      " 177  0.0000000e+00 9.84e+03 1.08e+15  -1.0 5.97e+04    -  1.00e+00 9.85e-04h 10\n",
      " 178  0.0000000e+00 9.83e+03 1.08e+15  -1.0 5.96e+04    -  1.00e+00 9.84e-04h 10\n",
      " 179  0.0000000e+00 9.82e+03 1.08e+15  -1.0 5.95e+04    -  1.00e+00 9.84e-04h 10\n",
      "iter    objective    inf_pr   inf_du lg(mu)  ||d||  lg(rg) alpha_du alpha_pr  ls\n",
      " 180  0.0000000e+00 9.81e+03 1.08e+15  -1.0 5.94e+04    -  1.00e+00 9.84e-04h 10\n",
      " 181  0.0000000e+00 9.80e+03 1.08e+15  -1.0 5.93e+04    -  1.00e+00 9.84e-04h 10\n",
      " 182  0.0000000e+00 4.93e+05 1.15e+15  -1.0 5.91e+04    -  1.00e+00 5.04e-01w  1\n",
      " 183  0.0000000e+00 2.24e+05 3.29e+15  -1.0 2.11e+04    -  6.21e-01 5.46e-01w  1\n",
      " 184  0.0000000e+00 1.40e+05 1.32e+18  -1.0 1.54e+04    -  1.15e-01 9.76e-01w  1\n",
      " 185  0.0000000e+00 9.79e+03 1.08e+15  -1.0 2.69e+06    -  1.00e+00 9.84e-04h  9\n",
      " 186  0.0000000e+00 9.78e+03 1.08e+15  -1.0 5.90e+04    -  1.00e+00 9.84e-04h 10\n",
      " 187  0.0000000e+00 9.77e+03 1.08e+15  -1.0 5.88e+04    -  1.00e+00 9.84e-04h 10\n",
      " 188  0.0000000e+00 9.76e+03 1.08e+15  -1.0 5.86e+04    -  1.00e+00 9.84e-04h 10\n",
      " 189  0.0000000e+00 9.75e+03 1.08e+15  -1.0 5.84e+04    -  1.00e+00 9.84e-04h 10\n",
      "iter    objective    inf_pr   inf_du lg(mu)  ||d||  lg(rg) alpha_du alpha_pr  ls\n",
      " 190  0.0000000e+00 9.73e+03 1.08e+15  -1.0 5.82e+04    -  1.00e+00 1.97e-03h  9\n",
      " 191  0.0000000e+00 9.71e+03 1.08e+15  -1.0 5.78e+04    -  1.00e+00 1.97e-03h  9\n",
      " 192  0.0000000e+00 9.69e+03 1.08e+15  -1.0 5.75e+04    -  1.00e+00 1.97e-03h  9\n",
      " 193  0.0000000e+00 9.68e+03 1.08e+15  -1.0 5.71e+04    -  1.00e+00 1.97e-03h  9\n",
      " 194  0.0000000e+00 9.66e+03 1.08e+15  -1.0 5.67e+04    -  1.00e+00 1.97e-03h  9\n",
      " 195  0.0000000e+00 4.60e+05 1.17e+15  -1.0 5.63e+04    -  1.00e+00 5.04e-01w  1\n",
      " 196  0.0000000e+00 2.10e+05 3.50e+15  -1.0 2.56e+04    -  5.72e-01 5.47e-01w  1\n",
      " 197  0.0000000e+00 7.75e+04 1.48e+18  -1.0 8.15e+03    -  1.13e-01 9.76e-01w  1\n",
      " 198  0.0000000e+00 9.64e+03 1.08e+15  -1.0 2.74e+06    -  1.00e+00 1.97e-03h  8\n",
      " 199  0.0000000e+00 9.62e+03 1.08e+15  -1.0 5.57e+04    -  1.00e+00 1.97e-03h  9\n",
      "iter    objective    inf_pr   inf_du lg(mu)  ||d||  lg(rg) alpha_du alpha_pr  ls\n",
      " 200  0.0000000e+00 9.60e+03 1.08e+15  -1.0 5.52e+04    -  1.00e+00 1.97e-03h  9\n",
      " 201  0.0000000e+00 9.58e+03 1.08e+15  -1.0 5.45e+04    -  1.00e+00 1.97e-03h  9\n",
      " 202  0.0000000e+00 9.56e+03 1.08e+15  -1.0 5.37e+04    -  1.00e+00 1.97e-03h  9\n",
      " 203  0.0000000e+00 9.54e+03 1.08e+15  -1.0 5.27e+04    -  1.00e+00 1.96e-03h  9\n"
     ]
    },
    {
     "name": "stdout",
     "output_type": "stream",
     "text": [
      " 204  0.0000000e+00 9.53e+03 1.08e+15  -1.0 5.15e+04    -  1.00e+00 1.96e-03h  9\n",
      " 205  0.0000000e+00 9.51e+03 1.09e+15  -1.0 5.00e+04    -  1.00e+00 1.96e-03h  9\n",
      " 206  0.0000000e+00 9.49e+03 1.09e+15  -1.0 4.81e+04    -  1.00e+00 1.96e-03h  9\n",
      " 207  0.0000000e+00 9.47e+03 1.09e+15  -1.0 4.57e+04    -  1.00e+00 1.96e-03h  9\n",
      " 208  0.0000000e+00 3.32e+05 1.21e+15  -1.0 4.24e+04    -  1.00e+00 5.01e-01w  1\n",
      " 209  0.0000000e+00 1.68e+05 3.84e+15  -1.0 3.78e+04    -  5.05e-01 5.46e-01w  1\n",
      "iter    objective    inf_pr   inf_du lg(mu)  ||d||  lg(rg) alpha_du alpha_pr  ls\n",
      " 210  0.0000000e+00 9.10e+04 2.02e+18  -1.0 2.88e+03  -2.0 1.12e-01 9.81e-01h  1\n",
      " 211  0.0000000e+00 9.10e+04 2.02e+18  -1.0 2.81e+06  -2.5 1.50e-03 4.32e-04f  2\n",
      " 212  0.0000000e+00 9.10e+04 2.02e+18  -1.0 3.54e+06  -3.0 1.47e-03 2.20e-04f  3\n",
      " 213  0.0000000e+00 9.10e+04 2.02e+18  -1.0 4.12e+06  -3.4 2.08e-03 2.30e-04f  3\n",
      " 214  0.0000000e+00 9.10e+04 2.02e+18  -1.0 4.54e+06  -3.9 2.12e-03 1.30e-04f  4\n",
      " 215  0.0000000e+00 9.10e+04 2.02e+18  -1.0 4.66e+06  -4.4 2.19e-03 1.41e-04f  4\n",
      " 216  0.0000000e+00 9.10e+04 2.02e+18  -1.0 4.76e+06  -4.9 2.35e-03 1.55e-04f  4\n",
      " 217  0.0000000e+00 9.10e+04 2.02e+18  -1.0 4.83e+06  -5.3 1.05e-03 3.41e-04f  3\n",
      " 218  0.0000000e+00 9.10e+04 2.02e+18  -1.0 4.89e+06  -4.9 7.77e-03 4.29e-04f  3\n",
      " 219  0.0000000e+00 9.10e+04 2.02e+18  -1.0 4.92e+06  -5.4 7.08e-03 6.75e-05h  6\n",
      "iter    objective    inf_pr   inf_du lg(mu)  ||d||  lg(rg) alpha_du alpha_pr  ls\n",
      " 220  0.0000000e+00 9.10e+04 2.02e+18  -1.0 4.68e+06  -5.0 1.23e-02 7.27e-05h  6\n",
      " 221  0.0000000e+00 9.14e+04 2.01e+18  -1.0 4.92e+06  -5.4 4.90e-03 2.27e-03w  1\n",
      " 222  0.0000000e+00 9.20e+04 2.01e+18  -1.0 4.73e+06  -5.9 1.48e-02 3.34e-03w  1\n",
      " 223  0.0000000e+00 9.20e+04 2.01e+18  -1.0 4.86e+06  -6.4 1.60e-02 4.11e-05w  1\n",
      " 224  0.0000000e+00 9.10e+04 2.02e+18  -1.0 4.82e+05  -6.0 4.90e-03 5.67e-04f  2\n",
      " 225  0.0000000e+00 9.10e+04 2.01e+18  -1.0 3.07e+06  -5.5 2.01e-02 1.17e-03h  3\n",
      " 226  0.0000000e+00 9.10e+04 2.01e+18  -1.0 4.91e+06  -6.0 5.86e-03 4.42e-04h  4\n",
      " 227  0.0000000e+00 9.04e+04 2.00e+18  -1.0 6.56e+05  -5.6 1.15e-01 8.89e-03h  3\n",
      " 228  0.0000000e+00 9.04e+04 2.00e+18  -1.0 4.86e+06  -6.1 6.24e-03 7.34e-05h  7\n",
      " 229  0.0000000e+00 9.14e+04 1.99e+18  -1.0 4.85e+06  -6.5 4.75e-03 4.75e-03s 15\n",
      "iter    objective    inf_pr   inf_du lg(mu)  ||d||  lg(rg) alpha_du alpha_pr  ls\n",
      " 230  0.0000000e+00 9.13e+04 1.99e+18  -1.0 4.80e+06  -7.0 1.40e-03 1.40e-03s 15\n",
      " 231r 0.0000000e+00 9.13e+04 1.00e+03   1.6 0.00e+00  -6.6 0.00e+00 0.00e+00R  1\n",
      " 232r 0.0000000e+00 8.99e+04 1.75e+05   1.6 5.18e+04    -  1.03e-04 3.15e-04f  1\n",
      " 233  0.0000000e+00 6.51e+04 5.74e+05  -1.0 3.65e+04    -  6.21e-01 1.86e-01h  1\n",
      " 234  0.0000000e+00 2.69e+04 3.90e+05  -1.0 2.11e+04    -  3.49e-01 3.16e-01h  1\n",
      " 235  0.0000000e+00 2.60e+04 9.15e+05  -1.0 5.23e+04    -  9.89e-01 3.19e-02h  1\n",
      " 236  0.0000000e+00 4.51e+04 8.83e+05  -1.0 2.65e+05    -  1.29e-01 8.45e-02h  3\n",
      " 237  0.0000000e+00 5.31e+04 1.45e+06  -1.0 2.43e+05    -  6.74e-01 7.12e-02h  3\n",
      " 238  0.0000000e+00 5.23e+04 1.55e+06  -1.0 2.28e+05    -  1.73e-01 2.90e-02h  4\n",
      " 239  0.0000000e+00 5.20e+04 2.40e+06  -1.0 2.22e+05    -  9.91e-01 2.63e-02h  4\n",
      "iter    objective    inf_pr   inf_du lg(mu)  ||d||  lg(rg) alpha_du alpha_pr  ls\n",
      " 240  0.0000000e+00 5.18e+04 2.48e+06  -1.0 2.17e+05    -  1.60e-01 1.19e-02h  5\n",
      " 241  0.0000000e+00 5.17e+04 4.75e+06  -1.0 2.14e+05    -  1.00e+00 2.82e-03h  7\n",
      " 242  0.0000000e+00 5.17e+04 6.97e+06  -1.0 2.13e+05    -  1.59e-01 1.40e-03h  8\n",
      " 243  0.0000000e+00 5.16e+04 3.00e+07  -1.0 2.13e+05    -  1.00e+00 6.94e-04h  9\n",
      " 244  0.0000000e+00 5.24e+04 4.55e+07  -1.0 2.12e+05    -  1.59e-01 2.22e-02h  4\n",
      " 245  0.0000000e+00 5.26e+04 2.76e+08  -1.0 2.08e+05    -  1.00e+00 1.99e-02h  4\n",
      " 246  0.0000000e+00 8.73e+04 2.33e+08  -1.0 2.04e+05    -  1.41e-01 1.43e-01w  1\n",
      " 247  0.0000000e+00 8.71e+04 5.17e+10  -1.0 1.70e+05    -  1.63e-01 1.60e-03w  1\n",
      " 248  0.0000000e+00 8.71e+04 4.01e+13  -1.0 1.80e+05    -  1.63e-01 1.84e-04w  1\n",
      " 249  0.0000000e+00 5.34e+04 4.38e+08  -1.0 5.68e+05    -  1.41e-01 3.58e-02h  2\n",
      "iter    objective    inf_pr   inf_du lg(mu)  ||d||  lg(rg) alpha_du alpha_pr  ls\n",
      " 250  0.0000000e+00 5.34e+04 2.30e+09  -1.0 1.98e+05    -  4.78e-01 2.73e-02h  3\n",
      " 251  0.0000000e+00 5.54e+04 4.26e+09  -1.0 1.93e+05    -  1.22e-01 4.33e-02h  2\n",
      " 252  0.0000000e+00 5.68e+04 6.04e+10  -1.0 1.86e+05    -  5.11e-01 4.45e-02h  1\n",
      " 253  0.0000000e+00 5.66e+04 1.37e+12  -1.0 1.81e+05    -  5.97e-02 2.90e-03h  1\n",
      " 254  0.0000000e+00 5.66e+04 5.54e+15  -1.0 1.14e+05    -  5.47e-01 1.14e-04h  1\n",
      " 255  0.0000000e+00 5.66e+04 5.42e+13  -1.0 4.14e-06  17.2 9.90e-01 1.00e+00h  1\n",
      " 256  0.0000000e+00 5.66e+04 8.87e+11  -1.0 2.49e-05  16.8 1.00e+00 2.21e-01h  1\n",
      " 257r 0.0000000e+00 5.66e+04 1.00e+03   1.1 0.00e+00  16.3 0.00e+00 3.34e-07R 13\n",
      " 258r 0.0000000e+00 2.64e+04 1.89e+05   1.1 1.83e+04    -  3.84e-03 9.92e-04f  1\n",
      " 259  0.0000000e+00 2.59e+04 2.98e+04  -1.0 6.87e+04    -  4.83e-01 1.15e-01f  1\n",
      "iter    objective    inf_pr   inf_du lg(mu)  ||d||  lg(rg) alpha_du alpha_pr  ls\n",
      " 260  0.0000000e+00 2.58e+04 5.12e+05  -1.0 7.38e+04    -  3.53e-01 4.98e-03h  1\n",
      " 261  0.0000000e+00 2.68e+04 5.25e+06  -1.0 1.45e+05    -  5.24e-01 5.23e-02h  1\n",
      " 262  0.0000000e+00 2.68e+04 6.73e+08  -1.0 1.01e+05    -  9.06e-02 7.60e-04h  1\n",
      " 263r 0.0000000e+00 2.68e+04 1.00e+03   0.5 0.00e+00    -  0.00e+00 3.01e-07R  6\n",
      " 264r 0.0000000e+00 2.66e+04 1.94e+04   0.5 3.35e+03    -  6.06e-03 9.91e-04f  1\n",
      " 265  0.0000000e+00 2.58e+04 5.30e+04  -1.0 6.92e+04    -  4.83e-01 3.60e-02f  1\n",
      " 266  0.0000000e+00 2.57e+04 7.43e+05  -1.0 1.11e+05    -  1.03e-01 4.42e-03h  1\n",
      " 267  0.0000000e+00 2.56e+04 1.80e+07  -1.0 1.28e+05    -  3.39e-01 1.59e-02h  1\n",
      " 268  0.0000000e+00 2.56e+04 7.64e+09  -1.0 9.92e+04    -  8.87e-02 2.06e-04h  1\n",
      " 269r 0.0000000e+00 2.56e+04 1.00e+03  -0.2 0.00e+00    -  0.00e+00 2.59e-07R  5\n",
      "iter    objective    inf_pr   inf_du lg(mu)  ||d||  lg(rg) alpha_du alpha_pr  ls\n",
      " 270r 0.0000000e+00 2.48e+04 3.26e+03  -0.2 1.79e+04    -  3.61e-03 9.91e-04f  1\n",
      " 271  0.0000000e+00 2.46e+04 7.23e+04  -1.0 6.94e+04    -  4.83e-01 9.59e-03f  1\n",
      " 272  0.0000000e+00 2.45e+04 2.62e+06  -1.0 1.12e+05    -  7.08e-02 3.25e-03h  1\n",
      " 273  0.0000000e+00 2.45e+04 2.34e+08  -1.0 1.17e+05    -  2.23e-01 2.66e-03h  1\n",
      " 274  0.0000000e+00 2.45e+04 6.07e+11  -1.0 1.08e+05    -  7.96e-02 2.89e-05h  1\n",
      " 275  0.0000000e+00 2.45e+04 3.09e+16  -1.0 5.39e+05    -  9.90e-01 1.88e-05h  1\n",
      " 276  0.0000000e+00 2.44e+04 3.09e+14  -1.0 2.39e-06  15.8 9.90e-01 7.13e-01h  1\n",
      " 277  0.0000000e+00 2.44e+04 2.50e+12  -1.0 1.32e-06  16.2 9.92e-01 1.28e-02h  1\n",
      " 278  0.0000000e+00 2.44e+04 1.14e+10  -1.0 6.32e-06  15.8 1.00e+00 4.23e-03h  1\n",
      " 279  0.0000000e+00 2.43e+04 1.58e+10  -1.0 1.43e-06  16.2 1.00e+00 4.13e-01h  1\n",
      "iter    objective    inf_pr   inf_du lg(mu)  ||d||  lg(rg) alpha_du alpha_pr  ls\n",
      " 280  0.0000000e+00 2.41e+04 3.22e+10  -1.0 8.70e-06  15.7 1.00e+00 5.58e-01h  1\n",
      " 281  0.0000000e+00 2.39e+04 4.61e+10  -1.0 3.48e-06  16.1 1.00e+00 8.91e-01h  1\n",
      " 282  0.0000000e+00 2.35e+04 9.77e+10  -1.0 2.95e-05  15.7 1.00e+00 5.46e-01h  1\n",
      " 283  0.0000000e+00 2.31e+04 1.39e+11  -1.0 1.13e-05  16.1 1.00e+00 1.00e+00f  1\n",
      " 284  0.0000000e+00 2.31e+04 6.60e+11  -1.0 3.66e-04  15.6 1.00e+00 1.25e-02h  4\n",
      " 285  0.0000000e+00 2.26e+04 2.48e+11  -1.0 2.21e-05  16.0 1.00e+00 1.00e+00s 22\n",
      " 286r 0.0000000e+00 2.26e+04 1.00e+03  -0.8 0.00e+00  16.5 0.00e+00 0.00e+00R  1\n",
      " 287r 0.0000000e+00 2.10e+04 4.95e+05  -0.8 3.60e+04    -  2.04e-03 1.01e-03f  1\n",
      " 288  0.0000000e+00 2.46e+04 2.45e+05  -1.0 6.94e+04    -  4.83e-01 5.71e-02f  1\n",
      " 289  0.0000000e+00 2.38e+04 1.08e+06  -1.0 5.58e+04    -  3.63e-02 1.51e-01f  2\n",
      "iter    objective    inf_pr   inf_du lg(mu)  ||d||  lg(rg) alpha_du alpha_pr  ls\n",
      " 290  0.0000000e+00 2.31e+04 1.34e+06  -1.0 5.27e+04    -  7.92e-01 5.91e-02f  3\n",
      " 291  0.0000000e+00 1.35e+04 2.11e+06  -1.0 5.66e+03    -  1.68e-01 5.02e-01h  1\n",
      " 292  0.0000000e+00 1.68e+04 2.89e+08  -1.0 1.29e+04    -  1.57e-01 7.49e-01H  1\n",
      " 293  0.0000000e+00 1.39e+04 1.64e+09  -1.0 1.68e+04    -  8.12e-02 1.76e-01H  1\n",
      " 294  0.0000000e+00 1.38e+04 4.25e+11  -1.0 1.51e+04    -  3.19e-01 3.04e-03H  1\n",
      "In iteration 294, 1 Slack too small, adjusting variable bound\n",
      " 295  0.0000000e+00 1.38e+04 8.06e+15  -1.0 1.57e+04    -  6.05e-01 3.23e-05F  1\n",
      " 296  0.0000000e+00 1.30e+04 1.48e+18  -1.0 3.37e+04    -  1.17e-04 9.55e-02f  2\n",
      " 297r 0.0000000e+00 1.30e+04 1.00e+03  -1.0 0.00e+00    -  0.00e+00 4.03e-07R  5\n",
      " 298r 0.0000000e+00 1.26e+04 1.51e+05  -1.0 6.59e+04    -  5.36e-04 5.34e-04f  1\n",
      " 299  0.0000000e+00 7.03e+03 8.67e+05  -1.0 1.65e+04    -  9.78e-01 5.10e-01h  1\n",
      "iter    objective    inf_pr   inf_du lg(mu)  ||d||  lg(rg) alpha_du alpha_pr  ls\n",
      " 300  0.0000000e+00 6.79e+03 6.63e+08  -1.0 4.17e+03    -  9.90e-01 3.36e-02h  5\n",
      " 301  0.0000000e+00 6.76e+03 1.95e+09  -1.0 3.32e+03    -  9.92e-01 4.21e-03h  8\n",
      " 302  0.0000000e+00 6.75e+03 4.34e+09  -1.0 4.06e+03    -  1.00e+00 2.11e-03h  9\n",
      " 303  0.0000000e+00 6.73e+03 8.70e+09  -1.0 3.47e+03    -  1.00e+00 2.11e-03h  9\n"
     ]
    },
    {
     "name": "stdout",
     "output_type": "stream",
     "text": [
      " 304  0.0000000e+00 6.72e+03 1.67e+10  -1.0 3.57e+03    -  1.00e+00 2.11e-03h  9\n",
      " 305  0.0000000e+00 6.71e+03 3.12e+10  -1.0 2.93e+03    -  1.00e+00 2.11e-03h  9\n",
      " 306  0.0000000e+00 6.69e+03 5.77e+10  -1.0 2.05e+03    -  1.00e+00 2.11e-03h  9\n",
      " 307  0.0000000e+00 6.68e+03 1.06e+11  -1.0 2.10e+03    -  1.00e+00 2.12e-03h  9\n",
      " 308  0.0000000e+00 6.66e+03 1.63e+11  -1.0 4.82e+03    -  6.61e-01 2.13e-03h  9\n",
      " 309  0.0000000e+00 6.65e+03 2.08e+11  -1.0 1.10e+04    -  3.54e-01 2.15e-03h  9\n",
      "iter    objective    inf_pr   inf_du lg(mu)  ||d||  lg(rg) alpha_du alpha_pr  ls\n",
      " 310  0.0000000e+00 9.25e+03 1.50e+11  -1.0 1.38e+04    -  3.02e-01 5.52e-01w  1\n",
      " 311  0.0000000e+00 7.29e+03 7.08e+12  -1.0 3.04e+03    -  2.54e-01 9.91e-01w  1\n",
      " 312  0.0000000e+00 7.84e+03 6.96e+12  -1.0 2.07e+05    -  2.90e-02 3.48e-02w  1\n",
      " 313  0.0000000e+00 6.63e+03 2.58e+11  -1.0 7.02e+03    -  3.02e-01 2.16e-03h  8\n",
      " 314  0.0000000e+00 6.62e+03 3.17e+11  -1.0 1.62e+04    -  2.98e-01 2.16e-03h  9\n",
      " 315  0.0000000e+00 6.61e+03 3.87e+11  -1.0 1.76e+04    -  2.81e-01 2.17e-03h  9\n",
      " 316  0.0000000e+00 6.59e+03 4.73e+11  -1.0 1.86e+04    -  2.84e-01 2.17e-03h  9\n",
      " 317  0.0000000e+00 6.58e+03 5.75e+11  -1.0 1.92e+04    -  2.79e-01 2.17e-03h  9\n",
      " 318  0.0000000e+00 6.56e+03 7.02e+11  -1.0 1.96e+04    -  2.83e-01 2.16e-03h  9\n",
      " 319  0.0000000e+00 6.55e+03 8.56e+11  -1.0 1.98e+04    -  2.83e-01 2.15e-03h  9\n",
      "iter    objective    inf_pr   inf_du lg(mu)  ||d||  lg(rg) alpha_du alpha_pr  ls\n",
      " 320  0.0000000e+00 6.53e+03 1.21e+12  -1.0 1.30e+04    -  5.18e-01 2.16e-03h  9\n",
      " 321  0.0000000e+00 6.52e+03 1.37e+12  -1.0 2.35e+04    -  1.72e-01 1.90e-03h  9\n",
      " 322  0.0000000e+00 6.51e+03 1.90e+12  -1.0 2.41e+04    -  5.03e-01 1.84e-03h  9\n",
      " 323  0.0000000e+00 1.81e+04 1.25e+12  -1.0 2.09e+04    -  2.01e-01 5.38e-01w  1\n",
      " 324  0.0000000e+00 7.70e+03 1.19e+13  -1.0 8.85e+02    -  9.74e-02 9.90e-01w  1\n",
      " 325  0.0000000e+00 6.09e+03 1.78e+13  -1.0 1.05e+04    -  1.08e-01 4.40e-01w  1\n",
      " 326  0.0000000e+00 6.50e+03 2.19e+12  -1.0 1.39e+04    -  2.01e-01 2.10e-03h  8\n",
      " 327  0.0000000e+00 6.48e+03 3.05e+12  -1.0 2.10e+04    -  5.02e-01 2.09e-03h  9\n",
      " 328  0.0000000e+00 6.47e+03 3.56e+12  -1.0 1.99e+04    -  2.17e-01 2.15e-03h  9\n",
      " 329  0.0000000e+00 6.45e+03 4.96e+12  -1.0 2.01e+04    -  5.02e-01 2.14e-03h  9\n",
      "iter    objective    inf_pr   inf_du lg(mu)  ||d||  lg(rg) alpha_du alpha_pr  ls\n",
      " 330  0.0000000e+00 6.44e+03 5.83e+12  -1.0 1.96e+04    -  2.27e-01 2.16e-03h  9\n",
      " 331  0.0000000e+00 6.43e+03 8.13e+12  -1.0 1.97e+04    -  5.07e-01 2.16e-03h  9\n",
      " 332  0.0000000e+00 6.41e+03 9.60e+12  -1.0 1.95e+04    -  2.35e-01 2.17e-03h  9\n",
      " 333  0.0000000e+00 6.40e+03 1.35e+13  -1.0 1.95e+04    -  5.16e-01 2.17e-03h  9\n",
      " 334  0.0000000e+00 6.39e+03 1.60e+13  -1.0 1.94e+04    -  2.42e-01 2.17e-03h  9\n",
      " 335  0.0000000e+00 6.37e+03 2.25e+13  -1.0 1.93e+04    -  5.27e-01 2.17e-03h  9\n",
      " 336  0.0000000e+00 1.66e+04 1.70e+13  -1.0 1.93e+04    -  2.48e-01 5.57e-01w  1\n",
      " 337  0.0000000e+00 7.53e+03 7.80e+14  -1.0 7.02e+02    -  8.57e-02 9.91e-01w  1\n",
      " 338  0.0000000e+00 7.46e+03 7.57e+14  -1.0 5.98e+04    -  9.81e-02 1.12e-02w  1\n",
      " 339  0.0000000e+00 6.36e+03 2.68e+13  -1.0 4.19e+02    -  2.48e-01 2.18e-03h  8\n",
      "iter    objective    inf_pr   inf_du lg(mu)  ||d||  lg(rg) alpha_du alpha_pr  ls\n",
      " 340  0.0000000e+00 6.34e+03 3.81e+13  -1.0 1.92e+04    -  5.39e-01 2.18e-03h  9\n",
      " 341  0.0000000e+00 6.33e+03 4.55e+13  -1.0 1.92e+04    -  2.54e-01 2.18e-03h  9\n",
      " 342  0.0000000e+00 6.32e+03 6.51e+13  -1.0 1.91e+04    -  5.52e-01 2.18e-03h  9\n",
      " 343  0.0000000e+00 6.30e+03 7.81e+13  -1.0 1.91e+04    -  2.60e-01 2.18e-03h  9\n",
      " 344  0.0000000e+00 6.29e+03 1.13e+14  -1.0 1.90e+04    -  5.66e-01 2.18e-03h  9\n",
      " 345  0.0000000e+00 6.27e+03 1.35e+14  -1.0 1.90e+04    -  2.65e-01 2.18e-03h  9\n",
      " 346  0.0000000e+00 6.26e+03 1.97e+14  -1.0 1.89e+04    -  5.80e-01 2.18e-03h  9\n",
      " 347  0.0000000e+00 6.25e+03 2.37e+14  -1.0 1.89e+04    -  2.71e-01 2.18e-03h  9\n",
      " 348  0.0000000e+00 6.23e+03 3.47e+14  -1.0 1.88e+04    -  5.94e-01 2.18e-03h  9\n",
      " 349  0.0000000e+00 1.59e+04 2.54e+14  -1.0 1.88e+04    -  2.76e-01 5.58e-01w  1\n",
      "iter    objective    inf_pr   inf_du lg(mu)  ||d||  lg(rg) alpha_du alpha_pr  ls\n",
      " 350  0.0000000e+00 7.09e+03 1.18e+16  -1.0 6.83e+02    -  1.49e-01 9.91e-01w  1\n",
      " 351  0.0000000e+00 7.06e+03 1.16e+16  -1.0 4.04e+04    -  1.51e-01 5.51e-03w  1\n",
      " 352  0.0000000e+00 6.22e+03 4.21e+14  -1.0 4.21e+02    -  2.76e-01 2.18e-03h  8\n",
      " 353  0.0000000e+00 6.21e+03 6.20e+14  -1.0 1.87e+04    -  6.09e-01 2.18e-03h  9\n",
      " 354  0.0000000e+00 6.19e+03 7.53e+14  -1.0 1.88e+04    -  2.81e-01 2.17e-03h  9\n",
      " 355  0.0000000e+00 6.18e+03 1.12e+15  -1.0 1.87e+04    -  6.23e-01 2.17e-03h  9\n",
      " 356  0.0000000e+00 6.17e+03 1.36e+15  -1.0 1.87e+04    -  2.87e-01 2.16e-03h  9\n",
      " 357  0.0000000e+00 6.15e+03 2.04e+15  -1.0 1.86e+04    -  6.38e-01 2.17e-03h  9\n",
      " 358  0.0000000e+00 6.14e+03 2.49e+15  -1.0 1.86e+04    -  2.92e-01 2.16e-03h  9\n",
      " 359  0.0000000e+00 6.13e+03 3.76e+15  -1.0 1.85e+04    -  6.53e-01 2.16e-03h  9\n",
      "iter    objective    inf_pr   inf_du lg(mu)  ||d||  lg(rg) alpha_du alpha_pr  ls\n",
      " 360  0.0000000e+00 6.11e+03 4.61e+15  -1.0 1.85e+04    -  2.97e-01 2.15e-03h  9\n",
      " 361  0.0000000e+00 6.10e+03 6.99e+15  -1.0 1.84e+04    -  6.68e-01 2.16e-03h  9\n",
      " 362  0.0000000e+00 1.47e+04 4.57e+15  -1.0 1.84e+04    -  3.02e-01 5.49e-01w  1\n",
      " 363  0.0000000e+00 6.43e+03 8.73e+16  -1.0 6.80e+02    -  3.24e-01 9.90e-01w  1\n",
      " 364  0.0000000e+00 6.28e+03 8.01e+16  -1.0 8.13e+03    -  7.01e-01 2.38e-02w  1\n",
      " 365  0.0000000e+00 6.09e+03 8.61e+15  -1.0 4.14e+02    -  3.02e-01 2.15e-03h  8\n",
      " 366  0.0000000e+00 6.07e+03 1.32e+16  -1.0 1.83e+04    -  6.83e-01 2.15e-03h  9\n",
      " 367  0.0000000e+00 6.06e+03 1.62e+16  -1.0 1.83e+04    -  3.07e-01 2.14e-03h  9\n",
      " 368  0.0000000e+00 6.05e+03 2.50e+16  -1.0 1.82e+04    -  6.98e-01 2.14e-03h  9\n",
      " 369  0.0000000e+00 6.03e+03 3.10e+16  -1.0 1.82e+04    -  3.12e-01 2.14e-03h  9\n",
      "iter    objective    inf_pr   inf_du lg(mu)  ||d||  lg(rg) alpha_du alpha_pr  ls\n",
      " 370  0.0000000e+00 6.02e+03 4.81e+16  -1.0 1.81e+04    -  7.13e-01 2.14e-03h  9\n",
      " 371  0.0000000e+00 6.01e+03 5.97e+16  -1.0 1.81e+04    -  3.17e-01 2.13e-03h  9\n",
      " 372  0.0000000e+00 6.00e+03 9.33e+16  -1.0 1.80e+04    -  7.29e-01 2.14e-03h  9\n",
      " 373  0.0000000e+00 5.98e+03 1.16e+17  -1.0 1.80e+04    -  3.22e-01 2.13e-03h  9\n",
      " 374  0.0000000e+00 5.97e+03 1.83e+17  -1.0 1.79e+04    -  7.44e-01 2.13e-03h  9\n",
      " 375  0.0000000e+00 1.36e+04 1.09e+17  -1.0 1.79e+04    -  3.28e-01 5.44e-01w  1\n",
      " 376  0.0000000e+00 5.90e+03 1.47e+18  -1.0 6.74e+02    -  4.59e-01 9.90e-01w  1\n",
      " 377  0.0000000e+00 4.63e+03 1.10e+18  -1.0 7.56e+02    -  1.00e+00 2.18e-01w  1\n",
      " 378  0.0000000e+00 1.76e+02 3.94e+16  -1.0 3.32e+02    -  9.72e-01 1.00e+00h  1\n",
      " 379  0.0000000e+00 1.76e-01 3.87e+15  -1.0 2.17e+00    -  9.38e-01 1.00e+00h  1\n",
      "iter    objective    inf_pr   inf_du lg(mu)  ||d||  lg(rg) alpha_du alpha_pr  ls\n",
      " 380  0.0000000e+00 2.36e-06 9.71e+12  -1.0 1.38e-01    -  9.90e-01 1.00e+00f  1\n",
      " 381  0.0000000e+00 2.19e-02 2.03e+12  -1.0 1.34e+01    -  7.92e-01 1.00e+00f  1\n",
      " 382  0.0000000e+00 5.23e-01 1.40e+12  -1.0 6.56e+01    -  3.12e-01 1.00e+00f  1\n",
      " 383  0.0000000e+00 1.16e+00 5.38e+11  -1.0 9.76e+01    -  6.15e-01 1.00e+00f  1\n",
      " 384  0.0000000e+00 8.83e+00 2.36e+11  -1.0 2.69e+02    -  5.60e-01 1.00e+00f  1\n",
      " 385  0.0000000e+00 6.02e+01 1.09e+11  -1.0 7.01e+02    -  5.38e-01 1.00e+00f  1\n",
      " 386  0.0000000e+00 2.51e+00 5.54e+10  -1.0 2.01e+03    -  4.92e-01 1.00e+00F  1\n",
      " 387  0.0000000e+00 2.24e+02 5.54e+10  -1.0 1.31e+06    -  2.38e-03 1.01e-03f  5\n",
      " 388  0.0000000e+00 2.68e+02 1.33e+10  -1.0 2.34e+04    -  7.86e-01 2.64e-02h  6\n",
      " 389  0.0000000e+00 1.72e+02 3.65e+09  -1.0 7.70e+03    -  7.18e-01 1.00e+00H  1\n",
      "iter    objective    inf_pr   inf_du lg(mu)  ||d||  lg(rg) alpha_du alpha_pr  ls\n",
      " 390  0.0000000e+00 3.44e+01 2.12e+06  -1.0 4.58e+03    -  1.00e+00 1.00e+00H  1\n",
      " 391  0.0000000e+00 8.52e+00 3.96e+07  -1.7 2.36e+02    -  1.00e+00 1.00e+00h  1\n",
      " 392  0.0000000e+00 1.44e+02 7.44e+03  -1.7 9.71e+02    -  1.00e+00 1.00e+00h  1\n",
      " 393  0.0000000e+00 1.17e-04 3.09e+04  -2.5 8.28e-01    -  1.00e+00 1.00e+00h  1\n",
      " 394  0.0000000e+00 6.17e-04 1.03e-02  -2.5 2.21e+00    -  1.00e+00 1.00e+00h  1\n",
      " 395  0.0000000e+00 6.71e-08 5.81e+00  -7.0 2.47e-06    -  1.00e+00 1.00e+00h  1\n",
      " 396  0.0000000e+00 8.20e-08 8.81e-10  -7.0 1.90e-04    -  1.00e+00 1.00e+00h  1\n",
      "\n",
      "Number of Iterations....: 396\n",
      "\n",
      "                                   (scaled)                 (unscaled)\n"
     ]
    },
    {
     "name": "stdout",
     "output_type": "stream",
     "text": [
      "Objective...............:   0.0000000000000000e+00    0.0000000000000000e+00\n",
      "Dual infeasibility......:   8.8079467308911410e-10    8.8079467308911410e-10\n",
      "Constraint violation....:   2.9103830456733704e-11    8.1956386566162109e-08\n",
      "Complementarity.........:   9.0909090909091298e-08    9.0909090909091298e-08\n",
      "Overall NLP error.......:   7.3586953589023978e-09    9.0909090909091298e-08\n",
      "\n",
      "\n",
      "Number of objective function evaluations             = 3210\n",
      "Number of objective gradient evaluations             = 397\n",
      "Number of equality constraint evaluations            = 3210\n",
      "Number of inequality constraint evaluations          = 0\n",
      "Number of equality constraint Jacobian evaluations   = 403\n",
      "Number of inequality constraint Jacobian evaluations = 0\n",
      "Number of Lagrangian Hessian evaluations             = 396\n",
      "Total CPU secs in IPOPT (w/o function evaluations)   =      0.621\n",
      "Total CPU secs in NLP function evaluations           =      0.092\n",
      "\n",
      "EXIT: Optimal Solution Found.\n"
     ]
    }
   ],
   "source": [
    "# Create the solver object\n",
    "solver = SolverFactory('ipopt')\n",
    "solver.options = {'tol': 1e-6, 'max_iter': 5000}\n",
    "\n",
    "# Solve the model\n",
    "results = solver.solve(m, tee=True)"
   ]
  },
  {
   "cell_type": "code",
   "execution_count": 41,
   "metadata": {},
   "outputs": [],
   "source": [
    "# For testing purposes\n",
    "from pyomo.environ import TerminationCondition\n",
    "assert results.solver.termination_condition == TerminationCondition.optimal"
   ]
  },
  {
   "cell_type": "markdown",
   "metadata": {},
   "source": [
    "Analyze the results of the square problem\n",
    "-------------------------\n",
    "\n",
    "What is the total operating cost? "
   ]
  },
  {
   "cell_type": "code",
   "execution_count": 42,
   "metadata": {},
   "outputs": [
    {
     "name": "stdout",
     "output_type": "stream",
     "text": [
      "operating cost = $ 404944.6501353814\n"
     ]
    }
   ],
   "source": [
    "print('operating cost = $', value(m.fs.operating_cost))"
   ]
  },
  {
   "cell_type": "markdown",
   "metadata": {},
   "source": [
    "For this operating cost, what is the amount of benzene we are able to produce and what purity we are able to achieve? "
   ]
  },
  {
   "cell_type": "code",
   "execution_count": 43,
   "metadata": {},
   "outputs": [
    {
     "name": "stdout",
     "output_type": "stream",
     "text": [
      "\n",
      "====================================================================================\n",
      "Unit : fs.F102                                                             Time: 0.0\n",
      "------------------------------------------------------------------------------------\n",
      "    Unit Performance\n",
      "\n",
      "    Variables: \n",
      "\n",
      "    Key             : Value       : Fixed : Bounds\n",
      "          Heat Duty :      3878.5 : False : (None, None)\n",
      "    Pressure Change : -2.0000e+05 :  True : (None, None)\n",
      "\n",
      "------------------------------------------------------------------------------------\n",
      "    Stream Table\n",
      "                                               Inlet    Vapor Outlet  Liquid Outlet\n",
      "    flow_mol_phase_comp ('Liq', 'benzene')     0.18713   1.0000e-08       0.13938  \n",
      "    flow_mol_phase_comp ('Liq', 'toluene')    0.081976   1.0000e-08      0.071799  \n",
      "    flow_mol_phase_comp ('Liq', 'hydrogen') 2.6910e-07   1.0000e-08    2.1118e-07  \n",
      "    flow_mol_phase_comp ('Liq', 'methane')  2.6910e-07   1.0000e-08    2.1118e-07  \n",
      "    flow_mol_phase_comp ('Vap', 'benzene')  1.0000e-08     0.047743    1.0000e-08  \n",
      "    flow_mol_phase_comp ('Vap', 'toluene')  1.0000e-08     0.010177    1.0000e-08  \n",
      "    flow_mol_phase_comp ('Vap', 'hydrogen') 1.0000e-08   6.7920e-08    1.0000e-08  \n",
      "    flow_mol_phase_comp ('Vap', 'methane')  1.0000e-08   6.7920e-08    1.0000e-08  \n",
      "    temperature                                 325.00       375.00        375.00  \n",
      "    pressure                                3.5000e+05   1.5000e+05    1.5000e+05  \n",
      "====================================================================================\n",
      "\n",
      "benzene purity =  0.8242960919828991\n"
     ]
    }
   ],
   "source": [
    "m.fs.F102.report()\n",
    "\n",
    "print()\n",
    "print('benzene purity = ', value(m.fs.purity))"
   ]
  },
  {
   "cell_type": "markdown",
   "metadata": {},
   "source": [
    "Next, let's look at how much benzene we are loosing with the light gases out of F101. IDAES has tools for creating stream tables based on the `Arcs` and/or `Ports` in a flowsheet. Let us create and print a simple stream table showing the stream leaving the reactor and the vapor stream from F101.\n",
    "\n",
    "<div class=\"alert alert-block alert-info\">\n",
    "<b>Inline Exercise:</b>\n",
    "How much benzene are we losing in the F101 vapor outlet stream?\n",
    "</div>\n"
   ]
  },
  {
   "cell_type": "code",
   "execution_count": 44,
   "metadata": {},
   "outputs": [
    {
     "data": {
      "text/html": [
       "<div>\n",
       "<style scoped>\n",
       "    .dataframe tbody tr th:only-of-type {\n",
       "        vertical-align: middle;\n",
       "    }\n",
       "\n",
       "    .dataframe tbody tr th {\n",
       "        vertical-align: top;\n",
       "    }\n",
       "\n",
       "    .dataframe thead th {\n",
       "        text-align: right;\n",
       "    }\n",
       "</style>\n",
       "<table border=\"1\" class=\"dataframe\">\n",
       "  <thead>\n",
       "    <tr style=\"text-align: right;\">\n",
       "      <th></th>\n",
       "      <th>Reactor</th>\n",
       "      <th>Light Gases</th>\n",
       "    </tr>\n",
       "  </thead>\n",
       "  <tbody>\n",
       "    <tr>\n",
       "      <td>flow_mol_phase_comp ('Liq', 'benzene')</td>\n",
       "      <td>0.167639</td>\n",
       "      <td>1.000000e-08</td>\n",
       "    </tr>\n",
       "    <tr>\n",
       "      <td>flow_mol_phase_comp ('Liq', 'toluene')</td>\n",
       "      <td>0.023130</td>\n",
       "      <td>1.000000e-08</td>\n",
       "    </tr>\n",
       "    <tr>\n",
       "      <td>flow_mol_phase_comp ('Liq', 'hydrogen')</td>\n",
       "      <td>0.207166</td>\n",
       "      <td>1.000000e-08</td>\n",
       "    </tr>\n",
       "    <tr>\n",
       "      <td>flow_mol_phase_comp ('Liq', 'methane')</td>\n",
       "      <td>0.487846</td>\n",
       "      <td>1.000000e-08</td>\n",
       "    </tr>\n",
       "    <tr>\n",
       "      <td>flow_mol_phase_comp ('Vap', 'benzene')</td>\n",
       "      <td>0.154129</td>\n",
       "      <td>1.346430e-01</td>\n",
       "    </tr>\n",
       "    <tr>\n",
       "      <td>flow_mol_phase_comp ('Vap', 'toluene')</td>\n",
       "      <td>0.079048</td>\n",
       "      <td>2.020218e-02</td>\n",
       "    </tr>\n",
       "    <tr>\n",
       "      <td>flow_mol_phase_comp ('Vap', 'hydrogen')</td>\n",
       "      <td>0.222913</td>\n",
       "      <td>4.300786e-01</td>\n",
       "    </tr>\n",
       "    <tr>\n",
       "      <td>flow_mol_phase_comp ('Vap', 'methane')</td>\n",
       "      <td>0.682373</td>\n",
       "      <td>1.170219e+00</td>\n",
       "    </tr>\n",
       "    <tr>\n",
       "      <td>temperature</td>\n",
       "      <td>830.063048</td>\n",
       "      <td>3.250000e+02</td>\n",
       "    </tr>\n",
       "    <tr>\n",
       "      <td>pressure</td>\n",
       "      <td>349999.999191</td>\n",
       "      <td>3.500000e+05</td>\n",
       "    </tr>\n",
       "  </tbody>\n",
       "</table>\n",
       "</div>"
      ],
      "text/plain": [
       "                                               Reactor   Light Gases\n",
       "flow_mol_phase_comp ('Liq', 'benzene')        0.167639  1.000000e-08\n",
       "flow_mol_phase_comp ('Liq', 'toluene')        0.023130  1.000000e-08\n",
       "flow_mol_phase_comp ('Liq', 'hydrogen')       0.207166  1.000000e-08\n",
       "flow_mol_phase_comp ('Liq', 'methane')        0.487846  1.000000e-08\n",
       "flow_mol_phase_comp ('Vap', 'benzene')        0.154129  1.346430e-01\n",
       "flow_mol_phase_comp ('Vap', 'toluene')        0.079048  2.020218e-02\n",
       "flow_mol_phase_comp ('Vap', 'hydrogen')       0.222913  4.300786e-01\n",
       "flow_mol_phase_comp ('Vap', 'methane')        0.682373  1.170219e+00\n",
       "temperature                                 830.063048  3.250000e+02\n",
       "pressure                                 349999.999191  3.500000e+05"
      ]
     },
     "execution_count": 44,
     "metadata": {},
     "output_type": "execute_result"
    }
   ],
   "source": [
    "from idaes.core.util.tables import create_stream_table_dataframe, stream_table_dataframe_to_string\n",
    "\n",
    "st = create_stream_table_dataframe({\"Reactor\": m.fs.s05, \"Light Gases\": m.fs.s06})\n",
    "st"
   ]
  },
  {
   "cell_type": "markdown",
   "metadata": {},
   "source": [
    "<div class=\"alert alert-block alert-info\">\n",
    "<b>Inline Exercise:</b>\n",
    "You can querry additional variables here if you like. \n",
    "\n",
    "Use Shift+Enter to run the cell once you have typed in your code. \n",
    "</div>\n"
   ]
  }
 ],
 "metadata": {
  "kernelspec": {
   "display_name": "Python 3",
   "language": "python",
   "name": "python3"
  },
  "language_info": {
   "codemirror_mode": {
    "name": "ipython",
    "version": 3
   },
   "file_extension": ".py",
   "mimetype": "text/x-python",
   "name": "python",
   "nbconvert_exporter": "python",
   "pygments_lexer": "ipython3",
   "version": "3.7.3"
  }
 },
 "nbformat": 4,
 "nbformat_minor": 4
}
