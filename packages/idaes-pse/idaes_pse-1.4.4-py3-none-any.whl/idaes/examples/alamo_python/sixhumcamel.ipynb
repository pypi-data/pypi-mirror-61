{
 "cells": [
  {
   "cell_type": "code",
   "execution_count": 5,
   "metadata": {
    "collapsed": false
   },
   "outputs": [],
   "source": [
    "from idaes.surrogate import alamopy"
   ]
  },
  {
   "cell_type": "code",
   "execution_count": 6,
   "metadata": {
    "collapsed": false
   },
   "outputs": [
    {
     "name": "stdout",
     "output_type": "stream",
     "text": [
      "Xmin and Xmax are not provided, they will be calculated from the training dataCalling ALAMO now:\n",
      "Model:   z1 = 3.9999999999968549602158 * x1^2 - 4.0000000000016893153543 * x2^2 - 2.0999999999942859929547 * x1^4 + 3.9999999999979980458420 * x2^4 + 0.33333333333177506130340 * x1^6 + 1.0000000000008886225089 * x1*x2\n"
     ]
    }
   ],
   "source": [
    "execfile('camel6.py')"
   ]
  },
  {
   "cell_type": "code",
   "execution_count": 7,
   "metadata": {
    "collapsed": false
   },
   "outputs": [],
   "source": [
    "import pyomo.environ as pyo\n",
    "model = pyo.ConcreteModel()\n",
    "opt = pyo.SolverFactory('baron')\n",
    "model.x1 = pyo.Var()\n",
    "model.x2 = pyo.Var()\n",
    "def pyomo_model(model):\n",
    "    import cam6alm\n",
    "    return cam6alm.f(model.x1,model.x2)\n",
    "model.obj = pyo.Objective(rule = pyomo_model)\n",
    "results = opt.solve(model)"
   ]
  },
  {
   "cell_type": "code",
   "execution_count": 8,
   "metadata": {
    "collapsed": false
   },
   "outputs": [
    {
     "name": "stdout",
     "output_type": "stream",
     "text": [
      "\n",
      "Problem: \n",
      "- Name: problem\n",
      "  Lower bound: -1e+51\n",
      "  Upper bound: -1.03162845349\n",
      "  Number of objectives: 1\n",
      "  Number of constraints: 1\n",
      "  Number of variables: 3\n",
      "  Sense: unknown\n",
      "Solver: \n",
      "- Status: ok\n",
      "  Termination condition: unknown\n",
      "  Error rc: 0\n",
      "  Time: 0.753000020981\n",
      "Solution: \n",
      "- number of solutions: 1\n",
      "  number of solutions displayed: 1\n",
      "- Gap: 1e+51\n",
      "  Status: feasible\n",
      "  Message: None\n",
      "  Objective:\n",
      "    obj:\n",
      "      Value: -1.03162845349\n",
      "  Variable:\n",
      "    x1:\n",
      "      Value: 0.0898426337843\n",
      "    x2:\n",
      "      Value: -0.712656468875\n",
      "  Constraint: No values\n",
      "\n"
     ]
    }
   ],
   "source": [
    "model.solutions.store_to(results)\n",
    "print results"
   ]
  },
  {
   "cell_type": "code",
   "execution_count": null,
   "metadata": {
    "collapsed": true
   },
   "outputs": [],
   "source": []
  }
 ],
 "metadata": {
  "kernelspec": {
   "display_name": "Python 2",
   "language": "python",
   "name": "python2"
  },
  "language_info": {
   "codemirror_mode": {
    "name": "ipython",
    "version": 2
   },
   "file_extension": ".py",
   "mimetype": "text/x-python",
   "name": "python",
   "nbconvert_exporter": "python",
   "pygments_lexer": "ipython2",
   "version": "2.7.13"
  }
 },
 "nbformat": 4,
 "nbformat_minor": 2
}
