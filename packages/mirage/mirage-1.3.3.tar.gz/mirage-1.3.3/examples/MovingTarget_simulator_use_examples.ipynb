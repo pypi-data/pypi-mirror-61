{
 "cells": [
  {
   "cell_type": "markdown",
   "metadata": {},
   "source": [
    "# Example: Using MIRAGE to Generate Moving Target Exposures\n",
    "### (i.e. Solar System target observations)"
   ]
  },
  {
   "cell_type": "markdown",
   "metadata": {},
   "source": [
    "The `mirage` simulator is broken up into three basic stages:\n",
    "\n",
    "1. **Creation of a \"seed image\".**<br>\n",
    "   This is generally a noiseless countrate image that contains signal\n",
    "   only from the astronomical sources to be simulated. Currently, the \n",
    "   mirage package contains code to produce a seed image starting\n",
    "   from object catalogs.<br>\n",
    "   Note that the much larger amount of data in a\n",
    "   seed image containing moving targets means that this step will be significantly\n",
    "   slower than when generating a simple seed image for a sidereal observation.<br><br>\n",
    "   \n",
    "2. **Dark current preparation.**<br>\n",
    "   The simulated data will be created by adding the simulated sources\n",
    "   in the seed image to a real dark current exposure. This step\n",
    "   converts the dark current exposure to the requested readout pattern\n",
    "   and subarray size requested by the user.<br><br>\n",
    "   \n",
    "3. **Observation generation.**<br>\n",
    "   This step converts the seed image into an exposure of the requested\n",
    "   readout pattern and subarray size. It also adds cosmic rays and \n",
    "   Poisson noise, as well as other detector effects (IPC, crosstalk, etc).\n",
    "   This exposure is then added to the dark current exposure from step 2.<br><br>"
   ]
  },
  {
   "cell_type": "markdown",
   "metadata": {},
   "source": [
    "*Table of Contents:*\n",
    "* Single image simulation\n",
    "    * [Running simulator steps independently](#run_steps_independently)\n",
    "    * [Running simulator steps together](#run_steps_together)\n",
    "* [Running multiple simulations](#mult_sims)\n",
    "* [Generating `yaml` files](#make_yaml)\n",
    "* [Example `yaml` file](#yaml_example)"
   ]
  },
  {
   "cell_type": "markdown",
   "metadata": {},
   "source": [
    "---\n",
    "## Getting Started\n",
    "\n",
    "<div class=\"alert alert-block alert-warning\">\n",
    "**Important:** \n",
    "Before proceeding, ensure you have set the MIRAGE_DATA environment variable to point to the directory that contains the reference files associated with MIRAGE.\n",
    "<br/><br/>\n",
    "If you want JWST pipeline calibration reference files to be downloaded in a specific directory, you should also set the CRDS_DATA environment variable to point to that directory. This directory will also be used by the JWST calibration pipeline during data reduction.\n",
    "<br/><br/>\n",
    "You may also want to set the CRDS_SERVER_URL environment variable set to https://jwst-crds.stsci.edu. This is not strictly necessary, and Mirage will do it for you if you do not set it, but if you import the crds package, or any package that imports the crds package, you should set this environment variable first, in order to avoid an error.\n",
    "</div>"
   ]
  },
  {
   "cell_type": "markdown",
   "metadata": {},
   "source": [
    "*Table of Contents:*\n",
    "* [Imports](#imports)\n",
    "* [Generating `yaml` files](#make_yaml)\n",
    "* [Create Simulated Data](#run_steps_together)\n",
    "* [Simulating Multiple Exposures](#mult_sims)\n",
    "* [Running Simulation Steps Independently](#run_steps_independently)\n",
    "* [Example `yaml` file](#yaml_example)"
   ]
  },
  {
   "cell_type": "markdown",
   "metadata": {},
   "source": [
    "---\n",
    "<a id='imports'></a>\n",
    "# Imports"
   ]
  },
  {
   "cell_type": "code",
   "execution_count": null,
   "metadata": {},
   "outputs": [],
   "source": [
    "# Set the MIRAGE_DATA environment variable if it is not\n",
    "# set already. This is for users at STScI.\n",
    "import os"
   ]
  },
  {
   "cell_type": "code",
   "execution_count": null,
   "metadata": {},
   "outputs": [],
   "source": [
    "#os.environ[\"MIRAGE_DATA\"] = \"/my/mirage_data/\"\n",
    "#os.environ[\"CRDS_DATA\"] = \"/user/myself/crds_cache\"\n",
    "#os.environ[\"CRDS_SERVER_URL\"] = \"https://jwst-crds.stsci.edu\""
   ]
  },
  {
   "cell_type": "code",
   "execution_count": null,
   "metadata": {},
   "outputs": [],
   "source": [
    "# For examining outputs\n",
    "from glob import glob\n",
    "from scipy.stats import sigmaclip\n",
    "import numpy as np\n",
    "from astropy.io import fits\n",
    "import matplotlib.pyplot as plt\n",
    "%matplotlib inline"
   ]
  },
  {
   "cell_type": "code",
   "execution_count": null,
   "metadata": {},
   "outputs": [],
   "source": [
    "# mirage imports\n",
    "from mirage import imaging_simulator\n",
    "from mirage.seed_image import catalog_seed_image\n",
    "from mirage.dark import dark_prep\n",
    "from mirage.ramp_generator import obs_generator\n",
    "from mirage.yaml import yaml_generator"
   ]
  },
  {
   "cell_type": "markdown",
   "metadata": {},
   "source": [
    "---\n",
    "<a id='make_yaml'></a>\n",
    "# Generating input yaml files"
   ]
  },
  {
   "cell_type": "markdown",
   "metadata": {},
   "source": [
    "Note that Mirage does not yet support the automated creation of yaml files from an APT file for solar system targets. For the time being, the easiest work-around for this is to start with an existing yaml file (such at that on the [example yaml page of the documentation](https://mirage-data-simulator.readthedocs.io/en/latest/example_yaml.html), and manually edit the input fields. Remember to set the `Telescope: tracking` entry to `non-sidereal`, so that targets in the `movingTargetToTrack` catalog will remain at a fixed location in the output data, while background targets in the `pointsource`, `galaxyListFile`, and `extended` catalogs will trail across the field of view over the course of each exposure."
   ]
  },
  {
   "cell_type": "markdown",
   "metadata": {},
   "source": [
    "---\n",
    "<a id='run_steps_together'></a>\n",
    "# Create Simulated Data"
   ]
  },
  {
   "cell_type": "markdown",
   "metadata": {},
   "source": [
    "### The imaging simulator class"
   ]
  },
  {
   "cell_type": "markdown",
   "metadata": {},
   "source": [
    "The imaging_simulator.ImgSim class is a wrapper around the three main steps of the simulator (detailed in the [Running simulator steps independently](#run_steps_independently) section below). This convenience function is useful when creating simulated imaging mode data. WFSS data will need to be run in a slightly different way. See the WFSS example notebook for details."
   ]
  },
  {
   "cell_type": "code",
   "execution_count": null,
   "metadata": {},
   "outputs": [],
   "source": [
    "# Specify the yaml input file to use\n",
    "yamlfile = 'movingtarget_example_data/moving_target_test.yaml'"
   ]
  },
  {
   "cell_type": "code",
   "execution_count": null,
   "metadata": {
    "scrolled": true
   },
   "outputs": [],
   "source": [
    "# Run all steps of the imaging simulator for yaml file #1\n",
    "m = imaging_simulator.ImgSim()\n",
    "m.paramfile = yamlfile\n",
    "m.create()"
   ]
  },
  {
   "cell_type": "markdown",
   "metadata": {},
   "source": [
    "### Examine the Output"
   ]
  },
  {
   "cell_type": "code",
   "execution_count": null,
   "metadata": {},
   "outputs": [],
   "source": [
    "def show(array, title, min=0, max=1000):\n",
    "    plt.figure(figsize=(12, 12))\n",
    "    plt.imshow(array, clim=(min, max))\n",
    "    plt.title(title)\n",
    "    plt.colorbar().set_label('DN$^{-}$/s')"
   ]
  },
  {
   "cell_type": "code",
   "execution_count": null,
   "metadata": {},
   "outputs": [],
   "source": [
    "def show_mult(array1, array2, array3, title, min=0, max=1000):\n",
    "    fig = plt.figure(figsize=(18, 18))\n",
    "    a = fig.add_subplot(131)\n",
    "    aplt = plt.imshow(array1, clim=(min, max))\n",
    "    b = fig.add_subplot(132)\n",
    "    bplt = plt.imshow(array2, clim=(min, max))\n",
    "    plt.title(title)\n",
    "    c = fig.add_subplot(133)\n",
    "    cplt = plt.imshow(array3, clim=(min, max))"
   ]
  },
  {
   "cell_type": "markdown",
   "metadata": {},
   "source": [
    "#### Noiseless Seed Image"
   ]
  },
  {
   "cell_type": "markdown",
   "metadata": {},
   "source": [
    "This image is an intermediate product. It contains only the signal from the astronomical sources and background. There are no detector effects, nor cosmic rays added to this count rate image."
   ]
  },
  {
   "cell_type": "code",
   "execution_count": null,
   "metadata": {},
   "outputs": [],
   "source": [
    "# First, look at the noiseless seed image\n",
    "\n",
    "# In this case, the seed image is 4D rather than the\n",
    "# 2D that it is for sidereal targets.\n",
    "# So let's look at just the final frame of the seed image\n",
    "\n",
    "# The non-sidereal target is in the center of the frame and appears\n",
    "# as a normal PSF (although hard to see in this view). All of the \n",
    "# background stars and galaxies are\n",
    "# smeared, since the telescope was not tracking at the sidereal rate.\n",
    "show(m.seedimage[0,-1,:,:], 'Seed Image', max=250)"
   ]
  },
  {
   "cell_type": "markdown",
   "metadata": {},
   "source": [
    "#### Final Output Product"
   ]
  },
  {
   "cell_type": "markdown",
   "metadata": {},
   "source": [
    "Next examine the final output product. The `datatype` parameter in the yaml file specifies that Mirage should save both the raw and linearized versions of the output. Let's look first at the linearized version."
   ]
  },
  {
   "cell_type": "code",
   "execution_count": null,
   "metadata": {},
   "outputs": [],
   "source": [
    "lin_file = 'movingtarget_example_data/jw12345024002_01101_00001_ncrb5_linear.fits'\n",
    "with fits.open(lin_file) as hdulist:\n",
    "    linear_data = hdulist['SCI'].data\n",
    "print(linear_data.shape)"
   ]
  },
  {
   "cell_type": "code",
   "execution_count": null,
   "metadata": {},
   "outputs": [],
   "source": [
    "show(linear_data[0, -1, :, :], \"Final Group\", max=250)"
   ]
  },
  {
   "cell_type": "markdown",
   "metadata": {},
   "source": [
    "Examine the raw output. First a single group, which is dominated by noise and detector artifacts."
   ]
  },
  {
   "cell_type": "code",
   "execution_count": null,
   "metadata": {},
   "outputs": [],
   "source": [
    "raw_file = 'movingtarget_example_data/jw12345024002_01101_00001_ncrb5_uncal.fits'\n",
    "with fits.open(raw_file) as hdulist:\n",
    "    raw_data = hdulist['SCI'].data\n",
    "print(raw_data.shape)"
   ]
  },
  {
   "cell_type": "code",
   "execution_count": null,
   "metadata": {},
   "outputs": [],
   "source": [
    "show(raw_data[0, -1, :, :], \"Final Group\", max=15000)"
   ]
  },
  {
   "cell_type": "markdown",
   "metadata": {},
   "source": [
    "Many of the instrumental artifacts can be removed by looking at the difference between two groups. Raw data values are integers, so first make the data floats before doing the subtraction."
   ]
  },
  {
   "cell_type": "code",
   "execution_count": null,
   "metadata": {},
   "outputs": [],
   "source": [
    "show(1. * raw_data[0, -1, :, :] - 1. * raw_data[0, 0, :, :], \"Last Minus First Group\", max=200)"
   ]
  },
  {
   "cell_type": "markdown",
   "metadata": {},
   "source": [
    "This raw data file is now ready to be run through the [JWST calibration pipeline](https://jwst-pipeline.readthedocs.io/en/stable/) from the beginning. If dark current subtraction is not important for you, you can use Mirage's linear output, skip some of the initial steps of the pipeline, and begin by running the [Jump detection](https://jwst-pipeline.readthedocs.io/en/stable/jwst/jump/index.html?highlight=jump) and [ramp fitting](https://jwst-pipeline.readthedocs.io/en/stable/jwst/ramp_fitting/index.html) steps."
   ]
  },
  {
   "cell_type": "markdown",
   "metadata": {},
   "source": [
    "---\n",
    "<a id='run_steps_independently'></a>\n",
    "# Running simulation steps independently"
   ]
  },
  {
   "cell_type": "markdown",
   "metadata": {},
   "source": [
    "## First generate the \"seed image\" \n",
    "This is generally a 2D noiseless countrate image that contains only simulated astronomical sources. However, when creating data using non-sidereal tracking or for sidereal tracking where a moving target (e.g. asteroid, KBO) are in the field of view, the seed image will in fact be a 3D seed ramp.\n",
    "\n",
    "A seed image is generated based on a `.yaml` file that contains all the necessary parameters for simulating data. An example `.yaml` file is show at the [bottom of this notebook](#yaml_example)."
   ]
  },
  {
   "cell_type": "code",
   "execution_count": null,
   "metadata": {},
   "outputs": [],
   "source": [
    "# yaml file that contains the parameters of the\n",
    "# data to be simulated\n",
    "# Example yaml file shown at the bottom of this\n",
    "# notebook\n",
    "yamlfile = 'movingtarget_example_data/moving_target_test.yaml'"
   ]
  },
  {
   "cell_type": "code",
   "execution_count": null,
   "metadata": {
    "scrolled": false
   },
   "outputs": [],
   "source": [
    "cat = catalog_seed_image.Catalog_seed()\n",
    "cat.paramfile = yamlfile\n",
    "cat.make_seed()"
   ]
  },
  {
   "cell_type": "markdown",
   "metadata": {},
   "source": [
    "### Look at the seed image"
   ]
  },
  {
   "cell_type": "code",
   "execution_count": null,
   "metadata": {},
   "outputs": [],
   "source": [
    "def show(array,title,min=0,max=1000):\n",
    "    plt.figure(figsize=(12,12))\n",
    "    plt.imshow(array,clim=(min,max))\n",
    "    plt.title(title)\n",
    "    plt.colorbar().set_label('DN/s')\n",
    "    \n",
    "def show_mult(array1,array2,array3,title,min=0,max=1000):\n",
    "    fig = plt.figure(figsize=(18,18))\n",
    "    a = fig.add_subplot(131)\n",
    "    aplt = plt.imshow(array1,clim=(min,max))\n",
    "    b = fig.add_subplot(132)\n",
    "    bplt = plt.imshow(array2,clim=(min,max))\n",
    "    plt.title(title)\n",
    "    c = fig.add_subplot(133)\n",
    "    cplt = plt.imshow(array3,clim=(min,max))\n",
    "    #plt.colorbar().set_label('DN/s')"
   ]
  },
  {
   "cell_type": "code",
   "execution_count": null,
   "metadata": {},
   "outputs": [],
   "source": [
    "# In this case, the seed image is 4D rather than the\n",
    "# 2D that it is for sidereal targets.\n",
    "# So let's look at just the final frame of the seed image\n",
    "\n",
    "# The non-sidereal target is in the center of the frame and appears\n",
    "# as a normal PSF (although hard to see in this view). All of the \n",
    "# background stars and galaxies are\n",
    "# smeared, since the telescope was not tracking at the sidereal rate.\n",
    "show(cat.seedimage[0,-1,:,:],'Seed Image',max=250)"
   ]
  },
  {
   "cell_type": "code",
   "execution_count": null,
   "metadata": {},
   "outputs": [],
   "source": [
    "# Look at the first, middle, and last frames of the seed image\n",
    "# so we can see the background sources moving relative to the target\n",
    "show_mult(cat.seedimage[0,0,:,:],cat.seedimage[0,3,:,:],cat.seedimage[0,-1,:,:],'Seed Images',max=250)"
   ]
  },
  {
   "cell_type": "markdown",
   "metadata": {},
   "source": [
    "## Prepare the dark current exposure\n",
    "This will serve as the base of the simulated data.\n",
    "This step will linearize the dark current (if it \n",
    "is not already), and reorganize it into the \n",
    "requested readout pattern and number of groups."
   ]
  },
  {
   "cell_type": "code",
   "execution_count": null,
   "metadata": {},
   "outputs": [],
   "source": [
    "d = dark_prep.DarkPrep()\n",
    "d.paramfile = yamlfile\n",
    "d.prepare()"
   ]
  },
  {
   "cell_type": "markdown",
   "metadata": {},
   "source": [
    "### Look at the dark current \n",
    "For this, we will look at an image of the final group\n",
    "minus the first group"
   ]
  },
  {
   "cell_type": "code",
   "execution_count": null,
   "metadata": {},
   "outputs": [],
   "source": [
    "exptime = d.linDark.header['NGROUPS'] * cat.frametime\n",
    "diff = (d.linDark.data[0,-1,:,:] - d.linDark.data[0,0,:,:]) / exptime\n",
    "show(diff,'Dark Current Countrate',max=0.1)"
   ]
  },
  {
   "cell_type": "markdown",
   "metadata": {},
   "source": [
    "## Create the final exposure\n",
    "Turn the seed image into a exposure of the \n",
    "proper readout pattern, and combine it with the\n",
    "dark current exposure. Cosmic rays and other detector\n",
    "effects are added. \n",
    "\n",
    "The output can be either this linearized exposure, or\n",
    "a 'raw' exposure where the linearized exposure is \n",
    "\"unlinearized\" and the superbias and \n",
    "reference pixel signals are added, or the user can \n",
    "request both outputs. This is controlled from\n",
    "within the yaml parameter file."
   ]
  },
  {
   "cell_type": "code",
   "execution_count": null,
   "metadata": {},
   "outputs": [],
   "source": [
    "obs = obs_generator.Observation()\n",
    "obs.linDark = d.prepDark\n",
    "obs.seed = cat.seedimage\n",
    "obs.segmap = cat.seed_segmap\n",
    "obs.seedheader = cat.seedinfo\n",
    "obs.paramfile = yamlfile\n",
    "obs.create()"
   ]
  },
  {
   "cell_type": "markdown",
   "metadata": {},
   "source": [
    "### Examine the final output image\n",
    "Look at the last group minus the first group"
   ]
  },
  {
   "cell_type": "code",
   "execution_count": null,
   "metadata": {},
   "outputs": [],
   "source": [
    "with fits.open(obs.linear_output) as h:\n",
    "    lindata = h[1].data\n",
    "    header = h[0].header"
   ]
  },
  {
   "cell_type": "code",
   "execution_count": null,
   "metadata": {},
   "outputs": [],
   "source": [
    "# The central target is difficult to see in this full field view\n",
    "exptime = header['EFFINTTM']\n",
    "diffdata = (lindata[0,-1,:,:] - lindata[0,0,:,:]) / exptime\n",
    "show(diffdata,'Simulated Data',min=0,max=20)"
   ]
  },
  {
   "cell_type": "code",
   "execution_count": null,
   "metadata": {},
   "outputs": [],
   "source": [
    "# Zoom in on the center of the field of view, where the target of\n",
    "# interest lies.\n",
    "show(diffdata[800:1200,800:1200],'Center of FOV',min=0,max=20)"
   ]
  },
  {
   "cell_type": "code",
   "execution_count": null,
   "metadata": {},
   "outputs": [],
   "source": [
    "# Show on a log scale, to bring out the presence of the dark current\n",
    "# Noise in the CDS image makes for a lot of pixels with values < 0,\n",
    "# which makes this kind of an ugly image. Add an offset so that\n",
    "# everything is positive and the noise is visible\n",
    "offset = 2.\n",
    "plt.figure(figsize=(12,12))\n",
    "plt.imshow(np.log10(diffdata[800:1200,800:1200]+offset),clim=(0.001,np.log10(80)))\n",
    "plt.title('Simulated Data')\n",
    "plt.colorbar().set_label('DN/s')"
   ]
  },
  {
   "cell_type": "markdown",
   "metadata": {},
   "source": [
    "---\n",
    "<a id='run_steps_together'></a>\n",
    "# Running simulation steps together"
   ]
  },
  {
   "cell_type": "markdown",
   "metadata": {},
   "source": [
    "## For convenience, combine the three steps into a single function."
   ]
  },
  {
   "cell_type": "markdown",
   "metadata": {},
   "source": [
    "By having modular steps, the steps can be combined in various ways. For imaging data, including data with non-sidereal or moving targets, we will most likely want to run the three steps above in order for each target. For convenience, the imaging_simulator.py function wraps the three steps together."
   ]
  },
  {
   "cell_type": "code",
   "execution_count": null,
   "metadata": {},
   "outputs": [],
   "source": [
    "from mirage import imaging_simulator"
   ]
  },
  {
   "cell_type": "code",
   "execution_count": null,
   "metadata": {},
   "outputs": [],
   "source": [
    "# First, run all steps of the imaging simulator for yaml file #1\n",
    "m = imaging_simulator.ImgSim()\n",
    "m.paramfile = 'movingtarget_example_data/moving_target_test.yaml'\n",
    "m.create()"
   ]
  },
  {
   "cell_type": "markdown",
   "metadata": {},
   "source": [
    "If you have multiple exposures that will use the same dark current image (with the same readout pattern, subarray size, and number of groups), you can feed the output from the initial run of `dark_prep` into future runs of the `obs_generator`, to save time. This can be accomplished with the `imaging_simulator.py` code, as shown below.\n",
    "(Note that time savings are minimal in this case, where the readout pattern is RAPID and there are only a handful of groups. This means that no averaging/skipping of frames has to be done within `dark_prep.py`)"
   ]
  },
  {
   "cell_type": "code",
   "execution_count": null,
   "metadata": {},
   "outputs": [],
   "source": [
    "# Now that the linearized dark product has been created, if you want to use it\n",
    "# when running the simulator with a different yaml file (or repeating the run\n",
    "# with the same yaml file) you can provide the filename of the dark product, and the\n",
    "# dark_prep step will be skipped. \n",
    "# NOTE: if you use the same dark product for multiple exposures, those exposures\n",
    "# will contain exactly the same dark signal. This may or may not be advisable, depending\n",
    "# on your goals for the simulated data.\n",
    "m = imaging_simulator.ImgSim()\n",
    "m.paramfile = 'movingtarget_example_data/moving_target_test.yaml'\n",
    "m.override_dark = 'movingtarget_example_data/V12345024002P000000000112o_B5_F250M_movingtarget_uncal_linear_dark_prep_object.fits'\n",
    "m.create()"
   ]
  },
  {
   "cell_type": "markdown",
   "metadata": {},
   "source": [
    "---\n",
    "<a id='mult_sims'></a>\n",
    "## Running Multiple Simulations"
   ]
  },
  {
   "cell_type": "markdown",
   "metadata": {},
   "source": [
    "### Each yaml file, will simulate an exposure for a single pointing using a single detector."
   ]
  },
  {
   "cell_type": "markdown",
   "metadata": {},
   "source": [
    "To simulate an exposure using multiple detectors, you must have multiple yaml files. Consider this cumbersome example:\n",
    "```python\n",
    "yaml_a1 = 'sim_param_A1.yaml'\n",
    "yaml_a2 = 'sim_param_A2.yaml'\n",
    "yaml_a3 = 'sim_param_A3.yaml'\n",
    "yaml_a4 = 'sim_param_A4.yaml'\n",
    "yaml_a5 = 'sim_param_A5.yaml'\n",
    "\n",
    "make_sim(yaml_a1)\n",
    "make_sim(yaml_a2)\n",
    "make_sim(yaml_a3)\n",
    "make_sim(yaml_a4)\n",
    "make_sim(yaml_a5)\n",
    "```\n",
    "\n",
    "This can be performed more efficiently, either in series or in parallel:\n",
    "\n",
    "### In Series\n",
    "```python\n",
    "paramlist = [yaml_a1,yaml_a2,yaml_a3,yaml_a4,yaml_a5]\n",
    "\n",
    "def many_sim(paramlist):\n",
    "    '''Function to run many simulations in series\n",
    "    '''\n",
    "    for file in paramlist:\n",
    "        m = imaging_simulator.ImgSim()\n",
    "        m.paramfile = file\n",
    "        m.create()\n",
    "```\n",
    "\n",
    "### In Parallel\n",
    "\n",
    "Since each `yaml` simulations does not depend on the others, we can parallelize the process to speed things up:\n",
    "```python\n",
    "# Need to test this. May need a wrapper since the \n",
    "# imaging simulator is a class\n",
    "\n",
    "from multiprocessing import Pool\n",
    "\n",
    "n_procs = 5 # number of cores available\n",
    "\n",
    "with Pool(n_procs) as pool:\n",
    "    pool.map(make_sim, paramlist)\n",
    "```"
   ]
  },
  {
   "cell_type": "markdown",
   "metadata": {},
   "source": [
    "---\n",
    "<a id='make_yaml'></a>\n",
    "## Generating input yaml files"
   ]
  },
  {
   "cell_type": "markdown",
   "metadata": {},
   "source": [
    "For convenience, observing programs with multiple pointings \n",
    "and detectors can be simulated starting with the program's \n",
    "APT file. The xml and pointings files must be exported from \n",
    "APT, and are then used as input into a tool that will\n",
    "generate a series of yaml input files."
   ]
  },
  {
   "cell_type": "code",
   "execution_count": null,
   "metadata": {},
   "outputs": [],
   "source": [
    "from mirage.apt import apt_inputs\n",
    "from mirage.yaml import yaml_generator"
   ]
  },
  {
   "cell_type": "code",
   "execution_count": null,
   "metadata": {
    "scrolled": true
   },
   "outputs": [],
   "source": [
    "# ## Only works for normal imaging, right? Not yet modified for moving targets\n",
    "\n",
    "# # Create a series of data simluator input yaml files\n",
    "# # from APT files\n",
    "# yam = yaml_generator.SimInput()\n",
    "# yam.input_xml = 'example_imaging_program.xml'\n",
    "# yam.pointing_file = 'example_imaging_program.pointing'\n",
    "# yam.siaf = '$MIRAGE_DATA/nircam/reference_files/SIAF/NIRCam_SIAF_2018-01-08.csv'\n",
    "# yam.output_dir = './'\n",
    "# yam.simdata_output_dir = './'\n",
    "# yam.observation_table = 'observation_list.yaml'\n",
    "# yam.use_JWST_pipeline = True\n",
    "# yam.use_linearized_darks = False\n",
    "# yam.datatype = 'linear'\n",
    "# yam.reffile_setup(instrument='nircam')\n",
    "# yam.create_inputs()"
   ]
  },
  {
   "cell_type": "code",
   "execution_count": null,
   "metadata": {},
   "outputs": [],
   "source": [
    "# yfiles = glob(os.path.join(yam.output_dir,'V*yaml'))"
   ]
  },
  {
   "cell_type": "code",
   "execution_count": null,
   "metadata": {
    "scrolled": true
   },
   "outputs": [],
   "source": [
    "# m = imaging_simulator.ImgSim()\n",
    "# m.paramfile = yfiles[0]\n",
    "# m.create()"
   ]
  },
  {
   "cell_type": "markdown",
   "metadata": {},
   "source": [
    "--- \n",
    "<a id='yaml_example'></a>\n",
    "## Example yaml input file\n",
    "\n",
    "Entries listed as 'config' have default files that are present in the \n",
    "config directory of the repository. The scripts are set up to \n",
    "automatically find and use these files. The user can replace 'config'\n",
    "with a filename if they wish to override the default.\n",
    "\n",
    "In general, if 'None' is placed in a field, then the step that uses\n",
    "that particular file will be skipped.\n",
    "\n",
    "Note that the linearized_darkfile entry overrides the dark entry, unless\n",
    "linearized_darkfile is set to None, in which case the dark entry will be\n",
    "used.\n",
    "\n",
    "Use of a valid readout pattern in the readpatt entry will cause the \n",
    "simulator to look up the values of nframe and nskip and ignore the \n",
    "values given in the yaml file."
   ]
  },
  {
   "cell_type": "markdown",
   "metadata": {},
   "source": [
    "```yaml\n",
    "Inst:\n",
    "  instrument: NIRCam          #Instrument name\n",
    "  mode: imaging               #Observation mode (e.g. imaging, WFSS, moving_target)\n",
    "  use_JWST_pipeline: False   #Use pipeline in data transformations\n",
    "\n",
    "Readout:\n",
    "  readpatt: RAPID  #Readout pattern (RAPID, BRIGHT2, etc) overrides nframe,nskip unless it is not recognized\n",
    "  nframe: 1        #Number of frames per group\n",
    "  nint: 1          #Number of integrations per exposure\n",
    "  resets_bet_ints: 1 #Number of detector resets between integrations\n",
    "  array_name: NRCB5_FULL    #Name of array (FULL, SUB160, SUB64P, etc)\n",
    "  filter: F250M       #Filter of simulated data (F090W, F322W2, etc)\n",
    "  pupil: CLEAR        #Pupil element for simulated data (CLEAR, GRISMC, etc)\n",
    "\n",
    "Reffiles:                                 #Set to None or leave blank if you wish to skip that step\n",
    "  dark: None   #Dark current integration used as the base\n",
    "  linearized_darkfile: $MIRAGE_DATA/nircam/darks/linearized/B5/Linearized_Dark_and_SBRefpix_NRCNRCBLONG-DARK-60090141241_1_490_SE_2016-01-09T02h46m50_uncal.fits # Linearized dark ramp to use as input. Supercedes dark above\n",
    "  badpixmask: $MIRAGE_DATA/nircam/reference_files/badpix/NRCB5_17161_BPM_ISIMCV3_2016-01-21_ssbspmask_DMSorient.fits # If linearized dark is used, populate output DQ extensions using this file\n",
    "  superbias: $MIRAGE_DATA/nircam/reference_files/superbias/NRCB5_superbias_from_list_of_biasfiles.list.fits  #Superbias file. Set to None or leave blank if not using\n",
    "  linearity: $MIRAGE_DATA/nircam/reference_files/linearity/NRCBLONG_17161_LinearityCoeff_ADU0_2016-05-22_ssblinearity_v2_DMSorient.fits    #linearity correction coefficients\n",
    "  saturation: $MIRAGE_DATA/nircam/reference_files/saturation/NRCB5_17161_WellDepthADU_2016-03-10_ssbsaturation_wfact_DMSorient.fits    #well depth reference files\n",
    "  gain: $MIRAGE_DATA/nircam/reference_files/gain/NRCB5_17161_Gain_ISIMCV3_2016-02-25_ssbgain_DMSorient.fits #Gain map\n",
    "  pixelflat: None \n",
    "  illumflat: None                               #Illumination flat field file\n",
    "  astrometric: $MIRAGE_DATA/nircam/reference_files/distortion/NRCB5_FULL_distortion.asdf  #Astrometric distortion file (asdf)\n",
    "  distortion_coeffs: $MIRAGE_DATA/nircam/reference_files/SIAF/NIRCam_SIAF_2017-03-28.csv        #CSV file containing distortion coefficients\n",
    "  ipc: $MIRAGE_DATA/nircam/reference_files/ipc/NRCB5_17161_IPCDeconvolutionKernel_2016-03-18_ssbipc_DMSorient.fits #File containing IPC kernel to apply\n",
    "  invertIPC: True       #Invert the IPC kernel before the convolution. True or False. Use True if the kernel is designed for the removal of IPC effects, like the JWST reference files are.\n",
    "  occult: None                                    #Occulting spots correction image\n",
    "  pixelAreaMap: $MIRAGE_DATA/nircam/reference_files/pam/NIRCam_B5_PAM_imaging.fits #Pixel area map for the detector. Used to introduce distortion into the output ramp.\n",
    "  subarray_defs:   config   #File that contains a list of all possible subarray names and coordinates\n",
    "  readpattdefs:    config   #File that contains a list of all possible readout pattern names and associated NFRAME/NSKIP values\n",
    "  crosstalk:       config   #File containing crosstalk coefficients\n",
    "  filtpupilcombo:  config   #File that lists the filter wheel element / pupil wheel element combinations. Used only in writing output file\n",
    "  flux_cal:        config   #File that lists flux conversion factor and pivot wavelength for each filter. Only used when making direct image outputs to be fed into the grism disperser code.\n",
    "  \n",
    "nonlin:\n",
    "  limit: 60000.0                           #Upper singal limit to which nonlinearity is applied (ADU)\n",
    "  accuracy: 0.000001                        #Non-linearity accuracy threshold\n",
    "  maxiter: 10                              #Maximum number of iterations to use when applying non-linearity\n",
    "  robberto:  False                         #Use Massimo Robberto type non-linearity coefficients\n",
    "\n",
    "cosmicRay:\n",
    "  path: $MIRAGE_DATA/nircam/cosmic_ray_library/         #Path to CR library\n",
    "  library: SUNMIN    #Type of cosmic rayenvironment (SUNMAX, SUNMIN, FLARE)\n",
    "  scale: 1.5     #Cosmic ray scaling factor\n",
    "  suffix: IPC_NIRCam_B5    #Suffix of library file names\n",
    "  seed: 2956411739      #Seed for random number generator\n",
    "\n",
    "simSignals:\n",
    "  pointsource: my_ptsrc_catalog.list #File containing a list of point sources to add (x,y locations and magnitudes)\n",
    "  psfpath: $MIRAGE_DATA/nircam/psf_data/        #Path to PSF library\n",
    "  psfbasename: nircam                        #Basename of the files in the psf library\n",
    "  psfpixfrac: 0.25                           #Fraction of a pixel between entries in PSF library (e.g. 0.1 = files for PSF centered at 0.25 pixel intervals within pixel)\n",
    "  psfwfe: predicted                          #PSF WFE value (predicted, requirements)\n",
    "  psfwfegroup: 0                             #WFE realization group (0 to 9)\n",
    "  galaxyListFile: my_galaxies_catalog.list\n",
    "  extended: None          #Extended emission count rate image file name\n",
    "  extendedscale: 1.0         #Scaling factor for extended emission image\n",
    "  extendedCenter: 1024,1024  #x,y pixel location at which to place the extended image if it is smaller than the output array size\n",
    "  PSFConvolveExtended: True #Convolve the extended image with the PSF before adding to the output image (True or False)\n",
    "  movingTargetList: None   #Name of file containing a list of point source moving targets (e.g. KBOs, asteroids) to add.\n",
    "  movingTargetSersic: None  #ascii file containing a list of 2D sersic profiles to have moving through the field\n",
    "  movingTargetExtended: None      #ascii file containing a list of stamp images to add as moving targets (planets, moons, etc)\n",
    "  movingTargetConvolveExtended: True       #convolve the extended moving targets with PSF before adding.\n",
    "  movingTargetToTrack: my_nonsidereal_target.cat #File containing a single moving target which JWST will track during observation (e.g. a planet, moon, KBO, asteroid)\tThis file will only be used if mode is set to \"moving_target\" \n",
    "  zodiacal:  None                          #Zodiacal light count rate image file \n",
    "  zodiscale:  1.0                            #Zodi scaling factor\n",
    "  scattered:  None                          #Scattered light count rate image file\n",
    "  scatteredscale: 1.0                        #Scattered light scaling factor\n",
    "  bkgdrate: 0.0                         #Constant background count rate (electrons/sec/pixel)\n",
    "  poissonseed: 2012872553                  #Random number generator seed for Poisson simulation)\n",
    "  photonyield: True                         #Apply photon yield in simulation\n",
    "  pymethod: True                            #Use double Poisson simulation for photon yield\n",
    "\n",
    "Telescope:\n",
    "  ra: 53.1                     #RA of simulated pointing\n",
    "  dec: -27.8                   #Dec of simulated pointing\n",
    "  rotation: 0.0                #y axis rotation (degrees E of N)\n",
    "  tracking: non-sidereal        #sidereal or non-sidereal\n",
    "  \n",
    "newRamp:\n",
    "  dq_configfile: config          #config file used by JWST pipeline\n",
    "  sat_configfile: config         #config file used by JWST pipeline\n",
    "  superbias_configfile: config   #config file used by JWST pipeline\n",
    "  refpix_configfile: config      #config file used by JWST pipeline \n",
    "  linear_configfile: config      #config file used by JWST pipeline\n",
    "\n",
    "Output:\n",
    "  file: V42424024002P000000000112o_B5_F250M_uncal.fits   #Output filename\n",
    "  directory: ./   # Directory in which to place output files\n",
    "  datatype: linear,raw # Type of data to save. 'linear' for linearized ramp. 'raw' for raw ramp. 'linear,raw' for both\n",
    "  format: DMS          #Output file format Options: DMS, SSR(not yet implemented)\n",
    "  save_intermediates: False   #Save intermediate products separately (point source image, etc)\n",
    "  grism_source_image: False   # Create an image to be dispersed?\n",
    "  unsigned: True   #Output unsigned integers? (0-65535 if true. -32768 to 32768 if false)\n",
    "  dmsOrient: True    #Output in DMS orientation (vs. fitswriter orientation).\n",
    "  program_number: 42424    #Program Number\n",
    "  title: Supernovae and Black Holes Near Hyperspatial Bypasses   #Program title\n",
    "  PI_Name: Doug Adams  #Proposal PI Name\n",
    "  Proposal_category: GO  #Proposal category\n",
    "  Science_category: Cosmology  #Science category\n",
    "  observation_number: '002'    #Observation Number\n",
    "  observation_label: Obs2    #User-generated observation Label\n",
    "  visit_number: '024'    #Visit Number\n",
    "  visit_group: '01'    #Visit Group\n",
    "  visit_id: '42424024002'    #Visit ID\n",
    "  sequence_id: '2'    #Sequence ID\n",
    "  activity_id: '2o'    #Activity ID. Increment with each exposure.\n",
    "  exposure_number: '00001'    #Exposure Number\n",
    "  obs_id: 'V42424024002P000000000112o'   #Observation ID number\n",
    "  date_obs: '2019-10-15'  #Date of observation\n",
    "  time_obs: '06:29:11.852'  #Time of observation\n",
    "  obs_template: 'NIRCam Imaging'  #Observation template\n",
    "  primary_dither_type: NONE  #Primary dither pattern name\n",
    "  total_primary_dither_positions: 1  #Total number of primary dither positions\n",
    "  primary_dither_position: 1  #Primary dither position number\n",
    "  subpix_dither_type: 2-POINT-MEDIUM-WITH-NIRISS  #Subpixel dither pattern name\n",
    "  total_subpix_dither_positions: 2  #Total number of subpixel dither positions\n",
    "  subpix_dither_position: 2  #Subpixel dither position number\n",
    "  xoffset: 344.284  #Dither pointing offset in x (arcsec)\n",
    "  yoffset: 466.768  #Dither pointing offset in y (arcsec)\n",
    "```"
   ]
  }
 ],
 "metadata": {
  "kernelspec": {
   "display_name": "Python 3",
   "language": "python",
   "name": "python3"
  },
  "language_info": {
   "codemirror_mode": {
    "name": "ipython",
    "version": 3
   },
   "file_extension": ".py",
   "mimetype": "text/x-python",
   "name": "python",
   "nbconvert_exporter": "python",
   "pygments_lexer": "ipython3",
   "version": "3.6.7"
  }
 },
 "nbformat": 4,
 "nbformat_minor": 2
}
