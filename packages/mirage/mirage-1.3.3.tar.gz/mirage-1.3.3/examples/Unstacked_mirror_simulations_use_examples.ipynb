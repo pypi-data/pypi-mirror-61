{
 "cells": [
  {
   "cell_type": "markdown",
   "metadata": {},
   "source": [
    "# Simulating Images with Unstacked Mirror Segments"
   ]
  },
  {
   "cell_type": "markdown",
   "metadata": {},
   "source": [
    "For the earliest steps of JWST OTE commissioning (OTE-01 through OTE-05), the mirror segments will be scattered across the JWST FOV. It is not until OTE-06 that the segments are moved into the small array that fits on a single NIRCam detector.\n",
    "\n",
    "<div class=\"alert alert-block alert-warning\">\n",
    "    \n",
    "<b>Note:</b> <br>\n",
    "\n",
    "This notebook describes how to use MIRaGe to simulate images with *grossly* unstacked mirror states - specifically, states after initial deployment but before OTE-06. For simulations of unstacked mirror states after OTE-06, please refer to the [Nonnominal PSF example notebook](Nonnominal_PSF_simulations_use_examples.ipynb).\n",
    "\n",
    "</div>\n",
    "\n",
    "In this notebook, we demonstrate how use MIRaGe to simulate images from those early commissioning steps. The process is as follows:\n",
    "- Parse APT output files to access the details and structure of a given program\n",
    "- Perturb the primary and secondary mirrors to reflect expectations for initial deployment (either generate perturbations randomly or load them from a defined mirror state)\n",
    "- Record the tilt of each PM, and remove the piston and tilt\n",
    "- Generate PSF libraries from the perturbed mirror state with piston/tip/tilt removed for each mirror segment\n",
    "- Generate MIRaGe YAML input files that include:\n",
    "    - A flag, `expand_catalog_for_segments`, that tells MIRaGe to expect 18 separate segment PSF libraries\n",
    "    - The directory where to find the special segment PSF libraries\n",
    "- Generate seed images from those YAMLs using a process that:\n",
    "    - Iterates over all the point sources in the detector FOV\n",
    "    - Iterates over the 18 segment PSFs and calculates that segment's location by adding its tilt offset to the original point source location\n",
    "    - If an offset point source falls within the detector FOV, places the corresponding segment PSF on the image\n",
    "- Follow the nominal procedures for adding dark exposure and detector effects\n",
    "\n",
    "### Table of Contents:\n",
    "1. [Export program information from APT](#export_apt)\n",
    "2. [Generate the perturbed OTE state](#generate_ote)\n",
    "3. [Create PSF library files](#make_psf_libs)\n",
    "4. [Create `.yaml` files for each exposure](#make_yamls)\n",
    "5. [Generate the simulated image](#simulate_images)\n",
    "\n",
    "Appendix A: [Generating data for an entire observation](#simulate_whole_obs)\n",
    "\n",
    "Appendix B: [Combining data into a mosaic](#mosaic)"
   ]
  },
  {
   "cell_type": "markdown",
   "metadata": {},
   "source": [
    "## Import necessary packages and modules"
   ]
  },
  {
   "cell_type": "code",
   "execution_count": null,
   "metadata": {
    "scrolled": true
   },
   "outputs": [],
   "source": [
    "# Standard Library Imports\n",
    "from glob import glob\n",
    "import os\n",
    "\n",
    "# Third Party Imports\n",
    "from astropy.io import ascii as asc\n",
    "from astropy.io import fits\n",
    "from matplotlib import cm\n",
    "import matplotlib.pyplot as plt\n",
    "import numpy as np\n",
    "import pysiaf\n",
    "import webbpsf\n",
    "\n",
    "# Local Imports\n",
    "from mirage import imaging_simulator\n",
    "from mirage.catalogs import get_catalog\n",
    "from mirage.psf import psf_selection, deployments, segment_psfs\n",
    "from mirage.utils.utils import ensure_dir_exists\n",
    "from mirage.yaml import yaml_generator\n",
    "\n",
    "# View matplotlib plots inline\n",
    "%matplotlib inline"
   ]
  },
  {
   "cell_type": "markdown",
   "metadata": {},
   "source": [
    "---\n",
    "<a id='export_apt'></a>\n",
    "# 1. Export Program Information from APT\n",
    "\n",
    "MIRaGe requires APT program output files in order to generate data with unstacked PSFs.\n",
    "\n",
    "### Get needed files from APT program\n",
    "\n",
    "Open the APT file for the program you want to simulate. If you don't have the file locally, you can load this program in APT by selecting `File > Retrieve from STScI > Retrieve Using Proposal ID` and then entering the program ID (e.g. 1140). (You must be running APT in STScI mode for this retrieval method to be available.)\n",
    "\n",
    "Export the `.pointing` and `.xml` files for your given proposal in APT by selecting `File > Export...` and selecting both the xml and pointing file options. \n",
    "\n",
    "The following APT programs will take place when the mirror segments have not yet been aligned in an image array:\n",
    "- 1134 (OTE-01: Initial Image Mosaic)\n",
    "- 1135 (OTE-02: Alignment Matrix 1)\n",
    "- 1136 (OTE-03: Secondary Mirror Focus Sweep)\n",
    "- 1137 (OTE-04: Segment ID)\n",
    "- 1138 (OTE-05: Alignment Matrix 2)\n",
    "\n",
    "For this example, we are using APT output from a miniaturized version of program 1134 - OTE-01: Initial Image Mosaic. The neccessary files, `OTE01-1134-reduced_mosaic.pointing` and `OTE01-1134-reduced_mosaic.xml`, are located within the `examples/unstacked_mirror_data/` directory."
   ]
  },
  {
   "cell_type": "code",
   "execution_count": null,
   "metadata": {},
   "outputs": [],
   "source": [
    "# Define the proposal ID\n",
    "prop_id = 1134\n",
    "\n",
    "# Where the pointing and XML file for this particular OTE CAR are located\n",
    "input_dir = './unstacked_mirror_data/'\n",
    "\n",
    "# Change the root if you named your files differently.\n",
    "root = 'OTE01-{}-reduced_mosaic'.format(prop_id)\n",
    "pointing_file = os.path.join(input_dir, '{}.pointing'.format(root))\n",
    "xml_file = os.path.join(input_dir, '{}.xml'.format(root))\n",
    "\n",
    "# Make sure those files exist\n",
    "assert os.path.exists(pointing_file)\n",
    "assert os.path.exists(xml_file)"
   ]
  },
  {
   "cell_type": "markdown",
   "metadata": {},
   "source": [
    "### Define location of output files\n",
    "\n",
    "The process of generating simulated images with MIRaGe produces a lot of files:\n",
    "- YAML files carrying the OTE mirror state\n",
    "- YAML files carrying the specifications for simulations\n",
    "- FITS files of the simulated seed, dark, and compiled images\n",
    "\n",
    "Additionally, we must create FITS library files of the segment PSF images in order to simulate images with nonnominal PSFs.\n",
    "\n",
    "Let's define the directories to save these output files to:"
   ]
  },
  {
   "cell_type": "code",
   "execution_count": null,
   "metadata": {
    "scrolled": true
   },
   "outputs": [],
   "source": [
    "# Where to save MIRaGe output\n",
    "out_dir = os.path.abspath('./unstacked_mirror_data/output/')\n",
    "\n",
    "# Where the segment PSF library files will be saved to (and later read from)\n",
    "library_dir = os.path.join(out_dir, 'gridded_psf_library')\n",
    "\n",
    "# Make sure both these directories exist\n",
    "for full_path in [out_dir, library_dir]:\n",
    "    ensure_dir_exists(full_path)"
   ]
  },
  {
   "cell_type": "markdown",
   "metadata": {},
   "source": [
    "---\n",
    "<a id='generate_ote'></a>\n",
    "# 2. Generate the perturbed OTE state\n",
    "\n",
    "We outline two methods here to perturb the primary and secondary mirrors, in order to reflect expectations for initial deployment:\n",
    "- If you already have a YAML file describing a perturbed OTE state that you want to use to generate segment PSFs, use [option 1](#load_ote_from_yaml). (We provide an example file: `unstacked_mirror_data/deployment_errors_reduced_20190521_173912.yaml`)\n",
    "- Otherwise, if you need to randomly generate a new perturbed OTE state to generate segment PSFs, use [option 2](#random_ote_state)."
   ]
  },
  {
   "cell_type": "markdown",
   "metadata": {},
   "source": [
    "<a id='load_ote_from_yaml'></a>\n",
    "### Option 1: Load OTE state from YAML file"
   ]
  },
  {
   "cell_type": "markdown",
   "metadata": {},
   "source": [
    "To load an OTE state from an existing YAML file, use `mirage.psf.deployments.load_ote_from_deployment_yaml()`.\n",
    "\n",
    "This function:\n",
    "- Loads the OTE state definitions from the YAMLfile (piston, tilt, decenter, ROC, and clocking for all 18 primary mirrors and the secondary mirror)\n",
    "- Applies them to an adjustable `webbpsf.opds.OTE_Linear_Model_WSS` object\n",
    "- Records the tilt of each segment in a `numpy` array for future reference\n",
    "- Removes the piston, tip, and tilt so that each individual segment PSF will be be modeled at the center of a detector"
   ]
  },
  {
   "cell_type": "code",
   "execution_count": null,
   "metadata": {
    "scrolled": false
   },
   "outputs": [],
   "source": [
    "# Load example deployments file\n",
    "deployments_file = os.path.join(input_dir, 'deployment_errors_reduced_20190521_173912.yaml')\n",
    "print(deployments_file)\n",
    "ote, segment_tilts, ote_opd_with_tilts = deployments.load_ote_from_deployment_yaml(\n",
    "    deployments_file, out_dir\n",
    ")"
   ]
  },
  {
   "cell_type": "code",
   "execution_count": null,
   "metadata": {},
   "outputs": [],
   "source": [
    "# Display OTE state and tip/tilt vectors\n",
    "fig, [ax1, ax2] = plt.subplots(1, 2, figsize=(12, 6))\n",
    "ax1.imshow(ote_opd_with_tilts)\n",
    "ax1.set_title('OTE with tilts')\n",
    "ax2.imshow(ote.opd)\n",
    "ax2.set_title('OTE without tilts')\n",
    "plt.show()\n",
    "\n",
    "ote.print_state()\n",
    "\n",
    "print()\n",
    "header_string = 'Segment Number |{:^11}|{:^11}'.format('X Tilt', 'Y Tilt')\n",
    "print(header_string)\n",
    "print('-' * len(header_string))\n",
    "for i, (x, y) in enumerate(segment_tilts):\n",
    "    i_segment = i + 1\n",
    "    segname = webbpsf.webbpsf_core.segname(i_segment)\n",
    "    print('{:^14} | {:9.6} | {:9.6}'.format(segname, x, y))"
   ]
  },
  {
   "cell_type": "markdown",
   "metadata": {},
   "source": [
    "<a id='random_ote_state'></a>\n",
    "### Option 2: Randomly generate new OTE state"
   ]
  },
  {
   "cell_type": "markdown",
   "metadata": {},
   "source": [
    "To generate a new, random OTE state, use `mirage.psf.deployments.generate_random_ote_deployment()`.\n",
    "\n",
    "This function:\n",
    "- Randomly generates deployment errors for all 18 primary mirrors and the seconday mirror in piston, tilt, decenter, tilt, ROC, and clocking. The magnitude of these errors are pulled from a normal distribution defined by deployment tolerances taken from JWST WFS&C Commissioning and Operations Plan (OTE-24): D36168 / 2299462 Rev C Page 10.\n",
    "- Applies them to an adjustable `webbpsf.opds.OTE_Linear_Model_WSS` object\n",
    "- Records the tilt of each segment in a `numpy` array for future reference\n",
    "- Removes the piston, tip, and tilt so that each individual segment PSF will be be modeled at the center of a detector\n",
    "\n",
    "We have found, however, that the deployment errors cited in the Ops Plan are rather pessimistic, so for more reasonable OTE states we recommend using the `reduction_factor` argument to reduce the magnitude of the mirror deployments. We use `reduction_factor=0.2` here to reduce the random deployments to 20% of their original values."
   ]
  },
  {
   "cell_type": "code",
   "execution_count": null,
   "metadata": {
    "scrolled": true
   },
   "outputs": [],
   "source": [
    "# Randomly generate OTE state with deployment errors\n",
    "ote, segment_tilts, ote_opd_with_tilts = deployments.generate_random_ote_deployment(\n",
    "    out_dir, reduction_factor=0.2\n",
    ")"
   ]
  },
  {
   "cell_type": "code",
   "execution_count": null,
   "metadata": {},
   "outputs": [],
   "source": [
    "# Display OTE state and tip/tilt vectors\n",
    "fig, [ax1, ax2] = plt.subplots(1, 2, figsize=(12, 6))\n",
    "ax1.imshow(ote_opd_with_tilts)\n",
    "ax1.set_title('OTE with tilts')\n",
    "ax2.imshow(ote.opd)\n",
    "ax2.set_title('OTE without tilts')\n",
    "plt.show()\n",
    "\n",
    "ote.print_state()\n",
    "\n",
    "print()\n",
    "header_string = 'Segment Number |{:^11}|{:^11}'.format('X Tilt', 'Y Tilt')\n",
    "print(header_string)\n",
    "print('-' * len(header_string))\n",
    "for i, (x, y) in enumerate(segment_tilts):\n",
    "    i_segment = i + 1\n",
    "    segname = webbpsf.webbpsf_core.segname(i_segment)\n",
    "    print('{:^14} | {:9.6} | {:9.6}'.format(segname, x, y))"
   ]
  },
  {
   "cell_type": "markdown",
   "metadata": {},
   "source": [
    "---\n",
    "<a id='make_psf_libs'></a>\n",
    "# 3. Create PSF library files\n",
    "\n",
    "Once you have a perturbed `webbpsf.opds.OTE_Linear_Model_WSS` object, use the `mirage.psf.segment_psfs.generate_segment_psfs()` function to generate 18 (or more) segment PSF FITS files.\n",
    "\n",
    "*You can specify multiple detectors and filters with one function call by setting those arguments to be lists of strings (e.g. `['F212N', 'F480M']`). You can also set `detectors='all'` (but not `filters='all'`). Each detector/filter combination which will be saved in a separate file. See [Appendix A](#simulate_whole_obs) for an example of this.*"
   ]
  },
  {
   "cell_type": "code",
   "execution_count": null,
   "metadata": {
    "scrolled": true
   },
   "outputs": [],
   "source": [
    "# Create PSF libraries\n",
    "segment_psfs.generate_segment_psfs(ote, segment_tilts, library_dir, \n",
    "                                   filters='F212N', detectors='NRCA3', \n",
    "                                   overwrite=True)"
   ]
  },
  {
   "cell_type": "markdown",
   "metadata": {},
   "source": [
    "---\n",
    "<a id='make_yamls'></a>\n",
    "# 4. Create YAML files for each exposure\n",
    "\n",
    "Next, we need to make the YAML files that include all of the parameters for MIRaGe to run."
   ]
  },
  {
   "cell_type": "markdown",
   "metadata": {},
   "source": [
    "### Query online catalogs to generate catalog files of sources in FOV\n",
    "\n",
    "Next, we need to generate catalog files containing RA, Dec, and magnitude for the sources around the target (or targets) in this proposal. \n",
    "\n",
    "First we must parse the `.pointing` file to determine the RA and Dec of the target (or targets) that will be observed. Then we will query the appropriate star catalogs to get the magnitudes and locations of shortwave and longwave sources, respectively, around the target(s). If you are using F212N and F480M NIRCam filters, you can use the 2MASS and WISE catalogs, respectively. If you are using one of these two filters, all of this can be accomplished with the `mirage.get_catalog.get_all_catalogs` function.  \n",
    "\n",
    "If different observations within the proposal have different targets, separate catalogs will be made for each target.\n",
    "\n",
    "These catalog files will be written to your local `mirage/catalogs/` directory. If files for a given catalog and RA/Dec have already been generated, they will not be regenerated.\n",
    "\n",
    "<div class=\"alert alert-block alert-warning\">\n",
    "    \n",
    "<b>Important:</b> <br>\n",
    "\n",
    "Querying 2MASS and WISE is only appropriate for observations with the F212N and F480M NIRCam filters. If you want to simulate observations that use other filters, you will have to either query different bandpasses or catalogs or perform a photometric conversion on an existing catalog.\n",
    "\n",
    "</div>"
   ]
  },
  {
   "cell_type": "code",
   "execution_count": null,
   "metadata": {
    "scrolled": false
   },
   "outputs": [],
   "source": [
    "# Generate and save shortwave and longwave individual catalogs for the target stars\n",
    "cats = get_catalog.get_all_catalogs(pointing_file, prop_id)\n",
    "target_coords, catalog_filenames_sw, catalog_filenames_lw = cats\n",
    "\n",
    "cat_dict = {'nircam': {'lw': catalog_filenames_lw,\n",
    "                       'sw': catalog_filenames_sw}}"
   ]
  },
  {
   "cell_type": "markdown",
   "metadata": {},
   "source": [
    "### Generate the `.yaml` files\n",
    "Use `mirage.yaml.yaml_generator` to make all of the YAML files for the given APT program - one file per exposure.\n",
    "\n",
    "**Some additional settings are required to ensure `yaml_generator` works for unstacked mirror simulations.** You must specify the following attributes before running `create_inputs()` to make the YAMLs, and thus simulations, correctly:\n",
    "- `yam.psf_paths = os.path.expandvars(library_dir)` - tells MIRaGe to look in `library_dir` to find the FITS files for every exposure\n",
    "- `yam.expand_catalog_for_segments = True` - tells MIRaGe to look for 18 *segment* PSF files rather than one PSF file\n",
    "- `yam.add_psf_wings = False` - tells MIRaGe not to add wings to the PSF. We don't need wings in this case, since our PSFs are so large."
   ]
  },
  {
   "cell_type": "code",
   "execution_count": null,
   "metadata": {
    "scrolled": false
   },
   "outputs": [],
   "source": [
    "# Create a series of data simulator input yaml files from APT files\n",
    "yaml_dir = os.path.join(out_dir, 'yamls')\n",
    "yam = yaml_generator.SimInput(input_xml=xml_file, pointing_file=pointing_file,\n",
    "                              catalogs=cat_dict,\n",
    "                              verbose=True, output_dir=yaml_dir, simdata_output_dir=out_dir)\n",
    "\n",
    "# Define the paths to the PSF libraries, and specify to use segment PSFs\n",
    "yam.psf_paths = os.path.expandvars(library_dir)\n",
    "yam.expand_catalog_for_segments = True\n",
    "yam.add_psf_wings = False\n",
    "\n",
    "# Create all input YAML files (one per each exposure)\n",
    "yam.create_inputs()"
   ]
  },
  {
   "cell_type": "markdown",
   "metadata": {},
   "source": [
    "## Choose which exposure to simulate\n",
    "\n",
    "Now that we've generated all of the needed YAML files, we need to choose one to simulate images with. MIRaGE can only generate one simulated exposure at a time, so we need to choose one YAML file in our `yamls` directory that we will use to produce an image. (See [Appendix A](#simulate_whole_obs) for how use a wrapper to simulate multiple exposures at once with MIRaGe.)\n",
    "\n",
    "Not every exposure necessarily has the same pointing, so we should choose an exposure that places the target star in the desired detector field-of-view."
   ]
  },
  {
   "cell_type": "markdown",
   "metadata": {},
   "source": [
    "### Examine target pointings relative to apertures and V2/V3 references\n",
    "\n",
    "Looking at the `.pointing` file, let's plot where the target will appear relative to the NIRCam apertures for each unique pointing.\n",
    "\n",
    "We'll also print out the first YAML in the exposure list for each pointing. In this case, this means printing out six YAML files, for the six different pointings across all the exposures to the \"Example files for each pointing\" list – each YAML corresponding to an exposure when the pointing changes."
   ]
  },
  {
   "cell_type": "code",
   "execution_count": null,
   "metadata": {
    "scrolled": false
   },
   "outputs": [],
   "source": [
    "nc_siaf = pysiaf.Siaf('NIRCam')\n",
    "nc_full = nc_siaf['NRCA3_FULL']\n",
    "\n",
    "plt.figure(figsize=(15,10))\n",
    "for apername in sorted(nc_siaf.apernames):\n",
    "    a = apername\n",
    "    if ('_FULL' in a) and ('OSS' not in a) and ('MASK' not in a) and (a[-1] != 'P'):\n",
    "        nc_siaf[a].plot(frame='tel', label=a, fill_color='white')\n",
    "\n",
    "# Compare V2/V3 of targets (from .pointing file)\n",
    "all_pointings = set([(v2, v3, filename) for v2, v3, filename in zip(yam.info['v2'], \n",
    "                                                                yam.info['v3'], \n",
    "                                                                yam.info['yamlfile']) if 'jw01134001' in filename])\n",
    "\n",
    "print('Example files for each pointing:')\n",
    "print('--------------------------------')\n",
    "plotted_points = []\n",
    "for i_point, (v2, v3, filename) in enumerate(all_pointings):\n",
    "    if (v2, v3) not in plotted_points:\n",
    "        plotted_points.append((v2, v3))\n",
    "        plt.scatter(v2, v3, marker='*', s=500, \n",
    "                    label='Pointing {}/{}'.format(i_point + 1, len(all_pointings)))\n",
    "        print('{}. {}'.format(i_point + 1, filename))\n",
    "\n",
    "plt.legend()\n",
    "\n",
    "plt.show()"
   ]
  },
  {
   "cell_type": "markdown",
   "metadata": {},
   "source": [
    "### Select the YAML to generate an image from\n",
    "\n",
    "Looking at the pointing figure above, choose one YAML file that we will create a seed image with MIRaGe for. (Be sure to choose a YAML that has a detector and filter that matches the library files you have created so far.)\n",
    "\n",
    "*See [JDox](https://jwst-docs.stsci.edu/display/JDAT/File+Naming+Conventions+and+Data+Products) for a detailed explanation of the MIRaGe YAML file name format.*"
   ]
  },
  {
   "cell_type": "code",
   "execution_count": null,
   "metadata": {
    "scrolled": true
   },
   "outputs": [],
   "source": [
    "# Select one YAML to estimate where the sources will be\n",
    "test_yaml_filename = 'jw01134001001_01104_00001_nrca3.yaml'\n",
    "test_yaml = os.path.join(yaml_dir, test_yaml_filename)\n",
    "print(test_yaml)\n",
    "yaml_ind = np.where(np.array(yam.info['yamlfile']) == test_yaml_filename)[0][0]"
   ]
  },
  {
   "cell_type": "markdown",
   "metadata": {},
   "source": [
    "### Calculate and plot V2/V3 locations of NRCA3 aperture, target, and sources\n",
    "\n",
    "This is the really fun part: by knowing the locations of the source in the selected YAML file and the tilt offsets of each mirror segment PSF, we can plot each segment PSF relative to the selected aperture (here, NRCA3)."
   ]
  },
  {
   "cell_type": "code",
   "execution_count": null,
   "metadata": {
    "scrolled": false
   },
   "outputs": [],
   "source": [
    "# Examine apertures and V2/V3 references for each array/subarray\n",
    "nc_siaf = pysiaf.Siaf('NIRCam')\n",
    "nc_a3 = nc_siaf['NRCA3_FULL']\n",
    "nc_all = nc_siaf['NRCALL_FULL']\n",
    "\n",
    "# Get the target RA/Dec\n",
    "target_ra = float(yam.info['ra'][yaml_ind])\n",
    "target_dec = float(yam.info['dec'][yaml_ind])\n",
    "\n",
    "# Get the aperture pointing - THIS IS FOR NRCALL_FULL\n",
    "pointing_v2 = yam.info['v2'][yaml_ind]\n",
    "pointing_v3 = yam.info['v3'][yaml_ind]\n",
    "\n",
    "# Get the aperture RA/Dec - THIS IS FOR NRCA3_FULL\n",
    "pointing_ra = float(yam.info['ra_ref'][yaml_ind])\n",
    "pointing_dec = float(yam.info['dec_ref'][yaml_ind])\n",
    "\n",
    "# Generate the attitude matrix to convert RA/Dec to V2/V3\n",
    "position_angle = float(yam.info['PAV3'][yaml_ind])\n",
    "attitude_ref = pysiaf.utils.rotations.attitude(\n",
    "    pointing_v2, pointing_v3, target_ra, target_dec, position_angle\n",
    ")\n",
    "\n",
    "# Get the V2/V3 positions of all sources\n",
    "sw_catalog_file = yam.info['sw_ptsrc'][yaml_ind]\n",
    "sw_catalog = asc.read(sw_catalog_file)\n",
    "v2, v3 = pysiaf.utils.rotations.getv2v3(attitude_ref, sw_catalog['x_or_RA'], sw_catalog['y_or_Dec'])\n",
    "\n",
    "# Get the V2/V3 position of the target (the same as the NRCALL pointing)\n",
    "target_v2, target_v3 = pysiaf.utils.rotations.getv2v3(attitude_ref, target_ra, target_dec)\n",
    "\n",
    "# Get the V2/V3 position of the aperture pointing\n",
    "a3_v2, a3_v3 = pysiaf.utils.rotations.getv2v3(attitude_ref, pointing_ra, pointing_dec)\n",
    "\n",
    "# Get library to get offsets for each segment\n",
    "library_list = segment_psfs.get_segment_library_list('NIRCam', 'NRCA3', 'F212N', library_dir)"
   ]
  },
  {
   "cell_type": "code",
   "execution_count": null,
   "metadata": {
    "scrolled": false
   },
   "outputs": [],
   "source": [
    "# Plot V2/V3 locations of aperture, target, and sources\n",
    "\n",
    "fig, ax = plt.subplots(1, 1, figsize=(15,10))\n",
    "nc_a3.plot(frame='tel', fill_color=None, label='Detector FOV', fill_alpha=0.2)\n",
    "\n",
    "# Plot the target (the same as the NRCALL pointing)\n",
    "plt.scatter(target_v2, target_v3, label='Target', marker='*', s=1000, lw=1, \n",
    "            edgecolor=\"black\", c='white')\n",
    "\n",
    "# Plot catalog sources\n",
    "plt.scatter(v2, v3, label='Catalog Sources', marker='+', s=500, c='black')\n",
    "\n",
    "# Plot segment sources\n",
    "for i_segment in np.arange(1, 19):\n",
    "    marker = 'o'\n",
    "    if i_segment > 10:\n",
    "        marker = 'v'\n",
    "    x_arcsec, y_arcsec = segment_psfs.get_segment_offset(i_segment, 'NRCA3', library_list)\n",
    "    plt.scatter(v2 - x_arcsec, v3 + y_arcsec, \n",
    "                label='Segment {}'.format(i_segment), marker=marker, s=400, alpha=0.6)\n",
    "\n",
    "# Just show the area close to the detector\n",
    "plt.xlim(100, -100)\n",
    "plt.ylim(-600, -400)\n",
    "\n",
    "# Shrink current axis\n",
    "box = ax.get_position()\n",
    "ax.set_position([box.x0, box.y0,\n",
    "                 box.width * 0.9, box.height])\n",
    "\n",
    "# Put a legend to the right of the current axis\n",
    "ax.legend(loc='center left', bbox_to_anchor=(1, 0.5), ncol=1, fontsize=16, facecolor=None)\n",
    "\n",
    "plt.show()"
   ]
  },
  {
   "cell_type": "markdown",
   "metadata": {},
   "source": [
    "In this above plot:\n",
    "- The white star shows the location of the observation's target\n",
    "- The locations of the 18 different segment PSFs, distributed in a constant pattern around each source, are shown by the colorful circles and triangles\n",
    "- The black **+** show the locations of stars in the catalog\n",
    "- The blue square denotes the boundaries of the NRCA3 detector"
   ]
  },
  {
   "cell_type": "markdown",
   "metadata": {},
   "source": [
    "---\n",
    "<a id='simulate_images'></a>\n",
    "# 5. Simulate image with MIRaGe\n",
    "\n",
    "Finally, we can run MIRaGe to generate a seed image simulation of our unstacked mirror state during OTE-01.\n",
    "\n",
    "From here on out, from the user perspective, the simulation process is identical to that of nominal imaging cases (see the [imaging example notebook](#Imaging_simulator_use_examples.ipynb). To reiterate, it is the specifications made in the YAML files that enable the simulation of unstacked mirror simulations with MIRaGe."
   ]
  },
  {
   "cell_type": "code",
   "execution_count": null,
   "metadata": {
    "scrolled": true
   },
   "outputs": [],
   "source": [
    "# Run the image simulator using the input defined in test_yaml\n",
    "img_sim = imaging_simulator.ImgSim()\n",
    "img_sim.paramfile = test_yaml\n",
    "img_sim.create()"
   ]
  },
  {
   "cell_type": "code",
   "execution_count": null,
   "metadata": {},
   "outputs": [],
   "source": [
    "# Plot the seed image, dark image, and final exposure simulation\n",
    "fig, [ax1, ax2, ax3] = plt.subplots(1, 3, figsize=(20, 7))\n",
    "plt.tight_layout()\n",
    "\n",
    "# Define scale limits and colormap\n",
    "clim=(1e-2, 1e3)\n",
    "cmap = cm.get_cmap('viridis')\n",
    "cmap.set_bad(cmap(0))\n",
    "\n",
    "# Plot seed image\n",
    "fitsplot = ax1.imshow(img_sim.seedimage, clim=clim, cmap=cmap)\n",
    "ax1.set_title('Seed Image', size=24)\n",
    "ax1.invert_yaxis()\n",
    "\n",
    "# Plot dark current\n",
    "ax2.imshow(img_sim.linDark.data[0,-1,:,:] - img_sim.linDark.data[0,0,:,:], clim=clim, cmap=cmap)\n",
    "ax2.set_title('Dark Current', size=24)\n",
    "ax2.invert_yaxis()\n",
    "\n",
    "# Plot final exposure\n",
    "linear_output = './unstacked_mirror_data/output/jw01134001001_01104_00001_nrca3_linear.fits'\n",
    "with fits.open(linear_output) as h:\n",
    "    lindata = h[1].data\n",
    "    header = h[0].header\n",
    "exptime = header['EFFINTTM']\n",
    "diffdata = (lindata[0,-1,:,:] - lindata[0,0,:,:]) / exptime\n",
    "\n",
    "ax3.imshow(diffdata, clim=clim, cmap=cmap)\n",
    "ax3.set_title('Final Exposure Simulation', size=24)\n",
    "ax3.invert_yaxis()\n",
    "\n",
    "# Define the colorbar\n",
    "cbar_ax = fig.add_axes([1, 0.09, 0.03, 0.87])\n",
    "cbar = plt.colorbar(fitsplot, cbar_ax)\n",
    "cbar.set_label('Count Rate', rotation=270, labelpad=30, size=24)"
   ]
  },
  {
   "cell_type": "markdown",
   "metadata": {
    "scrolled": true
   },
   "source": [
    "---\n",
    "<a id='simulate_whole_obs'></a>\n",
    "# Appendix A: Simulating many exposures at once\n",
    "\n",
    "Chances are, you don't want to simulate just one exposure from one detector. In order to simulate all of the exposures from a given observation, write a for loop to iterate over all the YAMLs. We include an example for program 1134 observation 1 below.\n",
    "\n",
    "### 1. Create all PSF library files\n",
    "First, make sure that you have created library files for all of the filters and detectors that will be simulated in your observation (for program 1134 observation 1 this means all detectors and filters F212N and F480M):\n",
    "```python\n",
    "from mirage.psfs import segment_psfs\n",
    "\n",
    "segment_psfs.generate_segment_psfs(ote, segment_tilts, library_dir, \n",
    "                                   filters=['F212N', 'F480M'], detectors='all')\n",
    "```\n",
    "\n",
    "### 2. Run `imaging_simulator` for all YAMLs\n",
    "Second, grab all of the YAMLs for that observation and run the image simulator on them all.\n",
    "```python\n",
    "from mirage import imaging_simulator\n",
    "\n",
    "# Get all the 1134 Obs 1 NRCA3 yamls\n",
    "all_yaml_files = glob(os.path.join(yaml_dir, 'jw01134001*.yaml'))\n",
    "n_yamls = len(all_yaml_files)\n",
    "print('{} FITS files will be generated.'.format(n_yamls))\n",
    "\n",
    "for i_yaml, yaml in enumerate(all_yaml_files):\n",
    "    print('*** SIMULATING YAML {}/{}: {} ***'.format(i_yaml+1, n_yamls, yaml))\n",
    "    img_sim = imaging_simulator.ImgSim()\n",
    "    img_sim.paramfile = yaml\n",
    "    img_sim.create()\n",
    "```\n",
    "\n",
    "(If you are impatient and ambitious, you can use Python's `multiprocessing` module to the simulation go faster. Even better on a server with more processors!)\n",
    "\n",
    "To learn how to combine multiple exposure simulations into a mosaic with QUIP, see [Appendix B](#mosaic)."
   ]
  },
  {
   "cell_type": "markdown",
   "metadata": {
    "scrolled": true
   },
   "source": [
    "---\n",
    "<a id='mosaic'></a>\n",
    "# Appendix B: Combine into a mosaic\n",
    "\n",
    "The [`wss_tools`](https://wss-tools.readthedocs.io/en/latest/) include a software program, QUIP, which can be used to combine a list of FITS files into a single mosaic image. QUIP requires an operations file, which we describe how to make here.\n",
    "\n",
    "### Turn linear FITS products into slope images\n",
    "```python\n",
    "\n",
    "from glob import glob\n",
    "import os\n",
    "\n",
    "from astropy.io import fits\n",
    "\n",
    "from mirage.utils.utils import ensure_dir_exists\n",
    "\n",
    "obs1_fits = glob(os.path.join(out_dir, 'jw*linear.fits'))\n",
    "print('{} FITS files produced for program APT 1134 Observation 1'.format(len(obs1_fits)))\n",
    "\n",
    "# Subtract the first from last for each ramp\n",
    "for f in obs1_fits:\n",
    "    with fits.open(f) as hdulist:\n",
    "        data = hdulist[1].data\n",
    "        hdr = hdulist[1].header\n",
    "        \n",
    "    diff = data[0, -1] - data[0, 0]\n",
    "\n",
    "    hdu = fits.PrimaryHDU(data=diff, header=hdr)\n",
    "\n",
    "    new_filename = os.path.join(out_dir, 'slope_fits', os.path.basename(f))\n",
    "    ensure_dir_exists(os.path.dirname(new_filename))\n",
    "    hdu.writeto(new_filename, overwrite=True)\n",
    "    \n",
    "obs1_slope_fits = glob(os.path.join(out_dir, 'slope_fits', 'jw*linear.fits'))\n",
    "```\n",
    "\n",
    "\n",
    "### Make ops file for QUIP\n",
    "```python\n",
    "# Set variables for writing QUIP ops file\n",
    "quip_dir = os.path.join(out_dir, 'quip')\n",
    "ensure_dir_exists(quip_dir)\n",
    "outfile = 'congrid'\n",
    "bindim = 2048\n",
    "opsfile = os.path.join(quip_dir, 'ops_file_'+outfile.strip(\"/\")+str(bindim)+'.xml')\n",
    "\n",
    "# Write the file\n",
    "f = open(opsfile, 'w')\n",
    "\n",
    "f.write('<?xml version=\"1.0\" encoding=\"UTF-8\" standalone=\"yes\"?>\\n')\n",
    "f.write('<QUIP_OPERATION_FILE xmlns:xsi=\"http://www.w3.org/2001/XMLSchema-instance\" creator=\"WSS Executive\" time=\"16:22:40.093Z\" date=\"2017-06-14Z\" version=\"6.0.1\" operational=\"false\" xsi:noNamespaceSchemaLocation=\"/Users/lajoie/TEL/WSS-6.0.1/Software/schema/quip_operation_file.xsd\">\\n')\n",
    "f.write('    <CORRECTION_ID>R2017061401</CORRECTION_ID>\\n')\n",
    "f.write('    <OPERATION_TYPE>THUMBNAIL</OPERATION_TYPE>\\n')\n",
    "f.write('    <IMAGES>\\n')\n",
    "\n",
    "for filename in obs1_slope_fits:\n",
    "    f.write(\"       <IMAGE_PATH>{:s}</IMAGE_PATH>\\n\".format(filename))\n",
    "    \n",
    "f.write( '       </IMAGES>\\n'    )\n",
    "f.write( '       <OUTPUT>\\n')\n",
    "f.write( '           <OUTPUT_DIRECTORY>{:s}quip/</OUTPUT_DIRECTORY>\\n'.format(quip_dir))\n",
    "f.write( '           <LOG_FILE_PATH>{:s}quip/R2017061401_quip_activity_log.xml</LOG_FILE_PATH>\\n'.format(quip_dir))\n",
    "f.write( '           <OUT_FILE_PATH>{:s}quip/R2017061401_quip_out.xml</OUT_FILE_PATH>\\n'.format(quip_dir))\n",
    "f.write( '       </OUTPUT>\\n')\n",
    "\n",
    "f.write('</QUIP_OPERATION_FILE>\\n')\n",
    "\n",
    "f.close()\n",
    "\n",
    "print('Successfully wrote QUIP ops file to', opsfile)\n",
    "```"
   ]
  }
 ],
 "metadata": {
  "kernelspec": {
   "display_name": "Python 3",
   "language": "python",
   "name": "python3"
  },
  "language_info": {
   "codemirror_mode": {
    "name": "ipython",
    "version": 3
   },
   "file_extension": ".py",
   "mimetype": "text/x-python",
   "name": "python",
   "nbconvert_exporter": "python",
   "pygments_lexer": "ipython3",
   "version": "3.6.7"
  },
  "toc": {
   "base_numbering": 1,
   "nav_menu": {},
   "number_sections": true,
   "sideBar": true,
   "skip_h1_title": false,
   "title_cell": "Table of Contents",
   "title_sidebar": "Contents",
   "toc_cell": false,
   "toc_position": {},
   "toc_section_display": true,
   "toc_window_display": false
  }
 },
 "nbformat": 4,
 "nbformat_minor": 2
}
