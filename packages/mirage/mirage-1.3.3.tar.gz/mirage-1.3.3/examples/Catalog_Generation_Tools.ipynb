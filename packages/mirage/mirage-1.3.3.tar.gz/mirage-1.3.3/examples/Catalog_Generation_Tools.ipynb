{
 "cells": [
  {
   "cell_type": "markdown",
   "metadata": {},
   "source": [
    "# Example uses of Mirage catalog generators"
   ]
  },
  {
   "cell_type": "code",
   "execution_count": null,
   "metadata": {},
   "outputs": [],
   "source": [
    "import os\n",
    "import numpy as np\n",
    "from mirage.catalogs import catalog_generator\n",
    "from mirage.catalogs import create_catalog"
   ]
  },
  {
   "cell_type": "markdown",
   "metadata": {},
   "source": [
    "#### Table of Contents"
   ]
  },
  {
   "cell_type": "markdown",
   "metadata": {},
   "source": [
    "* [Create Catalogs with user-input data](#catalog_classes)\n",
    "   * [Point Source](#point_source)\n",
    "   * [Galaxy](#galaxy)\n",
    "   * [Extended Sources](#extended)\n",
    "   * [Moving Point Source](#moving_ptsrc)\n",
    "   * [Moving Sersic](#moving_sersic)\n",
    "   * [Moving Extended](#moving_extended)\n",
    "   * [Non-sidereal](#non_sidereal)\n",
    "* [Create Catalogs via Database Queries](#queries)\n",
    "   * [Besancon model query](#besancon_query)\n",
    "   * [Point Source Catalogs from 2MASS, Gaia, WISE, and Besancon](#get_all_catalogs)\n",
    "      * [Convenience Functions for General Pointings](#convenience)\n",
    "   * [Representative Extragalactic Catalogs](#galaxy_background)\n",
    "* [Create Catalogs from an input APT File](#from_apt)\n",
    "* [Additional Functionality](#additional_functionality)\n",
    "   * [Combining Catalogs Using the `add_catalog` Method](#combining_add_catalog)\n",
    "   * [Combining Catalogs Using the `combine_catalogs` Function](#combining_combine)"
   ]
  },
  {
   "cell_type": "markdown",
   "metadata": {},
   "source": [
    "Define paths to help organize input data"
   ]
  },
  {
   "cell_type": "code",
   "execution_count": null,
   "metadata": {},
   "outputs": [],
   "source": [
    "path = os.path.dirname(catalog_generator.__file__)\n",
    "input_data_path = os.path.abspath(os.path.join(path, '../../examples/'))"
   ]
  },
  {
   "cell_type": "markdown",
   "metadata": {},
   "source": [
    "<a id='catalog_classes'></a>\n",
    "## Create catalogs with user-input data "
   ]
  },
  {
   "cell_type": "markdown",
   "metadata": {},
   "source": [
    "<a id='point_source'></a>\n",
    "### PointSource"
   ]
  },
  {
   "cell_type": "markdown",
   "metadata": {},
   "source": [
    "Catalogs containing point source objects can be created using the PointSourceCatalog class. The user must provide lists or numpy arrays containing values for Right Ascention, Declination (or detector pixel x and y), along with magnitudes in a particular filter. "
   ]
  },
  {
   "cell_type": "code",
   "execution_count": null,
   "metadata": {},
   "outputs": [],
   "source": [
    "ra = np.random.random(5) + 80.\n",
    "dec = np.random.random(5) - 69.8\n",
    "mags1 = np.random.random(5) + 17.\n",
    "mags2 = np.random.random(5) + 18.5"
   ]
  },
  {
   "cell_type": "code",
   "execution_count": null,
   "metadata": {},
   "outputs": [],
   "source": [
    "ptsrc = catalog_generator.PointSourceCatalog(ra=ra, dec=dec)"
   ]
  },
  {
   "cell_type": "markdown",
   "metadata": {},
   "source": [
    "RA and Dec are attributes of the class."
   ]
  },
  {
   "cell_type": "code",
   "execution_count": null,
   "metadata": {},
   "outputs": [],
   "source": [
    "print('RA: {}'.format(ptsrc.ra))\n",
    "print('Dec: {}'.format(ptsrc.dec))"
   ]
  },
  {
   "cell_type": "markdown",
   "metadata": {},
   "source": [
    "Magnitude information is added via the `add_magnitude_column` method. The instrument and filter associated with the magnitude list must be supplied as well. These two pieces of information are combined to create the magnitude column name in the resulting table. Note that multiple instruments and filters can be present in a single catalog."
   ]
  },
  {
   "cell_type": "markdown",
   "metadata": {},
   "source": [
    "The magnitude columns in a given catalog must all be in the same magnitude system. Allowed values for the magnitude system include `abmag`, `stmag`, and `vegamag`. If no system is given, the default value of `abmag` is used."
   ]
  },
  {
   "cell_type": "code",
   "execution_count": null,
   "metadata": {},
   "outputs": [],
   "source": [
    "ptsrc.add_magnitude_column(mags1, instrument='nircam', filter_name='f090w', magnitude_system='abmag')\n",
    "ptsrc.add_magnitude_column(mags1+0.1, instrument='nircam', filter_name='f444w', magnitude_system='abmag')\n",
    "ptsrc.add_magnitude_column(mags2, instrument='niriss', filter_name='f200w', magnitude_system='abmag')"
   ]
  },
  {
   "cell_type": "markdown",
   "metadata": {},
   "source": [
    "To view the table, use the `table` attribute."
   ]
  },
  {
   "cell_type": "code",
   "execution_count": null,
   "metadata": {},
   "outputs": [],
   "source": [
    "ptsrc.table"
   ]
  },
  {
   "cell_type": "markdown",
   "metadata": {},
   "source": [
    "Save the table to an ascii file. When a catalog is saved, information on the location units and magnitude system is saved to the file such that Mirage can make use of it."
   ]
  },
  {
   "cell_type": "code",
   "execution_count": null,
   "metadata": {},
   "outputs": [],
   "source": [
    "ptsrc.save('ptsrc_test.cat')"
   ]
  },
  {
   "cell_type": "markdown",
   "metadata": {},
   "source": [
    "The units of the input positions are determined by whether they are entered via the `ra` and `dec` keywords, or the `x` and `y` keywords. This information is used by Mirage when creating the simulated data."
   ]
  },
  {
   "cell_type": "code",
   "execution_count": null,
   "metadata": {},
   "outputs": [],
   "source": [
    "ptsrc.location_units"
   ]
  },
  {
   "cell_type": "markdown",
   "metadata": {},
   "source": [
    "Here is an example using pixel (x,y) coordinates as input rather than RA, Dec"
   ]
  },
  {
   "cell_type": "code",
   "execution_count": null,
   "metadata": {},
   "outputs": [],
   "source": [
    "x_pix = np.random.random(5) * 2048\n",
    "y_pix = np.random.random(5) * 2048\n",
    "ptsrc_pix = catalog_generator.PointSourceCatalog(x=x_pix, y=y_pix)\n",
    "ptsrc_pix.add_magnitude_column(mags1, instrument='nircam', filter_name='f090w')"
   ]
  },
  {
   "cell_type": "code",
   "execution_count": null,
   "metadata": {},
   "outputs": [],
   "source": [
    "ptsrc_pix.location_units"
   ]
  },
  {
   "cell_type": "code",
   "execution_count": null,
   "metadata": {},
   "outputs": [],
   "source": [
    "ptsrc_pix.table"
   ]
  },
  {
   "cell_type": "markdown",
   "metadata": {},
   "source": [
    "<a id='galaxy'></a>\n",
    "### Galaxy"
   ]
  },
  {
   "cell_type": "markdown",
   "metadata": {},
   "source": [
    "The GalaxyCatalog class creates catalogs of extragalactic sources. These catalogs are similar to the PointSourceCatalog, with the added columns of ellipticity, radius, sersic_index, and position_angle. `radius` input values can be in units of arcseconds or pixels. The units are specified using the `radius_units` keyword, which can be set to `arcsec` or `pixels`."
   ]
  },
  {
   "cell_type": "code",
   "execution_count": null,
   "metadata": {},
   "outputs": [],
   "source": [
    "radius = np.random.random(5) + 0.5\n",
    "ellip = np.random.random(5) + 0.45\n",
    "posang = np.random.random(5) + 27.\n",
    "sersic = np.random.random(5) + 3.3"
   ]
  },
  {
   "cell_type": "code",
   "execution_count": null,
   "metadata": {},
   "outputs": [],
   "source": [
    "gal = catalog_generator.GalaxyCatalog(ra=ra, dec=dec, ellipticity=ellip, radius=radius, sersic_index=sersic,\n",
    "                                      position_angle=posang, radius_units='arcsec')"
   ]
  },
  {
   "cell_type": "code",
   "execution_count": null,
   "metadata": {},
   "outputs": [],
   "source": [
    "gal.add_magnitude_column(mags1, instrument='nircam', filter_name='f444w', magnitude_system='stmag')"
   ]
  },
  {
   "cell_type": "code",
   "execution_count": null,
   "metadata": {},
   "outputs": [],
   "source": [
    "gal.table"
   ]
  },
  {
   "cell_type": "code",
   "execution_count": null,
   "metadata": {},
   "outputs": [],
   "source": [
    "gal.save('galaxy_test.cat')"
   ]
  },
  {
   "cell_type": "markdown",
   "metadata": {},
   "source": [
    "<a id='extended'></a>\n",
    "### Extended Sources"
   ]
  },
  {
   "cell_type": "markdown",
   "metadata": {},
   "source": [
    "Catalogs containing extended sources, which are essentially fits files containing stamp images to be added to the simulated data, are created using the ExtendedCatalog class. Again, this is functionally similar to the PointSourceCatalog class, with added columns for filenames and position angles."
   ]
  },
  {
   "cell_type": "code",
   "execution_count": null,
   "metadata": {},
   "outputs": [],
   "source": [
    "filenames = ['f{}.fits'.format(str(i)) for i in range(5)]\n",
    "pos_angles = np.random.random(5) + 14.5"
   ]
  },
  {
   "cell_type": "code",
   "execution_count": null,
   "metadata": {},
   "outputs": [],
   "source": [
    "extend = catalog_generator.ExtendedCatalog(filenames=filenames, ra=ra, dec=dec, position_angle=pos_angles)"
   ]
  },
  {
   "cell_type": "markdown",
   "metadata": {},
   "source": [
    "Note that for extended sources, it is possible not to specify a magnitude value. If a magnitude is supplied, the contents of the fits file will be read in and scaled based on that magnitude. If no magnitude is given (which can be done by having any non-number value in the catalog), then the contents of the fits file are assumed to be in counts per second. The image is then directly added to the simulated data as-is. Or, if no magnitude is given, the data in the fits file can also be scaled by a multiplicative factor. This is contolled from the `extendedScale` entry in the input yaml file for the observation, rather than within the catalog. Note that in this case, the same scaling factor will be applied to all external sources in the catalog that have no magnitude given."
   ]
  },
  {
   "cell_type": "code",
   "execution_count": null,
   "metadata": {},
   "outputs": [],
   "source": [
    "mags3 = list(np.random.random(5) + 13.2)\n",
    "mags3[2] = 'none'"
   ]
  },
  {
   "cell_type": "code",
   "execution_count": null,
   "metadata": {},
   "outputs": [],
   "source": [
    "extend.add_magnitude_column(mags3, instrument='nircam', filter_name='f480m', magnitude_system='abmag')"
   ]
  },
  {
   "cell_type": "code",
   "execution_count": null,
   "metadata": {},
   "outputs": [],
   "source": [
    "extend.table"
   ]
  },
  {
   "cell_type": "code",
   "execution_count": null,
   "metadata": {},
   "outputs": [],
   "source": [
    "extend.save('extended_test.cat')"
   ]
  },
  {
   "cell_type": "markdown",
   "metadata": {},
   "source": [
    "<a id='moving_ptsrc'></a>\n",
    "### Moving Point Sources (e.g. KBOs)"
   ]
  },
  {
   "cell_type": "markdown",
   "metadata": {},
   "source": [
    "Moving sources, such as asteroids/KBOs can also be added to simulated data, using the MovingPointSourceCatalog class. Inputs to this class are similar to those for the PointSouceCatalog class, with additional entries for ra_velocity and dec_velocity, or x_velocity and y_velocity. Velocities can be given in untits of arcseconds per hour or pixels per hour. The units for a given catalog instance are determined by whether the veolcities are provided via the ra_velocity, dec_velocity keywords or the x_velocity, y_velocity keywords."
   ]
  },
  {
   "cell_type": "code",
   "execution_count": null,
   "metadata": {},
   "outputs": [],
   "source": [
    "ra_vel = np.random.random(5)*0.1 + 0.432\n",
    "dec_vel = np.random.random(5)*0.15 + 0.875"
   ]
  },
  {
   "cell_type": "code",
   "execution_count": null,
   "metadata": {},
   "outputs": [],
   "source": [
    "mv_ptsrc = catalog_generator.MovingPointSourceCatalog(ra=ra, dec=dec, ra_velocity=ra_vel, dec_velocity=dec_vel)"
   ]
  },
  {
   "cell_type": "code",
   "execution_count": null,
   "metadata": {},
   "outputs": [],
   "source": [
    "mv_ptsrc.add_magnitude_column(mags1, instrument='nircam', filter_name='f444w')\n",
    "mv_ptsrc.add_magnitude_column(mags2, instrument='niriss', filter_name='f200w')"
   ]
  },
  {
   "cell_type": "code",
   "execution_count": null,
   "metadata": {},
   "outputs": [],
   "source": [
    "mv_ptsrc.velocity_units"
   ]
  },
  {
   "cell_type": "code",
   "execution_count": null,
   "metadata": {},
   "outputs": [],
   "source": [
    "mv_ptsrc.table"
   ]
  },
  {
   "cell_type": "code",
   "execution_count": null,
   "metadata": {},
   "outputs": [],
   "source": [
    "mv_ptsrc.save('moving_point_source_test.cat')"
   ]
  },
  {
   "cell_type": "markdown",
   "metadata": {},
   "source": [
    "<a id='moving_sersic'></a>\n",
    "### Moving Sersic Sources"
   ]
  },
  {
   "cell_type": "markdown",
   "metadata": {},
   "source": [
    "Moving Sersic sources can be added to a simulation using the MovingSersicCatalog class. This may be useful for placing a resolved planet/moon/asteroid that JWST is not tracking within the field of view. This class has all of the attributes of the GalaxyCatalog class, as well as those from the MovingPointSourceCatalog class."
   ]
  },
  {
   "cell_type": "code",
   "execution_count": null,
   "metadata": {},
   "outputs": [],
   "source": [
    "mv_sersic = catalog_generator.MovingSersicCatalog(ra=ra, dec=dec, ra_velocity=ra_vel, dec_velocity=dec_vel,\n",
    "                                                  ellipticity=ellip, radius=radius, sersic_index=sersic,\n",
    "                                                  position_angle=posang, radius_units='arcsec')                                                  "
   ]
  },
  {
   "cell_type": "code",
   "execution_count": null,
   "metadata": {},
   "outputs": [],
   "source": [
    "mv_sersic.add_magnitude_column(mags2, instrument='nircam', filter_name='f090w')"
   ]
  },
  {
   "cell_type": "code",
   "execution_count": null,
   "metadata": {},
   "outputs": [],
   "source": [
    "mv_sersic.table"
   ]
  },
  {
   "cell_type": "code",
   "execution_count": null,
   "metadata": {},
   "outputs": [],
   "source": [
    "mv_sersic.save('moving_sersic_source_test.cat')"
   ]
  },
  {
   "cell_type": "markdown",
   "metadata": {},
   "source": [
    "<a id='moving_extended'></a>\n",
    "### Moving Extended Sources"
   ]
  },
  {
   "cell_type": "markdown",
   "metadata": {},
   "source": [
    "Extended sources that move through the field of view over time can also be added to simulations, using the MovingExtendedCatalog class. Inputs here are the same as those in the ExtendedCatalog and MovingPointSourceCatalog classes combined."
   ]
  },
  {
   "cell_type": "code",
   "execution_count": null,
   "metadata": {},
   "outputs": [],
   "source": [
    "mv_ext = catalog_generator.MovingExtendedCatalog(ra=ra, dec=dec, ra_velocity=ra_vel, dec_velocity=dec_vel,\n",
    "                                                 filenames=filenames, position_angle=pos_angles)"
   ]
  },
  {
   "cell_type": "code",
   "execution_count": null,
   "metadata": {},
   "outputs": [],
   "source": [
    "mv_ext.add_magnitude_column(mags3, instrument='nircam', filter_name='f090w')"
   ]
  },
  {
   "cell_type": "code",
   "execution_count": null,
   "metadata": {},
   "outputs": [],
   "source": [
    "mv_ext.table"
   ]
  },
  {
   "cell_type": "code",
   "execution_count": null,
   "metadata": {},
   "outputs": [],
   "source": [
    "mv_ext.save('moving_extended_source_test.cat')"
   ]
  },
  {
   "cell_type": "markdown",
   "metadata": {},
   "source": [
    "<a id='non_sidereal'></a>\n",
    "### Non-Sidereal Sources"
   ]
  },
  {
   "cell_type": "markdown",
   "metadata": {},
   "source": [
    "The final type of catalog that is accepted by Mirage is that for non-sidereal sources. A source placed in this catalog will cause Mirage to produce data as if JWST was tracking on that source during the observation. (In this case, if you want to have background objects (stars, galaxies, etc) trailing through the field of view, use MovingPointSourceCatalog, MovingSersicCatalog, and MovingExtendedCatalogs to define those.)\n",
    "\n",
    "The NonSiderealCatalog takes as input the position RA, Dec (or detector x, y), the velocity in the RA, and Dec directions (in arcsec per hour or pixels per hour), as well as a column defining what type of object it is. Allowed values for the object type include: 'pointSource' for point sources, 'sersic' for 2D Sersic profile objects, and any other value for an extended object."
   ]
  },
  {
   "cell_type": "code",
   "execution_count": null,
   "metadata": {},
   "outputs": [],
   "source": [
    "initial_ra = [80.5]\n",
    "initial_dec = [-69.7]\n",
    "ra_vel = [0.4]\n",
    "dec_vel = [0.03]\n",
    "ob_type_list = ['pointSource']\n",
    "ns = catalog_generator.NonSiderealCatalog(ra=initial_ra, dec=initial_dec, ra_velocity=ra_vel, dec_velocity=dec_vel,\n",
    "                                          object_type=ob_type_list)"
   ]
  },
  {
   "cell_type": "code",
   "execution_count": null,
   "metadata": {},
   "outputs": [],
   "source": [
    "ns_mag = [13.5]\n",
    "ns.add_magnitude_column(ns_mag, instrument='nircam', filter_name='f480m', magnitude_system='abmag')"
   ]
  },
  {
   "cell_type": "code",
   "execution_count": null,
   "metadata": {},
   "outputs": [],
   "source": [
    "ns.table"
   ]
  },
  {
   "cell_type": "code",
   "execution_count": null,
   "metadata": {},
   "outputs": [],
   "source": [
    "ns.save('nonsidereal_source_test.cat')"
   ]
  },
  {
   "cell_type": "markdown",
   "metadata": {},
   "source": [
    "<a id='queries'></a>\n",
    "## Create Catalogs via Database Queries"
   ]
  },
  {
   "cell_type": "markdown",
   "metadata": {},
   "source": [
    "Mirage also contains functionality to generate source catalogs through queries to certain astronomical databases. These include 2MASS, GAIA, and WISE, as well as queries to the Besancon galaxy model. These queries are all accomplished using the [`astroquery`](https://astroquery.readthedocs.io/en/latest/) package, with the exception of the Besancon query."
   ]
  },
  {
   "cell_type": "markdown",
   "metadata": {},
   "source": [
    "<a id='besancon_query'></a>\n",
    "### Besancon model query"
   ]
  },
  {
   "cell_type": "markdown",
   "metadata": {},
   "source": [
    "Below we show how to submit a query to the Besancon model. This is completed using a wrapper around a client program authored by the [group who maintain the Besancon model](https://model.obs-besancon.fr/modele_home.php). First, you must [create a user account](https://model.obs-besancon.fr/modele_home.php). Once your account is approved, you can query the model.\n",
    "\n",
    "The required inputs are: \n",
    "  - RA and Dec of the pointing (in degrees)\n",
    "  - Width of the box (in arcseconds) on the sky to query, \n",
    "  - User name for your account on the [Besancon model page](https://model.obs-besancon.fr/modele_home.php)\n",
    "  - Optionally, the K magnitude limits for stars to retrieve (default is 13 - 29)"
   ]
  },
  {
   "cell_type": "code",
   "execution_count": null,
   "metadata": {},
   "outputs": [],
   "source": [
    "ra = 80.4  # degrees\n",
    "dec = -69.8  # degrees\n",
    "box_width = 120  # arcseconds"
   ]
  },
  {
   "cell_type": "code",
   "execution_count": null,
   "metadata": {},
   "outputs": [],
   "source": [
    "create_catalog.besancon(ra, dec, box_width, username='hilbert', kmag_limits=(17, 30))"
   ]
  },
  {
   "cell_type": "markdown",
   "metadata": {},
   "source": [
    "After the query is submitted, you will receive an email containing a link to download the resulting catalog file. For the purposes of this example, we will use the file below."
   ]
  },
  {
   "cell_type": "code",
   "execution_count": null,
   "metadata": {},
   "outputs": [],
   "source": [
    "besancon_result = os.path.join(input_data_path, 'besancon_query_result.cat')"
   ]
  },
  {
   "cell_type": "markdown",
   "metadata": {},
   "source": [
    "NOTE: The code is general enough that if you can replace `besancon_result` with any ascii source catalog, as long as it contains columns for RA and Dec, along with a `K` column containing K band magnitudes, and an `Av` column containing ISM extinction values. In addition, it must contain columns corresponding to one of these two options:\n",
    "\n",
    "  1. `J`, `H`,  and `V` columns with appropriate magnitudes for those Johnson-Cousins bands, or\n",
    "  2. `V-K`, `J-K`, and `J-H` columns with color values."
   ]
  },
  {
   "cell_type": "markdown",
   "metadata": {},
   "source": [
    "<a id='get_all_catalogs'></a>\n",
    "### Point Source Catalogs from 2MASS, Gaia, WISE, and Besancon"
   ]
  },
  {
   "cell_type": "markdown",
   "metadata": {},
   "source": [
    "The first of the two main catalog-generating functions is `get_all_catalogs`. This will query the [2MASS 'fp_psc' catalog](https://astroquery.readthedocs.io/en/latest/irsa/irsa.html), [GAIA](https://astroquery.readthedocs.io/en/latest/gaia/gaia.html), and [WISE 'allsky_4band_p3as_psd'](https://astroquery.readthedocs.io/en/latest/irsa/irsa.html) databases, and cross-reference the results. In addition, the Besancon model will be queried, and a representative population of background stars will be returned. The magnitudes for all returned sources will be converted into the those for the requested JWST filters."
   ]
  },
  {
   "cell_type": "markdown",
   "metadata": {},
   "source": [
    "Input parameters for the `get_all_catalogs` function include the central RA and Dec (in decimal degrees) for the catalog, as well as the width, in arcseconds, of the field of view to consider. A JWST instrument name and accompanying filter list is also required. Finally, in order to query the Besancon model, a valid email address is necessary."
   ]
  },
  {
   "cell_type": "code",
   "execution_count": null,
   "metadata": {
    "scrolled": true
   },
   "outputs": [],
   "source": [
    "filter_list = ['F444W', 'F480M']\n",
    "cat, mag_column_names = create_catalog.get_all_catalogs(ra, dec, box_width,\n",
    "                                                        besancon_catalog_file=besancon_result,\n",
    "                                                        instrument='NIRCAM', filters=filter_list,\n",
    "                                                        ra_column_name='RAJ2000', dec_column_name='DECJ2000')"
   ]
  },
  {
   "cell_type": "markdown",
   "metadata": {},
   "source": [
    "Note that in this case, the VJHKL source magnitudes returned by the Besancon model are included in the output catalog in addition to those in the requested JWST filters."
   ]
  },
  {
   "cell_type": "code",
   "execution_count": null,
   "metadata": {},
   "outputs": [],
   "source": [
    "cat.table"
   ]
  },
  {
   "cell_type": "code",
   "execution_count": null,
   "metadata": {},
   "outputs": [],
   "source": [
    "# Save catalog so it can serve as input to Mirage later\n",
    "cat.save('GAIA_2MASS_WISE_BESANCON_sources.cat')"
   ]
  },
  {
   "cell_type": "markdown",
   "metadata": {},
   "source": [
    "<a id='convenience'></a>\n",
    "### Convenience Functions for General Pointings"
   ]
  },
  {
   "cell_type": "markdown",
   "metadata": {},
   "source": [
    "There are also several convenience functions to get representative catalogs looking into the galactic plane, out of the galactic plane, and into the galactic bulge. Note that in these examples, we continue to use `besancon_result`. However, since that catalog was generated around a particular pointing, it will not actually contain sources at the RA and Dec of e.g. the galactic plane. \n",
    "\n",
    "To properly create the catalogs below, you will have to query the Besancon model with the appropriate pointing for each. In the convenience functions below, the RA and Dec values used are:\n",
    "\n",
    "  - Galactic plane:        Galactic Longitude: 45.0 Galactic Latitude: 0.0,  RA: 288.42, Dec: 10.72 \n",
    "  - Out of Galactic Plane: Galactic Longitude: 45.0 Galactic Latitude: 85.0, RA: 198.40, Dec: 28.06\n",
    "  - Galactic Bulge:        Galactic Longitude: 0.0  Galactic Latitude: 5.0,  RA: 261.65, Dec: -26.25"
   ]
  },
  {
   "cell_type": "code",
   "execution_count": null,
   "metadata": {},
   "outputs": [],
   "source": [
    "filter_list = ['F444W', 'F480M']\n",
    "instrument = 'NIRCAM'\n",
    "galactic_plane = create_catalog.galactic_plane(box_width, instrument, filter_list,\n",
    "                                               besancon_result, ra_column_name='RAJ2000',\n",
    "                                               dec_column_name='DECJ2000')"
   ]
  },
  {
   "cell_type": "code",
   "execution_count": null,
   "metadata": {},
   "outputs": [],
   "source": [
    "galactic_plane.table"
   ]
  },
  {
   "cell_type": "code",
   "execution_count": null,
   "metadata": {},
   "outputs": [],
   "source": [
    "galactic_plane.save('galactic_plane.cat')"
   ]
  },
  {
   "cell_type": "code",
   "execution_count": null,
   "metadata": {},
   "outputs": [],
   "source": [
    "filter_list = ['F444W', 'F480M']\n",
    "instrument = 'NIRCAM'\n",
    "galactic_bulge = create_catalog.galactic_bulge(box_width, instrument, filter_list,\n",
    "                                               besancon_result, ra_column_name='RAJ2000',\n",
    "                                               dec_column_name='DECJ2000')"
   ]
  },
  {
   "cell_type": "code",
   "execution_count": null,
   "metadata": {},
   "outputs": [],
   "source": [
    "galactic_bulge.table"
   ]
  },
  {
   "cell_type": "code",
   "execution_count": null,
   "metadata": {},
   "outputs": [],
   "source": [
    "galactic_bulge.save('galactic_bulge.cat')"
   ]
  },
  {
   "cell_type": "code",
   "execution_count": null,
   "metadata": {},
   "outputs": [],
   "source": [
    "filter_list = ['F444W', 'F480M']\n",
    "instrument = 'NIRCAM'\n",
    "out_of_plane = create_catalog.out_of_galactic_plane(box_width, instrument, filter_list,\n",
    "                                                    besancon_result, ra_column_name='RAJ2000',\n",
    "                                                    dec_column_name='DECJ2000')"
   ]
  },
  {
   "cell_type": "code",
   "execution_count": null,
   "metadata": {},
   "outputs": [],
   "source": [
    "out_of_plane.table"
   ]
  },
  {
   "cell_type": "code",
   "execution_count": null,
   "metadata": {},
   "outputs": [],
   "source": [
    "out_of_plane.save('out_of_plane.cat')"
   ]
  },
  {
   "cell_type": "markdown",
   "metadata": {},
   "source": [
    "<a id='galaxy_background'></a>\n",
    "### Representative Extragalactic Catalogs"
   ]
  },
  {
   "cell_type": "markdown",
   "metadata": {},
   "source": [
    "A catalog of extra-galactic sources can also be generated using the `galaxy_background` function. This will extract the sources from the GOODS-S 3DHST catalog in an area matching the size of your requested area. The magnitudes of these sources will then be converted to magnitudes in the input JWST filters. The requested area can be a box of width `box_width` or a circle of radius `box_width`, depending on the value of `boxflag` provided (True=box, False=circle)"
   ]
  },
  {
   "cell_type": "code",
   "execution_count": null,
   "metadata": {},
   "outputs": [],
   "source": [
    "center_ra = 80.1\n",
    "center_dec = -69.7\n",
    "v3_angle = 0.  # degrees\n",
    "width = 100  # arcseconds\n",
    "instrument = 'nircam'\n",
    "filter_list = ['F444W', 'F480M']\n",
    "background_galaxy_catalog, used_seed_value = create_catalog.galaxy_background(center_ra, center_dec, v3_angle,\n",
    "                                                                              width, instrument, filter_list,\n",
    "                                                                              boxflag=False, brightlimit=14.0)"
   ]
  },
  {
   "cell_type": "code",
   "execution_count": null,
   "metadata": {},
   "outputs": [],
   "source": [
    "background_galaxy_catalog.table"
   ]
  },
  {
   "cell_type": "code",
   "execution_count": null,
   "metadata": {},
   "outputs": [],
   "source": [
    "background_galaxy_catalog.save('background_galaxies_from_3DHST.cat')"
   ]
  },
  {
   "cell_type": "code",
   "execution_count": null,
   "metadata": {},
   "outputs": [],
   "source": []
  },
  {
   "cell_type": "markdown",
   "metadata": {},
   "source": [
    "<a id='from_apt'></a>\n",
    "## Create Catalogs from an input APT File"
   ]
  },
  {
   "cell_type": "markdown",
   "metadata": {},
   "source": [
    "Finally, Mirage contains the `create_catalog.for_proposal` function that can be used to create point source and galaxy catalogs from an [APT](https://jwst-docs.stsci.edu/display/JPP/JWST+Astronomers+Proposal+Tool+Overview) file. This function collects the target RA and Dec values from the proposal, as well as the list of instruments and filters used for the observations. It then runs `get_all_catalogs` and `galaxy_background` to produce point source and galaxy catalogs. These catalogs can then be used as input when producing the yaml files needed to run Mirage."
   ]
  },
  {
   "cell_type": "markdown",
   "metadata": {},
   "source": [
    "The inputs needed from the APT file include the xml and pointing files. These can both be exported and saved when running APT."
   ]
  },
  {
   "cell_type": "code",
   "execution_count": null,
   "metadata": {},
   "outputs": [],
   "source": [
    "xml_file = os.path.join(input_data_path, 'apt_data', 'apt_1071.xml')\n",
    "pointing_file = xml_file.replace('.xml', '.pointing')\n",
    "output_dir = './'\n",
    "ptsrc_cat, gal_cat, ptsrc_names, \\\n",
    "   gal_names, pmap, gmap = create_catalog.for_proposal(xml_file, pointing_file,\n",
    "                                                       point_source=True,\n",
    "                                                       extragalactic=True,\n",
    "                                                       catalog_splitting_threshold=0.12,\n",
    "                                                       besancon_catalog_file=besancon_result,\n",
    "                                                       out_dir=output_dir,\n",
    "                                                       save_catalogs=True)"
   ]
  },
  {
   "cell_type": "markdown",
   "metadata": {},
   "source": [
    "The objects returned by the `for_proposal` function include a list of PointSourceCatalog objects, a list of GalaxyCatalog objects, a list of file names to which the each type of catalog was saved. The lists of filenames are empty if the user chooses not to save the catalogs to files."
   ]
  },
  {
   "cell_type": "code",
   "execution_count": null,
   "metadata": {},
   "outputs": [],
   "source": [
    "ptsrc_cat"
   ]
  },
  {
   "cell_type": "code",
   "execution_count": null,
   "metadata": {},
   "outputs": [],
   "source": [
    "ptsrc_names"
   ]
  },
  {
   "cell_type": "code",
   "execution_count": null,
   "metadata": {},
   "outputs": [],
   "source": [
    "gal_cat"
   ]
  },
  {
   "cell_type": "code",
   "execution_count": null,
   "metadata": {},
   "outputs": [],
   "source": [
    "gal_names"
   ]
  },
  {
   "cell_type": "code",
   "execution_count": null,
   "metadata": {},
   "outputs": [],
   "source": [
    "ptsrc_cat[0].table"
   ]
  },
  {
   "cell_type": "markdown",
   "metadata": {},
   "source": [
    "Also returned is a list of which catalog names are associated with which observation numbers in the proposal"
   ]
  },
  {
   "cell_type": "code",
   "execution_count": null,
   "metadata": {},
   "outputs": [],
   "source": [
    "# Keys are the observation numbers. Values are the ptsrc catalog files.\n",
    "pmap"
   ]
  },
  {
   "cell_type": "code",
   "execution_count": null,
   "metadata": {},
   "outputs": [],
   "source": [
    "# Keys are the observation numbers. Values are the galaxy catalog files.\n",
    "gmap"
   ]
  },
  {
   "cell_type": "markdown",
   "metadata": {},
   "source": [
    "<a id='additional_functionality'></a>\n",
    "## Additional Functionality"
   ]
  },
  {
   "cell_type": "markdown",
   "metadata": {},
   "source": [
    "<a id='combining_add_catalog'></a>\n",
    "### Combining Catalogs Using the `add_catalog` Method"
   ]
  },
  {
   "cell_type": "markdown",
   "metadata": {},
   "source": [
    "There are two ways to combine two existing catalogs. The first is through the `add_catalog` method in the various catalog object classes. This method simply adds the sources from one catalog to the bottom of the list of sources in another catalog. It then copies the magnitude columns from the first catalog into the second, and uses a fill value (currently 99) to populate magnitude entries where there is no information. Note that the position units (RA, Dec or x, y) and the magnitude system of the two catalogs must match in order for the catalogs to be combined."
   ]
  },
  {
   "cell_type": "code",
   "execution_count": null,
   "metadata": {},
   "outputs": [],
   "source": [
    "ra1 = np.random.random(3) + 80.\n",
    "dec1 = np.random.random(3) -69.7\n",
    "mags1 = np.random.random(3) + 15.\n",
    "mags1a = np.random.random(3) + 17.\n",
    "ptsrc1 = catalog_generator.PointSourceCatalog(ra=ra1, dec=dec1)\n",
    "ptsrc1.add_magnitude_column(mags1, instrument='nircam', filter_name='f444w')\n",
    "ptsrc1.add_magnitude_column(mags1a, instrument='nircam', filter_name='f480m')"
   ]
  },
  {
   "cell_type": "code",
   "execution_count": null,
   "metadata": {},
   "outputs": [],
   "source": [
    "ra2 = np.random.random(3) + 80.1\n",
    "dec2 = np.random.random(3) -69.6\n",
    "mags2 = np.random.random(3) + 15.\n",
    "mags2a = np.random.random(3) + 19.\n",
    "ptsrc2 = catalog_generator.PointSourceCatalog(ra=ra2, dec=dec2)\n",
    "ptsrc2.add_magnitude_column(mags2, instrument='nircam', filter_name='f444w')\n",
    "ptsrc2.add_magnitude_column(mags2a, instrument='nircam', filter_name='f470n')"
   ]
  },
  {
   "cell_type": "code",
   "execution_count": null,
   "metadata": {},
   "outputs": [],
   "source": [
    "ptsrc1.table"
   ]
  },
  {
   "cell_type": "code",
   "execution_count": null,
   "metadata": {},
   "outputs": [],
   "source": [
    "ptsrc2.table"
   ]
  },
  {
   "cell_type": "code",
   "execution_count": null,
   "metadata": {},
   "outputs": [],
   "source": [
    "# Default magnitude fill value is 99\n",
    "ptsrc1.add_catalog(ptsrc2, magnitude_fill_value=99.)"
   ]
  },
  {
   "cell_type": "code",
   "execution_count": null,
   "metadata": {},
   "outputs": [],
   "source": [
    "ptsrc1.table"
   ]
  },
  {
   "cell_type": "markdown",
   "metadata": {},
   "source": [
    "<a id='combining_combine'></a>\n",
    "### Combining Catalogs Using the `combine_catalogs` Function"
   ]
  },
  {
   "cell_type": "markdown",
   "metadata": {},
   "source": [
    "The other way to combine catalogs is using the `create_catalog.combine_catalogs` function. This function creates a new catalog that contains the combined contents of the two input catalogs. In this case, "
   ]
  },
  {
   "cell_type": "code",
   "execution_count": null,
   "metadata": {},
   "outputs": [],
   "source": [
    "ra1 = np.random.random(3) + 80.\n",
    "dec1 = np.random.random(3) -69.7\n",
    "mags1 = np.random.random(3) + 15.\n",
    "mags1a = np.random.random(3) + 17.\n",
    "ptsrc1 = catalog_generator.PointSourceCatalog(ra=ra1, dec=dec1)\n",
    "ptsrc1.add_magnitude_column(mags1, instrument='nircam', filter_name='f444w')\n",
    "ptsrc1.add_magnitude_column(mags1a, instrument='nircam', filter_name='f480m')"
   ]
  },
  {
   "cell_type": "code",
   "execution_count": null,
   "metadata": {},
   "outputs": [],
   "source": [
    "ra2 = np.random.random(3) + 80.1\n",
    "dec2 = np.random.random(3) -69.6\n",
    "mags2 = np.random.random(3) + 15.\n",
    "mags2a = np.random.random(3) + 19.\n",
    "ptsrc2 = catalog_generator.PointSourceCatalog(ra=ra2, dec=dec2)\n",
    "ptsrc2.add_magnitude_column(mags2, instrument='nircam', filter_name='f444w')\n",
    "ptsrc2.add_magnitude_column(mags2a, instrument='nircam', filter_name='f470n')"
   ]
  },
  {
   "cell_type": "code",
   "execution_count": null,
   "metadata": {},
   "outputs": [],
   "source": [
    "# As with the add_catalog method, the default magnitude fill value is 99\n",
    "ptsrc3 = create_catalog.combine_catalogs(ptsrc1, ptsrc2, magnitude_fill_value=99.)"
   ]
  },
  {
   "cell_type": "code",
   "execution_count": null,
   "metadata": {},
   "outputs": [],
   "source": [
    "ptsrc3.table"
   ]
  },
  {
   "cell_type": "code",
   "execution_count": null,
   "metadata": {},
   "outputs": [],
   "source": []
  }
 ],
 "metadata": {
  "kernelspec": {
   "display_name": "Python 3",
   "language": "python",
   "name": "python3"
  },
  "language_info": {
   "codemirror_mode": {
    "name": "ipython",
    "version": 3
   },
   "file_extension": ".py",
   "mimetype": "text/x-python",
   "name": "python",
   "nbconvert_exporter": "python",
   "pygments_lexer": "ipython3",
   "version": "3.6.7"
  }
 },
 "nbformat": 4,
 "nbformat_minor": 2
}
