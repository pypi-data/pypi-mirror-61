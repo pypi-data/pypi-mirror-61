{
 "cells": [
  {
   "cell_type": "markdown",
   "metadata": {},
   "source": [
    "# Creating simulated data from a mosaic image"
   ]
  },
  {
   "cell_type": "markdown",
   "metadata": {},
   "source": [
    "This notebook demonstrates how to use Mirage to create simulated data from a distortion-free mosaic image. In this case, we will use a mosaic of the GOODS-S region from the [CANDELS survey](https://archive.stsci.edu/prepds/candels/). Several stamp images containing additional objects will also be used. These images are cut-outs from a recent [HST/WFC3 SNAPSHOT program of some 3C sources](https://hz3c.stsci.edu/Observations.html). \n",
    "\n",
    "For each observation to be simulated, the appropriate area of the mosaic is extracted from the full mosaic, and is resampled in order to introduce the distortion associated with the JWST instrument to be used. This distorted image is then addded to the simulated data in one of two ways.\n",
    "\n",
    "If you wish to modify the image from the mosaic in any way, such as adding additional objects or scaling the brightness, then the mosaic image can be added to one of Mirage's \"extended\" source catalogs, along with additional sources.\n",
    "\n",
    "If you do not wish to modify the cropped mosaic image in any way (other than introducing the appropriate distortion), then the distorted image can be used directly as a seed image, and you only need to run the dark_prep and obs_generation steps of Mirage in order to create the final simulated data."
   ]
  },
  {
   "cell_type": "markdown",
   "metadata": {},
   "source": [
    "## Table of contents"
   ]
  },
  {
   "cell_type": "markdown",
   "metadata": {},
   "source": [
    "* [Imports](#imports)\n",
    "* [Download Data](#download)\n",
    "* [Using resampled image in an extended source catalog](#resample_into_catalog)\n",
    "    * [Provide the PSF FWHM in the mosaic data](#provide_fwhm)\n",
    "    * [Measure the FWHM by fitting a 2D Gaussian](#measure_fwhm)\n",
    "    * [Run yaml_generator to create Mirage input yaml files](#yaml_generator_catalogs)\n",
    "    * [Source Catalogs](#source_catalogs)\n",
    "    * [Extract images from mosaic, resample, and add to catalog](#crop_and_blot_catalog)\n",
    "    * [Create the simulated data](#create_data_catalog)\n",
    "    * [Look at simulated data](#examine_data_catalog)\n",
    "* [Use resampled image as a seed image](#resample_seed)\n",
    "    * [Run yaml_generator to create Mirage input yaml files](#yaml_generator_seed)\n",
    "    * [Create the simulted data](#create_data_seed)\n",
    "    * [Look at simulated data](#examine_data_seed)"
   ]
  },
  {
   "cell_type": "markdown",
   "metadata": {},
   "source": [
    "---\n",
    "<a id='imports'></a>\n",
    "## Imports"
   ]
  },
  {
   "cell_type": "code",
   "execution_count": null,
   "metadata": {},
   "outputs": [],
   "source": [
    "import os\n",
    "import yaml"
   ]
  },
  {
   "cell_type": "code",
   "execution_count": null,
   "metadata": {},
   "outputs": [],
   "source": [
    "from astropy.io import fits\n",
    "from astropy.modeling import models, fitting\n",
    "import matplotlib.pyplot as plt\n",
    "import numpy as np"
   ]
  },
  {
   "cell_type": "code",
   "execution_count": null,
   "metadata": {},
   "outputs": [],
   "source": [
    "from mirage.catalogs.catalog_generator import ExtendedCatalog\n",
    "from mirage.catalogs.create_catalog import combine_catalogs\n",
    "from mirage.dark.dark_prep import DarkPrep\n",
    "from mirage.ramp_generator.obs_generator import Observation\n",
    "from mirage.imaging_simulator import ImgSim\n",
    "from mirage.reference_files.downloader import download_file\n",
    "from mirage.seed_image.fits_seed_image import ImgSeed\n",
    "from mirage.yaml import yaml_generator"
   ]
  },
  {
   "cell_type": "markdown",
   "metadata": {},
   "source": [
    "---\n",
    "<a id='download'></a>\n",
    "## Download Data"
   ]
  },
  {
   "cell_type": "markdown",
   "metadata": {},
   "source": [
    "Download FITS files containing the mosaic, as well as three small stamp images containing single objects. "
   ]
  },
  {
   "cell_type": "code",
   "execution_count": null,
   "metadata": {},
   "outputs": [],
   "source": [
    "base_url = ('https://data.science.stsci.edu/redirect/JWST/jwst-simulations/'\n",
    "            'mirage_reference_files/example_data_for_notebooks')"
   ]
  },
  {
   "cell_type": "code",
   "execution_count": null,
   "metadata": {},
   "outputs": [],
   "source": [
    "stamp_files = ['3C305.1_stamp.fits', '3C324_stamp.fits', '3C454.1_stamp.fits',\n",
    "               'hlsp_candels_hst_acs_gs-tot-sect23_f814w_v1.0_drz.fits']"
   ]
  },
  {
   "cell_type": "code",
   "execution_count": null,
   "metadata": {},
   "outputs": [],
   "source": [
    "for stamp_file in stamp_files:\n",
    "    stamp_url = '{}/{}'.format(base_url, stamp_file)\n",
    "    s_file = download_file(stamp_url, stamp_file, output_directory='./')"
   ]
  },
  {
   "cell_type": "markdown",
   "metadata": {},
   "source": [
    "---\n",
    "<a id='resample_into_catalog'></a>\n",
    "## Using resampled image in an extended source catalog"
   ]
  },
  {
   "cell_type": "code",
   "execution_count": null,
   "metadata": {},
   "outputs": [],
   "source": [
    "mosaicfile = 'hlsp_candels_hst_acs_gs-tot-sect23_f814w_v1.0_drz.fits'\n",
    "xml_file = 'extended_object_test.xml'\n",
    "pointing_file = xml_file.replace('.xml', '.pointing')"
   ]
  },
  {
   "cell_type": "markdown",
   "metadata": {},
   "source": [
    "---\n",
    "<a id='provide_fwhm'></a>\n",
    "### Provide the PSF FWHM in the mosaic data"
   ]
  },
  {
   "cell_type": "code",
   "execution_count": null,
   "metadata": {},
   "outputs": [],
   "source": [
    "# From the CANDELS documentation\n",
    "mosaic_fwhm = 0.09  # arcseconds"
   ]
  },
  {
   "cell_type": "markdown",
   "metadata": {},
   "source": [
    "---\n",
    "<a id='measure_fwhm'></a>\n",
    "### Alternatively, measure the FWHM by fitting a 2D Gaussian"
   ]
  },
  {
   "cell_type": "code",
   "execution_count": null,
   "metadata": {},
   "outputs": [],
   "source": [
    "mosaic = fits.getdata(mosaicfile)\n",
    "mosaic_header = fits.getheader(mosaicfile)"
   ]
  },
  {
   "cell_type": "code",
   "execution_count": null,
   "metadata": {},
   "outputs": [],
   "source": [
    "# Extract a subimage around a star\n",
    "box = mosaic[3254: 3330, 7071: 7153]\n",
    "yp, xp = box.shape"
   ]
  },
  {
   "cell_type": "code",
   "execution_count": null,
   "metadata": {},
   "outputs": [],
   "source": [
    "# Look at the extracted box. Make sure the PSF looks reasonable\n",
    "plt.imshow(box)"
   ]
  },
  {
   "cell_type": "code",
   "execution_count": null,
   "metadata": {},
   "outputs": [],
   "source": [
    "# Generate grid of same size as box, to be used in fitting\n",
    "y, x, = np.mgrid[:yp, :xp]"
   ]
  },
  {
   "cell_type": "code",
   "execution_count": null,
   "metadata": {},
   "outputs": [],
   "source": [
    "# Fit the model\n",
    "p_init = models.Gaussian2D()\n",
    "fit_p = fitting.LevMarLSQFitter()\n",
    "fitted_psf = fit_p(p_init, x, y, box)"
   ]
  },
  {
   "cell_type": "code",
   "execution_count": null,
   "metadata": {},
   "outputs": [],
   "source": [
    "# Fit results. The FWHM is needed as an input to the\n",
    "print('Amplitude: ', fitted_psf.amplitude.value)\n",
    "print('X_mean: ', fitted_psf.x_mean.value)\n",
    "print('Y_mean: ', fitted_psf.y_mean.value)\n",
    "print('X_FWHM: ', fitted_psf.x_fwhm)\n",
    "print('Y_FWHM: ', fitted_psf.y_fwhm)\n",
    "print('X_stddev: ', fitted_psf.x_stddev.value)\n",
    "print('Y_stddev: ', fitted_psf.y_stddev.value)"
   ]
  },
  {
   "cell_type": "code",
   "execution_count": null,
   "metadata": {},
   "outputs": [],
   "source": [
    "measured_mosaic_fwhm = fitted_psf.y_fwhm * (np.abs(mosaic_header['CD2_2']) * 3600.)"
   ]
  },
  {
   "cell_type": "code",
   "execution_count": null,
   "metadata": {},
   "outputs": [],
   "source": [
    "# Measured FWHM in arcseconds\n",
    "measured_mosaic_fwhm"
   ]
  },
  {
   "cell_type": "code",
   "execution_count": null,
   "metadata": {},
   "outputs": [],
   "source": [
    "mosaic_fwhm = measured_mosaic_fwhm"
   ]
  },
  {
   "cell_type": "markdown",
   "metadata": {},
   "source": [
    "---\n",
    "<a id='yaml_generator_catalogs'></a>\n",
    "### Run yaml_generator to create Mirage input yaml files"
   ]
  },
  {
   "cell_type": "markdown",
   "metadata": {},
   "source": [
    "User-inputs to the yaml generator. Note that you can still use a catalogs input here and add\n",
    "point sources or galaxies. Extended source catalog names will be added later"
   ]
  },
  {
   "cell_type": "code",
   "execution_count": null,
   "metadata": {},
   "outputs": [],
   "source": [
    "cr = {'library': 'SUNMAX', 'scale': 1.0}\n",
    "dates = '2019-5-25'\n",
    "background = 'low'\n",
    "pav3 = 0.0\n",
    "#catalogs = {'NGC1234': {'nircam': {'point_source': 'ngc1234_ptsrc_nrc.cat',\n",
    "#                                   'galaxy': 'ngc1234_galaxy_nrc.cat',\n",
    "#                                   }\n",
    "#                        }\n",
    "#            }"
   ]
  },
  {
   "cell_type": "markdown",
   "metadata": {},
   "source": [
    "Run the yaml generator"
   ]
  },
  {
   "cell_type": "code",
   "execution_count": null,
   "metadata": {
    "scrolled": true
   },
   "outputs": [],
   "source": [
    "yam = yaml_generator.SimInput(xml_file, pointing_file, verbose=True,\n",
    "                              output_dir='yamls',\n",
    "                              cosmic_rays=cr,\n",
    "                              #catalogs=catalogs,\n",
    "                              background=background, roll_angle=pav3, dates=dates,\n",
    "                              simdata_output_dir='simdata',\n",
    "                              datatype='raw')\n",
    "yam.use_linearized_darks = True\n",
    "yam.create_inputs()"
   ]
  },
  {
   "cell_type": "markdown",
   "metadata": {},
   "source": [
    "---\n",
    "<a id='source_catalogs'></a>\n",
    "### Source catalogs"
   ]
  },
  {
   "cell_type": "markdown",
   "metadata": {},
   "source": [
    "Get a list of all instruments, apertures, and filters used in the APT file"
   ]
  },
  {
   "cell_type": "code",
   "execution_count": null,
   "metadata": {},
   "outputs": [],
   "source": [
    "instruments = yam.info['Instrument']\n",
    "filter_keywords = ['FilterWheel', 'ShortFilter', 'LongFilter', 'Filter']\n",
    "pupil_keywords = ['PupilWheel', 'ShortPupil', 'LongPupil']\n",
    "yam.info\n",
    "\n",
    "nrc_sw_optics = set([(f, p) for f, p in zip(yam.info['ShortFilter'], yam.info['ShortPupil'])])\n",
    "nrc_lw_optics = set([(f, p) for f, p in zip(yam.info['LongFilter'], yam.info['LongPupil'])])\n",
    "niriss_optics = set([(f, p) for f, p in zip(yam.info['FilterWheel'], yam.info['PupilWheel'])])\n",
    "niriss_wfss_optics = set([(f, p) for f, p in zip(yam.info['Filter'], yam.info['PupilWheel'])])\n",
    "\n",
    "print('NIRCam filters/pupils used in this proposal: ')\n",
    "print(nrc_sw_optics)\n",
    "print(nrc_lw_optics)\n",
    "print('\\nNIRISS filters/pupils used in this proposal: ')\n",
    "print(niriss_optics)\n",
    "print(niriss_wfss_optics)\n",
    "print(('\\nBe sure to add magnitude columns to the template catalog '\n",
    "        'for all filters you are going to simulate.\\n'))"
   ]
  },
  {
   "cell_type": "markdown",
   "metadata": {},
   "source": [
    "#### Create extended source catalog"
   ]
  },
  {
   "cell_type": "markdown",
   "metadata": {},
   "source": [
    "Create a template extended source catalog containing sources other than the mosaic image that you want to add to the seed image. The resampled mosaic will be added to this template later. Note that you must add magnitude values for these other sources in all filters that are used in the proposal."
   ]
  },
  {
   "cell_type": "markdown",
   "metadata": {},
   "source": [
    "If you do not have any extended sources other than the mosaic, set the template_cat to None, so that later we know there is nothing to combine with the catalog containing the mosaic data."
   ]
  },
  {
   "cell_type": "code",
   "execution_count": null,
   "metadata": {},
   "outputs": [],
   "source": [
    "template_cat = None"
   ]
  },
  {
   "cell_type": "markdown",
   "metadata": {},
   "source": [
    "If you do have extended sources in addition to the mosaic image, create template_cat here and add those sources."
   ]
  },
  {
   "cell_type": "code",
   "execution_count": null,
   "metadata": {},
   "outputs": [],
   "source": [
    "filter1 = 'F150W'\n",
    "filter2 = 'F444W'"
   ]
  },
  {
   "cell_type": "code",
   "execution_count": null,
   "metadata": {},
   "outputs": [],
   "source": [
    "other_stamp_files = ['3C305.1_stamp.fits', '3C324_stamp.fits', '3C454.1_stamp.fits']\n",
    "other_stamp_ra = [53.164375, 53.168375, 53.160375]\n",
    "other_stamp_dec = [-27.815355, -27.811355, -27.819355]\n",
    "other_stamp_pa = [0., 0., 0.]\n",
    "other_stamp_f150w_mags = [18., 19., 19.5]\n",
    "other_stamp_f444w_mags = [22.5, 23.5, 24.0]\n",
    "\n",
    "# Magnitude values must be strings here because we will be combining them\n",
    "# with values of 'None' for the resampled image magnitudes\n",
    "f150w_mags_as_str = [str(element) for element in other_stamp_f150w_mags]\n",
    "f444w_mags_as_str = [str(element) for element in other_stamp_f444w_mags]\n",
    "\n",
    "template_extended_catalog_file = 'extended_sources_template.cat'\n",
    "template_cat = ExtendedCatalog(filenames=other_stamp_files, ra=other_stamp_ra, dec=other_stamp_dec,\n",
    "                               position_angle=other_stamp_pa)\n",
    "template_cat.add_magnitude_column(f150w_mags_as_str, instrument='nircam', filter_name=filter1)\n",
    "template_cat.add_magnitude_column(f444w_mags_as_str, instrument='nircam', filter_name=filter2)\n",
    "template_cat.save(template_extended_catalog_file)"
   ]
  },
  {
   "cell_type": "markdown",
   "metadata": {},
   "source": [
    "---\n",
    "<a id='crop_and_blot_catalog'></a>\n",
    "### Extract images from mosaic, resample, and add to catalog"
   ]
  },
  {
   "cell_type": "markdown",
   "metadata": {},
   "source": [
    "In this step, crop a roughly detector-sized subarray from the mosaic image at the location specified in the yaml file. Convolve the subarray with the proper kernel in order to adjust the PSF in the mosaic to match that of the specified JWST detector and filter. Note that this can only be done in cases where the mosaic PSF's FWHM is smaller than the JWST PSF's FWHM, otherwise we would be sharpening the image. If you attempt to run the code in a situation like that, an exception will be raised.\n",
    "\n",
    "After convolution, the subarray is resampled onto the JWST pixel grid. Resample is essentially the same as Astrodrizzle's blot functionality.\n",
    "\n",
    "The resampled image is then added to the previously created extended source catalog (or kept in its own catalog if template_cat is None). This leads to an extended source catalog that is specific to the input yaml file used to control the cropping and resampleing. This extended source catalog is added to the yaml file so that when the simulated data are created, it will be used."
   ]
  },
  {
   "cell_type": "code",
   "execution_count": null,
   "metadata": {},
   "outputs": [],
   "source": [
    "yam.yaml_files"
   ]
  },
  {
   "cell_type": "markdown",
   "metadata": {},
   "source": [
    "In this case, with the mosaic image created from HST/ACS F814W data, with a FWHM of 0.09\", we cannot run the code for the NIRCam shortwave detectors (B1 - B4) with F150W, because the corresponding FWHM for that is smaller than 0.09\". However, we can run the code for the NIRCam longwave detector (B5) with the F444W filter, where the FWHM is larger than 0.09\"."
   ]
  },
  {
   "cell_type": "code",
   "execution_count": null,
   "metadata": {
    "scrolled": true
   },
   "outputs": [],
   "source": [
    "for yfile in [yam.yaml_files[-1]]:\n",
    "    \n",
    "    # Read in the yaml file so that we know RA, Dec, PAV3\n",
    "    # of the exposure\n",
    "    with open(yfile) as file_obj:\n",
    "        params = yaml.safe_load(file_obj)\n",
    "        \n",
    "    ra = params['Telescope']['ra']\n",
    "    dec = params['Telescope']['dec']\n",
    "    pav3 = params['Telescope']['rotation']\n",
    "\n",
    "    # Define the output files and directories\n",
    "    sim_data_dir = params['Output']['directory']\n",
    "    simulated_filename = params['Output']['file']\n",
    "    crop_file = simulated_filename.replace('.fits', '_cropped_from_mosaic.fits')\n",
    "    crop_file = os.path.join(sim_data_dir, crop_file)\n",
    "    blot_file = simulated_filename.replace('.fits', '_blotted_seed_image.fits')\n",
    "    \n",
    "    # Crop from the mosaic and resample for the desired detector/aperture\n",
    "    seed = ImgSeed(paramfile=yfile, mosaic_file=mosaicfile, cropped_file=crop_file,\n",
    "                   outdir=sim_data_dir, blotted_file=blot_file, mosaic_fwhm=mosaic_fwhm,\n",
    "                   mosaic_fwhm_units='arcsec', gaussian_psf=False)\n",
    "    seed.crop_and_blot()\n",
    "\n",
    "    # Now add the resampled file to the extended source catalog template and\n",
    "    # save as a separate catalog file\n",
    "    \n",
    "    # Need to add a magnitude entry for each filter/pupil\n",
    "    mosaic_f150w_mag = ['None']\n",
    "    mosaic_f444w_mag = ['None']\n",
    "    \n",
    "    # Create the catalog containing only the resampled image\n",
    "    blotted_image_full_path = os.path.join(sim_data_dir, blot_file)\n",
    "    extended_catalog_file = simulated_filename.replace('.fits', '_extended_sources.cat')\n",
    "    ext_cat = ExtendedCatalog(filenames=[blotted_image_full_path], ra=[ra], dec=[dec], position_angle=[pav3])\n",
    "    ext_cat.add_magnitude_column(mosaic_f150w_mag, instrument='nircam', filter_name=filter1)\n",
    "    ext_cat.add_magnitude_column(mosaic_f444w_mag, instrument='nircam', filter_name=filter2)\n",
    "\n",
    "    # Combine the resampled image catalog and the template catalog\n",
    "    if template_cat is not None:\n",
    "        combined_cat = combine_catalogs(ext_cat, template_cat)\n",
    "        combined_cat.save(extended_catalog_file)\n",
    "    else:\n",
    "        ext_cat.save(extended_catalog_file)\n",
    "\n",
    "    # Now add this extended source catalog to the yaml file\n",
    "    params['simSignals']['extended'] = extended_catalog_file\n",
    "\n",
    "    # Save the updated yaml file\n",
    "    with open(yfile, 'w') as file_obj:\n",
    "        dump = yaml.dump(params, default_flow_style=False)\n",
    "        file_obj.write(dump)"
   ]
  },
  {
   "cell_type": "markdown",
   "metadata": {},
   "source": [
    "---\n",
    "<a id='create_data_catalog'></a>\n",
    "### Create the simulated data"
   ]
  },
  {
   "cell_type": "markdown",
   "metadata": {},
   "source": [
    "Run the imaging simulator using the yaml files. Again in this case we run only the case with the NIRCam longwave detector."
   ]
  },
  {
   "cell_type": "code",
   "execution_count": null,
   "metadata": {
    "scrolled": true
   },
   "outputs": [],
   "source": [
    "for yfile in [yam.yaml_files[-1]]:\n",
    "    sim = ImgSim(paramfile=yfile)\n",
    "    sim.create()"
   ]
  },
  {
   "cell_type": "markdown",
   "metadata": {},
   "source": [
    "---\n",
    "<a id='examine_data_catalog'></a>\n",
    "### Look at simulated data"
   ]
  },
  {
   "cell_type": "code",
   "execution_count": null,
   "metadata": {},
   "outputs": [],
   "source": [
    "def show(array,title,min=0,max=1000):\n",
    "    plt.figure(figsize=(12,12))\n",
    "    plt.imshow(array,clim=(min,max), origin='lower')\n",
    "    plt.title(title)\n",
    "    plt.colorbar().set_label('DN$^{-}$/s')"
   ]
  },
  {
   "cell_type": "markdown",
   "metadata": {},
   "source": [
    "#### Seed image"
   ]
  },
  {
   "cell_type": "markdown",
   "metadata": {},
   "source": [
    "Note that the sources are more difficult to see than you might expect. This is because background signal has been added to the data. This will be in addition to any background signal present in the original mosaic image. As with any Mirage simulation, the level of background signal can be controlled using the `bkgdrate` parameter in the yaml file.\n",
    "\n",
    "The three stamp images added on top of the mosaic are visible in a diagonal line in the center of the image, going from upper left to lower right."
   ]
  },
  {
   "cell_type": "code",
   "execution_count": null,
   "metadata": {},
   "outputs": [],
   "source": [
    "# Look at the noiseless seed image\n",
    "show(sim.seedimage,'Seed Image', max=0.4)"
   ]
  },
  {
   "cell_type": "markdown",
   "metadata": {},
   "source": [
    "Zoom in on the center, where the three added stamp images are. The sources are in the center, the upper left corner, and the lower right corner."
   ]
  },
  {
   "cell_type": "code",
   "execution_count": null,
   "metadata": {},
   "outputs": [],
   "source": [
    "show(sim.seedimage[700: 1300, 700: 1300],'Seed Image', max=0.6)"
   ]
  },
  {
   "cell_type": "markdown",
   "metadata": {},
   "source": [
    "---\n",
    "<a id='resample_seed'></a>\n",
    "## Use resampled image as a seed image"
   ]
  },
  {
   "cell_type": "markdown",
   "metadata": {},
   "source": [
    "In this case, rather than adding the cropped and resampled images to extended source catalogs which are then used in the simulated data generation, we instead use the cropped and resampled images as Mirage's seed images. This means that no sources other than the mosaic image can be used. After cropping and resampling, Mirage's dark current prep and observation generator are run, creating the final simulated data directly."
   ]
  },
  {
   "cell_type": "code",
   "execution_count": null,
   "metadata": {},
   "outputs": [],
   "source": [
    "mosaicfile = 'hlsp_candels_hst_acs_gs-tot-sect23_f814w_v1.0_drz.fits'\n",
    "xml_file = 'extended_object_test.xml'\n",
    "pointing_file = xml_file.replace('.xml', '.pointing')"
   ]
  },
  {
   "cell_type": "markdown",
   "metadata": {},
   "source": [
    "---\n",
    "<a id='yaml_generator_seed'></a>\n",
    "### Run yaml_generator to create Mirage input yaml files"
   ]
  },
  {
   "cell_type": "markdown",
   "metadata": {},
   "source": [
    "User-inputs to the yaml generator. Note that you cannot use a catalogs input here to add extra\n",
    "point sources or galaxies."
   ]
  },
  {
   "cell_type": "code",
   "execution_count": null,
   "metadata": {},
   "outputs": [],
   "source": [
    "cr = {'library': 'SUNMAX', 'scale': 1.0}\n",
    "dates = '2019-5-25'\n",
    "background = 'low'\n",
    "pav3 = 0.0"
   ]
  },
  {
   "cell_type": "markdown",
   "metadata": {},
   "source": [
    "Run the yaml generator"
   ]
  },
  {
   "cell_type": "code",
   "execution_count": null,
   "metadata": {
    "scrolled": true
   },
   "outputs": [],
   "source": [
    "yam = yaml_generator.SimInput(xml_file, pointing_file, verbose=True,\n",
    "                              output_dir='yamls',\n",
    "                              cosmic_rays=cr,\n",
    "                              background=background, roll_angle=pav3, dates=dates,\n",
    "                              simdata_output_dir='simdata',\n",
    "                              datatype='raw')\n",
    "yam.use_linearized_darks = True\n",
    "yam.create_inputs()"
   ]
  },
  {
   "cell_type": "markdown",
   "metadata": {},
   "source": [
    "---\n",
    "<a id='create_data_seed'></a>\n",
    "### Create the simulted data"
   ]
  },
  {
   "cell_type": "markdown",
   "metadata": {},
   "source": [
    "In this step, crop a roughly detector-sized subarray from the mosaic image at the location specified in the yaml file. Convolve the subarray with the proper kernel in order to adjust the PSF in the mosaic to match that of the specified JWST detector and filter. Note that this can only be done in cases where the mosaic PSF's FWHM is smaller than the JWST PSF's FWHM, otherwise we would be sharpening the image. If you attempt to run the code in a situation like that, an exception will be raised.\n",
    "\n",
    "After convolution, the subarray is resampled onto the JWST pixel grid. Resample is essentially the same as Astrodrizzle's blot functionality.\n",
    "\n",
    "The resampled image serves as Mirage's seed image. The dark_prep and observation generator steps are then run to complete the simulated data generation."
   ]
  },
  {
   "cell_type": "markdown",
   "metadata": {},
   "source": [
    "As in the previous method, we run only the NIRCam longwave detector data here, as this is the only case where the NIRCam PSF FWHM is larger than the mosaic PSF FWHM."
   ]
  },
  {
   "cell_type": "code",
   "execution_count": null,
   "metadata": {
    "scrolled": true
   },
   "outputs": [],
   "source": [
    "for yfile in [yam.yaml_files[-1]]:\n",
    "    \n",
    "    # Read in the yaml file so that we know RA, Dec, PAV3\n",
    "    with open(yfile) as file_obj:\n",
    "        params = yaml.safe_load(file_obj)\n",
    "        \n",
    "    # Define output filenames and directories\n",
    "    sim_data_dir = params['Output']['directory']\n",
    "    simulated_filename = params['Output']['file']\n",
    "    crop_file = simulated_filename.replace('.fits', '_cropped_from_mosaic.fits')\n",
    "    crop_file = os.path.join(sim_data_dir, crop_file)\n",
    "    blot_file = simulated_filename.replace('.fits', '_blotted_seed_image.fits')\n",
    "        \n",
    "    # Crop from the mosaic and then resample the image\n",
    "    seed = ImgSeed(paramfile=yfile, mosaic_file=mosaicfile, cropped_file=crop_file,\n",
    "                   outdir=sim_data_dir, blotted_file=blot_file, mosaic_fwhm=mosaic_fwhm,\n",
    "                   mosaic_fwhm_units='arcsec', gaussian_psf=False)\n",
    "    seed.crop_and_blot()\n",
    "    \n",
    "    # Run dark_prep\n",
    "    dark = DarkPrep()\n",
    "    dark.paramfile = yfile\n",
    "    dark.prepare()\n",
    "\n",
    "    # Run the observation generator\n",
    "    obs = Observation()\n",
    "    obs.paramfile = yfile    \n",
    "    obs.seed = seed.seed_image\n",
    "    obs.segmap = seed.seed_segmap\n",
    "    obs.seedheader = seed.seedinfo\n",
    "    obs.linDark = dark.prepDark\n",
    "    obs.create()"
   ]
  },
  {
   "cell_type": "markdown",
   "metadata": {},
   "source": [
    "---\n",
    "<a id='examine_data_seed'></a>\n",
    "### Look at simulated data"
   ]
  },
  {
   "cell_type": "code",
   "execution_count": null,
   "metadata": {},
   "outputs": [],
   "source": [
    "seed_file = 'simdata/jw00042001001_01101_00001_nrcb5_uncal_blotted_seed_image.fits'"
   ]
  },
  {
   "cell_type": "code",
   "execution_count": null,
   "metadata": {},
   "outputs": [],
   "source": [
    "seed_image = fits.getdata(seed_file)"
   ]
  },
  {
   "cell_type": "markdown",
   "metadata": {},
   "source": [
    "In this case, no background has been added to the mosaic image because the cutout from the mosaic is being used directly as the seed image. The only background signal present is that present in the original image."
   ]
  },
  {
   "cell_type": "code",
   "execution_count": null,
   "metadata": {},
   "outputs": [],
   "source": [
    "# Look at the noiseless seed image\n",
    "show(seed_image,'Seed Image',max=0.03)"
   ]
  }
 ],
 "metadata": {
  "kernelspec": {
   "display_name": "Python 3",
   "language": "python",
   "name": "python3"
  },
  "language_info": {
   "codemirror_mode": {
    "name": "ipython",
    "version": 3
   },
   "file_extension": ".py",
   "mimetype": "text/x-python",
   "name": "python",
   "nbconvert_exporter": "python",
   "pygments_lexer": "ipython3",
   "version": "3.6.7"
  }
 },
 "nbformat": 4,
 "nbformat_minor": 2
}
