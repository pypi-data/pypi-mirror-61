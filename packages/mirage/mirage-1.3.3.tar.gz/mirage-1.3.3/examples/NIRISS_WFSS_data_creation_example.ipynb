{
 "cells": [
  {
   "cell_type": "markdown",
   "metadata": {},
   "source": [
    "# Example: Using MIRAGE to Generate Wide Field Slitless Exposures"
   ]
  },
  {
   "cell_type": "markdown",
   "metadata": {},
   "source": [
    "This notebook shows how to use Mirage to create Wide Field Slitless Spectroscopy (WFSS) data, beginning with an APT file. This can be done for NIRCam or NIRISS."
   ]
  },
  {
   "cell_type": "markdown",
   "metadata": {},
   "source": [
    "*Table of Contents:*\n",
    "* [Getting Started](#getting_started)\n",
    "* [Create input yaml files from an APT proposal](#yaml_from_apt)\n",
    "* [Make WFSS simulated observations](#make_wfss)\n",
    "   * [Provide a single wfss mode yaml file](#single_yaml)\n",
    "   * [Provide mulitple yaml files](#multiple_yamls)\n",
    "   * [Provide a single yaml file and an hdf5 file containing SED curves of the sources](#yaml_plus_hdf5)\n",
    "   * [Outputs](#wfss_outputs)\n",
    "* [Make imaging simulated observations](#make_imaging)\n",
    "   * [Outputs](#imaging_outputs)"
   ]
  },
  {
   "cell_type": "markdown",
   "metadata": {},
   "source": [
    "---\n",
    "<a id='getting_started'></a>\n",
    "## Getting Started\n",
    "\n",
    "<div class=\"alert alert-block alert-warning\">\n",
    "**Important:** \n",
    "Before proceeding, ensure you have set the MIRAGE_DATA environment variable to point to the directory that contains the reference files associated with MIRAGE.\n",
    "<br/><br/>\n",
    "If you want JWST pipeline calibration reference files to be downloaded in a specific directory, you should also set the CRDS_DATA environment variable to point to that directory. This directory will also be used by the JWST calibration pipeline during data reduction.\n",
    "<br/><br/>\n",
    "You may also want to set the CRDS_SERVER_URL environment variable set to https://jwst-crds.stsci.edu. This is not strictly necessary, and Mirage will do it for you if you do not set it, but if you import the crds package, or any package that imports the crds package, you should set this environment variable first, in order to avoid an error.\n",
    "</div>\n",
    "\n",
    "<div class=\"alert alert-block alert-info\">\n",
    "**Dependencies:**<br>\n",
    "\n",
    "1) Install GRISMCONF from https://github.com/npirzkal/GRISMCONF<br>\n",
    "\n",
    "2) Install NIRCAM_Gsim from https://github.com/npirzkal/NIRCAM_Gsim. This is the disperser software, which works for both NIRCam and NIRISS.\n",
    "</div>"
   ]
  },
  {
   "cell_type": "code",
   "execution_count": null,
   "metadata": {},
   "outputs": [],
   "source": [
    "import os"
   ]
  },
  {
   "cell_type": "code",
   "execution_count": null,
   "metadata": {},
   "outputs": [],
   "source": [
    "# Set environment variables\n",
    "# It may be helpful to set these within your .bashrc or .cshrc file, so that CRDS will\n",
    "# know where to look for reference files during future runs of the JWST calibration\n",
    "# pipeline.\n",
    "\n",
    "#os.environ[\"MIRAGE_DATA\"] = \"/my/mirage_data/\"\n",
    "os.environ[\"CRDS_PATH\"] = os.path.join(os.path.expandvars('$HOME'), \"crds_cache\")\n",
    "os.environ[\"CDRS_SERVER_URL\"]=\"https://jwst-cdrs.stsci.edu\""
   ]
  },
  {
   "cell_type": "code",
   "execution_count": null,
   "metadata": {},
   "outputs": [],
   "source": [
    "from glob import glob\n",
    "import pkg_resources\n",
    "import yaml\n",
    "\n",
    "from astropy.io import fits\n",
    "import astropy.units as u\n",
    "from astropy.visualization import simple_norm, imshow_norm\n",
    "import h5py\n",
    "import numpy as np\n",
    "import matplotlib.pyplot as plt\n",
    "%matplotlib inline\n",
    "\n",
    "from mirage import imaging_simulator\n",
    "from mirage import wfss_simulator\n",
    "from mirage.utils.constants import FLAMBDA_CGS_UNITS, FLAMBDA_MKS_UNITS, FNU_CGS_UNITS \n",
    "from mirage.yaml import yaml_generator"
   ]
  },
  {
   "cell_type": "code",
   "execution_count": null,
   "metadata": {},
   "outputs": [],
   "source": [
    "TEST_DATA_DIRECTORY = os.path.normpath(os.path.join(pkg_resources.resource_filename('mirage', ''),\n",
    "                                                    '../examples/wfss_example_data'))"
   ]
  },
  {
   "cell_type": "markdown",
   "metadata": {},
   "source": [
    "---\n",
    "<a id='yaml_from_apt'></a>\n",
    "## Create a series of yaml files from an [APT](https://jwst-docs.stsci.edu/display/JPP/JWST+Astronomers+Proposal+Tool+Overview) proposal"
   ]
  },
  {
   "cell_type": "markdown",
   "metadata": {},
   "source": [
    "With your proposal file open in APT, export the \"xml\" and \"pointing\" files. These will serve as the inputs to the yaml file generator function."
   ]
  },
  {
   "cell_type": "code",
   "execution_count": null,
   "metadata": {},
   "outputs": [],
   "source": [
    "# Input files from APT\n",
    "xml_file = os.path.join(TEST_DATA_DIRECTORY, 'niriss_wfss_example.xml')\n",
    "pointing_file = os.path.join(TEST_DATA_DIRECTORY, 'niriss_wfss_example.pointing')"
   ]
  },
  {
   "cell_type": "markdown",
   "metadata": {},
   "source": [
    "See Mirage's [Mirage's yaml_generator documentation](https://mirage-data-simulator.readthedocs.io/en/latest/yaml_generator.html#additional-yaml-generator-inputs \"Yaml Generator Inputs\")\n",
    "for details on the formatting options for the inputs listed below. The formats will vary based on the complexity of your inputs and observations (number of targets, number of observations, instruments used)."
   ]
  },
  {
   "cell_type": "code",
   "execution_count": null,
   "metadata": {},
   "outputs": [],
   "source": [
    "# Source catalogs to be used. In this relatively simple case with a single target\n",
    "# and a single instrument, there are two ways to supply the source catalogs. You\n",
    "# may specify with or without the target name from the APT file as a dictionary key.\n",
    "\n",
    "#catalogs = {'MAIN-TARGET': {'point_source': os.path.join(TEST_DATA_DIRECTORY,'point_sources.cat')}}\n",
    "catalogs = {'point_source': os.path.join(TEST_DATA_DIRECTORY,'point_sources.cat')}"
   ]
  },
  {
   "cell_type": "code",
   "execution_count": null,
   "metadata": {},
   "outputs": [],
   "source": [
    "# Set reference file values. \n",
    "# Setting to 'crds_full_name' will search for and download needed\n",
    "# calibration reference files (commonly referred to as CRDS reference files) when\n",
    "# the yaml_generator is run. \n",
    "# \n",
    "# Setting to 'crds' will put placeholders in the yaml files and save the downloading\n",
    "# for when the simulated images are created.\n",
    "reffile_defaults = 'crds'"
   ]
  },
  {
   "cell_type": "code",
   "execution_count": null,
   "metadata": {},
   "outputs": [],
   "source": [
    "# Optionally set the cosmic ray library and rate\n",
    "cosmic_rays = {'library': 'SUNMAX', 'scale': 1.0}"
   ]
  },
  {
   "cell_type": "code",
   "execution_count": null,
   "metadata": {},
   "outputs": [],
   "source": [
    "# Optionally set the background signal rates to be used\n",
    "background = 'medium'"
   ]
  },
  {
   "cell_type": "code",
   "execution_count": null,
   "metadata": {},
   "outputs": [],
   "source": [
    "# Optionally set the telescope roll angle (PAV3) for the observations\n",
    "pav3 = 12.5"
   ]
  },
  {
   "cell_type": "code",
   "execution_count": null,
   "metadata": {},
   "outputs": [],
   "source": [
    "# Optionally set the observation date to use for the data. Note that this information\n",
    "# is placed in the headers of the output files, but not used by Mirage in any way.\n",
    "dates = '2022-10-31'"
   ]
  },
  {
   "cell_type": "markdown",
   "metadata": {},
   "source": [
    "You can specify the data reduction state of the Mirage outputs.\n",
    "Options are 'raw', 'linear', or 'linear, raw'. \n",
    "\n",
    "If 'raw' is specified, the output is a completely uncalibrated file, with a filename ending in \"uncal.fits\"\n",
    "\n",
    "If 'linear' is specified, the output is a file with linearized signals, ending in \"linear.fits\". This is equivalent to having been run through the dq_init, saturation flagging, superbias subtraction, reference pixel subtraction, and non-linearity correction steps of the calibration pipeline. Note that this product does not include dark current subtraction.\n",
    "\n",
    "If 'linear, raw', both outputs are saved.\n",
    "\n",
    "In order to fully process the Mirage output with the default steps used by the pipeline, it would be best to use the 'raw' output and run the entire calibration pipeline."
   ]
  },
  {
   "cell_type": "code",
   "execution_count": null,
   "metadata": {},
   "outputs": [],
   "source": [
    "datatype = 'linear, raw'"
   ]
  },
  {
   "cell_type": "markdown",
   "metadata": {},
   "source": [
    "Provide the output directory for the yaml files themselves, as well as the output directory where you want the simulated files to eventually be saved. This information will be placed in the yaml files."
   ]
  },
  {
   "cell_type": "code",
   "execution_count": null,
   "metadata": {},
   "outputs": [],
   "source": [
    "print(catalogs)"
   ]
  },
  {
   "cell_type": "code",
   "execution_count": null,
   "metadata": {
    "scrolled": true
   },
   "outputs": [],
   "source": [
    "# Create a series of Mirage input yaml files\n",
    "# using the APT files\n",
    "yaml_output_dir = '/where/to/put/yaml/files'\n",
    "simulations_output_dir = '/where/to/put/simulated/data'\n",
    "# Run the yaml generator\n",
    "yam = yaml_generator.SimInput(input_xml=xml_file, pointing_file=pointing_file,\n",
    "                              catalogs=catalogs, cosmic_rays=cosmic_rays,\n",
    "                              background=background, roll_angle=pav3,\n",
    "                              dates=dates, reffile_defaults=reffile_defaults,\n",
    "                              verbose=True, output_dir=yaml_output_dir,\n",
    "                              simdata_output_dir=simulations_output_dir,\n",
    "                              datatype=datatype)\n",
    "yam.create_inputs()"
   ]
  },
  {
   "cell_type": "markdown",
   "metadata": {},
   "source": [
    "One yaml file will be created for each exposure and detector. The naming convention of the files follows that for [JWST exposure filenames](https://jwst-docs.stsci.edu/display/JDAT/File+Naming+Conventions+and+Data+Products). For example, the first expsure in proposal number 12345, Observation 3, Visit 2, assuming it is made using NIRCam (the A2 detector in this case) will be named jw12345003002_01101_00001_nrca1_uncal.fits. Note that Mirage does not yet create activity IDs in the same way as the JWST flight software, so filenames will be slightly different than what they will be in-flight for the same APT proposal."
   ]
  },
  {
   "cell_type": "markdown",
   "metadata": {},
   "source": [
    "Look to see which yaml files are for WFSS and which are imaging"
   ]
  },
  {
   "cell_type": "code",
   "execution_count": null,
   "metadata": {},
   "outputs": [],
   "source": [
    "yaml_files = glob(os.path.join(yam.output_dir,\"jw*.yaml\"))\n",
    "\n",
    "yaml_WFSS_files = []\n",
    "yaml_imaging_files = []\n",
    "for f in yaml_files:\n",
    "    my_dict = yaml.safe_load(open(f))\n",
    "    if my_dict[\"Inst\"][\"mode\"]==\"wfss\":\n",
    "        yaml_WFSS_files.append(f)\n",
    "    if my_dict[\"Inst\"][\"mode\"]==\"imaging\":\n",
    "        yaml_imaging_files.append(f)\n",
    "    \n",
    "print(\"WFSS files:\",len(yaml_WFSS_files))\n",
    "print(\"Imaging files:\",len(yaml_imaging_files))"
   ]
  },
  {
   "cell_type": "markdown",
   "metadata": {},
   "source": [
    "Each output yaml file contains details on the simulation."
   ]
  },
  {
   "cell_type": "code",
   "execution_count": null,
   "metadata": {},
   "outputs": [],
   "source": [
    "with open(yaml_WFSS_files[0], 'r') as infile:\n",
    "    parameters = yaml.load(infile)\n",
    "for key in parameters:\n",
    "    for level2_key in parameters[key]:\n",
    "        print('{}: {}: {}'.format(key, level2_key, parameters[key][level2_key]))"
   ]
  },
  {
   "cell_type": "markdown",
   "metadata": {},
   "source": [
    "---\n",
    "<a id='make_wfss'></a>\n",
    "## Make WFSS simulated observations"
   ]
  },
  {
   "cell_type": "markdown",
   "metadata": {},
   "source": [
    "Create simulated data from the WFSS yaml files. This is accomplished using the **wfss_simulator** module, which wraps around the various stages of Mirage. There are several input options available for the **wfss_simulator**.\n",
    "\n",
    "* [Provide a single wfss mode yaml file](#singler_yaml)\n",
    "* [Provide mulitple yaml files](#multiple_yamls)\n",
    "* [Provide a single yaml file and an hdf5 file containing SED curves of the sources](#yaml_plus_hdf5)"
   ]
  },
  {
   "cell_type": "markdown",
   "metadata": {},
   "source": [
    "A brief explanation of the available keywords for the **wfss_simualtor**: "
   ]
  },
  {
   "cell_type": "markdown",
   "metadata": {},
   "source": [
    "* If an appropriate (linearized, or linearized and cut to the proper number of groups) dark current exposure already exists, the dark current preparation step can be skipped by providing the name of the dark file in **override_dark**.\n",
    "\n",
    "* The **save_dispersed_seed** option will save the dispersed seed image to a fits file. \n",
    "\n",
    "* The name of the fits file can be given in the **disp_seed_filename** keyword or, if that is left as None, Mirage will create a filename based on the simulated data output name in the WFSS mode yaml file.\n",
    "\n",
    "* If **extrapolate_SED** is set to True, then the continuum calculated by Mirage will be extrapolated to cover the necessary wavlengths if the filters in the input yaml files do not span the entire wavelength range.\n",
    "\n",
    "* If the **source_stamps_file** is set to the name of an [hdf5](https://www.h5py.org/) file, then the disperser will save 2D stamp images of the dispersed spectral orders for each target. These are intended as aids for spectral extraction. (**NOTE that turning this option on will lead to significantly longer run times for Mirage, as so much more data will be generated.**)\n",
    "\n",
    "* The **SED_file** keyword can be used to input an existing hdf5 file containing source spectra to be used in the simuation.\n",
    "\n",
    "* If you have source spectra created within your notbeook or python sessions, these can be added using the **SED_dict** keyword.\n",
    "\n",
    "* If there are normalized spectra within your **SED_file** or **SED_dict**, you must also provide the **SED_normalizing_catalog_column**. This is the magnitude column name within the ascii source catalog to use for scaling the normalized spectra. Only spectra with units specified as \"normalized\" will be scaled.\n",
    "\n",
    "* The **create_continuum_seds** keyword declares whether or not Mirage will use the information in the ascii source catalog to create a set of source SEDs, save them to an hdf5 file, and provide them to the disperser. The only case where the user-input value of this keyword is respected is in the case where mutiple yaml files (and no hdf5 file) are input into the **wfss_simulator**. Only in this situation is it possible to run the disperser using either the multiple imaging seed images alone, or from multiple imaging seed images plus an hdf5 file."
   ]
  },
  {
   "cell_type": "markdown",
   "metadata": {},
   "source": [
    "<a id='single_yaml'></a>\n",
    "### Provide a single wfss mode yaml file"
   ]
  },
  {
   "cell_type": "markdown",
   "metadata": {},
   "source": [
    "Here, we provide a single yaml file as input. In this case, Mirage will create a direct (undispersed) seed image for the yaml file. For each source, Mirage will construct a continuum spectrum by either:\n",
    "\n",
    "1. Interpolating the filtered magnitudes in the catalogs listed in the yaml file\n",
    "2. If only a single filter's magnitude is given, Mirage will extrapolate to produce a flat continuum\n",
    "\n",
    "This continuum spectrum will then be placed in the dispersed seed image, which will then be combined with a dark current exposure in order to create the final simulated exposure."
   ]
  },
  {
   "cell_type": "code",
   "execution_count": null,
   "metadata": {
    "scrolled": true
   },
   "outputs": [],
   "source": [
    "m = wfss_simulator.WFSSSim(yaml_WFSS_files[0], override_dark=None, save_dispersed_seed=True,\n",
    "                           extrapolate_SED=True, disp_seed_filename=None, source_stamps_file=None,\n",
    "                           SED_file=None, SED_normalizing_catalog_column=None, SED_dict=None,\n",
    "                           create_continuum_seds=True)\n",
    "m.create()"
   ]
  },
  {
   "cell_type": "markdown",
   "metadata": {},
   "source": [
    "<a id='multiple_yamls'></a>\n",
    "### Provide mulitple yaml files"
   ]
  },
  {
   "cell_type": "markdown",
   "metadata": {},
   "source": [
    "Here, we provide multiple yaml files as input. There are two options when operating in this way.\n",
    "\n",
    "* [Set **create_continuum_seds=False**](#multiple_yamls_no_sed). In this case, Mirage will create a direct (undispersed) seed image for each yaml file. For each source, the disperser determines an object's SED by *interpolating that object's signal across the seed images*. This continuum spectrum will then be placed in the dispersed seed image, which will then be combined with a dark current exposure in order to create the final simulated exposure.\n",
    "* [Set **create_continuum_seds=True**](#multiple_yamls_make_sed). In this case Mirage will produce the SEDs by *interpolating the source magnitudes given in the ascii source catalog*. These SEDs are saved to an hdf5 file. The hdf5 file is then provided to the disperser along with one undispersed seed image. The advantage of this option is processing time. In this case, the **wfss_simulator** only produces a single undispersed seed image, whereas if no hdf5 file is produced, Mirage will construct seed images from all of the input yaml files.\n",
    "\n",
    "NOTE: In this case, all of the supplied yaml files MUST have the same pointing!"
   ]
  },
  {
   "cell_type": "code",
   "execution_count": null,
   "metadata": {},
   "outputs": [],
   "source": [
    "test_yaml_files = ['jw00042001001_01101_00003_nis.yaml', 'jw00042001001_01101_00005_nis.yaml',\n",
    "                   'jw00042001001_01101_00009_nis.yaml']\n",
    "test_yaml_files = [os.path.join(yaml_output_dir, yfile) for yfile in test_yaml_files]"
   ]
  },
  {
   "cell_type": "markdown",
   "metadata": {},
   "source": [
    "<a id='multiple_yamls_no_sed'></a>\n",
    "#### Multiple yaml files, do not create continuum SED file"
   ]
  },
  {
   "cell_type": "code",
   "execution_count": null,
   "metadata": {
    "scrolled": true
   },
   "outputs": [],
   "source": [
    "disp_seed_image = 'multiple_yaml_input_no_continuua_dispersed_seed_image.fits'\n",
    "m = wfss_simulator.WFSSSim(test_yaml_files, override_dark=None, save_dispersed_seed=True,\n",
    "                           extrapolate_SED=True, disp_seed_filename=disp_seed_image, source_stamps_file=None,\n",
    "                           SED_file=None, SED_normalizing_catalog_column=None, SED_dict=None,\n",
    "                           create_continuum_seds=False)\n",
    "m.create()"
   ]
  },
  {
   "cell_type": "markdown",
   "metadata": {},
   "source": [
    "<a id='multiple_yamls_make_sed'></a>\n",
    "#### Multiple yaml files, create continuum SED file"
   ]
  },
  {
   "cell_type": "code",
   "execution_count": null,
   "metadata": {},
   "outputs": [],
   "source": [
    "disp_seed_image = 'multiple_yaml_input_with_continuua_dispersed_seed_image.fits'\n",
    "m = wfss_simulator.WFSSSim(test_yaml_files, override_dark=None, save_dispersed_seed=True,\n",
    "                           extrapolate_SED=True, disp_seed_filename=disp_seed_image, source_stamps_file=None,\n",
    "                           SED_file=None, SED_normalizing_catalog_column=None, SED_dict=None,\n",
    "                           create_continuum_seds=True)\n",
    "m.create()"
   ]
  },
  {
   "cell_type": "markdown",
   "metadata": {},
   "source": [
    "<a id='yaml_plus_hdf5'></a>\n",
    "### Provide a single yaml file and an hdf5 file containing SED curves of the sources"
   ]
  },
  {
   "cell_type": "markdown",
   "metadata": {},
   "source": [
    "In this case, a single WFSS mode yaml file is provided as input to Mirage. Along with this an [hdf5](https://www.h5py.org/) file is provided. This file contains a Spectral Energy Distribution (SED) curve for each target, either in units of F_lambda, (`F_lambda (erg / second / cm^2 / Angstrom)` or `(W / m^2 / micron)`) (or units that can be converted to F_lambda), F_nu (`erg / second / cm^2 / Hz` or `W / m^2 / Hz`), or a normalized SED. Along with the SED, the user must provide a set of wavelengths or frequencies. See the [hdf5 example](#make_sed_file) and [manual example](#manual_seds) below for more information on units. \n",
    "\n",
    "The advantage of this input scenario is that you are not limited to simple continuum spectra for your targets. Emission and absorption features can be added. Normalized SEDs will be scaled by the magnitudes listed in one of the magnitude columns of the ascii input catalog. The desired column name is provided through the `SED_normalizing_catalog_column` keyword.\n",
    "\n",
    "The disperser software will then use the SED along with the segmentation map in the direct seed image to place spectra into the dispersed seed image. In the cell below, we show a simple example of how to create an hdf5 file with SEDs. In this case the spectrum is flat with no emission nor absorption features. "
   ]
  },
  {
   "cell_type": "code",
   "execution_count": null,
   "metadata": {},
   "outputs": [],
   "source": [
    "target_1_wavelength = np.arange(1.0, 5.5, 0.1)\n",
    "target_1_flux = np.repeat(1e-16, len(target_1_wavelength))\n",
    "wavelengths = [target_1_wavelength]\n",
    "fluxes = [target_1_flux]\n",
    "\n",
    "# Examples for the case where you want to include data on more sources\n",
    "\n",
    "# Add fluxes for target number 2\n",
    "#target_2_wavelength = np.arange(0.8, 5.4, 0.05)\n",
    "#target_2_flux = np.repeat(1.4e-16, len(target_2_wavelength))\n",
    "#wavelengths.append(target_2_wavelength)\n",
    "#fluxes.append(target_2_flux)\n",
    "\n",
    "# Add a normalized input spectrum\n",
    "#target_3_wavelength = np.arange(0.8, 5.4, 0.05)\n",
    "#target_3_flux = np.linspace(1.3, 0.75, len(target_3_wavelength))\n",
    "#wavelengths.append(target_3_wavelength)\n",
    "#fluxes.append(target_3_flux)"
   ]
  },
  {
   "cell_type": "markdown",
   "metadata": {},
   "source": [
    "<a id='make_sed_file'></a>\n",
    "#### Create HDF5 file containing object SEDs"
   ]
  },
  {
   "cell_type": "markdown",
   "metadata": {},
   "source": [
    "If you wish to add information about the units of the wavelengths and fluxes, that can be done by setting attributes of each dataset as it is created. See the example below where the file **test_sed_file.hdf5** is created. If units are not provided, Mirage assumes wavelength units of `microns` and flux density units of F_lambda in CGS units `(erg / second / cm^2 / Angstrom)`. hdf5 files only support the use of strings as dataset attributes, so we specify units using strings. Mirage will convert these strings to astropy units when working with the data.\n",
    "\n",
    "Also note that in this hdf5 file (as well as in the manually created source SEDs below), each SED can have its own units."
   ]
  },
  {
   "cell_type": "code",
   "execution_count": null,
   "metadata": {},
   "outputs": [],
   "source": [
    "wavelength_units = 'microns'\n",
    "flux_units = 'flam'"
   ]
  },
  {
   "cell_type": "code",
   "execution_count": null,
   "metadata": {},
   "outputs": [],
   "source": [
    "sed_file = 'test_sed_file.hdf5'\n",
    "sed_file = os.path.join(yaml_output_dir, sed_file)\n",
    "with h5py.File(sed_file, \"w\") as file_obj:\n",
    "    for i in range(len(fluxes)):\n",
    "        dset = file_obj.create_dataset(str(i+1), data=[wavelengths[i], fluxes[i]], dtype='f',\n",
    "                                       compression=\"gzip\", compression_opts=9)\n",
    "        dset.attrs[u'wavelength_units'] = wavelength_units\n",
    "        if i < 2:\n",
    "            dset.attrs[u'flux_units'] = flux_units\n",
    "        else:\n",
    "            dset.attrs[u'flux_units'] = 'normalized'"
   ]
  },
  {
   "cell_type": "markdown",
   "metadata": {},
   "source": [
    "<a id='manual_seds'></a>\n",
    "#### Manual SED inputs"
   ]
  },
  {
   "cell_type": "markdown",
   "metadata": {},
   "source": [
    "Also in this example we show the option to manually provide an SED. In this case the SED must be a dictionary where the key is the index number of the object (corresponding to the index number in the ascii catalog). The dictionary entry must contain a `'wavelengths'` and a `'fluxes'` entry for each object. Both of these must be lists or numpy arrays. Astropy units can optionally be attached to each list. Currently Mirage supports only `F_lambda` (or equivalent) units, `F_nu` (or equivalent) units, or normalized units, which can be specified using astropy's `pct` unit. In the example below, note the use of `FLAMBDA_CGS_UNITS`, `FLAMBDA_MKS_UNITS`, and `FNU_CGS_UNITS`, which have been imported from Mirage. *Target_7* also uses a set of frequencies (note the specification of Hz for units), rather than wavelengths. Convertable frequency units (e.g. MHz, GHz) are also allowed."
   ]
  },
  {
   "cell_type": "code",
   "execution_count": null,
   "metadata": {},
   "outputs": [],
   "source": [
    "my_sed = {}\n",
    "target_2_wavelength = np.arange(0.8, 5.4, 0.05) * u.micron\n",
    "target_2_flux = np.linspace(1.1, 0.95, len(target_2_wavelength)) * u.pct\n",
    "my_sed[2] = {\"wavelengths\": target_2_wavelength,\n",
    "             \"fluxes\": target_2_flux}\n",
    "\n",
    "# Examples in the case you want to add information for other sources\n",
    "\n",
    "#target_5_wavelength = np.arange(0.8, 5.4, 0.05) * u.micron\n",
    "#target_5_flux = np.linspace(1e-16, 1e-17, len(target_5_wavelength)) * FLAMBDA_CGS_UNITS\n",
    "#my_sed[4] = {\"wavelengths\": target_5_wavelength,\n",
    "#             \"fluxes\": target_5_flux}\n",
    "\n",
    "#target_6_wavelength = np.arange(0.8, 5.4, 0.05) * u.micron\n",
    "#target_6_flux = np.linspace(1e-15, 1e-16, len(target_5_wavelength)) * FLAMBDA_MKS_UNITS\n",
    "#my_sed[5] = {\"wavelengths\": target_6_wavelength,\n",
    "#             \"fluxes\": target_6_flux}\n",
    "\n",
    "#target_7_wavelength = np.linspace(5.6e13, 3.7e14, 10) * u.Hz\n",
    "#target_7_flux = np.linspace(1.6e-26, 1.6e-27, len(target_7_wavelength)) * FNU_CGS_UNITS\n",
    "#my_sed[5] = {\"wavelengths\": target_7_wavelength,\n",
    "#             \"fluxes\": target_7_flux}"
   ]
  },
  {
   "cell_type": "code",
   "execution_count": null,
   "metadata": {
    "scrolled": true
   },
   "outputs": [],
   "source": [
    "# Input the SED file and SED dictionary along with a WFSS mode yaml file to Mirage\n",
    "m = wfss_simulator.WFSSSim(test_yaml_files[0], override_dark=None, save_dispersed_seed=True,\n",
    "                           extrapolate_SED=True, disp_seed_filename=None, source_stamps_file=None,\n",
    "                           SED_file=sed_file, SED_normalizing_catalog_column='niriss_f200w_magnitude',\n",
    "                           SED_dict=my_sed, create_continuum_seds=True)\n",
    "m.create()"
   ]
  },
  {
   "cell_type": "markdown",
   "metadata": {},
   "source": [
    "<a id='wfss_outputs'></a>\n",
    "### Outputs"
   ]
  },
  {
   "cell_type": "markdown",
   "metadata": {},
   "source": [
    "Regardless of whether the **wfss_simulator** is called with multiple yaml files or a yaml and an hdf5 file, the outputs will be the same. The final output will be **jw\\*uncal.fits** (or **jw\\*linear.fits**, depending on whether raw or linear outputs are specified in the yaml files) files in your output directory. These files are in DMS format and can be fed directly into the **calwebb_detector1** pipeline for further calibration, if desired.\n",
    "\n",
    "The seed image is also saved, as an intermediate output. This seed image is a noiseless rate image of the same scene in the final output file. The seed image can be thought of as an ideal version of the scene that excludes (most) detector effects."
   ]
  },
  {
   "cell_type": "markdown",
   "metadata": {},
   "source": [
    "#### Examine the dispersed seed image"
   ]
  },
  {
   "cell_type": "code",
   "execution_count": null,
   "metadata": {},
   "outputs": [],
   "source": [
    "with fits.open(m.disp_seed_filename) as seedfile:\n",
    "    dispersed_seed = seedfile[1].data"
   ]
  },
  {
   "cell_type": "code",
   "execution_count": null,
   "metadata": {},
   "outputs": [],
   "source": [
    "fig, ax = plt.subplots(figsize=(10, 10))\n",
    "norm = simple_norm(dispersed_seed, stretch='log', min_cut=0.25, max_cut=10)\n",
    "cax = ax.imshow(dispersed_seed, norm=norm)\n",
    "cbar = fig.colorbar(cax)\n",
    "plt.show()"
   ]
  },
  {
   "cell_type": "markdown",
   "metadata": {},
   "source": [
    "#### Examine the final output file"
   ]
  },
  {
   "cell_type": "code",
   "execution_count": null,
   "metadata": {},
   "outputs": [],
   "source": [
    "final_file = os.path.join(yaml_output_dir, 'jw00042001001_01101_00003_nis_uncal.fits')\n",
    "with fits.open(final_file) as hdulist:\n",
    "    data = hdulist['SCI'].data\n",
    "    hdulist.info()"
   ]
  },
  {
   "cell_type": "code",
   "execution_count": null,
   "metadata": {},
   "outputs": [],
   "source": [
    "fig, ax = plt.subplots(figsize=(10, 10))\n",
    "norm = simple_norm(data[0, 4, :, :], stretch='log', min_cut=5000, max_cut=50000)\n",
    "cax = ax.imshow(data[0, 4, :, :], norm=norm)\n",
    "cbar = fig.colorbar(cax)\n",
    "plt.show()"
   ]
  },
  {
   "cell_type": "markdown",
   "metadata": {},
   "source": [
    "---\n",
    "<a id='make_imaging'></a>\n",
    "# Make imaging simulated observations"
   ]
  },
  {
   "cell_type": "markdown",
   "metadata": {},
   "source": [
    "Similar to the **wfss_simulator** module for WFSS observations, imaging data can be created using the **imaging_simulator** module. This can be used to create the data for the direct (in NIRCam and NIRISS), and Out of Field (NIRCam) exposures that accompany WFSS observations, as well as the shortwave channel data for NIRCam, which is always imaging while the longwave detector is observing through the grism."
   ]
  },
  {
   "cell_type": "code",
   "execution_count": null,
   "metadata": {
    "scrolled": true
   },
   "outputs": [],
   "source": [
    "for yaml_imaging_file in yaml_imaging_files[0:1]:\n",
    "    print(\"Imaging simulation for {}\".format(yaml_imaging_file))\n",
    "    img_sim = imaging_simulator.ImgSim()\n",
    "    img_sim.paramfile = yaml_imaging_file\n",
    "    img_sim.create()"
   ]
  },
  {
   "cell_type": "markdown",
   "metadata": {},
   "source": [
    "<a id='imaging_outputs'></a>\n",
    "### Outputs"
   ]
  },
  {
   "cell_type": "markdown",
   "metadata": {},
   "source": [
    "As with WFSS outputs, the **imaging_simulator** will create **jw\\*ucal.fits** or **jw\\*linear.fits** files, depending on which was specified in the associated yaml files."
   ]
  },
  {
   "cell_type": "markdown",
   "metadata": {},
   "source": [
    "#### Examine the seed image"
   ]
  },
  {
   "cell_type": "code",
   "execution_count": null,
   "metadata": {},
   "outputs": [],
   "source": [
    "fig, ax = plt.subplots(figsize=(10, 10))\n",
    "norm = simple_norm(img_sim.seedimage, stretch='log', min_cut=0.25, max_cut=1000)\n",
    "cax = ax.imshow(img_sim.seedimage, norm=norm)\n",
    "cbar = fig.colorbar(cax)\n",
    "plt.show()"
   ]
  },
  {
   "cell_type": "markdown",
   "metadata": {},
   "source": [
    "#### Examine the output file"
   ]
  },
  {
   "cell_type": "code",
   "execution_count": null,
   "metadata": {
    "scrolled": true
   },
   "outputs": [],
   "source": [
    "final_file = os.path.join(yaml_output_dir, 'jw00042001001_01101_00001_nis_uncal.fits')\n",
    "with fits.open(final_file) as hdulist:\n",
    "    data = hdulist['SCI'].data\n",
    "    hdulist.info()"
   ]
  },
  {
   "cell_type": "code",
   "execution_count": null,
   "metadata": {},
   "outputs": [],
   "source": [
    "fig, ax = plt.subplots(figsize=(10, 10))\n",
    "norm = simple_norm(data[0, 4, :, :], stretch='log', min_cut=5000, max_cut=50000)\n",
    "cax = ax.imshow(data[0, 4, :, :], norm=norm)\n",
    "cbar = fig.colorbar(cax)\n",
    "plt.show()"
   ]
  },
  {
   "cell_type": "code",
   "execution_count": null,
   "metadata": {},
   "outputs": [],
   "source": []
  }
 ],
 "metadata": {
  "kernelspec": {
   "display_name": "Python 3",
   "language": "python",
   "name": "python3"
  },
  "language_info": {
   "codemirror_mode": {
    "name": "ipython",
    "version": 3
   },
   "file_extension": ".py",
   "mimetype": "text/x-python",
   "name": "python",
   "nbconvert_exporter": "python",
   "pygments_lexer": "ipython3",
   "version": "3.6.7"
  }
 },
 "nbformat": 4,
 "nbformat_minor": 2
}
