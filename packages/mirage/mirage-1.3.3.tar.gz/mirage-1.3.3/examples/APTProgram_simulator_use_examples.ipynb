{
 "cells": [
  {
   "cell_type": "markdown",
   "metadata": {},
   "source": [
    "# Simulating APT Programs with MIRaGe\n",
    "---\n",
    "In this notebook, we will demonstrate how to use  MIRAGE (Multi-Instrument Ramp Generator) to simulate exposures from Astronomer's Proposal Tool ([APT](https://jwst-docs.stsci.edu/display/JPP/JWST+Astronomers+Proposal+Tool+Overview)) programs using the `mirage.apt` module. This module extracts the instrument, detector, pointing, and filter information from APT program output files, rather than requiring that the user defines them all manually.\n",
    "\n",
    "The process for APT simulations with MIRaGe is as follows:\n",
    "\n",
    "- Download needed files from the APT program, and parse those files to access the details and structure of a given program\n",
    "- Generate catalogs for all exposures in the program\n",
    "- Generate MIRaGe YAML input files that contain the specifications for each exposure simulation\n",
    "- Use the `mirage.imaging_simulator` to create seed images and add dark exposures and detector effects (See the [Imaging Simulator example](Imaging_simulator_use_examples.ipynb) for more detail on that process)\n",
    "\n",
    "### Table of Contents:\n",
    "1. [Export program information from APT](#export_apt)\n",
    "2. [Generate catalog files of sources in FOV](#query_cat)\n",
    "3. [Create YAML files from APT files](#yaml)\n",
    "5. [Generate the simulated image](#simulate_images)\n",
    "\n",
    "Appendix A: [Generating data for an entire observation](#simulate_whole_obs)"
   ]
  },
  {
   "cell_type": "markdown",
   "metadata": {},
   "source": [
    "## Import necessary packages and modules"
   ]
  },
  {
   "cell_type": "code",
   "execution_count": null,
   "metadata": {},
   "outputs": [],
   "source": [
    "# Standard Library Imports\n",
    "from glob import glob\n",
    "import os\n",
    "import shutil\n",
    "import urllib\n",
    "\n",
    "# Third Party Imports\n",
    "import pysiaf\n",
    "from astropy.io import ascii as asc\n",
    "from astropy.io import fits\n",
    "from matplotlib import cm\n",
    "from matplotlib.colors import LogNorm\n",
    "import matplotlib.pyplot as plt\n",
    "\n",
    "# Local Imports (from nircam_simulator package)\n",
    "from mirage import imaging_simulator\n",
    "from mirage.catalogs import create_catalog\n",
    "from mirage.utils.utils import ensure_dir_exists\n",
    "from mirage.yaml import yaml_generator\n",
    "\n",
    "# View matplotlib plots inline\n",
    "%matplotlib inline"
   ]
  },
  {
   "cell_type": "markdown",
   "metadata": {},
   "source": [
    "---\n",
    "<a id='export_apt'></a>\n",
    "# Export Program Information from APT\n",
    "\n",
    "MIRaGe requires APT program output files in order to generate data with unstacked PSFs.\n",
    "\n",
    "## Get needed files from APT program\n",
    "\n",
    "For this example, we are using APT output from a parallel NIRCam-FGS commissioning program: program 1071, \"NIRCam Absolute FGS-NIRCam Alignment\"."
   ]
  },
  {
   "cell_type": "code",
   "execution_count": null,
   "metadata": {},
   "outputs": [],
   "source": [
    "# Define the proposal ID\n",
    "prop_id = 1071\n",
    "\n",
    "# Where the pointing and XML file for this particular OTE CAR are\n",
    "input_dir = os.path.abspath('./apt_data/')\n",
    "ensure_dir_exists(input_dir)\n",
    "\n",
    "# Define the names of the pointing and XML files\n",
    "# NOTE: Change the root if you name your files differently.\n",
    "root = 'apt_{}'.format(prop_id)\n",
    "pointing_file = os.path.join(input_dir, '{}.pointing'.format(root))\n",
    "xml_file = os.path.join(input_dir, '{}.xml'.format(root))"
   ]
  },
  {
   "cell_type": "markdown",
   "metadata": {},
   "source": [
    "### Option 1: Manually download the `.pointing` and `.xml` files\n",
    "\n",
    "Open the APT file for the program you want to simulate. If you don't have the file locally, you can load this program in APT by selecting `File > Retrieve from STScI > Retrieve Using Proposal ID` and then entering the program ID (e.g. 1140). (You must be running APT in STScI mode for this retrieval method to be available.)\n",
    "\n",
    "Export the `.pointing` and `.xml` files for your given proposal in APT by selecting `File > Export...` and selecting both the xml and pointing file options. \n",
    "\n",
    "### Option 2: Automatically download the `.pointing` and `.xml` files\n",
    "\n",
    "If you don't want to bother opening APT and your program is publicly accessible, you can use the below code to download APT files. \n",
    "\n",
    "*Note that you must have APT installed for the below command to work.*"
   ]
  },
  {
   "cell_type": "code",
   "execution_count": null,
   "metadata": {},
   "outputs": [],
   "source": [
    "# Build temporary directory\n",
    "temp_apt_dir = os.path.abspath('./temp_apt/')\n",
    "if not os.path.isdir(temp_apt_dir):\n",
    "    os.mkdir(temp_apt_dir)\n",
    "    print('Create temporary directory to download APT files.')\n",
    "\n",
    "# Download the APT file\n",
    "apt_file = os.path.join(temp_apt_dir, '{}.aptx'.format(prop_id))\n",
    "urllib.request.urlretrieve(\n",
    "    'http://www.stsci.edu/jwst/phase2-public/{}.aptx'.format(prop_id), \n",
    "    apt_file\n",
    ")\n",
    "print('Downloaded temporary APT file:', apt_file)\n",
    "\n",
    "# Determine the user's installation of APT\n",
    "apt_app = sorted(glob('/Applications/APT*'))[-1].replace(' ', '\\ ')\n",
    "print('Will export pointing and XML files using the following installation of APT:', apt_app)\n",
    "\n",
    "# Export the APT XML and pointing files\n",
    "os.system(\n",
    "    \"{}/bin/apt -nogui -export xml,pointing {}\".format(apt_app, apt_file)\n",
    ")\n",
    "\n",
    "# Move the XML and pointing files to the apt_data directory\n",
    "os.rename(os.path.join(temp_apt_dir, '{}.xml'.format(prop_id)),\n",
    "         xml_file)\n",
    "os.rename(os.path.join(temp_apt_dir, '{}.pointing'.format(prop_id)),\n",
    "         pointing_file)\n",
    "print('Downloaded APT pointing file:', pointing_file)\n",
    "print('Downloaded APT XML file:', xml_file)\n",
    "    \n",
    "# Tear down temporary directory\n",
    "shutil.rmtree(temp_apt_dir)\n",
    "print('Deleted temporary APT file and directory.')"
   ]
  },
  {
   "cell_type": "markdown",
   "metadata": {},
   "source": [
    "And before we move on, let's just make sure that worked:"
   ]
  },
  {
   "cell_type": "code",
   "execution_count": null,
   "metadata": {},
   "outputs": [],
   "source": [
    "# Make sure the pointing and XML files exist\n",
    "assert os.path.exists(pointing_file)\n",
    "assert os.path.exists(xml_file)"
   ]
  },
  {
   "cell_type": "markdown",
   "metadata": {},
   "source": [
    "### Define location of output files\n",
    "\n",
    "The process of generating simulated images with MIRaGe produces a lot of files:\n",
    "- YAML files carrying the OTE mirror state\n",
    "- YAML files carrying the specifications for simulations\n",
    "- FITS files of the simulated seed, dark, and compiled images\n",
    "\n",
    "Additionally, we must create FITS library files of the segment PSF images in order to simulate images with nonnominal PSFs.\n",
    "\n",
    "Let's define the directories to save these output files to:"
   ]
  },
  {
   "cell_type": "code",
   "execution_count": null,
   "metadata": {},
   "outputs": [],
   "source": [
    "# Where to save MIRaGe output\n",
    "out_dir = os.path.join(input_dir, 'output')"
   ]
  },
  {
   "cell_type": "markdown",
   "metadata": {},
   "source": [
    "---\n",
    "<a id='query_cat'></a>\n",
    "# Query online catalogs to generate catalog files of sources in FOV\n",
    "\n",
    "Next, we need to generate catalog files for the sources around the target in this proposal.\n",
    "\n",
    "Mirage contains the `create_catalog.for_proposal` function that can be used to create point source and galaxy catalogs from an APT file. This function collects the target RA and Dec values from the proposal, as well as the list of instruments and filters used for the observations. It then runs `mirage.catalog.create_catalog.get_all_catalogs` and `mirage.catalog.create_catalog.galaxy_background` to produce point source and galaxy catalogs. These catalogs can then be used as input when producing the yaml files needed to run Mirage."
   ]
  },
  {
   "cell_type": "code",
   "execution_count": null,
   "metadata": {
    "scrolled": false
   },
   "outputs": [],
   "source": [
    "catalog_out = create_catalog.for_proposal(xml_file, pointing_file,\n",
    "                                          point_source=True,\n",
    "                                          extragalactic=True,\n",
    "                                          catalog_splitting_threshold=0.12,\n",
    "                                          email='someone@somewhere.edu',\n",
    "                                          out_dir=out_dir,\n",
    "                                          save_catalogs=True)\n",
    "ptsrc_cat, gal_cat, ptsrc_names, gal_names, pmap, gmap = catalog_out\n",
    "cat_dict = {'ptsrc': ptsrc_names[0],\n",
    "            'gal': gal_names[0]}"
   ]
  },
  {
   "cell_type": "markdown",
   "metadata": {},
   "source": [
    "## Plot all sources in catalogs\n",
    "\n",
    "Let's see how many sources we're dealing with here."
   ]
  },
  {
   "cell_type": "code",
   "execution_count": null,
   "metadata": {},
   "outputs": [],
   "source": [
    "# Plot all queried sources\n",
    "for catalog_filename in ptsrc_names:\n",
    "    target_catalog = asc.read(catalog_filename)\n",
    "    plt.scatter(target_catalog['x_or_RA'], target_catalog['y_or_Dec'], s=1, alpha=.7, label='Point Source Catalog')\n",
    "for catalog_filename in gal_names:\n",
    "    target_catalog = asc.read(catalog_filename)\n",
    "    plt.scatter(target_catalog['x_or_RA'], target_catalog['y_or_Dec'], s=1, alpha=.7, label='Galactic Catalog')\n",
    "plt.xlabel('Right Ascension [degrees]')\n",
    "plt.ylabel('Declination [degrees]')\n",
    "plt.legend()\n",
    "plt.show()"
   ]
  },
  {
   "cell_type": "markdown",
   "metadata": {},
   "source": [
    "---\n",
    "<a id='yaml'></a>\n",
    "# Create YAML files from APT files\n",
    "\n",
    "Next, we need to make the YAML files that include all of the parameters for MIRaGe to run.\n",
    "\n",
    "Use `mirage.yaml.yaml_generator` to make all of the YAML files for the given APT program - one file per exposure."
   ]
  },
  {
   "cell_type": "code",
   "execution_count": null,
   "metadata": {
    "scrolled": false
   },
   "outputs": [],
   "source": [
    "# Create a series of data simulator input yaml files from APT files\n",
    "yaml_dir = os.path.join(out_dir, 'yamls')\n",
    "yam = yaml_generator.SimInput(input_xml=xml_file, pointing_file=pointing_file,\n",
    "                              catalogs=cat_dict,\n",
    "                              verbose=True, output_dir=yaml_dir, simdata_output_dir=out_dir)\n",
    "\n",
    "# Create all input YAML files (one per each exposure)\n",
    "yam.create_inputs()"
   ]
  },
  {
   "cell_type": "markdown",
   "metadata": {},
   "source": [
    "## Choose which yaml (visit/tile) to use\n",
    "\n",
    "Now that we've generated all of the needed YAML files, we need to choose one to simulate images with. MIRaGE can only generate one simulated exposure at a time, so we need to choose one YAML file in our yamls directory that we will use to produce an image. (See [Appendix A](#simulate_whole_obs) for how use a wrapper to simulate multiple exposures at once with MIRaGe.)\n",
    "\n",
    "Not every exposure necessarily has the same pointing, so we should choose an exposure that places the target star in the desired detector field-of-view."
   ]
  },
  {
   "cell_type": "markdown",
   "metadata": {},
   "source": [
    "### Examine target pointings relative to apertures and V2/V3 references\n",
    "\n",
    "Looking at the `.pointing` file, let's plot where the target will appear relative to the NIRCam apertures for each unique pointing."
   ]
  },
  {
   "cell_type": "code",
   "execution_count": null,
   "metadata": {
    "scrolled": false
   },
   "outputs": [],
   "source": [
    "# Examine apertures and V2/V3 references for each array/subarray\n",
    "nc_siaf = pysiaf.Siaf('NIRCam')\n",
    "nc_full = nc_siaf['NRCA1_FULL']\n",
    "\n",
    "plt.figure(figsize=(15,10))\n",
    "for apername in sorted(nc_siaf.apernames):\n",
    "    a = apername\n",
    "    if ('_FULL' in a) and ('OSS' not in a) and ('MASK' not in a) and (a[-1] != 'P'):\n",
    "        nc_siaf[a].plot(frame='tel', label=True, fill_color='white')\n",
    "plt.gca().invert_xaxis()\n",
    "\n",
    "# Compare V2/V3 of targets (from .pointing file)\n",
    "all_pointings = set([(v2, v3, filename) for v2, v3, filename in zip(yam.info['v2'], \n",
    "                                                                yam.info['v3'], \n",
    "                                                                yam.info['yamlfile'])])\n",
    "\n",
    "print('Example files for each pointing:')\n",
    "print('--------------------------------')\n",
    "plotted_points = []\n",
    "for i_point, (v2, v3, filename) in enumerate(all_pointings):\n",
    "    if (v2, v3) not in plotted_points:\n",
    "        plotted_points.append((v2, v3))\n",
    "        plt.scatter(v2, v3, marker='*', s=500, \n",
    "                    label='Pointing {}/{}'.format(i_point + 1, len(all_pointings)))\n",
    "        print('{}. {}'.format(i_point + 1, filename))\n",
    "\n",
    "plt.legend()\n",
    "\n",
    "plt.show()"
   ]
  },
  {
   "cell_type": "markdown",
   "metadata": {},
   "source": [
    "### Select the YAML to generate an image from\n",
    "\n",
    "Looking at the pointing figure above, choose one YAML file that we will create a seed image with MIRaGe for. (Be sure to choose a YAML that has a detector and filter that matches the library files you have created so far.)\n",
    "\n",
    "*See [JDox](https://jwst-docs.stsci.edu/display/JDAT/File+Naming+Conventions+and+Data+Products) for a detailed explanation of the MIRaGe YAML file name format.*"
   ]
  },
  {
   "cell_type": "code",
   "execution_count": null,
   "metadata": {},
   "outputs": [],
   "source": [
    "# Select one YAML to estimate where the sources will be\n",
    "test_yaml_filename = 'jw01071001001_01103_00001_nrca4.yaml'\n",
    "test_yaml = os.path.join(yaml_dir, test_yaml_filename)\n",
    "assert os.path.isfile(test_yaml)\n",
    "print(test_yaml)"
   ]
  },
  {
   "cell_type": "markdown",
   "metadata": {},
   "source": [
    "---\n",
    "<a id='simulate_images'></a>\n",
    "# Simulate image with MIRaGe\n",
    "\n",
    "Finally, we can run MIRaGe to generate a seed image simulation of our unstacked mirror state during OTE-01.\n",
    "\n",
    "From here on out, from the user perspective, the simulation process is identical to that of nominal imaging cases (see the [imaging example notebook](#Imaging_simulator_use_examples.ipynb). To reiterate, it is the specifications made in the YAML files that enable the simulation of unstacked mirror simulations with MIRaGe."
   ]
  },
  {
   "cell_type": "code",
   "execution_count": null,
   "metadata": {
    "scrolled": false
   },
   "outputs": [],
   "source": [
    "# Run the image simulator using the input defined in test_yaml\n",
    "img_sim = imaging_simulator.ImgSim()\n",
    "img_sim.paramfile = test_yaml\n",
    "img_sim.create()"
   ]
  },
  {
   "cell_type": "code",
   "execution_count": null,
   "metadata": {},
   "outputs": [],
   "source": [
    "# Plot the seed image, dark image, and final exposure simulation\n",
    "fig, [ax1, ax2, ax3] = plt.subplots(1, 3, figsize=(20, 7))\n",
    "plt.tight_layout()\n",
    "\n",
    "# Define scale limits and colormap\n",
    "clim=(0.001, 0.1)\n",
    "cmap = cm.get_cmap('viridis')\n",
    "cmap.set_bad(cmap(0))\n",
    "\n",
    "# Plot seed image\n",
    "fitsplot = ax1.imshow(img_sim.seedimage, clim=clim, cmap=cmap)\n",
    "ax1.set_title('Seed Image', size=24)\n",
    "ax1.invert_xaxis()\n",
    "ax1.invert_yaxis()\n",
    "\n",
    "# Plot dark current\n",
    "ax2.imshow(img_sim.linDark.data[0,-1,:,:] - img_sim.linDark.data[0,0,:,:], clim=clim, cmap=cmap)\n",
    "ax2.set_title('Dark Current', size=24)\n",
    "ax2.invert_xaxis()\n",
    "ax2.invert_yaxis()\n",
    "\n",
    "# Plot final exposure\n",
    "file_root = os.path.basename(test_yaml_filename).split('.yaml')[0]\n",
    "linear_output = os.path.join(out_dir, '{}_linear.fits'.format(file_root))\n",
    "with fits.open(linear_output) as h:\n",
    "    lindata = h[1].data\n",
    "    header = h[0].header\n",
    "exptime = header['EFFINTTM']\n",
    "diffdata = (lindata[0,-1,:,:] - lindata[0,0,:,:]) / exptime\n",
    "\n",
    "ax3.imshow(diffdata, clim=clim, cmap=cmap)\n",
    "ax3.set_title('Final Exposure Simulation', size=24)\n",
    "ax3.invert_xaxis()\n",
    "ax3.invert_yaxis()\n",
    "\n",
    "# Define the colorbar\n",
    "cbar_ax = fig.add_axes([1, 0.09, 0.03, 0.87])\n",
    "cbar = plt.colorbar(fitsplot, cbar_ax)\n",
    "cbar.set_label('Count Rate', rotation=270, labelpad=30, size=24)"
   ]
  },
  {
   "cell_type": "markdown",
   "metadata": {},
   "source": [
    "---\n",
    "<a id='simulate_whole_obs'></a>\n",
    "# Appendix A: Simulating many exposures at once\n",
    "\n",
    "Chances are, you don't want to simulate just one exposure from one detector. In order to simulate all of the exposures from a given observation, write a for loop to iterate over all the YAMLs. We include an example for program 1134 observation 1 below.\n",
    "\n",
    "```python\n",
    "from mirage import imaging_simulator\n",
    "\n",
    "# Get all the 1134 Obs 1 NRCA3 yamls\n",
    "all_yaml_files = glob(os.path.join(yaml_dir, 'jw01134001*.yaml'))\n",
    "n_yamls = len(all_yaml_files)\n",
    "print('{} FITS files will be generated.'.format(n_yamls))\n",
    "\n",
    "# Run imaging_simulator for all YAMLs\n",
    "for i_yaml, yaml in enumerate(all_yaml_files):\n",
    "    print('*** SIMULATING YAML {}/{}: {} ***'.format(i_yaml+1, n_yamls, yaml))\n",
    "    img_sim = imaging_simulator.ImgSim()\n",
    "    img_sim.paramfile = yaml\n",
    "    img_sim.create()\n",
    "```\n",
    "\n",
    "(If you are impatient and ambitious, you can use Python's `multiprocessing` module to the simulation go faster. Even better on a server with more processors!)"
   ]
  }
 ],
 "metadata": {
  "kernelspec": {
   "display_name": "Python 3",
   "language": "python",
   "name": "python3"
  },
  "language_info": {
   "codemirror_mode": {
    "name": "ipython",
    "version": 3
   },
   "file_extension": ".py",
   "mimetype": "text/x-python",
   "name": "python",
   "nbconvert_exporter": "python",
   "pygments_lexer": "ipython3",
   "version": "3.6.7"
  },
  "toc": {
   "base_numbering": 1,
   "nav_menu": {},
   "number_sections": true,
   "sideBar": true,
   "skip_h1_title": false,
   "title_cell": "Table of Contents",
   "title_sidebar": "Contents",
   "toc_cell": false,
   "toc_position": {},
   "toc_section_display": true,
   "toc_window_display": false
  }
 },
 "nbformat": 4,
 "nbformat_minor": 2
}
